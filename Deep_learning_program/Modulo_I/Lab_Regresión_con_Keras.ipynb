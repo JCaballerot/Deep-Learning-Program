{
  "nbformat": 4,
  "nbformat_minor": 0,
  "metadata": {
    "kernelspec": {
      "display_name": "Python",
      "language": "python",
      "name": "conda-env-python-py"
    },
    "language_info": {
      "codemirror_mode": {
        "name": "ipython",
        "version": 3
      },
      "file_extension": ".py",
      "mimetype": "text/x-python",
      "name": "python",
      "nbconvert_exporter": "python",
      "pygments_lexer": "ipython3",
      "version": "3.6.7"
    },
    "colab": {
      "name": "Lab Regresión con Keras.ipynb",
      "provenance": [],
      "include_colab_link": true
    }
  },
  "cells": [
    {
      "cell_type": "markdown",
      "metadata": {
        "id": "view-in-github",
        "colab_type": "text"
      },
      "source": [
        "<a href=\"https://colab.research.google.com/github/JCaballerot/Deep_learning_program/blob/main/Deep_learning_program/Modulo_I/Lab_Regresi%C3%B3n_con_Keras.ipynb\" target=\"_parent\"><img src=\"https://colab.research.google.com/assets/colab-badge.svg\" alt=\"Open In Colab\"/></a>"
      ]
    },
    {
      "cell_type": "markdown",
      "metadata": {
        "button": false,
        "deletable": true,
        "new_sheet": false,
        "run_control": {
          "read_only": false
        },
        "id": "OplMRqFDLo18"
      },
      "source": [
        "\n",
        "<h1 align=center><font size = 5>Modelos de Regresión con Keras</font></h1>\n"
      ]
    },
    {
      "cell_type": "markdown",
      "metadata": {
        "button": false,
        "deletable": true,
        "new_sheet": false,
        "run_control": {
          "read_only": false
        },
        "id": "R_NIQeNlLo19"
      },
      "source": [
        "## Introducción\n"
      ]
    },
    {
      "cell_type": "markdown",
      "metadata": {
        "button": false,
        "deletable": true,
        "new_sheet": false,
        "run_control": {
          "read_only": false
        },
        "id": "XwtlUuRELo1-"
      },
      "source": [
        "Keras es una API de alto nivel para crear modelos de aprendizaje profundo. Ha ganado popularidad por su facilidad de uso y simplicidad sintáctica que facilita el desarrollo rápido. Como verá en este laboratorio y en los otros laboratorios de este curso, la construcción de una red de aprendizaje profundo muy compleja se puede lograr con Keras con solo unas pocas líneas de código. Apreciará Keras aún más, una vez que aprenda a construir modelos profundos usando PyTorch y TensorFlow en los otros módulos.\n",
        "\n",
        "Entonces, en este laboratorio, aprenderá a usar la biblioteca de Keras para construir un modelo de regresión."
      ]
    },
    {
      "cell_type": "markdown",
      "metadata": {
        "id": "KxdX8IvGLo1_"
      },
      "source": [
        "<h2>Modelos de regresión con Keras</h2>\n",
        "\n",
        "<h3>Objetivo de este Notebook</h3>    \n",
        "<h5> 1. Como usar Keras y construir un modelo de regresión.</h5>\n",
        "<h5> 2. Descargar y limpiar un Dataset </h5>\n",
        "<h5> 3. Construir una red Neuronal </h5>\n",
        "<h5> 4. Entrenar y Testear una Red. </h5>     \n"
      ]
    },
    {
      "cell_type": "markdown",
      "metadata": {
        "button": false,
        "deletable": true,
        "new_sheet": false,
        "run_control": {
          "read_only": false
        },
        "id": "6w086D91Lo1_"
      },
      "source": [
        "## Tabla de Contenidos\n",
        "\n",
        "<div class=\"alert alert-block alert-info\" style=\"margin-top: 20px\">\n",
        "\n",
        "<font size = 3>\n",
        "    \n",
        "1. <a href=\"#item31\">Descargar y limpiar el Dataset</a>  \n",
        "2. <a href=\"#item32\">Importar Keras</a>  \n",
        "3. <a href=\"#item33\">Construir una Red Neuronal</a>  \n",
        "4. <a href=\"#item34\">Entrenar y Testear la Red</a>  \n",
        "\n",
        "</font>\n",
        "</div>\n"
      ]
    },
    {
      "cell_type": "markdown",
      "metadata": {
        "button": false,
        "deletable": true,
        "new_sheet": false,
        "run_control": {
          "read_only": false
        },
        "id": "26I1ESRxLo2A"
      },
      "source": [
        "<a id=\"item31\"></a>\n"
      ]
    },
    {
      "cell_type": "markdown",
      "metadata": {
        "button": false,
        "deletable": true,
        "new_sheet": false,
        "run_control": {
          "read_only": false
        },
        "id": "_dC4JellLo2B"
      },
      "source": [
        "## Descargar y limpiar Dataset\n"
      ]
    },
    {
      "cell_type": "markdown",
      "metadata": {
        "button": false,
        "deletable": true,
        "new_sheet": false,
        "run_control": {
          "read_only": false
        },
        "id": "4mlI6rhHLo2C"
      },
      "source": [
        "Comencemos importando las bibliotecas <em>pandas</em> y <em>Numpy</em>.\n"
      ]
    },
    {
      "cell_type": "code",
      "metadata": {
        "button": false,
        "deletable": true,
        "new_sheet": false,
        "run_control": {
          "read_only": false
        },
        "id": "0h7o5L0bLo2D"
      },
      "source": [
        "import pandas as pd\n",
        "import numpy as np"
      ],
      "execution_count": null,
      "outputs": []
    },
    {
      "cell_type": "markdown",
      "metadata": {
        "button": false,
        "deletable": true,
        "new_sheet": false,
        "run_control": {
          "read_only": false
        },
        "id": "tsACf1xRLo2G"
      },
      "source": [
        "<strong>El conjunto de datos trata sobre la resistencia a la compresión de diferentes muestras de hormigón en función de los volúmenes de los diferentes ingredientes que se utilizaron para fabricarlas. Los ingredientes incluyen:</strong>\n",
        "\n",
        "<strong>1. Cemento</strong>\n",
        "\n",
        "<strong>2. Escoria de alto horno</strong>\n",
        "\n",
        "<strong>3. Cenizas volantes</strong>\n",
        "\n",
        "<strong>4. Agua</strong>\n",
        "\n",
        "<strong>5. Superplastificante</strong>\n",
        "\n",
        "<strong>6. Agregado grueso</strong>\n",
        "\n",
        "<strong>7. Agregado fino</strong>"
      ]
    },
    {
      "cell_type": "markdown",
      "metadata": {
        "button": false,
        "deletable": true,
        "new_sheet": false,
        "run_control": {
          "read_only": false
        },
        "id": "jUq0aqFWLo2H"
      },
      "source": [
        "Descarguemos los datos y leamos en un dataframe de <em>pandas</em>.\n"
      ]
    },
    {
      "cell_type": "code",
      "metadata": {
        "button": false,
        "deletable": true,
        "new_sheet": false,
        "run_control": {
          "read_only": false
        },
        "id": "omReolJ3Lo2I"
      },
      "source": [
        "concrete_data = pd.read_csv('https://s3-api.us-geo.objectstorage.softlayer.net/cf-courses-data/CognitiveClass/DL0101EN/labs/data/concrete_data.csv')\n",
        "concrete_data.head(10)"
      ],
      "execution_count": null,
      "outputs": []
    },
    {
      "cell_type": "markdown",
      "metadata": {
        "button": false,
        "deletable": true,
        "new_sheet": false,
        "run_control": {
          "read_only": false
        },
        "id": "50x9zNzcLo2O"
      },
      "source": [
        "Así que la primera muestra de hormigón tiene 540 metros cúbicos de cemento, 0 metros cúbicos de escoria de alto horno, 0 metros cúbicos de cenizas volantes, 162 metros cúbicos de agua, 2,5 metros cúbicos de superplaticizador, 1040 metros cúbicos de agregado grueso, 676 metros cúbicos de agregado fino. Una mezcla de hormigón de este tipo, que tiene 28 días, tiene una resistencia a la compresión de 79,99 MPa.\n"
      ]
    },
    {
      "cell_type": "markdown",
      "metadata": {
        "button": false,
        "deletable": true,
        "new_sheet": false,
        "run_control": {
          "read_only": false
        },
        "id": "SyjvFG_NLo2P"
      },
      "source": [
        "#### Comprobemos cuántos datos tenemos.\n"
      ]
    },
    {
      "cell_type": "code",
      "metadata": {
        "button": false,
        "deletable": true,
        "new_sheet": false,
        "run_control": {
          "read_only": false
        },
        "id": "y3T3GOApLo2Q"
      },
      "source": [
        "concrete_data.shape"
      ],
      "execution_count": null,
      "outputs": []
    },
    {
      "cell_type": "markdown",
      "metadata": {
        "button": false,
        "deletable": true,
        "new_sheet": false,
        "run_control": {
          "read_only": false
        },
        "id": "RjMO-LIhLo2U"
      },
      "source": [
        "Entonces, hay aproximadamente 1000 muestras para entrenar nuestro modelo. Debido a las pocas muestras, debemos tener cuidado de no sobreajustar los datos de entrenamiento.\n"
      ]
    },
    {
      "cell_type": "markdown",
      "metadata": {
        "button": false,
        "deletable": true,
        "new_sheet": false,
        "run_control": {
          "read_only": false
        },
        "id": "2kaIb1FgLo2V"
      },
      "source": [
        "Revisemos el conjunto de datos en busca de <strong>missings.</strong>\n"
      ]
    },
    {
      "cell_type": "code",
      "metadata": {
        "button": false,
        "deletable": true,
        "new_sheet": false,
        "run_control": {
          "read_only": false
        },
        "id": "d-r3a0xSLo2W"
      },
      "source": [
        "concrete_data.describe().transpose()"
      ],
      "execution_count": null,
      "outputs": []
    },
    {
      "cell_type": "code",
      "metadata": {
        "button": false,
        "deletable": true,
        "new_sheet": false,
        "run_control": {
          "read_only": false
        },
        "id": "3zu8D3PhLo2c"
      },
      "source": [
        "concrete_data.isnull().sum()"
      ],
      "execution_count": null,
      "outputs": []
    },
    {
      "cell_type": "markdown",
      "metadata": {
        "button": false,
        "deletable": true,
        "new_sheet": false,
        "run_control": {
          "read_only": false
        },
        "id": "SkXCJxDLLo2n"
      },
      "source": [
        "Los datos se ven muy limpios y están listos para usarse para construir nuestro modelo."
      ]
    },
    {
      "cell_type": "markdown",
      "metadata": {
        "button": false,
        "deletable": true,
        "new_sheet": false,
        "run_control": {
          "read_only": false
        },
        "id": "CY59cMSaLo2o"
      },
      "source": [
        "#### Dividir los datos en predictores y target\n"
      ]
    },
    {
      "cell_type": "markdown",
      "metadata": {
        "id": "6mGTbmECLo2p"
      },
      "source": [
        "La variable objetivo en este problema es la resistencia de la muestra de hormigón. Por lo tanto, nuestros predictores serán todas las demás columnas."
      ]
    },
    {
      "cell_type": "code",
      "metadata": {
        "button": false,
        "deletable": true,
        "new_sheet": false,
        "run_control": {
          "read_only": false
        },
        "id": "Qr2fnY81Lo2q"
      },
      "source": [
        "concrete_data_columns = concrete_data.columns\n",
        "\n",
        "predictors = concrete_data[concrete_data_columns[concrete_data_columns != 'Strength']] # todas las columnas excepto Strength\n",
        "target = concrete_data['Strength'] # Columna Strength \n"
      ],
      "execution_count": null,
      "outputs": []
    },
    {
      "cell_type": "markdown",
      "metadata": {
        "button": false,
        "deletable": true,
        "new_sheet": false,
        "run_control": {
          "read_only": false
        },
        "id": "SsiHwZsYLo2w"
      },
      "source": [
        "Hagamos una comprobación rápida de la coherencia de los predictores y el target del dataframe.\n"
      ]
    },
    {
      "cell_type": "code",
      "metadata": {
        "button": false,
        "deletable": true,
        "new_sheet": false,
        "run_control": {
          "read_only": false
        },
        "id": "XXNsXXhfLo2x"
      },
      "source": [
        "predictors.head()"
      ],
      "execution_count": null,
      "outputs": []
    },
    {
      "cell_type": "code",
      "metadata": {
        "button": false,
        "deletable": true,
        "new_sheet": false,
        "run_control": {
          "read_only": false
        },
        "id": "i_-TIcuILo22"
      },
      "source": [
        "target.head()"
      ],
      "execution_count": null,
      "outputs": []
    },
    {
      "cell_type": "markdown",
      "metadata": {
        "button": false,
        "deletable": true,
        "new_sheet": false,
        "run_control": {
          "read_only": false
        },
        "id": "hNgN5ZkGLo27"
      },
      "source": [
        "Finalmente, el último paso es normalizar los datos restando la media y dividiendo por la desviación estándar."
      ]
    },
    {
      "cell_type": "code",
      "metadata": {
        "button": false,
        "deletable": true,
        "new_sheet": false,
        "run_control": {
          "read_only": false
        },
        "id": "imFNWBVYLo28"
      },
      "source": [
        "predictors_norm = (predictors - predictors.mean()) / predictors.std()\n",
        "predictors_norm.head()"
      ],
      "execution_count": null,
      "outputs": []
    },
    {
      "cell_type": "markdown",
      "metadata": {
        "id": "wp8erJu9Lo3A"
      },
      "source": [
        "Guardemos el número de predictores en _n_cols_ ya que necesitaremos este número al construir nuestra red.\n"
      ]
    },
    {
      "cell_type": "code",
      "metadata": {
        "button": false,
        "deletable": true,
        "new_sheet": false,
        "run_control": {
          "read_only": false
        },
        "id": "9ze4vA6eLo3C"
      },
      "source": [
        "n_cols = predictors_norm.shape[1] # número de predictores"
      ],
      "execution_count": null,
      "outputs": []
    },
    {
      "cell_type": "markdown",
      "metadata": {
        "id": "fTqpRyltLo3I"
      },
      "source": [
        "<a id='item32'></a>\n"
      ]
    },
    {
      "cell_type": "markdown",
      "metadata": {
        "button": false,
        "deletable": true,
        "new_sheet": false,
        "run_control": {
          "read_only": false
        },
        "id": "64z3r9l4Lo3J"
      },
      "source": [
        "## Importar Keras\n"
      ]
    },
    {
      "cell_type": "markdown",
      "metadata": {
        "button": false,
        "deletable": true,
        "new_sheet": false,
        "run_control": {
          "read_only": false
        },
        "id": "FkjugGfmLo3K"
      },
      "source": [
        "Keras normalmente ejecuta sobre una biblioteca de bajo nivel como TensorFlow. Esto significa que para poder usar la biblioteca de Keras, primero deberá instalar TensorFlow y cuando importe la biblioteca de Keras, se mostrará explícitamente qué backend se usó para instalar la biblioteca de Keras. Usamos TensorFlow como backend para instalar Keras, por lo que debería imprimirlo claramente cuando importamos Keras.\n",
        "\n",
        "\n"
      ]
    },
    {
      "cell_type": "markdown",
      "metadata": {
        "button": false,
        "deletable": true,
        "new_sheet": false,
        "run_control": {
          "read_only": false
        },
        "id": "xB8tlnm-Lo3M"
      },
      "source": [
        "#### Vamos a importar la biblioteca de Keras\n"
      ]
    },
    {
      "cell_type": "code",
      "metadata": {
        "button": false,
        "deletable": true,
        "new_sheet": false,
        "run_control": {
          "read_only": false
        },
        "id": "i1i78Q6ULo3M"
      },
      "source": [
        "from tensorflow import keras as keras"
      ],
      "execution_count": null,
      "outputs": []
    },
    {
      "cell_type": "markdown",
      "metadata": {
        "button": false,
        "deletable": true,
        "new_sheet": false,
        "run_control": {
          "read_only": false
        },
        "id": "3GRvbMnCLo3R"
      },
      "source": [
        "Como puede ver, el backend de TensorFlow se usó para instalar la biblioteca de Keras.\n"
      ]
    },
    {
      "cell_type": "markdown",
      "metadata": {
        "button": false,
        "deletable": true,
        "new_sheet": false,
        "run_control": {
          "read_only": false
        },
        "id": "v9NCYsqILo3S"
      },
      "source": [
        "Importemos el resto de los paquetes de la biblioteca de Keras que necesitaremos para construir nuestro modelo de regresión."
      ]
    },
    {
      "cell_type": "code",
      "metadata": {
        "button": false,
        "deletable": true,
        "new_sheet": false,
        "run_control": {
          "read_only": false
        },
        "id": "u1NVu6K6Lo3T"
      },
      "source": [
        "from tensorflow.keras.models import Sequential\n",
        "from tensorflow.keras.layers import Dense"
      ],
      "execution_count": null,
      "outputs": []
    },
    {
      "cell_type": "code",
      "metadata": {
        "id": "xDP-X_gnZWT4"
      },
      "source": [
        "\n",
        "# Definido el modelo\n",
        "\n",
        "model = Sequential()\n",
        "model.add(Dense(16, activation='relu', input_shape = (n_cols, )))\n",
        "model.add(Dense(8, activation='relu'))\n",
        "model.add(Dense(1))\n",
        "\n",
        "model.compile(loss = \"mean_squared_error\", optimizer = \"sgd\")\n"
      ],
      "execution_count": null,
      "outputs": []
    },
    {
      "cell_type": "code",
      "metadata": {
        "id": "JN5R5z-BeMeR"
      },
      "source": [
        "model.summary()"
      ],
      "execution_count": null,
      "outputs": []
    },
    {
      "cell_type": "code",
      "metadata": {
        "id": "_Av78nzoelMd"
      },
      "source": [
        "keras.utils.plot_model(model, show_shapes=True)"
      ],
      "execution_count": null,
      "outputs": []
    },
    {
      "cell_type": "code",
      "metadata": {
        "id": "H5JezHh9deRU"
      },
      "source": [
        "history = model.fit(predictors_norm, target, epochs = 30, validation_split = 0.3, verbose = 1)\n"
      ],
      "execution_count": null,
      "outputs": []
    },
    {
      "cell_type": "code",
      "metadata": {
        "id": "znSqfvGhhub2"
      },
      "source": [
        "import pandas as pd\n",
        "import matplotlib.pyplot as plt\n",
        "\n",
        "pd.DataFrame(history.history).plot(figsize=(16, 8)) \n",
        "plt.grid(True)\n",
        "plt.gca().set_ylim(0, 40) # set the vertical range to [0-1] plt.show()"
      ],
      "execution_count": null,
      "outputs": []
    },
    {
      "cell_type": "markdown",
      "metadata": {
        "id": "475ZQXQ_Lo3Y"
      },
      "source": [
        "<a id='item33'></a>\n"
      ]
    },
    {
      "cell_type": "markdown",
      "metadata": {
        "button": false,
        "deletable": true,
        "new_sheet": false,
        "run_control": {
          "read_only": false
        },
        "id": "lyPdbLPWLo3Z"
      },
      "source": [
        "## Contruir una Red Neuronal"
      ]
    },
    {
      "cell_type": "markdown",
      "metadata": {
        "button": false,
        "deletable": true,
        "new_sheet": false,
        "run_control": {
          "read_only": false
        },
        "id": "hrptoFQ0Lo3a"
      },
      "source": [
        "Definamos una función que defina nuestro modelo de regresión para que podamos llamarlo convenientemente para crear nuestro modelo."
      ]
    },
    {
      "cell_type": "code",
      "metadata": {
        "button": false,
        "deletable": true,
        "new_sheet": false,
        "run_control": {
          "read_only": false
        },
        "id": "ETrs-zIZLo3c"
      },
      "source": [
        "# definir el modelo de regresión\n",
        "def regression_model():\n",
        "    # crear el modelo\n",
        "    model = Sequential()\n",
        "    model.add(Dense(50, activation='relu', input_shape=(n_cols,)))\n",
        "    model.add(Dense(50, activation='relu'))\n",
        "    model.add(Dense(1))\n",
        "    \n",
        "    # compilar el modelo\n",
        "    model.compile(optimizer='adam', loss='mean_squared_error')\n",
        "    return model"
      ],
      "execution_count": null,
      "outputs": []
    },
    {
      "cell_type": "markdown",
      "metadata": {
        "id": "MvQnz4KELo3h"
      },
      "source": [
        "La función anterior crea un modelo que tiene dos capas ocultas, cada una de 50 unidades ocultas."
      ]
    },
    {
      "cell_type": "markdown",
      "metadata": {
        "button": false,
        "deletable": true,
        "new_sheet": false,
        "run_control": {
          "read_only": false
        },
        "id": "bE7-6QhgLo3i"
      },
      "source": [
        "<a id=\"item4\"></a>\n"
      ]
    },
    {
      "cell_type": "markdown",
      "metadata": {
        "button": false,
        "deletable": true,
        "new_sheet": false,
        "run_control": {
          "read_only": false
        },
        "id": "BYTkcZU9Lo3k"
      },
      "source": [
        "## Entrenar y Testear la Red\n"
      ]
    },
    {
      "cell_type": "markdown",
      "metadata": {
        "id": "qC0azfX-Lo3l"
      },
      "source": [
        "Llamemos a la función ahora para crear nuestro modelo."
      ]
    },
    {
      "cell_type": "code",
      "metadata": {
        "button": false,
        "deletable": true,
        "new_sheet": false,
        "run_control": {
          "read_only": false
        },
        "id": "oUHLEytrLo3m"
      },
      "source": [
        "# contruir el modelo\n",
        "model = regression_model()"
      ],
      "execution_count": null,
      "outputs": []
    },
    {
      "cell_type": "markdown",
      "metadata": {
        "id": "6rIIxzEqLo3r"
      },
      "source": [
        "A continuación, entrenaremos y probaremos el modelo al mismo tiempo usando el método _fit_. Dejaremos fuera el 30% de los datos para su validación y entrenaremos el modelo para 100 epochs.\n"
      ]
    },
    {
      "cell_type": "code",
      "metadata": {
        "id": "-bvdEKksLo3s"
      },
      "source": [
        "# entrenar el modelo\n",
        "history = model.fit(predictors_norm, target, validation_split=0.3, epochs=100, verbose=2)"
      ],
      "execution_count": null,
      "outputs": []
    },
    {
      "cell_type": "code",
      "metadata": {
        "id": "wPuGdn_elyd9"
      },
      "source": [
        "import pandas as pd\n",
        "import matplotlib.pyplot as plt\n",
        "\n",
        "pd.DataFrame(history.history).plot(figsize=(16, 8)) \n",
        "plt.grid(True)\n",
        "plt.gca().set_ylim(0, 1200) # set the vertical range to [0-1] plt.show()"
      ],
      "execution_count": null,
      "outputs": []
    },
    {
      "cell_type": "markdown",
      "metadata": {
        "button": false,
        "deletable": true,
        "new_sheet": false,
        "run_control": {
          "read_only": false
        },
        "id": "C8KucoiULo3w"
      },
      "source": [
        "<strong>Puede consultar este [link](https://keras.io/models/sequential?cm_mmc=Email_Newsletter-_-Developer_Ed%2BTech-_-WW_WW-_-SkillsNetwork-Courses-IBMDeveloperSkillsNetwork-DL0101EN-SkillsNetwork-20718188&cm_mmca1=000026UJ&cm_mmca2=10006555&cm_mmca3=M12345678&cvosrc=email.Newsletter.M12345678&cvo_campaign=000026UJ&cm_mmc=Email_Newsletter-_-Developer_Ed%2BTech-_-WW_WW-_-SkillsNetwork-Courses-IBMDeveloperSkillsNetwork-DL0101EN-SkillsNetwork-20718188&cm_mmca1=000026UJ&cm_mmca2=10006555&cm_mmca3=M12345678&cvosrc=email.Newsletter.M12345678&cvo_campaign=000026UJ&cm_mmc=Email_Newsletter-_-Developer_Ed%2BTech-_-WW_WW-_-SkillsNetwork-Courses-IBMDeveloperSkillsNetwork-DL0101EN-SkillsNetwork-20718188&cm_mmca1=000026UJ&cm_mmca2=10006555&cm_mmca3=M12345678&cvosrc=email.Newsletter.M12345678&cvo_campaign=000026UJ) para aprender sobre otra funciones que puede utilizar para la predicción o la evaluación.</strong>\n"
      ]
    },
    {
      "cell_type": "markdown",
      "metadata": {
        "button": false,
        "deletable": true,
        "new_sheet": false,
        "run_control": {
          "read_only": false
        },
        "id": "46DFutGkLo3y"
      },
      "source": [
        "Siéntase libre de variar lo siguiente y observe qué impacto tiene cada cambio en el rendimiento del modelo:\n",
        "\n",
        "1. Incrementar o disminuir la cantidad de neuronas en capas ocultas\n",
        "2. Agrega más capas ocultas\n",
        "3. Incrementar el número de epochs"
      ]
    },
    {
      "cell_type": "code",
      "metadata": {
        "id": "x8ZnHjNrRoGA"
      },
      "source": [
        "pd.DataFrame(target).hist()"
      ],
      "execution_count": null,
      "outputs": []
    },
    {
      "cell_type": "code",
      "metadata": {
        "id": "jrPY3ObVQ2LG"
      },
      "source": [
        "pd.DataFrame(model.predict(predictors_norm)).hist()"
      ],
      "execution_count": null,
      "outputs": []
    },
    {
      "cell_type": "code",
      "metadata": {
        "id": "GIrKrjiFT9v_"
      },
      "source": [
        "concrete_data['prediction'] = model.predict(predictors_norm)\n"
      ],
      "execution_count": null,
      "outputs": []
    },
    {
      "cell_type": "code",
      "metadata": {
        "id": "V51TcvFyVpvl"
      },
      "source": [
        "concrete_data[['Strength','prediction']].corr()"
      ],
      "execution_count": null,
      "outputs": []
    },
    {
      "cell_type": "code",
      "metadata": {
        "id": "WryKjQsFWjW8"
      },
      "source": [
        "0.77656**2"
      ],
      "execution_count": null,
      "outputs": []
    },
    {
      "cell_type": "code",
      "metadata": {
        "id": "aoes65qeUoz7"
      },
      "source": [
        "from sklearn.metrics import r2_score\n",
        "\n",
        "\n",
        "r2_score(concrete_data.Strength, concrete_data.prediction)\n"
      ],
      "execution_count": null,
      "outputs": []
    },
    {
      "cell_type": "markdown",
      "metadata": {
        "button": false,
        "deletable": true,
        "new_sheet": false,
        "run_control": {
          "read_only": false
        },
        "id": "TtUo9QZWLo3y"
      },
      "source": [
        "### ¡Gracias por completar este laboratorio!\n",
        "\n"
      ]
    },
    {
      "cell_type": "code",
      "metadata": {
        "id": "7_XHCk4OM0Rs"
      },
      "source": [
        "# definir el modelo de regresión\n",
        "def regression_model():\n",
        "    # crear el modelo\n",
        "    model = Sequential()\n",
        "    model.add(Dense(18, activation='relu', input_shape=(n_cols,)))\n",
        "    model.add(Dense(36, activation='relu'))\n",
        "    model.add(Dense(18, activation='sigmoid'))\n",
        "    model.add(Dense(9,  activation='sigmoid'))\n",
        "    model.add(Dense(1))\n",
        "    \n",
        "    # compilar el modelo\n",
        "    model.compile(optimizer='adam', loss='mean_absolute_error')\n",
        "    return model\n",
        "\n",
        "\n"
      ],
      "execution_count": null,
      "outputs": []
    },
    {
      "cell_type": "code",
      "metadata": {
        "id": "3CzlJ2ZNNTyo"
      },
      "source": [
        "# contruir el modelo\n",
        "model = regression_model()\n",
        "\n",
        "# entrenar el modelo\n",
        "model.fit(predictors_norm, target, validation_split=0.3, epochs=200, verbose=2)"
      ],
      "execution_count": null,
      "outputs": []
    }
  ]
}
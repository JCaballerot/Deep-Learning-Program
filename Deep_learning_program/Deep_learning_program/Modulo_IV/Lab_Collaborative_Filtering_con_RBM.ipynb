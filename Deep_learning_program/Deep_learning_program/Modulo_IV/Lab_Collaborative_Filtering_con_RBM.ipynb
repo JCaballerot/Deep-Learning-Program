{
  "nbformat": 4,
  "nbformat_minor": 0,
  "metadata": {
    "kernelspec": {
      "name": "python3",
      "display_name": "Python 3"
    },
    "colab": {
      "provenance": [],
      "machine_shape": "hm",
      "include_colab_link": true
    },
    "language_info": {
      "name": "python"
    },
    "accelerator": "GPU"
  },
  "cells": [
    {
      "cell_type": "markdown",
      "metadata": {
        "id": "view-in-github",
        "colab_type": "text"
      },
      "source": [
        "<a href=\"https://colab.research.google.com/github/JCaballerot/Deep_learning_program/blob/main/Deep_learning_program/Deep_learning_program/Modulo_IV/Lab_Collaborative_Filtering_con_RBM.ipynb\" target=\"_parent\"><img src=\"https://colab.research.google.com/assets/colab-badge.svg\" alt=\"Open In Colab\"/></a>"
      ]
    },
    {
      "cell_type": "markdown",
      "metadata": {
        "id": "jMORI0y9_xHF"
      },
      "source": [
        "\n",
        "<h1 align=\"center\"><font size=\"5\"> SISTEMAS DE RECOMENDACION USANDO RESTRICTED BOLTZMANN MACHINE</font></h1>"
      ]
    },
    {
      "cell_type": "markdown",
      "metadata": {
        "id": "enRuyYMp_xHG"
      },
      "source": [
        "Bienvenido al laboratorio <b>Sistema de recomendaciones usando restricted Boltzmann machine's</b>. En este cuaderno, estudiamos y repasamos el uso de una máquina restringida de Boltzmann (RBM) en un sistema de recomendación basado en colaborative filtering. Este sistema es un algoritmo que recomienda elementos al tratar de encontrar usuarios que sean similares entre sí en función de las calificaciones de sus elementos. Al final de este laboratorio, debería tener una comprensión más profunda de cómo se aplican las máquinas restringidas de Boltzmann y cómo crear una con TensorFlow."
      ]
    },
    {
      "cell_type": "markdown",
      "metadata": {
        "id": "EmNRB_cP_xHH"
      },
      "source": [
        "<h2>Tabla de Contenidos</h2>\n",
        "\n",
        "<ol>\n",
        "    <li><a href=\"#ref1\">Obtener la data</a></li>\n",
        "    <li><a href=\"#ref2\">Carga de la data</a></li>\n",
        "    <li><a href=\"#ref3\">El modelo de Restricted Boltzmann machine</a></li>\n",
        "    <li><a href=\"#ref4\">Configuración de los parámetros del modelo</a></li>\n",
        "    <li><a href=\"#ref5\">Recomendación</a></li>\n",
        "</ol>\n",
        "<br>\n",
        "<br>\n",
        "<hr>"
      ]
    },
    {
      "cell_type": "markdown",
      "metadata": {
        "id": "u_n_8EBI_xHI"
      },
      "source": [
        "<a id=\"ref1\"></a>\n",
        "<h2>Obtener la Data</h2>"
      ]
    },
    {
      "cell_type": "markdown",
      "metadata": {
        "id": "wV_ihGyH_xHI"
      },
      "source": [
        "Para empezar, necesitamos descargar los datos que vamos a utilizar para nuestro sistema. Los conjuntos de datos que vamos a usar fueron adquiridos por <a href=\"http://grouplens.org/datasets/movielens/\"> GroupLens </a> y contienen películas, usuarios y calificaciones de películas de estos usuarios.\n",
        "\n",
        "Después de descargar los datos, extraeremos los conjuntos de datos a un directorio que sea de fácil acceso."
      ]
    },
    {
      "cell_type": "code",
      "source": [
        "%%capture\n",
        "!pip3 install tensorflow"
      ],
      "metadata": {
        "id": "vNAUkLvlGdV5",
        "outputId": "5642fc9f-bf87-47e5-dbf7-6ce6ff4af7a6",
        "colab": {
          "base_uri": "https://localhost:8080/"
        }
      },
      "execution_count": 4,
      "outputs": [
        {
          "output_type": "stream",
          "name": "stdout",
          "text": [
            "Installing collected packages: tensorflow\n",
            "Successfully installed tensorflow-2.15.0.post1\n"
          ]
        }
      ]
    },
    {
      "cell_type": "code",
      "metadata": {
        "id": "xv-U56h7f5fO",
        "outputId": "b5f84109-18ea-4ce2-c898-31d611b51125",
        "colab": {
          "base_uri": "https://localhost:8080/"
        }
      },
      "source": [
        "import tensorflow as tf\n",
        "print(tf.__version__)"
      ],
      "execution_count": 7,
      "outputs": [
        {
          "output_type": "stream",
          "name": "stdout",
          "text": [
            "2.15.0\n"
          ]
        }
      ]
    },
    {
      "cell_type": "code",
      "metadata": {
        "id": "7DA-hHTGT_iJ"
      },
      "source": [
        "%%capture\n",
        "!wget -O moviedataset.zip https://s3-api.us-geo.objectstorage.softlayer.net/cf-courses-data/CognitiveClass/ML0101ENv3/labs/moviedataset.zip\n",
        "print('unziping ...')\n",
        "!unzip -o -j moviedataset.zip"
      ],
      "execution_count": 8,
      "outputs": []
    },
    {
      "cell_type": "markdown",
      "metadata": {
        "id": "xWioqV3l_xHP"
      },
      "source": [
        "Con los conjuntos de datos en su lugar, ahora importemos las bibliotecas necesarias. Usaremos <a href=\"https://www.tensorflow.org/\"> Tensorflow </a> y <a href=\"http://www.numpy.org/\"> Numpy </a> juntos para modelar e inicializar nuestra máquina restringida de Boltzmann y <a href=\"http://pandas.pydata.org/pandas-docs/stable/\"> Pandas </a> para manipular nuestros conjuntos de datos. Para importar estas bibliotecas, ejecute la celda de código a continuación."
      ]
    },
    {
      "cell_type": "code",
      "metadata": {
        "jupyter": {
          "outputs_hidden": true
        },
        "id": "MPWfJfW0_xHP"
      },
      "source": [
        "import tensorflow as tf\n",
        "import numpy as np\n",
        "import pandas as pd\n",
        "import matplotlib.pyplot as plt\n",
        "%matplotlib inline"
      ],
      "execution_count": 9,
      "outputs": []
    },
    {
      "cell_type": "markdown",
      "metadata": {
        "id": "HFuenScp_xHU"
      },
      "source": [
        "<hr>"
      ]
    },
    {
      "cell_type": "markdown",
      "metadata": {
        "id": "iiKQlmrN_xHU"
      },
      "source": [
        "<a id=\"ref2\"> </a>\n",
        "<h2> Carga de la data</h2>\n",
        "\n",
        "Comencemos cargando nuestros datos con Pandas. Los archivos .dat que contienen nuestros datos son similares a los archivos CSV, pero en lugar de usar el carácter ',' (coma) para separar entradas, usa caracteres '::' (dos dos puntos). Para que Pandas sepa que debe separar puntos de datos en cada '::', tenemos que especificar el parámetro <code> sep = '::' </code> al llamar a la función.\n",
        "\n",
        "Además, también le pasamos el parámetro <code> header = None </code> debido al hecho de que nuestros archivos no contienen ningún encabezado.\n",
        "\n",
        "Comencemos con el archivo movies.dat y echemos un vistazo a su estructura:"
      ]
    },
    {
      "cell_type": "code",
      "metadata": {
        "scrolled": true,
        "id": "o2rVaZuI_xHV"
      },
      "source": [
        "#Cargando nuestro dataset de peliculas\n",
        "movies_df = pd.read_csv('movies.csv')\n",
        "movies_df.head()"
      ],
      "execution_count": null,
      "outputs": []
    },
    {
      "cell_type": "markdown",
      "metadata": {
        "id": "pPj9PSup_xHY"
      },
      "source": [
        "Podemos hacer lo mismo con el archivo ratings.dat:"
      ]
    },
    {
      "cell_type": "code",
      "metadata": {
        "id": "yNgrQvWD_xHY"
      },
      "source": [
        "#Cargando los puntajes de las películas\n",
        "ratings_df = pd.read_csv('ratings.csv')\n",
        "ratings_df.head()"
      ],
      "execution_count": null,
      "outputs": []
    },
    {
      "cell_type": "markdown",
      "metadata": {
        "id": "sEzCdDaj_xHb"
      },
      "source": [
        "Por lo tanto, nuestra variable <b>movies_df</b> contiene un marco de datos que almacena el número de identificación, el título y los géneros únicos de una película, mientras que nuestra variable <b>ratings_df</b> almacena un número de identificación de usuario único, la identificación de una película que el usuario ha visto, la calificación del usuario para dicha película y cuándo el usuario calificó esa película.\n",
        "\n",
        "Cambiemos el nombre de las columnas en estos marcos de datos para que podamos transmitir mejor sus datos de manera más intuitiva:"
      ]
    },
    {
      "cell_type": "code",
      "metadata": {
        "jupyter": {
          "outputs_hidden": true
        },
        "id": "n2xe_2Ao_xHc"
      },
      "source": [
        "movies_df.columns = ['MovieID', 'Title', 'Genres']\n",
        "movies_df.head()"
      ],
      "execution_count": null,
      "outputs": []
    },
    {
      "cell_type": "code",
      "metadata": {
        "id": "YygT9OkpL09U"
      },
      "source": [
        "movies_df[movies_df.MovieID == 48516]"
      ],
      "execution_count": null,
      "outputs": []
    },
    {
      "cell_type": "markdown",
      "metadata": {
        "id": "Jcijwvx9_xHh"
      },
      "source": [
        "y ratings_df:"
      ]
    },
    {
      "cell_type": "code",
      "metadata": {
        "scrolled": true,
        "id": "7V-wC8jr_xHi"
      },
      "source": [
        "ratings_df.columns = ['UserID', 'MovieID', 'Rating', 'Timestamp']\n",
        "ratings_df.head()"
      ],
      "execution_count": null,
      "outputs": []
    },
    {
      "cell_type": "markdown",
      "metadata": {
        "id": "H-0Gk1RQ_xHl"
      },
      "source": [
        "<hr>"
      ]
    },
    {
      "cell_type": "markdown",
      "metadata": {
        "id": "eUVesLFK_xHl"
      },
      "source": [
        "<a id=\"ref3\"></a>\n",
        "<h2>El modelo de Restricted Boltzmann Machine's</h2>"
      ]
    },
    {
      "cell_type": "markdown",
      "metadata": {
        "id": "a4dNVSrf_xHm"
      },
      "source": [
        "<img src=\"https://ibm.box.com/shared/static/o049tx0dsllpbj3b546vuba25qqlzelq.png\"  width=\"300\">\n",
        "<br>\n",
        "El modelo de la máquina restringida de Boltzmann tiene dos capas de neuronas, una de las cuales es lo que llamamos una capa de entrada visible y la otra se llama capa oculta. La capa oculta se utiliza para aprender características de la información que se alimenta a través de la capa de entrada. Para nuestro modelo, la entrada contendrá X neuronas, donde X es la cantidad de películas en nuestro conjunto de datos. Cada una de estas neuronas poseerá un valor de calificación normalizado que varía de 0 a 1, donde 0 significa que un usuario no ha visto esa película y cuanto más cerca está el valor de 1, más le gusta al usuario la película que representa la neurona. Estos valores normalizados, por supuesto, se extraerán y normalizarán del conjunto de datos de calificaciones.\n",
        "\n",
        "Después de pasar la entrada, entrenamos el RBM en ella y hacemos que la capa oculta aprenda sus características. Estas funciones son las que usamos para reconstruir la entrada, que en nuestro caso, predecirá las calificaciones de las películas que el usuario no ha visto, ¡que es exactamente lo que podemos usar para recomendar películas!\n",
        "\n",
        "Ahora comenzaremos a formatear nuestro conjunto de datos para seguir la entrada esperada del modelo."
      ]
    },
    {
      "cell_type": "markdown",
      "metadata": {
        "id": "xm9d4Zj7_xHm"
      },
      "source": [
        "<h3>Formateando la Data</h3>"
      ]
    },
    {
      "cell_type": "markdown",
      "metadata": {
        "id": "dbxOtKKA_xHn"
      },
      "source": [
        "Primero veamos cuántas películas tenemos y veamos si los ID de la película se corresponden con ese valor:"
      ]
    },
    {
      "cell_type": "code",
      "metadata": {
        "id": "AwvnPBKO_xHn"
      },
      "source": [
        "movies_df.shape"
      ],
      "execution_count": null,
      "outputs": []
    },
    {
      "cell_type": "code",
      "metadata": {
        "id": "OS2RDEzuXxJ1"
      },
      "source": [
        "ratings_df = ratings_df.drop('Timestamp', 1)"
      ],
      "execution_count": null,
      "outputs": []
    },
    {
      "cell_type": "code",
      "metadata": {
        "id": "DCa3T4VbJRtO"
      },
      "source": [
        "ratings_df.shape"
      ],
      "execution_count": null,
      "outputs": []
    },
    {
      "cell_type": "code",
      "metadata": {
        "id": "6d7b64Modcpb"
      },
      "source": [
        "ratings_df = ratings_df.loc[ratings_df.UserID <= 1000]\n",
        "ratings_df.head()\n",
        "ratings_df.shape"
      ],
      "execution_count": null,
      "outputs": []
    },
    {
      "cell_type": "code",
      "metadata": {
        "id": "R6s6GkhDc3VZ"
      },
      "source": [
        "ratings_df.shape"
      ],
      "execution_count": null,
      "outputs": []
    },
    {
      "cell_type": "markdown",
      "metadata": {
        "id": "Hpw_y8Vm_xHr"
      },
      "source": [
        "Ahora, podemos comenzar a formatear los datos en entrada para el RBM. Vamos a almacenar las calificaciones de usuarios normalizadas en una matriz de calificación de usuarios llamada trX y normalizar los valores."
      ]
    },
    {
      "cell_type": "code",
      "metadata": {
        "id": "t5F0fwsgLbgC"
      },
      "source": [
        "ratings_df.head()"
      ],
      "execution_count": null,
      "outputs": []
    },
    {
      "cell_type": "code",
      "metadata": {
        "id": "ajl8HN26_xHr"
      },
      "source": [
        "user_rating_df = ratings_df.pivot(index='UserID', columns='MovieID', values='Rating')\n",
        "user_rating_df.head()"
      ],
      "execution_count": null,
      "outputs": []
    },
    {
      "cell_type": "markdown",
      "metadata": {
        "id": "8cJOV3Gs_xHv"
      },
      "source": [
        "Normalizamos la data:"
      ]
    },
    {
      "cell_type": "code",
      "metadata": {
        "id": "l_4WrWE5_xHv"
      },
      "source": [
        "norm_user_rating_df = user_rating_df.fillna(0)/ 5.0\n",
        "trX = norm_user_rating_df.values\n",
        "trX[0:5]"
      ],
      "execution_count": null,
      "outputs": []
    },
    {
      "cell_type": "markdown",
      "metadata": {
        "id": "jKxgtb-L_xH0"
      },
      "source": [
        "<hr>"
      ]
    },
    {
      "cell_type": "markdown",
      "metadata": {
        "id": "N_oTdBIL_xH0"
      },
      "source": [
        "<a id=\"ref4\"></a>\n",
        "<h2>Seteando los parámetros del modelo</h2>"
      ]
    },
    {
      "cell_type": "markdown",
      "metadata": {
        "id": "nu-uZdgK_xH1"
      },
      "source": [
        "A continuación, comencemos a construir nuestro RBM con TensorFlow. Comenzaremos determinando primero la cantidad de neuronas en las capas ocultas y luego creando variables de marcador de posición para almacenar nuestros sesgos de capa visible, sesgos de capa oculta y pesos que conectan la capa oculta con la capa visible. Estableceremos arbitrariamente el número de neuronas en las capas ocultas en 20. Puede establecer libremente este valor en cualquier número que desee, ya que cada neurona en la capa oculta terminará aprendiendo una característica."
      ]
    },
    {
      "cell_type": "code",
      "source": [
        "from keras.models import Sequential\n",
        "from keras.layers import Dense, Input\n",
        "import numpy as np\n"
      ],
      "metadata": {
        "id": "w-8evHLzD6Pk"
      },
      "execution_count": 23,
      "outputs": []
    },
    {
      "cell_type": "code",
      "source": [
        "# Definir el número de unidades en la capa visible y oculta\n",
        "visible_units = len(user_rating_df.columns)  # Reemplaza esto con el número real de características de tu entrada\n",
        "hidden_units = 200"
      ],
      "metadata": {
        "id": "T0WLQ0ZuD-wb"
      },
      "execution_count": 47,
      "outputs": []
    },
    {
      "cell_type": "code",
      "source": [
        "# Crear el modelo\n",
        "model = Sequential()\n",
        "model.add(Dense(hidden_units, input_dim = visible_units, activation='sigmoid', name='hidden_layer'))\n",
        "model.add(Dense(visible_units, activation='relu', name='output_layer'))\n"
      ],
      "metadata": {
        "id": "8aikIo8eED5U"
      },
      "execution_count": 48,
      "outputs": []
    },
    {
      "cell_type": "code",
      "source": [
        "# Compilar el modelo\n",
        "model.compile(optimizer='adam', loss='mean_squared_error')\n",
        "\n",
        "# Mostrar la estructura del modelo\n",
        "model.summary()"
      ],
      "metadata": {
        "id": "qGVO6VwwEMWG"
      },
      "execution_count": null,
      "outputs": []
    },
    {
      "cell_type": "code",
      "source": [
        "from keras.callbacks import EarlyStopping\n",
        "from keras.optimizers import Adam"
      ],
      "metadata": {
        "id": "8ysf9Q3-GPdM"
      },
      "execution_count": 50,
      "outputs": []
    },
    {
      "cell_type": "code",
      "source": [
        "# Configurar Early Stopping\n",
        "early_stopping = EarlyStopping(monitor='val_loss', patience = 10, verbose=1, restore_best_weights=True)\n"
      ],
      "metadata": {
        "id": "-OEc2XYhF0iZ"
      },
      "execution_count": 51,
      "outputs": []
    },
    {
      "cell_type": "code",
      "source": [
        "# Establecer el learning rate específico para el optimizador\n",
        "learning_rate = 0.05\n",
        "optimizer = Adam(learning_rate = learning_rate)"
      ],
      "metadata": {
        "id": "yvzo67fTF5SL"
      },
      "execution_count": 53,
      "outputs": []
    },
    {
      "cell_type": "code",
      "source": [
        "epochs = 100\n",
        "batchsize = 200\n",
        "\n",
        "history = model.fit(trX, trX, validation_split = 0.2, epochs = epochs, batch_size = batchsize, callbacks=[early_stopping])"
      ],
      "metadata": {
        "id": "rcyj_eLKEVM-"
      },
      "execution_count": null,
      "outputs": []
    },
    {
      "cell_type": "code",
      "source": [
        "\n",
        "import pandas as pd\n",
        "import matplotlib.pyplot as plt\n",
        "\n",
        "pd.DataFrame(history.history).plot(figsize=(8, 4))\n",
        "plt.grid(True)\n",
        "plt.gca().set_ylim(0, 0.007) # set the vertical range to [0-1] plt.show()"
      ],
      "metadata": {
        "id": "77oBwNiJFLDv"
      },
      "execution_count": null,
      "outputs": []
    },
    {
      "cell_type": "markdown",
      "metadata": {
        "id": "mWteciZ4_xII"
      },
      "source": [
        "<hr>"
      ]
    },
    {
      "cell_type": "markdown",
      "metadata": {
        "id": "Swr8ntCE_xII"
      },
      "source": [
        "<a id=\"ref5\"></a>\n",
        "<h2>Recomendación</h2>"
      ]
    },
    {
      "cell_type": "markdown",
      "metadata": {
        "id": "XMKv35BW_xIJ"
      },
      "source": [
        "Ahora podemos predecir películas que podrían gustarle a un usuario seleccionado arbitrariamente. Esto se puede lograr introduciendo las preferencias de películas vistas del usuario en el RBM y luego reconstruyendo la entrada. Los valores que nos da el RBM intentarán estimar las preferencias del usuario por las películas que no ha visto en función de las preferencias de los usuarios en los que se entrenó el RBM."
      ]
    },
    {
      "cell_type": "markdown",
      "metadata": {
        "id": "LaBdZy9a_xIJ"
      },
      "source": [
        "Primero seleccionemos un <b>User ID</b> de nuestra data:"
      ]
    },
    {
      "cell_type": "code",
      "metadata": {
        "id": "ZEGrGwGd_xIK"
      },
      "source": [
        "mock_user_id = 2"
      ],
      "execution_count": 57,
      "outputs": []
    },
    {
      "cell_type": "code",
      "metadata": {
        "jupyter": {
          "outputs_hidden": true
        },
        "id": "6OZMADsJ_xIM"
      },
      "source": [
        "#Seleccionando al usuario input\n",
        "inputUser = trX[mock_user_id-1].reshape(1, -1)\n",
        "inputUser[0:5]"
      ],
      "execution_count": null,
      "outputs": []
    },
    {
      "cell_type": "code",
      "source": [
        "rec = model.predict(inputUser)\n",
        "print(rec)"
      ],
      "metadata": {
        "id": "x6mUPiocJpDD"
      },
      "execution_count": null,
      "outputs": []
    },
    {
      "cell_type": "markdown",
      "metadata": {
        "id": "S7kh0pOv_xIW"
      },
      "source": [
        "Luego, podemos enumerar las 20 películas más recomendadas para nuestro usuario simulado clasificándolas por sus puntajes dados por nuestro modelo."
      ]
    },
    {
      "cell_type": "code",
      "metadata": {
        "id": "GpGAqmGc_xIW"
      },
      "source": [
        "scored_movies_df_mock = movies_df[movies_df['MovieID'].isin(user_rating_df.columns)]\n",
        "scored_movies_df_mock = scored_movies_df_mock.assign(RecommendationScore = rec[0])\n",
        "scored_movies_df_mock.sort_values([\"RecommendationScore\"], ascending=False).head(20)"
      ],
      "execution_count": null,
      "outputs": []
    },
    {
      "cell_type": "markdown",
      "metadata": {
        "id": "TPeSigzU_xIb"
      },
      "source": [
        "Entonces, ¿cómo recomendar las películas que el usuario aún no ha visto?"
      ]
    },
    {
      "cell_type": "markdown",
      "metadata": {
        "id": "8r4oshJv_xIc"
      },
      "source": [
        "Ahora, podemos encontrar todas las películas que nuestro usuario ha visto antes:"
      ]
    },
    {
      "cell_type": "code",
      "metadata": {
        "id": "L8HLOBCy_xIc"
      },
      "source": [
        "movies_df_mock = ratings_df[ratings_df['UserID'] == mock_user_id]\n",
        "movies_df_mock.head()"
      ],
      "execution_count": null,
      "outputs": []
    },
    {
      "cell_type": "markdown",
      "metadata": {
        "id": "AijIrYLW_xIg"
      },
      "source": [
        "En la siguiente celda, cruzamos todas las películas que nuestro usuario ha visto con los puntajes predichos basados en sus datos históricos:"
      ]
    },
    {
      "cell_type": "code",
      "metadata": {
        "jupyter": {
          "outputs_hidden": true
        },
        "id": "zIqy7Vbo_xIh"
      },
      "source": [
        "#Cruzandi movies_df con ratings_df por MovieID\n",
        "merged_df_mock = scored_movies_df_mock.merge(movies_df_mock, on='MovieID', how='outer')"
      ],
      "execution_count": 63,
      "outputs": []
    },
    {
      "cell_type": "markdown",
      "metadata": {
        "id": "s7tqdQG5_xIm"
      },
      "source": [
        "ordenemos y echemos un vistazo a las primeras 20 filas:"
      ]
    },
    {
      "cell_type": "code",
      "metadata": {
        "id": "xzMYUk0R_xIn"
      },
      "source": [
        "merged_df_mock.sort_values([\"Rating\"], ascending=False).head(20)"
      ],
      "execution_count": null,
      "outputs": []
    },
    {
      "cell_type": "markdown",
      "metadata": {
        "id": "cD_ybCOz_xIq"
      },
      "source": [
        "Como puede ver, hay algunas películas que el usuario aún no ha visto y tiene una puntuación alta según nuestro modelo. Entonces, podemos recomendarlos al usuario."
      ]
    },
    {
      "cell_type": "markdown",
      "metadata": {
        "id": "1cvE9emP_xIr"
      },
      "source": [
        "Puede intentar cambiar los parámetros en el código: agregar más unidades a la capa oculta, cambiar las funciones de pérdida o tal vez algo más para ver si cambia algo. ¿El modelo funciona mejor? ¿Se tarda más en calcular?\n"
      ]
    },
    {
      "cell_type": "markdown",
      "metadata": {
        "id": "DiQo9Re6_xIs"
      },
      "source": [
        "<hr>"
      ]
    },
    {
      "cell_type": "markdown",
      "metadata": {
        "id": "S_P_Vp7p_xIt"
      },
      "source": [
        "### Gracias por completar este laboratorio!"
      ]
    }
  ]
}
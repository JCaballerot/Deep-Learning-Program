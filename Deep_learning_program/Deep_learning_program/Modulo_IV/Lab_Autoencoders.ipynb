{
  "nbformat": 4,
  "nbformat_minor": 0,
  "metadata": {
    "kernelspec": {
      "name": "python3",
      "display_name": "Python 3"
    },
    "colab": {
      "provenance": [],
      "collapsed_sections": [],
      "include_colab_link": true
    },
    "language_info": {
      "name": "python"
    }
  },
  "cells": [
    {
      "cell_type": "markdown",
      "metadata": {
        "id": "view-in-github",
        "colab_type": "text"
      },
      "source": [
        "<a href=\"https://colab.research.google.com/github/JCaballerot/Deep_learning_program/blob/main/Deep_learning_program/Deep_learning_program/Modulo_IV/Lab_Autoencoders.ipynb\" target=\"_parent\"><img src=\"https://colab.research.google.com/assets/colab-badge.svg\" alt=\"Open In Colab\"/></a>"
      ]
    },
    {
      "cell_type": "markdown",
      "metadata": {
        "id": "w8O7Sck2tAAe"
      },
      "source": [
        "<h1 align=\"center\"><font size=\"5\">AUTOENCODERS</font></h1>"
      ]
    },
    {
      "cell_type": "markdown",
      "metadata": {
        "id": "U3S7LKxftAAf"
      },
      "source": [
        "<div class=\"alert alert-block alert-info\" style=\"margin-top: 20px\">\n",
        "Bienvenido a este laboratorio sobre autoencoders.\n",
        "<font size = \"3\"> <strong> En este laboratorio encontrarás una explicación de qué es un autoencoder, cómo funciona y verás una implementación de un autoencoder en TensorFlow.</strong></font>\n",
        "<br>\n",
        "<br>\n",
        "<h2>Tabla de Contenidos</h2>\n",
        "<ol>\n",
        " <li><a href=\"#ref1\">Introducción</a></li>\n",
        " <li><a href=\"#ref2\">Feature Extraction y Dimensionality Reduction</a></li>\n",
        " <li><a href=\"#ref3\">Estructura del Autoencoder</a></li>\n",
        " <li><a href=\"#ref4\">Performance</a></li>\n",
        " <li><a href=\"#ref5\">Entrenamiento: Loss Function</a></li>\n",
        " <li><a href=\"#ref6\">Código</a></li>\n",
        "</ol>\n",
        "</div>\n",
        "<br>\n",
        "Al final de este laboratorio, debería poder crear autoencoders simples y aplicarlos a problemas que implican aprendizaje no supervisado.\n",
        "<br>\n",
        "<p></p>\n",
        "<hr>"
      ]
    },
    {
      "cell_type": "markdown",
      "metadata": {
        "id": "JGthATggtAAg"
      },
      "source": [
        "<a id=\"ref1\"></a>\n",
        "<h2>Introducción</h2>\n",
        "Un autoencoder, también conocido como autoassociator o Diabolo networks, es una red neuronal artificial empleada para recrear la entrada dada.\n",
        "Toma un conjunto de entradas <b>sin etiquetar</b>, las codifica y luego intenta extraer la información más valiosa de ellas.\n",
        "Se utilizan para extracción de características, aprendizaje de modelos generativos de datos, reducción de dimensionalidad y se pueden utilizar para compresión.\n",
        "\n",
        "Un artículo de 2006 llamado <b> <a href=\"https://www.cs.toronto.edu/~hinton/science.pdf\"> Reducción de la dimensionalidad de los datos con redes neuronales </a>, realizado por GE Hinton y RR Salakhutdinov </b>, mostró mejores resultados que años de refinamiento de otros tipos de red, y fue un gran avance en el campo de las redes neuronales, un campo que estuvo \"estancado\" durante 10 años.\n",
        "\n",
        "Ahora, los autoencoders, basados en máquinas restringidas de Boltzmann, se emplean en algunas de las aplicaciones de deep learning más grandes. Son los componentes básicos de Deep Belief Networks (DBN).\n",
        "\n",
        "<center><img src=\"https://ibm.box.com/shared/static/xlkv9v7xzxhjww681dq3h1pydxcm4ktp.png\" style=\"width: 350px;\"></center>"
      ]
    },
    {
      "cell_type": "markdown",
      "metadata": {
        "id": "IBO7mvBHtAAh"
      },
      "source": [
        "<hr>"
      ]
    },
    {
      "cell_type": "markdown",
      "metadata": {
        "id": "K0L-WRZutAAh"
      },
      "source": [
        "<a id=\"ref2\"></a>\n",
        "<h2>Feature Extraction y Dimensionality Reduction</h2>\n",
        "\n",
        "Un ejemplo dado por Nikhil Buduma en KdNuggets (<a href=\"http://www.kdnuggets.com/2015/03/deep-learning-curse-dimensionality-autoencoders.html\"> enlace </a>) dio un Excelente explicación de la utilidad de este tipo de redes neuronales.\n",
        "\n",
        "Digamos que quieres extraer la emoción que siente la persona en una fotografía. Usando la siguiente imagen en escala de grises de 256x256 píxeles como ejemplo:\n",
        "\n",
        "<img src=\"https://ibm.box.com/shared/static/r5knpow4bk2farlvxia71e9jp2f2u126.png\">\n",
        "\n",
        "Pero cuando usamos esta imagen, ¡comenzamos a encontrarnos con un cuello de botella! ¡Porque esta imagen con un tamaño de 256x256 píxeles se corresponde con un vector de entrada de 65536 dimensiones! Si usáramos una imagen producida con cámaras de celular convencionales, que genera imágenes de 4000 x 3000 píxeles, tendríamos 12 millones de dimensiones para analizar.\n",
        "\n",
        "\n",
        "Este cuello de botella se problematiza aún más a medida que aumenta la dificultad de un problema de machine learning a medida que se involucran más dimensiones. Según un estudio de 1982 de CJ Stone (<a href=\"http://www-personal.umich.edu/~jizhu/jizhu/wuke/Stone-AoS82.pdf\"> enlace </a>), el momento de ajustarse a un modelo, es óptimo si:\n",
        "<br><br>\n",
        "<div class=\"alert alert-block alert-info\" style=\"margin-top: 20px\">\n",
        "<h3><strong>$$m^{-p/(2p+d)}$$</strong></h3>\n",
        "<br>\n",
        "Donde:\n",
        "<br>\n",
        "m: número de datos\n",
        "<br>\n",
        "d: dimensionalidad de los datos\n",
        "<br>\n",
        "p: Parámetros del modelo\n",
        "</div>\n",
        "\n",
        "Como puede ver, ¡aumenta exponencialmente!\n",
        "Volviendo a nuestro ejemplo, no necesitamos utilizar todas las 65.536 dimensiones para clasificar una emoción. Un humano identifica las emociones de acuerdo con una expresión facial específica, algunas <b> características clave </b>, como la forma de la boca y las cejas.\n",
        "\n",
        "<center><img src=\"https://ibm.box.com/shared/static/m8urvuqujkt2vt1ru1fnslzh24pv7hn4.png\" height=\"256\" width=\"256\"></center>"
      ]
    },
    {
      "cell_type": "markdown",
      "metadata": {
        "id": "7ZrQBAEetAAi"
      },
      "source": [
        "<hr>"
      ]
    },
    {
      "cell_type": "markdown",
      "metadata": {
        "id": "JxDMHsb0tAAi"
      },
      "source": [
        "<a id=\"ref3\"></a>\n",
        "<h2>Estructura del Autoencoder</h2>\n",
        "\n",
        "<img src=\"https://ibm.box.com/shared/static/no7omt2jhqvv7uuls7ihnzikyl9ysnfp.png\" style=\"width: 400px;\">\n",
        "\n",
        "\n",
        "Un autoencoder se puede dividir en dos partes, el <b> encoder </b> y el <b> decoder </b>.\n",
        "\n",
        "El encoder necesita comprimir la representación de una entrada. En este caso vamos a reducir la dimensión del rostro de nuestro actor, de 2000 dimensiones a solo 30 dimensiones, haciendo pasar los datos por capas de nuestro encoder.\n",
        "\n",
        "El decoder funciona como una red de encoders a la inversa. Funciona para recrear la entrada lo más fielmente posible. Esto juega un papel importante durante el entrenamiento, porque obliga al codificador automático a seleccionar las características más importantes en la representación comprimida.\n"
      ]
    },
    {
      "cell_type": "markdown",
      "metadata": {
        "id": "hptr4j5WtAAj"
      },
      "source": [
        "<hr>"
      ]
    },
    {
      "cell_type": "markdown",
      "metadata": {
        "id": "mpKZzoGCtAAk"
      },
      "source": [
        "<a id=\"ref4\"></a>\n",
        "<h2>Performance</h2>\n",
        "\n",
        "Una vez realizado el entrenamiento, puede utilizar los datos codificados como datos fiables reducidos dimensionalmente, aplicándolos a cualquier problema donde la reducción dimensional parezca apropiada.\n",
        "\n",
        "\n",
        "<img src=\"https://ibm.box.com/shared/static/yt3xyon4g2jyw1w9qup1mvx7cgh28l64.png\">\n",
        "\n",
        "\n",
        "Esta imagen fue extraída del <a href=\"https://www.cs.toronto.edu/~hinton/science.pdf\"> artículo </a> de GE Hinton y RR Salakhutdinov, sobre la reducción bidimensional para 500 dígitos del MNIST, con PCA a la izquierda y autoencoder a la derecha. Podemos ver que el autoencoder nos proporcionó una mejor separación de datos."
      ]
    },
    {
      "cell_type": "markdown",
      "metadata": {
        "id": "sMuNY3aPtAAk"
      },
      "source": [
        "<hr>"
      ]
    },
    {
      "cell_type": "markdown",
      "metadata": {
        "id": "RFFewsUNtAAl"
      },
      "source": [
        "<a id=\"ref5\"></a>\n",
        "<h2>Entrenamiento: Loss function</h2>\n",
        "\n",
        "Un autoencoder utiliza la función de pérdida para entrenar adecuadamente la red. La función de pérdida calculará las diferencias entre nuestra producción y los resultados esperados. Después de eso, podemos minimizar este error con el descenso de gradiente. Hay más de un tipo de función de pérdida, depende del tipo de datos."
      ]
    },
    {
      "cell_type": "markdown",
      "metadata": {
        "id": "RLzBXt7vtAAm"
      },
      "source": [
        "<h3>Valores Binarios:</h3>\n",
        "$$l(f(x)) = - \\sum_{k} (x_k log(\\hat{x}_k) + (1 - x_k) \\log (1 - \\hat{x}_k) \\ )$$"
      ]
    },
    {
      "cell_type": "markdown",
      "metadata": {
        "id": "3gicteL1tAAn"
      },
      "source": [
        "Para valores binarios, podemos usar una ecuación basada en la suma de la entropía cruzada de Bernoulli.\n",
        "\n",
        "$ x_k $ es una de nuestras entradas y $\\hat{x}_k $ es la salida respectiva.\n",
        "\n",
        "Usamos esta función para que si $ x_k $ es igual a uno, queremos acercar $ \\hat{x}_k$ lo más cerca posible de uno. Lo mismo si $x_k$ es igual a cero.\n",
        "\n",
        "Si el valor es uno, solo necesitamos calcular la primera parte de la fórmula, es decir, $-x_klog(\\hat{x}_k)$. Lo cual resulta simplemente calcular $-log (\\hat{x}_k)$.\n",
        "\n",
        "Y si el valor es cero, necesitamos calcular solo la segunda parte, $(1 - x_k) \\log (1 - \\hat{x}_k) \\ )$ - que resulta ser $log (1 - \\hat{x}_k) $.\n",
        "\n"
      ]
    },
    {
      "cell_type": "markdown",
      "metadata": {
        "id": "0VAjvQVYtAAn"
      },
      "source": [
        "<h3>Real values:</h3>\n",
        "$$l(f(x)) = - \\frac{1}{2}\\sum_{k} (\\hat{x}_k- x_k \\ )^2$$"
      ]
    },
    {
      "cell_type": "markdown",
      "metadata": {
        "id": "XhuUPkCMtAAo"
      },
      "source": [
        "Como la función anterior se comportaría mal con entradas que no sean 0 o 1, podemos usar la suma de diferencias al cuadrado para nuestra función de pérdida. Si usa esta función de pérdida, es necesario que use una función de activación lineal para la capa de salida.\n",
        "\n",
        "Como en el ejemplo anterior, $ x_k $ es una de nuestras entradas y $\\hat{x}_k $ es la salida respectiva, y queremos que nuestra salida sea lo más similar posible a nuestra entrada."
      ]
    },
    {
      "cell_type": "markdown",
      "metadata": {
        "id": "4Q9Se8wztAAp"
      },
      "source": [
        "<h3>Loss Gradient:</h3>\n",
        "\n",
        "$$\\nabla_{\\hat{a}(x^{(t)})} \\ l( \\ f(x^{(t)}))  = \\hat{x}^{(t)} - x^{(t)} $$"
      ]
    },
    {
      "cell_type": "markdown",
      "metadata": {
        "id": "367k4gaKtAAp"
      },
      "source": [
        "Usamos el descenso del gradiente para alcanzar el mínimo local de nuestra función $l( \\ f(x^{(t)})$, dando pasos hacia el negativo del gradiente de la función en el punto actual.\n",
        "\n",
        "Nuestra función sobre el gradiente $(\\nabla_{\\hat{a}(x^{(t)})})$ de la pérdida de $l( \\ f(x^{(t)})$ en la preactivación de la capa de salida.\n",
        "\n",
        "En realidad, es una fórmula simple, se hace calculando la diferencia entre nuestra salida $\\hat{x}^{(t)}$ y nuestra entrada $x^{(t)}$.\n",
        "\n",
        "Entonces nuestra red propaga hacia atrás nuestro gradiente $\\nabla_{\\hat{a}(x^{(t)})} \\ l( \\ f(x^{(t)}))$ a través de la red usando <b>backpropagation</b>."
      ]
    },
    {
      "cell_type": "markdown",
      "metadata": {
        "id": "DcZZ21JRtAAq"
      },
      "source": [
        "<hr>"
      ]
    },
    {
      "cell_type": "markdown",
      "metadata": {
        "id": "2bEzMqUotAAr"
      },
      "source": [
        "<a id=\"ref6\"></a>\n",
        "<h2>Codigo</h2>\n",
        "\n",
        "Para esta parte, analizamos una gran cantidad de código Python 2.7.11. Vamos a utilizar el conjunto de datos MNIST para nuestro ejemplo. Puede encontrar mas detalle del código en <a href=\"https://github.com/aymericdamien\"> aquí </a>. "
      ]
    },
    {
      "cell_type": "markdown",
      "metadata": {
        "id": "lZd7czVAtAAt"
      },
      "source": [
        "Llamemos a nuestras librerías y hagamos que los datos MNIST estén disponibles para su uso."
      ]
    },
    {
      "cell_type": "code",
      "metadata": {
        "colab": {
          "base_uri": "https://localhost:8080/",
          "height": 888
        },
        "id": "w8DMKScFiYGc",
        "outputId": "07b26ac7-698e-421b-b4c2-49569f2bde1b"
      },
      "source": [
        "!pip uninstall -y tensorflow\n",
        "!pip install tensorflow-gpu==1.14.0"
      ],
      "execution_count": null,
      "outputs": [
        {
          "output_type": "stream",
          "name": "stdout",
          "text": [
            "Found existing installation: tensorflow 2.6.0\n",
            "Uninstalling tensorflow-2.6.0:\n",
            "  Successfully uninstalled tensorflow-2.6.0\n",
            "Collecting tensorflow-gpu==1.14.0\n",
            "  Downloading tensorflow_gpu-1.14.0-cp37-cp37m-manylinux1_x86_64.whl (377.1 MB)\n",
            "\u001b[K     |████████████████████████████████| 377.1 MB 7.5 kB/s \n",
            "\u001b[?25hRequirement already satisfied: six>=1.10.0 in /usr/local/lib/python3.7/dist-packages (from tensorflow-gpu==1.14.0) (1.15.0)\n",
            "Requirement already satisfied: grpcio>=1.8.6 in /usr/local/lib/python3.7/dist-packages (from tensorflow-gpu==1.14.0) (1.41.0)\n",
            "Requirement already satisfied: gast>=0.2.0 in /usr/local/lib/python3.7/dist-packages (from tensorflow-gpu==1.14.0) (0.4.0)\n",
            "Requirement already satisfied: wrapt>=1.11.1 in /usr/local/lib/python3.7/dist-packages (from tensorflow-gpu==1.14.0) (1.12.1)\n",
            "Requirement already satisfied: keras-preprocessing>=1.0.5 in /usr/local/lib/python3.7/dist-packages (from tensorflow-gpu==1.14.0) (1.1.2)\n",
            "Collecting keras-applications>=1.0.6\n",
            "  Downloading Keras_Applications-1.0.8-py3-none-any.whl (50 kB)\n",
            "\u001b[K     |████████████████████████████████| 50 kB 6.6 MB/s \n",
            "\u001b[?25hRequirement already satisfied: numpy<2.0,>=1.14.5 in /usr/local/lib/python3.7/dist-packages (from tensorflow-gpu==1.14.0) (1.19.5)\n",
            "Requirement already satisfied: astor>=0.6.0 in /usr/local/lib/python3.7/dist-packages (from tensorflow-gpu==1.14.0) (0.8.1)\n",
            "Requirement already satisfied: protobuf>=3.6.1 in /usr/local/lib/python3.7/dist-packages (from tensorflow-gpu==1.14.0) (3.17.3)\n",
            "Requirement already satisfied: absl-py>=0.7.0 in /usr/local/lib/python3.7/dist-packages (from tensorflow-gpu==1.14.0) (0.12.0)\n",
            "Collecting tensorboard<1.15.0,>=1.14.0\n",
            "  Downloading tensorboard-1.14.0-py3-none-any.whl (3.1 MB)\n",
            "\u001b[K     |████████████████████████████████| 3.1 MB 31.1 MB/s \n",
            "\u001b[?25hRequirement already satisfied: wheel>=0.26 in /usr/local/lib/python3.7/dist-packages (from tensorflow-gpu==1.14.0) (0.37.0)\n",
            "Collecting tensorflow-estimator<1.15.0rc0,>=1.14.0rc0\n",
            "  Downloading tensorflow_estimator-1.14.0-py2.py3-none-any.whl (488 kB)\n",
            "\u001b[K     |████████████████████████████████| 488 kB 61.6 MB/s \n",
            "\u001b[?25hRequirement already satisfied: termcolor>=1.1.0 in /usr/local/lib/python3.7/dist-packages (from tensorflow-gpu==1.14.0) (1.1.0)\n",
            "Requirement already satisfied: google-pasta>=0.1.6 in /usr/local/lib/python3.7/dist-packages (from tensorflow-gpu==1.14.0) (0.2.0)\n",
            "Requirement already satisfied: h5py in /usr/local/lib/python3.7/dist-packages (from keras-applications>=1.0.6->tensorflow-gpu==1.14.0) (3.1.0)\n",
            "Requirement already satisfied: markdown>=2.6.8 in /usr/local/lib/python3.7/dist-packages (from tensorboard<1.15.0,>=1.14.0->tensorflow-gpu==1.14.0) (3.3.4)\n",
            "Requirement already satisfied: setuptools>=41.0.0 in /usr/local/lib/python3.7/dist-packages (from tensorboard<1.15.0,>=1.14.0->tensorflow-gpu==1.14.0) (57.4.0)\n",
            "Requirement already satisfied: werkzeug>=0.11.15 in /usr/local/lib/python3.7/dist-packages (from tensorboard<1.15.0,>=1.14.0->tensorflow-gpu==1.14.0) (1.0.1)\n",
            "Requirement already satisfied: importlib-metadata in /usr/local/lib/python3.7/dist-packages (from markdown>=2.6.8->tensorboard<1.15.0,>=1.14.0->tensorflow-gpu==1.14.0) (4.8.1)\n",
            "Requirement already satisfied: cached-property in /usr/local/lib/python3.7/dist-packages (from h5py->keras-applications>=1.0.6->tensorflow-gpu==1.14.0) (1.5.2)\n",
            "Requirement already satisfied: typing-extensions>=3.6.4 in /usr/local/lib/python3.7/dist-packages (from importlib-metadata->markdown>=2.6.8->tensorboard<1.15.0,>=1.14.0->tensorflow-gpu==1.14.0) (3.7.4.3)\n",
            "Requirement already satisfied: zipp>=0.5 in /usr/local/lib/python3.7/dist-packages (from importlib-metadata->markdown>=2.6.8->tensorboard<1.15.0,>=1.14.0->tensorflow-gpu==1.14.0) (3.6.0)\n",
            "Installing collected packages: tensorflow-estimator, tensorboard, keras-applications, tensorflow-gpu\n",
            "  Attempting uninstall: tensorflow-estimator\n",
            "    Found existing installation: tensorflow-estimator 2.6.0\n",
            "    Uninstalling tensorflow-estimator-2.6.0:\n",
            "      Successfully uninstalled tensorflow-estimator-2.6.0\n",
            "  Attempting uninstall: tensorboard\n",
            "    Found existing installation: tensorboard 2.6.0\n",
            "    Uninstalling tensorboard-2.6.0:\n",
            "      Successfully uninstalled tensorboard-2.6.0\n",
            "Successfully installed keras-applications-1.0.8 tensorboard-1.14.0 tensorflow-estimator-1.14.0 tensorflow-gpu-1.14.0\n"
          ]
        },
        {
          "output_type": "display_data",
          "data": {
            "application/vnd.colab-display-data+json": {
              "pip_warning": {
                "packages": [
                  "tensorboard",
                  "tensorflow"
                ]
              }
            }
          },
          "metadata": {}
        }
      ]
    },
    {
      "cell_type": "code",
      "metadata": {
        "id": "iuP-XsCinnfZ",
        "colab": {
          "base_uri": "https://localhost:8080/"
        },
        "outputId": "d61ba80a-ffbe-4d92-fbb4-3e1d59030c8c"
      },
      "source": [
        "#!pip install tensorflow==1.12.0\n",
        "import tensorflow as tf\n",
        "print(tf.__version__)"
      ],
      "execution_count": null,
      "outputs": [
        {
          "output_type": "stream",
          "name": "stderr",
          "text": [
            "/usr/local/lib/python3.7/dist-packages/tensorflow/python/framework/dtypes.py:516: FutureWarning: Passing (type, 1) or '1type' as a synonym of type is deprecated; in a future version of numpy, it will be understood as (type, (1,)) / '(1,)type'.\n",
            "  _np_qint8 = np.dtype([(\"qint8\", np.int8, 1)])\n",
            "/usr/local/lib/python3.7/dist-packages/tensorflow/python/framework/dtypes.py:517: FutureWarning: Passing (type, 1) or '1type' as a synonym of type is deprecated; in a future version of numpy, it will be understood as (type, (1,)) / '(1,)type'.\n",
            "  _np_quint8 = np.dtype([(\"quint8\", np.uint8, 1)])\n",
            "/usr/local/lib/python3.7/dist-packages/tensorflow/python/framework/dtypes.py:518: FutureWarning: Passing (type, 1) or '1type' as a synonym of type is deprecated; in a future version of numpy, it will be understood as (type, (1,)) / '(1,)type'.\n",
            "  _np_qint16 = np.dtype([(\"qint16\", np.int16, 1)])\n",
            "/usr/local/lib/python3.7/dist-packages/tensorflow/python/framework/dtypes.py:519: FutureWarning: Passing (type, 1) or '1type' as a synonym of type is deprecated; in a future version of numpy, it will be understood as (type, (1,)) / '(1,)type'.\n",
            "  _np_quint16 = np.dtype([(\"quint16\", np.uint16, 1)])\n",
            "/usr/local/lib/python3.7/dist-packages/tensorflow/python/framework/dtypes.py:520: FutureWarning: Passing (type, 1) or '1type' as a synonym of type is deprecated; in a future version of numpy, it will be understood as (type, (1,)) / '(1,)type'.\n",
            "  _np_qint32 = np.dtype([(\"qint32\", np.int32, 1)])\n",
            "/usr/local/lib/python3.7/dist-packages/tensorflow/python/framework/dtypes.py:525: FutureWarning: Passing (type, 1) or '1type' as a synonym of type is deprecated; in a future version of numpy, it will be understood as (type, (1,)) / '(1,)type'.\n",
            "  np_resource = np.dtype([(\"resource\", np.ubyte, 1)])\n"
          ]
        },
        {
          "output_type": "stream",
          "name": "stdout",
          "text": [
            "1.14.0\n"
          ]
        },
        {
          "output_type": "stream",
          "name": "stderr",
          "text": [
            "/usr/local/lib/python3.7/dist-packages/tensorboard/compat/tensorflow_stub/dtypes.py:541: FutureWarning: Passing (type, 1) or '1type' as a synonym of type is deprecated; in a future version of numpy, it will be understood as (type, (1,)) / '(1,)type'.\n",
            "  _np_qint8 = np.dtype([(\"qint8\", np.int8, 1)])\n",
            "/usr/local/lib/python3.7/dist-packages/tensorboard/compat/tensorflow_stub/dtypes.py:542: FutureWarning: Passing (type, 1) or '1type' as a synonym of type is deprecated; in a future version of numpy, it will be understood as (type, (1,)) / '(1,)type'.\n",
            "  _np_quint8 = np.dtype([(\"quint8\", np.uint8, 1)])\n",
            "/usr/local/lib/python3.7/dist-packages/tensorboard/compat/tensorflow_stub/dtypes.py:543: FutureWarning: Passing (type, 1) or '1type' as a synonym of type is deprecated; in a future version of numpy, it will be understood as (type, (1,)) / '(1,)type'.\n",
            "  _np_qint16 = np.dtype([(\"qint16\", np.int16, 1)])\n",
            "/usr/local/lib/python3.7/dist-packages/tensorboard/compat/tensorflow_stub/dtypes.py:544: FutureWarning: Passing (type, 1) or '1type' as a synonym of type is deprecated; in a future version of numpy, it will be understood as (type, (1,)) / '(1,)type'.\n",
            "  _np_quint16 = np.dtype([(\"quint16\", np.uint16, 1)])\n",
            "/usr/local/lib/python3.7/dist-packages/tensorboard/compat/tensorflow_stub/dtypes.py:545: FutureWarning: Passing (type, 1) or '1type' as a synonym of type is deprecated; in a future version of numpy, it will be understood as (type, (1,)) / '(1,)type'.\n",
            "  _np_qint32 = np.dtype([(\"qint32\", np.int32, 1)])\n",
            "/usr/local/lib/python3.7/dist-packages/tensorboard/compat/tensorflow_stub/dtypes.py:550: FutureWarning: Passing (type, 1) or '1type' as a synonym of type is deprecated; in a future version of numpy, it will be understood as (type, (1,)) / '(1,)type'.\n",
            "  np_resource = np.dtype([(\"resource\", np.ubyte, 1)])\n"
          ]
        }
      ]
    },
    {
      "cell_type": "code",
      "metadata": {
        "id": "whWtSXIKtAAu",
        "colab": {
          "base_uri": "https://localhost:8080/"
        },
        "outputId": "bc32bfef-51e8-422b-bf45-910c16c6ad4a"
      },
      "source": [
        "#from __future__ import division, print_function, absolute_import\n",
        "\n",
        "import tensorflow as tf\n",
        "import numpy as np\n",
        "import matplotlib.pyplot as plt\n",
        "%matplotlib inline\n",
        "\n",
        "# Importando data MINST\n",
        "from tensorflow.examples.tutorials.mnist import input_data\n",
        "mnist = input_data.read_data_sets(\"/tmp/data/\", one_hot = True)"
      ],
      "execution_count": null,
      "outputs": [
        {
          "output_type": "stream",
          "name": "stdout",
          "text": [
            "WARNING:tensorflow:From <ipython-input-2-e3d14fd246d6>:10: read_data_sets (from tensorflow.contrib.learn.python.learn.datasets.mnist) is deprecated and will be removed in a future version.\n",
            "Instructions for updating:\n",
            "Please use alternatives such as official/mnist/dataset.py from tensorflow/models.\n",
            "WARNING:tensorflow:From /usr/local/lib/python3.7/dist-packages/tensorflow/contrib/learn/python/learn/datasets/mnist.py:260: maybe_download (from tensorflow.contrib.learn.python.learn.datasets.base) is deprecated and will be removed in a future version.\n",
            "Instructions for updating:\n",
            "Please write your own downloading logic.\n",
            "WARNING:tensorflow:From /usr/local/lib/python3.7/dist-packages/tensorflow/contrib/learn/python/learn/datasets/base.py:252: _internal_retry.<locals>.wrap.<locals>.wrapped_fn (from tensorflow.contrib.learn.python.learn.datasets.base) is deprecated and will be removed in a future version.\n",
            "Instructions for updating:\n",
            "Please use urllib or similar directly.\n",
            "Successfully downloaded train-images-idx3-ubyte.gz 9912422 bytes.\n",
            "WARNING:tensorflow:From /usr/local/lib/python3.7/dist-packages/tensorflow/contrib/learn/python/learn/datasets/mnist.py:262: extract_images (from tensorflow.contrib.learn.python.learn.datasets.mnist) is deprecated and will be removed in a future version.\n",
            "Instructions for updating:\n",
            "Please use tf.data to implement this functionality.\n",
            "Extracting /tmp/data/train-images-idx3-ubyte.gz\n",
            "Successfully downloaded train-labels-idx1-ubyte.gz 28881 bytes.\n",
            "WARNING:tensorflow:From /usr/local/lib/python3.7/dist-packages/tensorflow/contrib/learn/python/learn/datasets/mnist.py:267: extract_labels (from tensorflow.contrib.learn.python.learn.datasets.mnist) is deprecated and will be removed in a future version.\n",
            "Instructions for updating:\n",
            "Please use tf.data to implement this functionality.\n",
            "Extracting /tmp/data/train-labels-idx1-ubyte.gz\n",
            "WARNING:tensorflow:From /usr/local/lib/python3.7/dist-packages/tensorflow/contrib/learn/python/learn/datasets/mnist.py:110: dense_to_one_hot (from tensorflow.contrib.learn.python.learn.datasets.mnist) is deprecated and will be removed in a future version.\n",
            "Instructions for updating:\n",
            "Please use tf.one_hot on tensors.\n",
            "Successfully downloaded t10k-images-idx3-ubyte.gz 1648877 bytes.\n",
            "Extracting /tmp/data/t10k-images-idx3-ubyte.gz\n",
            "Successfully downloaded t10k-labels-idx1-ubyte.gz 4542 bytes.\n",
            "Extracting /tmp/data/t10k-labels-idx1-ubyte.gz\n",
            "WARNING:tensorflow:From /usr/local/lib/python3.7/dist-packages/tensorflow/contrib/learn/python/learn/datasets/mnist.py:290: DataSet.__init__ (from tensorflow.contrib.learn.python.learn.datasets.mnist) is deprecated and will be removed in a future version.\n",
            "Instructions for updating:\n",
            "Please use alternatives such as official/mnist/dataset.py from tensorflow/models.\n"
          ]
        }
      ]
    },
    {
      "cell_type": "markdown",
      "metadata": {
        "id": "xK3rgaQotAAy"
      },
      "source": [
        "Ahora, seteemos los parámetros que va a utilizar nuestra red."
      ]
    },
    {
      "cell_type": "code",
      "metadata": {
        "jupyter": {
          "outputs_hidden": true
        },
        "id": "1l_f78JVtAAy"
      },
      "source": [
        "learning_rate = 0.01\n",
        "training_epochs = 20\n",
        "batch_size = 256\n",
        "display_step = 1\n",
        "examples_to_show = 10\n",
        "\n",
        "# Parámetros de la red\n",
        "n_hidden_1 = 256 # 1ra capa num unidades\n",
        "n_hidden_2 = 128 # 2da capa num unidades\n",
        "n_input = 784 # MNIST input (img shape: 28*28)\n",
        "\n",
        "# tf Graph input (solo fotos)\n",
        "X = tf.placeholder(\"float\", [None, n_input])\n",
        "\n",
        "weights = {\n",
        "    'encoder_h1': tf.Variable(tf.random_normal([n_input, n_hidden_1])),\n",
        "    'encoder_h2': tf.Variable(tf.random_normal([n_hidden_1, n_hidden_2])),\n",
        "    'decoder_h1': tf.Variable(tf.random_normal([n_hidden_2, n_hidden_1])),\n",
        "    'decoder_h2': tf.Variable(tf.random_normal([n_hidden_1, n_input])),\n",
        "}\n",
        "biases = {\n",
        "    'encoder_b1': tf.Variable(tf.random_normal([n_hidden_1])),\n",
        "    'encoder_b2': tf.Variable(tf.random_normal([n_hidden_2])),\n",
        "    'decoder_b1': tf.Variable(tf.random_normal([n_hidden_1])),\n",
        "    'decoder_b2': tf.Variable(tf.random_normal([n_input])),\n",
        "}"
      ],
      "execution_count": null,
      "outputs": []
    },
    {
      "cell_type": "markdown",
      "metadata": {
        "id": "vx1HnLRqtAA1"
      },
      "source": [
        "Ahora necesitamos crear nuestro codificador. Para ello vamos a utilizar funciones sigmoides. Las funciones sigmoides ofrecen excelentes resultados con este tipo de red. Esto se debe a que tiene un buen derivado que se adapta bien a la retropropagación. Podemos crear nuestro codificador usando la función sigmoidal como esta:"
      ]
    },
    {
      "cell_type": "code",
      "metadata": {
        "jupyter": {
          "outputs_hidden": true
        },
        "id": "_h9dScnBtAA3"
      },
      "source": [
        "# Construyendo el encoder\n",
        "def encoder(x):\n",
        "    # Encoder primera capa con activation sigmoide #1\n",
        "    layer_1 = tf.nn.sigmoid(tf.add(tf.matmul(x, weights['encoder_h1']), biases['encoder_b1']))\n",
        "    # Encoder segunda capa con activation sigmoide #2\n",
        "    layer_2 = tf.nn.sigmoid(tf.add(tf.matmul(layer_1, weights['encoder_h2']), biases['encoder_b2']))\n",
        "    return layer_2"
      ],
      "execution_count": null,
      "outputs": []
    },
    {
      "cell_type": "markdown",
      "metadata": {
        "id": "Z_-Wrhg9tAA-"
      },
      "source": [
        "Y el decodificador:\n",
        "\n",
        "Puede ver que layer_1 en el codificador es layer_2 en el decodificador y viceversa."
      ]
    },
    {
      "cell_type": "code",
      "metadata": {
        "jupyter": {
          "outputs_hidden": true
        },
        "id": "GwUYrqy7tAA-"
      },
      "source": [
        "# Building the decoder\n",
        "def decoder(x):\n",
        "    # Decoder first layer with sigmoid activation #1\n",
        "    layer_1 = tf.nn.sigmoid(tf.add(tf.matmul(x, weights['decoder_h1']),biases['decoder_b1']))\n",
        "    # Decoder second layer with sigmoid activation #2\n",
        "    layer_2 = tf.nn.sigmoid(tf.add(tf.matmul(layer_1, weights['decoder_h2']), biases['decoder_b2']))\n",
        "    return layer_2"
      ],
      "execution_count": null,
      "outputs": []
    },
    {
      "cell_type": "markdown",
      "metadata": {
        "id": "zv_IXCektABB"
      },
      "source": [
        "Construyamos nuestro modelo.\n",
        "En la variable <code> cost </code> tenemos la función de pérdida y en la variable <code> optimizer </code> tenemos nuestro gradiente usado para el backpropagation."
      ]
    },
    {
      "cell_type": "code",
      "metadata": {
        "id": "TaKKjekBtABC",
        "colab": {
          "base_uri": "https://localhost:8080/"
        },
        "outputId": "efe91e13-f888-4ea9-fb4b-63f5bbc2e0e5"
      },
      "source": [
        "# Construir modelo\n",
        "encoder_op = encoder(X)\n",
        "decoder_op = decoder(encoder_op)\n",
        "\n",
        "# Imagenes Recontruidas\n",
        "y_pred = decoder_op\n",
        "# Targets (Labels) son el input de la data.\n",
        "y_true = X\n",
        "\n",
        "# Definir pérdida y optimizador, error cuasrático medio\n",
        "cost = tf.reduce_mean(tf.pow(y_true - y_pred, 2))\n",
        "optimizer = tf.train.RMSPropOptimizer(learning_rate).minimize(cost)\n",
        "\n",
        "# Inicializando las variables\n",
        "init = tf.global_variables_initializer()"
      ],
      "execution_count": null,
      "outputs": [
        {
          "output_type": "stream",
          "name": "stdout",
          "text": [
            "WARNING:tensorflow:From /usr/local/lib/python3.7/dist-packages/tensorflow/python/ops/math_grad.py:1205: add_dispatch_support.<locals>.wrapper (from tensorflow.python.ops.array_ops) is deprecated and will be removed in a future version.\n",
            "Instructions for updating:\n",
            "Use tf.where in 2.0, which has the same broadcast rule as np.where\n",
            "WARNING:tensorflow:From /usr/local/lib/python3.7/dist-packages/tensorflow/python/training/rmsprop.py:119: calling Ones.__init__ (from tensorflow.python.ops.init_ops) with dtype is deprecated and will be removed in a future version.\n",
            "Instructions for updating:\n",
            "Call initializer instance with the dtype argument instead of passing it to the constructor\n"
          ]
        }
      ]
    },
    {
      "cell_type": "markdown",
      "metadata": {
        "id": "QzHXQT6htABF"
      },
      "source": [
        "Para entrenar correremos 20 epochs."
      ]
    },
    {
      "cell_type": "code",
      "metadata": {
        "id": "bExUoVJitABG",
        "colab": {
          "base_uri": "https://localhost:8080/"
        },
        "outputId": "10927e47-31c1-406e-efe7-c8ebdc81aaba"
      },
      "source": [
        "# Lanzar el gráfico\n",
        "# Uso de InteractiveSession\n",
        "sess = tf.InteractiveSession()\n",
        "sess.run(init)\n",
        "\n",
        "total_batch = int(mnist.train.num_examples / batch_size)\n",
        "# Ciclo de entrenamiento\n",
        "for epoch in range(training_epochs):\n",
        "    # Loop sobre los batches\n",
        "    for i in range(total_batch):\n",
        "        batch_xs, batch_ys = mnist.train.next_batch(batch_size)\n",
        "        # Ejecutar optimización op (backprop) y costo op (para obtener el loss value)\n",
        "        _, c = sess.run([optimizer, cost], feed_dict={X: batch_xs})\n",
        "    # Printear logs en cada epoch\n",
        "    if epoch % display_step == 0:\n",
        "        print(\"Epoch:\", '%04d' % (epoch+1),\n",
        "              \"cost=\", \"{:.9f}\".format(c))\n",
        "\n",
        "print(\"Optimization terminada!\")"
      ],
      "execution_count": null,
      "outputs": [
        {
          "output_type": "stream",
          "name": "stderr",
          "text": [
            "/usr/local/lib/python3.7/dist-packages/tensorflow/python/client/session.py:1735: UserWarning: An interactive session is already active. This can cause out-of-memory errors in some cases. You must explicitly call `InteractiveSession.close()` to release resources held by the other session(s).\n",
            "  warnings.warn('An interactive session is already active. This can '\n"
          ]
        },
        {
          "output_type": "stream",
          "name": "stdout",
          "text": [
            "Epoch: 0001 cost= 0.204451159\n",
            "Epoch: 0002 cost= 0.164791748\n",
            "Epoch: 0003 cost= 0.153227404\n",
            "Epoch: 0004 cost= 0.146028191\n",
            "Epoch: 0005 cost= 0.136467472\n",
            "Epoch: 0006 cost= 0.134842932\n",
            "Epoch: 0007 cost= 0.130332232\n",
            "Epoch: 0008 cost= 0.126416057\n",
            "Epoch: 0009 cost= 0.125323206\n",
            "Epoch: 0010 cost= 0.123249792\n",
            "Epoch: 0011 cost= 0.116882540\n",
            "Epoch: 0012 cost= 0.113757364\n",
            "Epoch: 0013 cost= 0.114029534\n",
            "Epoch: 0014 cost= 0.108852327\n",
            "Epoch: 0015 cost= 0.107307881\n",
            "Epoch: 0016 cost= 0.106735036\n",
            "Epoch: 0017 cost= 0.107565314\n",
            "Epoch: 0018 cost= 0.103802912\n",
            "Epoch: 0019 cost= 0.103620626\n",
            "Epoch: 0020 cost= 0.104003131\n",
            "Optimization terminada!\n"
          ]
        }
      ]
    },
    {
      "cell_type": "markdown",
      "metadata": {
        "id": "OguhlAsHtABJ"
      },
      "source": [
        "Ahora, apliquemos codificador y decodificador para nuestras pruebas."
      ]
    },
    {
      "cell_type": "code",
      "metadata": {
        "id": "2O8BREdCtABJ"
      },
      "source": [
        "# Aplicando el encoder y decoder sobre la data test\n",
        "encode_decode = sess.run(\n",
        "    y_pred, feed_dict={X: mnist.test.images[:examples_to_show]})"
      ],
      "execution_count": null,
      "outputs": []
    },
    {
      "cell_type": "markdown",
      "metadata": {
        "id": "WRA1kkuqtABM"
      },
      "source": [
        "Visualicemos nuestros resultados"
      ]
    },
    {
      "cell_type": "code",
      "metadata": {
        "id": "lOsxmn1stABN",
        "colab": {
          "base_uri": "https://localhost:8080/",
          "height": 158
        },
        "outputId": "fd63feb8-085e-41c6-ced2-1fc9e8e5a725"
      },
      "source": [
        "# Comparar imágenes originales con sus reconstrucciones\n",
        "f, a = plt.subplots(2, 10, figsize=(10, 2))\n",
        "for i in range(examples_to_show):\n",
        "    a[0][i].imshow(np.reshape(mnist.test.images[i], (28, 28)))\n",
        "    a[1][i].imshow(np.reshape(encode_decode[i], (28, 28)))"
      ],
      "execution_count": null,
      "outputs": [
        {
          "output_type": "display_data",
          "data": {
            "image/png": "[encoded data removed]",
            "text/plain": [
              "<Figure size 720x144 with 20 Axes>"
            ]
          },
          "metadata": {
            "needs_background": "light"
          }
        }
      ]
    },
    {
      "cell_type": "markdown",
      "metadata": {
        "id": "hjTLTAqOtABP"
      },
      "source": [
        "\n",
        "Como puede ver, las reconstrucciones tuvieron éxito. Se puede ver que se agregó algo de ruido a la imagen."
      ]
    },
    {
      "cell_type": "markdown",
      "metadata": {
        "id": "o6pT39gytABQ"
      },
      "source": [
        "<hr>"
      ]
    },
    {
      "cell_type": "markdown",
      "metadata": {
        "id": "8GrxhWI6tABR"
      },
      "source": [
        "### Gracias por completar este laboratorio!"
      ]
    },
    {
      "cell_type": "markdown",
      "metadata": {
        "id": "zXolxax6tABS"
      },
      "source": [
        "### Referencias:\n",
        "- https://en.wikipedia.org/wiki/Autoencoder\n",
        "- http://ufldl.stanford.edu/tutorial/unsupervised/Autoencoders/\n",
        "- http://www.slideshare.net/billlangjun/simple-introduction-to-autoencoder\n",
        "- http://www.slideshare.net/danieljohnlewis/piotr-mirowski-review-autoencoders-deep-learning-ciuuk14\n",
        "- https://cs.stanford.edu/~quocle/tutorial2.pdf\n",
        "- https://gist.github.com/hussius/1534135a419bb0b957b9\n",
        "- http://www.deeplearningbook.org/contents/autoencoders.html\n",
        "- http://www.kdnuggets.com/2015/03/deep-learning-curse-dimensionality-autoencoders.html/\n",
        "- https://www.youtube.com/watch?v=xTU79Zs4XKY\n",
        "- http://www-personal.umich.edu/~jizhu/jizhu/wuke/Stone-AoS82.pdf"
      ]
    }
  ]
}
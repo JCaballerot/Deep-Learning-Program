{
  "nbformat": 4,
  "nbformat_minor": 0,
  "metadata": {
    "accelerator": "GPU",
    "colab": {
      "provenance": [],
      "machine_shape": "hm",
      "include_colab_link": true
    },
    "kernelspec": {
      "display_name": "Python 3",
      "name": "python3"
    }
  },
  "cells": [
    {
      "cell_type": "markdown",
      "metadata": {
        "id": "view-in-github",
        "colab_type": "text"
      },
      "source": [
        "<a href=\"https://colab.research.google.com/github/JCaballerot/Deep_learning_program/blob/main/Deep_learning_program/Modulo_III/Lab_Clasificaci%C3%B3n_de_Texto.ipynb\" target=\"_parent\"><img src=\"https://colab.research.google.com/assets/colab-badge.svg\" alt=\"Open In Colab\"/></a>"
      ]
    },
    {
      "cell_type": "markdown",
      "metadata": {
        "id": "9TnJztDZGw-n"
      },
      "source": [
        "\n",
        "\n",
        "<h1 align=\"center\"><font size=\"5\">CLASIFICACION DE TEXTO USANDO RNN</font></h1>"
      ]
    },
    {
      "cell_type": "markdown",
      "metadata": {
        "id": "lUWearf0Gw-p"
      },
      "source": [
        "Este laboratorio de clasificación de texto entrena una red neuronal recurrente en el gran conjunto de datos [IMDB large movie review dataset](http://ai.stanford.edu/~amaas/data/sentiment/) para el análisis de sentimientos.\n"
      ]
    },
    {
      "cell_type": "markdown",
      "metadata": {
        "id": "_2VQo4bajwUU"
      },
      "source": [
        "## Configuración"
      ]
    },
    {
      "cell_type": "code",
      "metadata": {
        "id": "z682XYsrjkY9"
      },
      "source": [
        "import numpy as np\n",
        "\n",
        "import tensorflow_datasets as tfds\n",
        "import tensorflow as tf\n",
        "from tensorflow import keras as keras\n",
        "\n",
        "\n",
        "tfds.disable_progress_bar()"
      ],
      "execution_count": null,
      "outputs": []
    },
    {
      "cell_type": "markdown",
      "metadata": {
        "id": "1rXHa-w9JZhb"
      },
      "source": [
        "Importe `matplotlib` y cree una función auxiliar para trazar gráficos:\n",
        "\n"
      ]
    },
    {
      "cell_type": "code",
      "metadata": {
        "id": "Mp1Z7P9pYRSK"
      },
      "source": [
        "import matplotlib.pyplot as plt\n",
        "\n",
        "def plot_graphs(history, metric):\n",
        "  plt.plot(history.history[metric])\n",
        "  plt.plot(history.history['val_'+metric], '')\n",
        "  plt.xlabel(\"Epochs\")\n",
        "  plt.ylabel(metric)\n",
        "  plt.legend([metric, 'val_'+metric])"
      ],
      "execution_count": null,
      "outputs": []
    },
    {
      "cell_type": "markdown",
      "metadata": {
        "id": "pRmMubr0jrE2"
      },
      "source": [
        "## Configurar entrada\n",
        "\n",
        "El conjunto de datos de reseñas de películas grandes de IMDB es un conjunto de datos de *clasificación binaria*: todos los reviews tienen un sentimiento *positivo* o *negativo*.\n",
        "\n",
        "Descargue el conjunto de datos usando [TFDS](https://www.tensorflow.org/datasets). Consulte [loading text tutorial](https://www.tensorflow.org/tutorials/load_data/) para obtener detalles sobre cómo cargar este tipo de datos manualmente.\n",
        "\n"
      ]
    },
    {
      "cell_type": "code",
      "metadata": {
        "id": "SHRwRoP2nVHX"
      },
      "source": [
        "dataset, info = tfds.load('imdb_reviews', \n",
        "                          with_info = True,\n",
        "                          as_supervised = True)\n",
        "\n",
        "train_dataset, test_dataset = dataset['train'], dataset['test']\n"
      ],
      "execution_count": null,
      "outputs": []
    },
    {
      "cell_type": "markdown",
      "metadata": {
        "id": "nWA4c2ir7g6p"
      },
      "source": [
        "Inicialmente, esto devuelve un conjunto de datos de (texto, pares de etiquetas):"
      ]
    },
    {
      "cell_type": "code",
      "metadata": {
        "colab": {
          "base_uri": "https://localhost:8080/"
        },
        "id": "vd4_BGKyurao",
        "outputId": "52f65482-498f-4cd1-d693-afde1baae76b"
      },
      "source": [
        "for example, label in train_dataset.take(1):\n",
        "  print('text: ', example.numpy())\n",
        "  print('label: ', label.numpy())"
      ],
      "execution_count": null,
      "outputs": [
        {
          "name": "stdout",
          "output_type": "stream",
          "text": [
            "text:  b\"This was an absolutely terrible movie. Don't be lured in by Christopher Walken or Michael Ironside. Both are great actors, but this must simply be their worst role in history. Even their great acting could not redeem this movie's ridiculous storyline. This movie is an early nineties US propaganda piece. The most pathetic scenes were those when the Columbian rebels were making their cases for revolutions. Maria Conchita Alonso appeared phony, and her pseudo-love affair with Walken was nothing but a pathetic emotional plug in a movie that was devoid of any real meaning. I am disappointed that there are movies like this, ruining actor's like Christopher Walken's good name. I could barely sit through it.\"\n",
            "label:  0\n"
          ]
        }
      ]
    },
    {
      "cell_type": "code",
      "metadata": {
        "colab": {
          "base_uri": "https://localhost:8080/"
        },
        "id": "GkAmpu-0ujTg",
        "outputId": "6df7c5fb-2bc4-451f-9868-7061bf862a1a"
      },
      "source": [
        "df = tfds.as_dataframe(train_dataset, tfds.builder('imdb_reviews').info)\n",
        "df.shape"
      ],
      "execution_count": null,
      "outputs": [
        {
          "data": {
            "text/plain": [
              "(25000, 2)"
            ]
          },
          "execution_count": 5,
          "metadata": {},
          "output_type": "execute_result"
        }
      ]
    },
    {
      "cell_type": "code",
      "metadata": {
        "colab": {
          "background_save": true
        },
        "id": "yT2I5fKHy6pS"
      },
      "source": [
        "df.head(5)"
      ],
      "execution_count": null,
      "outputs": []
    },
    {
      "cell_type": "markdown",
      "metadata": {
        "id": "z2qVJzcEluH_"
      },
      "source": [
        "\n",
        "A continuación, reordenamos los datos para el train y creamos batch de estos pares `(text, label)`:\n",
        "\n"
      ]
    },
    {
      "cell_type": "code",
      "metadata": {
        "id": "dDsCaZCDYZgm"
      },
      "source": [
        "BUFFER_SIZE = 10000\n",
        "BATCH_SIZE = 64"
      ],
      "execution_count": null,
      "outputs": []
    },
    {
      "cell_type": "markdown",
      "metadata": {
        "id": "qRamdfenZYh3"
      },
      "source": [
        "## Precarga\n",
        "\n",
        "La captación previa se superpone al procesamiento previo y la ejecución del modelo de un paso de formación. Mientras el modelo ejecuta el paso de entrenamiento s , la canalización de entrada lee los datos del paso s+1 . Al hacerlo, se reduce el tiempo de paso al máximo (en lugar de la suma) del entrenamiento y el tiempo que se tarda en extraer los datos.\n",
        "\n",
        "<>\n",
        "\n",
        "La API `tf.data` proporciona la transformación `tf.data.Dataset.prefetch`. Se puede utilizar para desacoplar el momento en que se producen los datos del momento en que se consumen los datos. En particular, la transformación utiliza un subproceso en segundo plano y un búfer interno para obtener elementos del conjunto de datos de entrada antes de que se soliciten. El número de elementos para captar previamente debe ser igual (o posiblemente mayor) al número de lotes consumidos por un solo paso de entrenamiento. Puede ajustar manualmente este valor o establecerlo en `tf.data.AUTOTUNE`, lo que solicitará al tiempo de ejecución de tf.data que ajuste el valor dinámicamente durante el tiempo de ejecución.\n"
      ]
    },
    {
      "cell_type": "code",
      "metadata": {
        "id": "VznrltNOnUc5"
      },
      "source": [
        "train_dataset = train_dataset.shuffle(BUFFER_SIZE).batch(BATCH_SIZE).prefetch(tf.data.AUTOTUNE)\n",
        "test_dataset = test_dataset.batch(BATCH_SIZE).prefetch(tf.data.AUTOTUNE)"
      ],
      "execution_count": null,
      "outputs": []
    },
    {
      "cell_type": "code",
      "metadata": {
        "id": "jqkvdcFv41wC",
        "colab": {
          "base_uri": "https://localhost:8080/"
        },
        "outputId": "a8f030d6-87ed-488d-e5bc-f54af75816b5"
      },
      "source": [
        "for example, label in train_dataset.take(1):\n",
        "  print('texts: ', example.numpy()[:3])\n",
        "  print()\n",
        "  print('labels: ', label.numpy()[:3])"
      ],
      "execution_count": null,
      "outputs": [
        {
          "output_type": "stream",
          "name": "stdout",
          "text": [
            "texts:  [b'About two hundred members of a Cleveland, Ohio USA film society, named Cinematheque, gathered on August 19, 2000 to view a pristine Cinemascope print of Michelangelo Antonioni\\'s 1970 film, \"Zabriskie Point.\" Cinematheque Director John Ewing, who does a superlative job of obtaining the finest prints for his series, shared with the audience beforehand that this print was specially flown over from Italy for this one showing only.<br /><br />The audience was held spellbound as the film unfolded its artisty on the huge panoramic screen. Watching this superb print, shown the way Antonioni intended, made one aware that this is indeed a modern art work. It was all the more fitting that the series is housed in the Cleveland Insititue of Art in University Circle. <br /><br />Antonioni\\'s compositions are created for the Cinemascope landscape. His beautiful balancing of images, striking use of colors, sweeping choreographic movements, all are the work of a genuine artist, using the screen as his canvas. <br /><br />At last the audience could understand \"Zabriskie Point.\" As its narrative unfolded, it became obvious that this work is not about story per se, but rather an artist\\'s impressionistic rendering of fleeting images of his subject. The setting of some of the more turbulent activities of the sixties provides only a dramatic motor for the artist\\'s sweeping collage. <br /><br />Antonioni is not bound by conventional narrative standards, and can pause at any point to creatively embroider an event with grandiose embellishments. The audience willingly went with the flow of his remarkable imagination, as his huge images on the massive canvas held one in rapt attention. While the audience may have been only tangentially involved in character relationships, it realized the theme here is human aleination, the director\\'s recurring theme. <br /><br />It was also realized that no print any smaller or of lesser quality than this original one in Cinemascope can do justice to this particular rendering. The audience was therefore all the more appreciative of viewing \"Zabriskie Point\" in its original, breathtaking format, and broke into thunderous applause at the end.'\n",
            " b'The anime that got me hooked on anime...<br /><br />Set in the year 2010 (hey, that\\'s not too far away now!) the Earth is now poison gas wasteland of pollution and violence. Seeing as how crimes are happening ever 30 seconds are so and committed by thieves who have the fire power of third world terrorists, the government of the fictional New Port City form the Tank Police to deal with the problem - cops with tanks! Oh the insanity!<br /><br />The \"heroes\" of this series include the new recruit Leona Ozaki, a red haired Japanese woman (yeah I know, they never match their distinctly Japanese names with a Japanese appearance) who has just been drafted into the Tank Police and is quickly partnered with blond, blue eyed nice guy Al. Leona is new at using tanks and unfortunately she destroys the favorite tank of Tank Police Commander Charles Britain (also known as \"Brenten\"), a big guy who looks like Tom Selleck on steroids and sporting a pair of nifty sunglasses, a big revolver and a bad temper. Britain didn\\'t like having Leona join the Tank Police in the first place and her wrecking his Tiger Special (a giant green monster tank) doesn\\'t exactly endear her to him, nor is he fond of her taking the remains of his giant tank and using it to build a mini-tank that she nicknames Bonaparte and he is soon pushing to have her transferred to child welfare \"where the boys are more your size\" as he puts it. There\\'s also Specs, the bifocal genius, Bible quoting/God fearing Chaplain, purple MO-hawked Mohican, and the pot bellied Chief, who\\'s right on the edge thanks to the Mayor always yelling at him about the Tank Police antics. Seeing as how the tank cops often destroy half the city while chasing the bad guys and use extreme violence to capture them, they\\'re not very well liked by the people.<br /><br />The \"villains\" are a cyborg named Buaku who\\'s got a mysterious past that\\'s connected with a project known as \"Green Peace\", his gang and his two sexy cat cyborg sidekicks Anna & Uni Puma. In the first installment these guys are being paid to steal urine samples from a hospital treating people who haven\\'t been infected by the poison gas clouds and in the 2nd they\\'re hired to steal a painting that is of a naked Buaku. The story, however, was uncompleted in the anime and was finished up in a cult comic (\"Manga\") book that\\'s very hard to find.<br /><br />All sorts of chaos and mayhem ensue in this black comic venture that examines how far people want their police to go in order to catch criminals and what happens when the fine line between good guys and bad guys starts to get blurred. This is the kind of thing that if you were going to make a movie of it, you\\'d better go get Quentin Tarantino. Uneven in places but still a lot of fun.<br /><br />Followed by \"New Dominion: Tank Police\".'\n",
            " b\"I really wanted to like this movie - the location shots were mostly filmed in Pittsburgh and the trailer had some wonderful photography. But, even for a filmed cartoon, it was a really badly-made movie. The continuity and pacing were both simply awful. The best bits in the movie are under the ending credits, so it's (almost) worth sticking it out to the end (though, oddly, it does pick up a little over the last half hour or so).<br /><br />When the best performance in a movie is by Andy Dick, you know there's got to be a problem...\"]\n",
            "\n",
            "labels:  [1 1 0]\n"
          ]
        }
      ]
    },
    {
      "cell_type": "markdown",
      "metadata": {
        "id": "s5eWCo88voPY"
      },
      "source": [
        "## Crea el codificador de texto"
      ]
    },
    {
      "cell_type": "markdown",
      "metadata": {
        "id": "TFevcItw15P_"
      },
      "source": [
        "El texto sin formato cargado por `tfds` debe procesarse antes de que pueda usarse en un modelo. La forma más sencilla de procesar texto para el entrenamiento es utilizar la capa `experimental.preprocessing.TextVectorization`. Esta capa tiene muchas capacidades, pero en este laboratorio nos enfocaremos en el uso principal.\n",
        "\n",
        "Cree la capa y pase el texto del conjunto de datos al método `.adapt` la capa:"
      ]
    },
    {
      "cell_type": "code",
      "metadata": {
        "id": "uC25Lu1Yvuqy"
      },
      "source": [
        "VOCAB_SIZE = 1000\n",
        "\n",
        "encoder = tf.keras.layers.experimental.preprocessing.TextVectorization(max_tokens = VOCAB_SIZE)\n",
        "\n",
        "encoder.adapt(train_dataset.map(lambda text, label: text))\n"
      ],
      "execution_count": null,
      "outputs": []
    },
    {
      "cell_type": "markdown",
      "metadata": {
        "id": "IuQzVBbe3Ldu"
      },
      "source": [
        "El método `.adapt` establece el vocabulario de la capa. Aquí están los primeros 20 tokens. Después del padding y los tokens desconocidos, se ordenan por frecuencia:"
      ]
    },
    {
      "cell_type": "code",
      "metadata": {
        "id": "tBoyjjWg0Ac9",
        "colab": {
          "base_uri": "https://localhost:8080/"
        },
        "outputId": "726a1ed0-2e76-4df5-d5e5-d1ee6c0bc367"
      },
      "source": [
        "vocab = np.array(encoder.get_vocabulary())\n",
        "vocab[:20]"
      ],
      "execution_count": null,
      "outputs": [
        {
          "output_type": "execute_result",
          "data": {
            "text/plain": [
              "array(['', '[UNK]', 'the', 'and', 'a', 'of', 'to', 'is', 'in', 'it', 'i',\n",
              "       'this', 'that', 'br', 'was', 'as', 'for', 'with', 'movie', 'but'],\n",
              "      dtype='<U14')"
            ]
          },
          "metadata": {},
          "execution_count": 12
        }
      ]
    },
    {
      "cell_type": "markdown",
      "metadata": {
        "id": "mjId5pua3jHQ"
      },
      "source": [
        "\n",
        "Una vez que se establece el vocabulario, la capa puede codificar texto en índices. Los tensores de los índices se rellenan con 0 en la secuencia más larga del lote (a menos que establezca un `output_sequence_length` fijo):"
      ]
    },
    {
      "cell_type": "code",
      "metadata": {
        "id": "RGc7C9WiwRWs",
        "colab": {
          "base_uri": "https://localhost:8080/"
        },
        "outputId": "9aaac50c-bc91-4b90-81b9-71ef3bdbb9f8"
      },
      "source": [
        "encoded_example = encoder(example)[:3].numpy()\n",
        "encoded_example"
      ],
      "execution_count": null,
      "outputs": [
        {
          "output_type": "execute_result",
          "data": {
            "text/plain": [
              "array([[ 43, 105,   1, ...,   0,   0,   0],\n",
              "       [  2,   1,  12, ...,   0,   0,   0],\n",
              "       [ 10,  63, 453, ...,   0,   0,   0]])"
            ]
          },
          "metadata": {},
          "execution_count": 13
        }
      ]
    },
    {
      "cell_type": "markdown",
      "metadata": {
        "id": "F5cjz0bS39IN"
      },
      "source": [
        "\n",
        "Con la configuración predeterminada, el proceso no es completamente reversible. Hay tres razones principales para ello:\n",
        "\n",
        "1. El valor predeterminado para `preprocessing.TextVectorization`  `standardize` es `\"lower_and_strip_punctuation\"`.\n",
        "\n",
        "2. El tamaño limitado del vocabulario y la falta de respaldo basado en caracteres dan como resultado algunos tokens desconocidos.\n"
      ]
    },
    {
      "cell_type": "code",
      "metadata": {
        "id": "N_tD0QY5wXaK",
        "colab": {
          "base_uri": "https://localhost:8080/"
        },
        "outputId": "e7705729-8522-485c-f4a2-b6afc535bdfe"
      },
      "source": [
        "for n in range(3):\n",
        "  print(\"Original: \", example[n].numpy())\n",
        "  print(\"Round-trip: \", \" \".join(vocab[encoded_example[n]]))\n",
        "  print()"
      ],
      "execution_count": null,
      "outputs": [
        {
          "output_type": "stream",
          "name": "stdout",
          "text": [
            "Original:  b'About two hundred members of a Cleveland, Ohio USA film society, named Cinematheque, gathered on August 19, 2000 to view a pristine Cinemascope print of Michelangelo Antonioni\\'s 1970 film, \"Zabriskie Point.\" Cinematheque Director John Ewing, who does a superlative job of obtaining the finest prints for his series, shared with the audience beforehand that this print was specially flown over from Italy for this one showing only.<br /><br />The audience was held spellbound as the film unfolded its artisty on the huge panoramic screen. Watching this superb print, shown the way Antonioni intended, made one aware that this is indeed a modern art work. It was all the more fitting that the series is housed in the Cleveland Insititue of Art in University Circle. <br /><br />Antonioni\\'s compositions are created for the Cinemascope landscape. His beautiful balancing of images, striking use of colors, sweeping choreographic movements, all are the work of a genuine artist, using the screen as his canvas. <br /><br />At last the audience could understand \"Zabriskie Point.\" As its narrative unfolded, it became obvious that this work is not about story per se, but rather an artist\\'s impressionistic rendering of fleeting images of his subject. The setting of some of the more turbulent activities of the sixties provides only a dramatic motor for the artist\\'s sweeping collage. <br /><br />Antonioni is not bound by conventional narrative standards, and can pause at any point to creatively embroider an event with grandiose embellishments. The audience willingly went with the flow of his remarkable imagination, as his huge images on the massive canvas held one in rapt attention. While the audience may have been only tangentially involved in character relationships, it realized the theme here is human aleination, the director\\'s recurring theme. <br /><br />It was also realized that no print any smaller or of lesser quality than this original one in Cinemascope can do justice to this particular rendering. The audience was therefore all the more appreciative of viewing \"Zabriskie Point\" in its original, breathtaking format, and broke into thunderous applause at the end.'\n",
            "Round-trip:  about two [UNK] [UNK] of a [UNK] [UNK] [UNK] film society named [UNK] [UNK] on [UNK] [UNK] [UNK] to view a [UNK] [UNK] [UNK] of [UNK] [UNK] [UNK] film [UNK] point [UNK] director john [UNK] who does a [UNK] job of [UNK] the [UNK] [UNK] for his series [UNK] with the audience [UNK] that this [UNK] was [UNK] [UNK] over from [UNK] for this one showing [UNK] br the audience was [UNK] [UNK] as the film [UNK] its [UNK] on the huge [UNK] screen watching this superb [UNK] shown the way [UNK] [UNK] made one [UNK] that this is indeed a modern art work it was all the more [UNK] that the series is [UNK] in the [UNK] [UNK] of art in [UNK] [UNK] br br [UNK] [UNK] are [UNK] for the [UNK] [UNK] his beautiful [UNK] of [UNK] [UNK] use of [UNK] [UNK] [UNK] [UNK] all are the work of a [UNK] [UNK] using the screen as his [UNK] br br at last the audience could understand [UNK] point as its [UNK] [UNK] it became obvious that this work is not about story [UNK] [UNK] but rather an [UNK] [UNK] [UNK] of [UNK] [UNK] of his subject the setting of some of the more [UNK] [UNK] of the [UNK] [UNK] only a dramatic [UNK] for the [UNK] [UNK] [UNK] br br [UNK] is not [UNK] by [UNK] [UNK] [UNK] and can [UNK] at any point to [UNK] [UNK] an [UNK] with [UNK] [UNK] the audience [UNK] went with the [UNK] of his [UNK] [UNK] as his huge [UNK] on the [UNK] [UNK] [UNK] one in [UNK] attention while the audience may have been only [UNK] involved in character [UNK] it [UNK] the theme here is human [UNK] the directors [UNK] theme br br it was also [UNK] that no [UNK] any [UNK] or of [UNK] quality than this original one in [UNK] can do [UNK] to this particular [UNK] the audience was [UNK] all the more [UNK] of viewing [UNK] point in its original [UNK] [UNK] and [UNK] into [UNK] [UNK] at the end                                                                                                                                                                                                                                                                                                                                                                                                     \n",
            "\n",
            "Original:  b'The anime that got me hooked on anime...<br /><br />Set in the year 2010 (hey, that\\'s not too far away now!) the Earth is now poison gas wasteland of pollution and violence. Seeing as how crimes are happening ever 30 seconds are so and committed by thieves who have the fire power of third world terrorists, the government of the fictional New Port City form the Tank Police to deal with the problem - cops with tanks! Oh the insanity!<br /><br />The \"heroes\" of this series include the new recruit Leona Ozaki, a red haired Japanese woman (yeah I know, they never match their distinctly Japanese names with a Japanese appearance) who has just been drafted into the Tank Police and is quickly partnered with blond, blue eyed nice guy Al. Leona is new at using tanks and unfortunately she destroys the favorite tank of Tank Police Commander Charles Britain (also known as \"Brenten\"), a big guy who looks like Tom Selleck on steroids and sporting a pair of nifty sunglasses, a big revolver and a bad temper. Britain didn\\'t like having Leona join the Tank Police in the first place and her wrecking his Tiger Special (a giant green monster tank) doesn\\'t exactly endear her to him, nor is he fond of her taking the remains of his giant tank and using it to build a mini-tank that she nicknames Bonaparte and he is soon pushing to have her transferred to child welfare \"where the boys are more your size\" as he puts it. There\\'s also Specs, the bifocal genius, Bible quoting/God fearing Chaplain, purple MO-hawked Mohican, and the pot bellied Chief, who\\'s right on the edge thanks to the Mayor always yelling at him about the Tank Police antics. Seeing as how the tank cops often destroy half the city while chasing the bad guys and use extreme violence to capture them, they\\'re not very well liked by the people.<br /><br />The \"villains\" are a cyborg named Buaku who\\'s got a mysterious past that\\'s connected with a project known as \"Green Peace\", his gang and his two sexy cat cyborg sidekicks Anna & Uni Puma. In the first installment these guys are being paid to steal urine samples from a hospital treating people who haven\\'t been infected by the poison gas clouds and in the 2nd they\\'re hired to steal a painting that is of a naked Buaku. The story, however, was uncompleted in the anime and was finished up in a cult comic (\"Manga\") book that\\'s very hard to find.<br /><br />All sorts of chaos and mayhem ensue in this black comic venture that examines how far people want their police to go in order to catch criminals and what happens when the fine line between good guys and bad guys starts to get blurred. This is the kind of thing that if you were going to make a movie of it, you\\'d better go get Quentin Tarantino. Uneven in places but still a lot of fun.<br /><br />Followed by \"New Dominion: Tank Police\".'\n",
            "Round-trip:  the [UNK] that got me [UNK] on [UNK] br set in the year [UNK] [UNK] thats not too far away now the earth is now [UNK] [UNK] [UNK] of [UNK] and violence seeing as how [UNK] are [UNK] ever [UNK] [UNK] are so and [UNK] by [UNK] who have the fire power of third world [UNK] the [UNK] of the [UNK] new [UNK] city form the [UNK] police to deal with the problem [UNK] with [UNK] oh the [UNK] br the [UNK] of this series [UNK] the new [UNK] [UNK] [UNK] a red [UNK] japanese woman [UNK] i know they never [UNK] their [UNK] japanese [UNK] with a japanese [UNK] who has just been [UNK] into the [UNK] police and is quickly [UNK] with [UNK] [UNK] [UNK] nice guy [UNK] [UNK] is new at using [UNK] and unfortunately she [UNK] the favorite [UNK] of [UNK] police [UNK] [UNK] [UNK] also known as [UNK] a big guy who looks like tom [UNK] on [UNK] and [UNK] a [UNK] of [UNK] [UNK] a big [UNK] and a bad [UNK] [UNK] didnt like having [UNK] [UNK] the [UNK] police in the first place and her [UNK] his [UNK] special a [UNK] [UNK] monster [UNK] doesnt exactly [UNK] her to him nor is he [UNK] of her taking the [UNK] of his [UNK] [UNK] and using it to [UNK] a [UNK] that she [UNK] [UNK] and he is soon [UNK] to have her [UNK] to child [UNK] where the boys are more your [UNK] as he [UNK] it theres also [UNK] the [UNK] [UNK] [UNK] [UNK] [UNK] [UNK] [UNK] [UNK] [UNK] and the [UNK] [UNK] [UNK] whos right on the [UNK] [UNK] to the [UNK] always [UNK] at him about the [UNK] police [UNK] seeing as how the [UNK] [UNK] often [UNK] half the city while [UNK] the bad guys and use [UNK] violence to [UNK] them theyre not very well liked by the [UNK] br the [UNK] are a [UNK] named [UNK] whos got a [UNK] past thats [UNK] with a [UNK] known as [UNK] [UNK] his [UNK] and his two [UNK] [UNK] [UNK] [UNK] [UNK] [UNK] [UNK] in the first [UNK] these guys are being [UNK] to [UNK] [UNK] [UNK] from a [UNK] [UNK] people who havent been [UNK] by the [UNK] [UNK] [UNK] and in the [UNK] theyre [UNK] to [UNK] a [UNK] that is of a [UNK] [UNK] the story however was [UNK] in the [UNK] and was [UNK] up in a [UNK] comic [UNK] book thats very hard to [UNK] br all [UNK] of [UNK] and [UNK] [UNK] in this black comic [UNK] that [UNK] how far people want their police to go in order to [UNK] [UNK] and what happens when the fine line between good guys and bad guys starts to get [UNK] this is the kind of thing that if you were going to make a movie of it [UNK] better go get [UNK] [UNK] [UNK] in [UNK] but still a lot of [UNK] br [UNK] by new [UNK] [UNK] police                                                                                                                                                                                                                                     \n",
            "\n",
            "Original:  b\"I really wanted to like this movie - the location shots were mostly filmed in Pittsburgh and the trailer had some wonderful photography. But, even for a filmed cartoon, it was a really badly-made movie. The continuity and pacing were both simply awful. The best bits in the movie are under the ending credits, so it's (almost) worth sticking it out to the end (though, oddly, it does pick up a little over the last half hour or so).<br /><br />When the best performance in a movie is by Andy Dick, you know there's got to be a problem...\"\n",
            "Round-trip:  i really wanted to like this movie the [UNK] shots were mostly filmed in [UNK] and the [UNK] had some wonderful [UNK] but even for a filmed [UNK] it was a really [UNK] movie the [UNK] and [UNK] were both simply awful the best [UNK] in the movie are under the ending credits so its almost worth [UNK] it out to the end though [UNK] it does [UNK] up a little over the last half hour or [UNK] br when the best performance in a movie is by [UNK] [UNK] you know theres got to be a problem                                                                                                                                                                                                                                                                                                                                                                                                                                                                                                                                                                                                                                                            \n",
            "\n"
          ]
        }
      ]
    },
    {
      "cell_type": "markdown",
      "metadata": {
        "id": "bjUqGVBxGw-t"
      },
      "source": [
        "## Desarrollar el modelo"
      ]
    },
    {
      "cell_type": "markdown",
      "metadata": {
        "id": "W7zsmInBOCPO"
      },
      "source": [
        "![A drawing of the information flow in the model](https://github.com/tensorflow/text/blob/master/docs/tutorials/images/bidirectional.png?raw=1)"
      ]
    },
    {
      "cell_type": "markdown",
      "metadata": {
        "id": "bgs6nnSTGw-t"
      },
      "source": [
        "Arriba hay un diagrama del modelo.\n",
        "\n",
        "1. Este modelo se puede construir como `tf.keras.Sequential`.\n",
        "\n",
        "2. La primera capa es el `encoder`, que convierte el texto en una secuencia de índices de tokens.\n",
        "\n",
        "3. Después del encoder hay una capa de embedding. Una capa de embedding almacena un vector por palabra. Cuando se llama, convierte las secuencias de índices de palabras en secuencias de vectores. Estos vectores se pueden entrenar. Después del entrenamiento (con suficientes datos), las palabras con significados similares a menudo tienen vectores similares.\n",
        "Este index-lookup es mucho más eficiente que la operación equivalente de pasar un vector one-hot encoded a través de una capa `tf.keras.layers.Dense`.\n",
        "\n",
        "\n",
        "4. Una red neuronal recurrente (RNN) procesa la entrada de secuencia iterando a través de los elementos. Los RNN pasan las salidas de un timestep a su entrada en el siguiente timestep.\n",
        "`tf.keras.layers.Bidirectional` también se puede utilizar con una capa RNN. Esto propaga la entrada hacia adelante y hacia atrás a través de la capa RNN y luego concatena la salida final.\n",
        "  *   La principal ventaja de un RNN bidireccional es que la señal desde el \n",
        "  principio de la entrada no necesita procesarse hasta el final en cada timestep para afectar la salida.\n",
        "  *   La principal desventaja de un RNN bidireccional es que no puede transmitir predicciones de manera eficiente a medida que se agregan palabras al final.\n",
        "\n",
        "5. Una vez que el RNN ha convertido la secuencia en un solo vector, las dos `layers.Dense` realizan un procesamiento final y convierten esta representación vectorial en un solo logit como resultado de la clasificación.\n",
        "\n"
      ]
    },
    {
      "cell_type": "markdown",
      "metadata": {
        "id": "V4fodCI7soQi"
      },
      "source": [
        "El código para implementar esto es el siguiente:"
      ]
    },
    {
      "cell_type": "code",
      "metadata": {
        "id": "AyYUmm0Frnld",
        "colab": {
          "base_uri": "https://localhost:8080/"
        },
        "outputId": "65deacbb-2cdb-4765-c2c9-c889b9437679"
      },
      "source": [
        "# Create a MirroredStrategy.\n",
        "strategy = tf.distribute.MirroredStrategy()\n",
        "print('Number of devices: {}'.format(strategy.num_replicas_in_sync))"
      ],
      "execution_count": null,
      "outputs": [
        {
          "output_type": "stream",
          "name": "stdout",
          "text": [
            "INFO:tensorflow:Using MirroredStrategy with devices ('/job:localhost/replica:0/task:0/device:GPU:0',)\n"
          ]
        },
        {
          "output_type": "stream",
          "name": "stderr",
          "text": [
            "INFO:tensorflow:Using MirroredStrategy with devices ('/job:localhost/replica:0/task:0/device:GPU:0',)\n"
          ]
        },
        {
          "output_type": "stream",
          "name": "stdout",
          "text": [
            "Number of devices: 1\n"
          ]
        }
      ]
    },
    {
      "cell_type": "code",
      "metadata": {
        "id": "0-Izj4q1hdf2"
      },
      "source": [
        "# model Building\n",
        "\n",
        "with strategy.scope():\n",
        "  model = keras.models.Sequential()\n",
        "  #masking maneja las longitudes de secuencia variable\n",
        "  model.add(encoder)\n",
        "  model.add(keras.layers.Embedding(input_dim = len(encoder.get_vocabulary()), output_dim = 64, mask_zero = True))\n",
        "  model.add(keras.layers.Bidirectional(tf.keras.layers.LSTM(64)))\n",
        "  model.add(keras.layers.Dense(64, activation='relu'))\n",
        "  model.add(keras.layers.Dense(1))\n",
        "  "
      ],
      "execution_count": null,
      "outputs": []
    },
    {
      "cell_type": "code",
      "metadata": {
        "id": "uGpBiVUk4Cdj"
      },
      "source": [
        "  model = keras.models.Sequential()\n",
        "  #masking maneja las longitudes de secuencia variable\n",
        "  model.add(encoder)\n",
        "  model.add(keras.layers.Embedding(input_dim = len(encoder.get_vocabulary()), output_dim = 64, mask_zero = True))\n",
        "  model.add(keras.layers.Bidirectional(tf.keras.layers.LSTM(64)))\n",
        "  model.add(keras.layers.Dense(64, activation='relu'))\n",
        "  model.add(keras.layers.Dense(1))"
      ],
      "execution_count": null,
      "outputs": []
    },
    {
      "cell_type": "code",
      "metadata": {
        "colab": {
          "base_uri": "https://localhost:8080/"
        },
        "id": "W24azyaA4FId",
        "outputId": "2b0a404c-31d6-485a-ea4e-e5f4127abea8"
      },
      "source": [
        "model.summary()"
      ],
      "execution_count": null,
      "outputs": [
        {
          "output_type": "stream",
          "name": "stdout",
          "text": [
            "Model: \"sequential_2\"\n",
            "_________________________________________________________________\n",
            "Layer (type)                 Output Shape              Param #   \n",
            "=================================================================\n",
            "text_vectorization (TextVect (None, None)              0         \n",
            "_________________________________________________________________\n",
            "embedding_2 (Embedding)      (None, None, 64)          64000     \n",
            "_________________________________________________________________\n",
            "bidirectional_2 (Bidirection (None, 128)               66048     \n",
            "_________________________________________________________________\n",
            "dense_4 (Dense)              (None, 64)                8256      \n",
            "_________________________________________________________________\n",
            "dense_5 (Dense)              (None, 1)                 65        \n",
            "=================================================================\n",
            "Total params: 138,369\n",
            "Trainable params: 138,369\n",
            "Non-trainable params: 0\n",
            "_________________________________________________________________\n"
          ]
        }
      ]
    },
    {
      "cell_type": "markdown",
      "metadata": {
        "id": "QIGmIGkkouUb"
      },
      "source": [
        "Tenga en cuenta que aquí se utiliza el modelo secuencial de Keras, ya que todas las capas del modelo solo tienen una entrada única y producen una salida única. En caso de que desee utilizar la capa RNN con estado, es posible que desee crear su modelo con la API funcional de Keras o la subclasificación del modelo para poder recuperar y reutilizar los estados de la capa RNN. Consulte la [Guía de Keras RNN](https://www.tensorflow.org/guide/keras/rnn#rnn_state_reuse) para obtener más detalles.\n"
      ]
    },
    {
      "cell_type": "markdown",
      "metadata": {
        "id": "kF-PsCk1LwjY"
      },
      "source": [
        "\n",
        "La capa de embedding utiliza [masking](https://www.tensorflow.org/guide/keras/masking_and_padding) para manejar las diferentes longitudes de secuencia. Todas las capas después del `Embedding` soportan masking:\n"
      ]
    },
    {
      "cell_type": "code",
      "metadata": {
        "id": "87a8-CwfKebw",
        "colab": {
          "base_uri": "https://localhost:8080/"
        },
        "outputId": "6410573a-f350-42f4-bd23-0dabb9a4f85d"
      },
      "source": [
        "print([layer.supports_masking for layer in model.layers])"
      ],
      "execution_count": null,
      "outputs": [
        {
          "output_type": "stream",
          "name": "stdout",
          "text": [
            "[False, True, True, True, True]\n"
          ]
        }
      ]
    },
    {
      "cell_type": "markdown",
      "metadata": {
        "id": "sRI776ZcH3Tf"
      },
      "source": [
        "Compile el modelo de Keras para configurar el proceso de entrenamiento:\n",
        "\n"
      ]
    },
    {
      "cell_type": "code",
      "metadata": {
        "id": "kj2xei41YZjC"
      },
      "source": [
        "model.compile(loss = tf.keras.losses.BinaryCrossentropy(from_logits = True),\n",
        "              optimizer = tf.keras.optimizers.Adam(1e-4),\n",
        "              metrics = ['accuracy'])"
      ],
      "execution_count": null,
      "outputs": []
    },
    {
      "cell_type": "markdown",
      "metadata": {
        "id": "zIwH3nto596k"
      },
      "source": [
        "## Entrenar el modelo"
      ]
    },
    {
      "cell_type": "code",
      "metadata": {
        "id": "hw86wWS4YgR2",
        "colab": {
          "base_uri": "https://localhost:8080/"
        },
        "outputId": "9b6e431d-417b-4c71-eb22-0287345039c8"
      },
      "source": [
        "early_stopping = keras.callbacks.EarlyStopping(patience = 5, restore_best_weights = True)\n",
        "\n",
        "history = model.fit(train_dataset, epochs = 10,\n",
        "                    validation_data = test_dataset,\n",
        "                    validation_steps = 30,\n",
        "                    callbacks = [early_stopping])"
      ],
      "execution_count": null,
      "outputs": [
        {
          "output_type": "stream",
          "name": "stdout",
          "text": [
            "Epoch 1/10\n",
            "391/391 [==============================] - 41s 81ms/step - loss: 0.6542 - accuracy: 0.5536 - val_loss: 0.4803 - val_accuracy: 0.7531\n",
            "Epoch 2/10\n",
            "391/391 [==============================] - 30s 76ms/step - loss: 0.4090 - accuracy: 0.8105 - val_loss: 0.3752 - val_accuracy: 0.8339\n",
            "Epoch 3/10\n",
            "391/391 [==============================] - 30s 76ms/step - loss: 0.3479 - accuracy: 0.8483 - val_loss: 0.3435 - val_accuracy: 0.8495\n",
            "Epoch 4/10\n",
            "391/391 [==============================] - 30s 76ms/step - loss: 0.3293 - accuracy: 0.8587 - val_loss: 0.3385 - val_accuracy: 0.8484\n",
            "Epoch 5/10\n",
            "391/391 [==============================] - 30s 76ms/step - loss: 0.3123 - accuracy: 0.8661 - val_loss: 0.3261 - val_accuracy: 0.8620\n",
            "Epoch 6/10\n",
            "391/391 [==============================] - 30s 75ms/step - loss: 0.3080 - accuracy: 0.8691 - val_loss: 0.3289 - val_accuracy: 0.8568\n",
            "Epoch 7/10\n",
            "391/391 [==============================] - 30s 75ms/step - loss: 0.3023 - accuracy: 0.8694 - val_loss: 0.3257 - val_accuracy: 0.8578\n",
            "Epoch 8/10\n",
            "391/391 [==============================] - 30s 75ms/step - loss: 0.3033 - accuracy: 0.8694 - val_loss: 0.3219 - val_accuracy: 0.8594\n",
            "Epoch 9/10\n",
            "391/391 [==============================] - 30s 76ms/step - loss: 0.2986 - accuracy: 0.8724 - val_loss: 0.3232 - val_accuracy: 0.8609\n",
            "Epoch 10/10\n",
            "391/391 [==============================] - 30s 75ms/step - loss: 0.2978 - accuracy: 0.8731 - val_loss: 0.3200 - val_accuracy: 0.8589\n"
          ]
        }
      ]
    },
    {
      "cell_type": "code",
      "metadata": {
        "id": "BaNbXi43YgUT",
        "colab": {
          "base_uri": "https://localhost:8080/"
        },
        "outputId": "c505362a-6d8f-4656-e3d4-bdf1f717f770"
      },
      "source": [
        "test_loss, test_acc = model.evaluate(test_dataset)\n",
        "\n",
        "print('Test Loss:', test_loss)\n",
        "print('Test Accuracy:', test_acc)"
      ],
      "execution_count": null,
      "outputs": [
        {
          "output_type": "stream",
          "name": "stdout",
          "text": [
            "391/391 [==============================] - 13s 33ms/step - loss: 0.3162 - accuracy: 0.8570\n",
            "Test Loss: 0.31624191999435425\n",
            "Test Accuracy: 0.8569999933242798\n"
          ]
        }
      ]
    },
    {
      "cell_type": "code",
      "metadata": {
        "id": "OZmwt_mzaQJk",
        "colab": {
          "base_uri": "https://localhost:8080/",
          "height": 518
        },
        "outputId": "97ac16e7-0bc5-4d09-835e-44bb3123a502"
      },
      "source": [
        "plt.figure(figsize=(16, 8))\n",
        "plt.subplot(1, 2, 1)\n",
        "plot_graphs(history, 'accuracy')\n",
        "plt.ylim(None, 1)\n",
        "plt.subplot(1, 2, 2)\n",
        "plot_graphs(history, 'loss')\n",
        "plt.ylim(0, None)"
      ],
      "execution_count": null,
      "outputs": [
        {
          "output_type": "execute_result",
          "data": {
            "text/plain": [
              "(0.0, 0.6720019832253457)"
            ]
          },
          "metadata": {},
          "execution_count": 38
        },
        {
          "output_type": "display_data",
          "data": {
            "image/png": "[encoded data removed]",
            "text/plain": [
              "<Figure size 1152x576 with 2 Axes>"
            ]
          },
          "metadata": {
            "needs_background": "light"
          }
        }
      ]
    },
    {
      "cell_type": "markdown",
      "metadata": {
        "id": "DwSE_386uhxD"
      },
      "source": [
        "\n",
        "Ejecute una predicción en una nueva sentencia:\n",
        "\n",
        "Si la predicción es > = 0.0, es positiva, de lo contrario es negativa."
      ]
    },
    {
      "cell_type": "code",
      "metadata": {
        "id": "ZXgfQSgRW6zU",
        "colab": {
          "base_uri": "https://localhost:8080/"
        },
        "outputId": "98cfe6ae-d093-4f4f-f706-c7134ccecf3b"
      },
      "source": [
        "sample_text = ('The movie was cool. The animation and the graphics '\n",
        "               'were out of this world. I would recommend this movie.')\n",
        "\n",
        "predictions = model.predict(np.array([sample_text]))\n",
        "\n",
        "print(predictions)"
      ],
      "execution_count": null,
      "outputs": [
        {
          "output_type": "stream",
          "name": "stdout",
          "text": [
            "[[-2.5754933]]\n"
          ]
        }
      ]
    },
    {
      "cell_type": "markdown",
      "metadata": {
        "id": "7g1evcaRpTKm"
      },
      "source": [
        "## Stacking de dos o mas capas LSTM\n",
        "\n",
        "Las capas recurrentes de Keras tienen dos modos disponibles que están controlados por el argumento `return_sequences`:\n",
        "\n",
        "*   Si es `False`, devuelve solo la última salida para cada secuencia de entrada (un tensor de forma 2D (`batch_size`, `output_features`)). Este es el predeterminado, utilizado en el modelo anterior.\n",
        "\n",
        "*   Si es True se devuelven las secuencias completas de salidas sucesivas para cada timestep (un tensor de forma 3D (`batch_size`, `timesteps`, `output_features`) ).\n",
        "\n",
        "Así es como se ve el flujo de información con `return_sequences=True` :\n",
        "\n",
        "![layered_bidirectional](https://github.com/tensorflow/text/blob/master/docs/tutorials/images/layered_bidirectional.png?raw=1)"
      ]
    },
    {
      "cell_type": "markdown",
      "metadata": {
        "id": "wbSClCrG1z8l"
      },
      "source": [
        "\n",
        "Lo interesante de usar un RNN con `return_sequences=True` es que la salida todavía tiene 3 ejes, como la entrada, por lo que se puede pasar a otra capa RNN, así:"
      ]
    },
    {
      "cell_type": "code",
      "metadata": {
        "id": "jo1jjO3vn0jo"
      },
      "source": [
        "\n",
        "with strategy.scope():\n",
        "  model = keras.models.Sequential()\n",
        "  model.add(encoder)\n",
        "  model.add(keras.layers.Embedding(input_dim = len(encoder.get_vocabulary()), output_dim = 64, mask_zero = True))\n",
        "  model.add(keras.layers.Bidirectional(tf.keras.layers.LSTM(64,  return_sequences=True)))\n",
        "  model.add(keras.layers.Bidirectional(tf.keras.layers.LSTM(32)))\n",
        "  model.add(keras.layers.Dense(64, activation='relu'))\n",
        "  model.add(keras.layers.Dropout(0.5))\n",
        "  model.add(keras.layers.Dense(1, activation='tanh'))\n"
      ],
      "execution_count": null,
      "outputs": []
    },
    {
      "cell_type": "code",
      "metadata": {
        "id": "CcNpgxN07Uv4"
      },
      "source": [
        "  model = keras.models.Sequential()\n",
        "  model.add(encoder)\n",
        "  model.add(keras.layers.Embedding(input_dim = len(encoder.get_vocabulary()), output_dim = 64, mask_zero = True))\n",
        "  model.add(keras.layers.Bidirectional(tf.keras.layers.LSTM(64,  return_sequences=True)))\n",
        "  model.add(keras.layers.Bidirectional(tf.keras.layers.LSTM(32)))\n",
        "  model.add(keras.layers.Dense(64, activation='relu'))\n",
        "  model.add(keras.layers.Dropout(0.5))\n",
        "  model.add(keras.layers.Dense(1, activation='tanh'))"
      ],
      "execution_count": null,
      "outputs": []
    },
    {
      "cell_type": "code",
      "metadata": {
        "id": "hEPV5jVGp-is"
      },
      "source": [
        "model.compile(loss=tf.keras.losses.BinaryCrossentropy(from_logits = True),\n",
        "              optimizer=tf.keras.optimizers.Adam(1e-4),\n",
        "              metrics=['accuracy'])"
      ],
      "execution_count": null,
      "outputs": []
    },
    {
      "cell_type": "code",
      "metadata": {
        "id": "LeSE-YjdqAeN",
        "colab": {
          "base_uri": "https://localhost:8080/"
        },
        "outputId": "7c39e98c-f0a2-456b-bb5a-e8febf973957"
      },
      "source": [
        "history = model.fit(train_dataset, epochs = 10,\n",
        "                    validation_data = test_dataset,\n",
        "                    validation_steps = 30,\n",
        "                    callbacks = [early_stopping])"
      ],
      "execution_count": null,
      "outputs": [
        {
          "output_type": "stream",
          "name": "stdout",
          "text": [
            "Epoch 1/10\n",
            "391/391 [==============================] - 70s 148ms/step - loss: 0.6356 - accuracy: 0.5921 - val_loss: 0.5136 - val_accuracy: 0.7776\n",
            "Epoch 2/10\n",
            "391/391 [==============================] - 54s 138ms/step - loss: 0.4809 - accuracy: 0.8206 - val_loss: 0.4693 - val_accuracy: 0.8417\n",
            "Epoch 3/10\n",
            "391/391 [==============================] - 54s 138ms/step - loss: 0.4632 - accuracy: 0.8417 - val_loss: 0.4667 - val_accuracy: 0.8302\n",
            "Epoch 4/10\n",
            "391/391 [==============================] - 54s 138ms/step - loss: 0.4521 - accuracy: 0.8535 - val_loss: 0.4580 - val_accuracy: 0.8464\n",
            "Epoch 5/10\n",
            "391/391 [==============================] - 54s 137ms/step - loss: 0.4431 - accuracy: 0.8632 - val_loss: 0.4594 - val_accuracy: 0.8365\n",
            "Epoch 6/10\n",
            "391/391 [==============================] - 54s 137ms/step - loss: 0.4419 - accuracy: 0.8638 - val_loss: 0.4523 - val_accuracy: 0.8500\n",
            "Epoch 7/10\n",
            "391/391 [==============================] - 54s 137ms/step - loss: 0.4370 - accuracy: 0.8709 - val_loss: 0.4612 - val_accuracy: 0.8391\n",
            "Epoch 8/10\n",
            "391/391 [==============================] - 54s 137ms/step - loss: 0.4374 - accuracy: 0.8695 - val_loss: 0.4561 - val_accuracy: 0.8583\n",
            "Epoch 9/10\n",
            "262/391 [===================>..........] - ETA: 17s - loss: 0.4332 - accuracy: 0.8746"
          ]
        }
      ]
    },
    {
      "cell_type": "code",
      "metadata": {
        "id": "_LdwilM1qPM3"
      },
      "source": [
        "test_loss, test_acc = model.evaluate(test_dataset)\n",
        "\n",
        "print('Test Loss:', test_loss)\n",
        "print('Test Accuracy:', test_acc)"
      ],
      "execution_count": null,
      "outputs": []
    },
    {
      "cell_type": "code",
      "metadata": {
        "id": "ykUKnAoqbycW"
      },
      "source": [
        "# predict on a sample text.\n",
        "sample_text = ('The movie was not good. The animation and the graphics '\n",
        "               'were terrible. I would not recommend this movie.')\n",
        "\n",
        "predictions = model.predict(np.array([sample_text]))\n",
        "print(predictions)"
      ],
      "execution_count": null,
      "outputs": []
    },
    {
      "cell_type": "code",
      "metadata": {
        "id": "_YYub0EDtwCu"
      },
      "source": [
        "plt.figure(figsize=(16, 6))\n",
        "plt.subplot(1, 2, 1)\n",
        "plot_graphs(history, 'accuracy')\n",
        "plt.subplot(1, 2, 2)\n",
        "plot_graphs(history, 'loss')"
      ],
      "execution_count": null,
      "outputs": []
    },
    {
      "cell_type": "markdown",
      "metadata": {
        "id": "9xvpE3BaGw_V"
      },
      "source": [
        "Si está interesado en profundizar en RNN puede consultar las [GRU layers](https://www.tensorflow.org/api_docs/python/tf/keras/layers/GRU).\n",
        "\n",
        "Si está interesado en crear RNN personalizados, consulte [Keras RNN Guide](https://www.tensorflow.org/guide/keras/rnn).\n",
        "\n",
        "\n"
      ]
    },
    {
      "cell_type": "markdown",
      "metadata": {
        "id": "jpkVWvxgy4ae"
      },
      "source": [
        "### Gracias por completar este laboratorio!"
      ]
    }
  ]
}
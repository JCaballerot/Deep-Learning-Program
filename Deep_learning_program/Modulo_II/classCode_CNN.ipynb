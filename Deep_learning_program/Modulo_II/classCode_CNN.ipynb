{
  "nbformat": 4,
  "nbformat_minor": 0,
  "metadata": {
    "colab": {
      "provenance": [],
      "machine_shape": "hm",
      "authorship_tag": "ABX9TyNx/yy4hREtSPWw+FE0cNYC",
      "include_colab_link": true
    },
    "kernelspec": {
      "name": "python3",
      "display_name": "Python 3"
    },
    "language_info": {
      "name": "python"
    },
    "accelerator": "GPU"
  },
  "cells": [
    {
      "cell_type": "markdown",
      "metadata": {
        "id": "view-in-github",
        "colab_type": "text"
      },
      "source": [
        "<a href=\"https://colab.research.google.com/github/JCaballerot/Deep_learning_program/blob/main/Deep_learning_program/Modulo_II/classCode_CNN.ipynb\" target=\"_parent\"><img src=\"https://colab.research.google.com/assets/colab-badge.svg\" alt=\"Open In Colab\"/></a>"
      ]
    },
    {
      "cell_type": "markdown",
      "metadata": {
        "id": "W9HaGkJRqbml"
      },
      "source": [
        "## CNN using Keras"
      ]
    },
    {
      "cell_type": "code",
      "metadata": {
        "id": "h5xpiWayqL7R"
      },
      "source": [
        "# Import library\n",
        "\n",
        "import tensorflow as tf\n",
        "from tensorflow import keras as keras\n",
        "from keras.datasets import mnist\n"
      ],
      "execution_count": 1,
      "outputs": []
    },
    {
      "cell_type": "code",
      "metadata": {
        "id": "qobu-AnlqaAs"
      },
      "source": [
        "#load mnist dataset\n",
        "(X_train, y_train), (X_test, y_test) = mnist.load_data()\n"
      ],
      "execution_count": 46,
      "outputs": []
    },
    {
      "cell_type": "code",
      "source": [
        "y_train"
      ],
      "metadata": {
        "id": "qN1FbT62k7IV"
      },
      "execution_count": null,
      "outputs": []
    },
    {
      "cell_type": "code",
      "metadata": {
        "id": "1xkMxR-5qlgb"
      },
      "source": [
        "# Plotting images\n",
        "\n",
        "import matplotlib.pyplot as plt\n",
        "fig = plt.figure()\n",
        "\n",
        "for i in range(9):\n",
        "  plt.subplot(3,3,i+1)\n",
        "  plt.tight_layout()\n",
        "  plt.imshow(X_train[i], cmap='gray', interpolation='none')\n",
        "  plt.title(\"Digit: {}\".format(y_train[i]))\n",
        "  plt.xticks([])\n",
        "  plt.yticks([])\n",
        "\n"
      ],
      "execution_count": null,
      "outputs": []
    },
    {
      "cell_type": "code",
      "metadata": {
        "id": "HZsz5r6gq0AM"
      },
      "source": [
        "# Categorize target\n",
        "num_category = 10\n",
        "\n",
        "y_train = keras.utils.to_categorical(y_train, num_classes = num_category)\n",
        "y_test  = keras.utils.to_categorical(y_test,  num_classes = num_category)\n"
      ],
      "execution_count": 8,
      "outputs": []
    },
    {
      "cell_type": "code",
      "source": [
        "y_test"
      ],
      "metadata": {
        "id": "cPM7jwjBMnQw"
      },
      "execution_count": null,
      "outputs": []
    },
    {
      "cell_type": "code",
      "metadata": {
        "id": "zW791eWGdw-Z"
      },
      "source": [
        "X_train.shape"
      ],
      "execution_count": null,
      "outputs": []
    },
    {
      "cell_type": "code",
      "metadata": {
        "id": "qMFsXcdHrZt1"
      },
      "source": [
        "# Reshape input\n",
        "\n",
        "img_rows = 28\n",
        "img_cols = 28\n",
        "chanels = 1\n",
        "\n",
        "X_train = X_train.reshape(X_train.shape[0], img_rows, img_cols, chanels)\n",
        "X_test  = X_test.reshape( X_test.shape[0],  img_rows, img_cols, chanels)\n",
        "input_shape = (img_rows, img_cols, chanels)\n"
      ],
      "execution_count": 11,
      "outputs": []
    },
    {
      "cell_type": "code",
      "metadata": {
        "id": "GWjeoYhiySXH"
      },
      "source": [
        "# Scale data\n",
        "\n",
        "X_train = X_train.astype('float32')\n",
        "X_test = X_test.astype('float32')\n",
        "\n",
        "X_train /= 255\n",
        "X_test /= 255\n",
        "\n",
        "print('X_train shape:', X_train.shape)\n"
      ],
      "execution_count": null,
      "outputs": []
    },
    {
      "cell_type": "code",
      "metadata": {
        "id": "Wpw30ixQzFvi"
      },
      "source": [
        "\n",
        "# model Building\n",
        "\n",
        "model = keras.models.Sequential()\n",
        "\n",
        "model.add(keras.layers.Conv2D(32, kernel_size = (3, 3), padding=\"valid\", activation='relu', input_shape = input_shape))\n",
        "model.add(keras.layers.Conv2D(64, kernel_size = (3, 3), padding=\"valid\", activation='relu'))\n",
        "model.add(keras.layers.MaxPooling2D(pool_size=(2, 2)))\n",
        "model.add(keras.layers.Dropout(0.25))\n",
        "\n",
        "model.add(keras.layers.Flatten())\n",
        "model.add(keras.layers.Dense(128, activation='relu'))\n",
        "model.add(keras.layers.Dropout(0.5))\n",
        "\n",
        "model.add(keras.layers.Dense(num_category, activation='softmax'))\n"
      ],
      "execution_count": 30,
      "outputs": []
    },
    {
      "cell_type": "code",
      "metadata": {
        "id": "e2C0AuSb0P0B"
      },
      "source": [
        "model.summary()"
      ],
      "execution_count": null,
      "outputs": []
    },
    {
      "cell_type": "code",
      "metadata": {
        "id": "f6dNiXLO1_E5"
      },
      "source": [
        "tf.keras.utils.plot_model(model)"
      ],
      "execution_count": null,
      "outputs": []
    },
    {
      "cell_type": "code",
      "metadata": {
        "id": "zJrw4ScV2FBy"
      },
      "source": [
        "# Optimization\n",
        "\n",
        "model.compile(loss = keras.losses.categorical_crossentropy,\n",
        "              optimizer = keras.optimizers.Adadelta(learning_rate = 0.1, rho = 0.05),\n",
        "              metrics = ['accuracy'])\n",
        "\n"
      ],
      "execution_count": 31,
      "outputs": []
    },
    {
      "cell_type": "code",
      "metadata": {
        "id": "jNiqSNvR2yDo"
      },
      "source": [
        "batch_size = 10000\n",
        "num_epoch = 100\n",
        "\n",
        "early_stopping = keras.callbacks.EarlyStopping(patience = 5, restore_best_weights = True)\n",
        "\n",
        "#model training\n",
        "history = model.fit(X_train, y_train,\n",
        "                    batch_size = batch_size,\n",
        "                    epochs = num_epoch,\n",
        "                    verbose = 1,\n",
        "                    validation_data = (X_test, y_test),\n",
        "                    callbacks = [early_stopping])\n"
      ],
      "execution_count": null,
      "outputs": []
    },
    {
      "cell_type": "code",
      "source": [
        "import pandas as pd\n",
        "import matplotlib.pyplot as plt\n",
        "\n",
        "\n",
        "pd.DataFrame(history.history).plot(figsize=(16, 8))\n",
        "plt.grid(True)\n",
        "plt.gca().set_ylim(0, 2.5) # set the vertical range to [0-1] plt.show()"
      ],
      "metadata": {
        "id": "vxkpbvQQenFs"
      },
      "execution_count": null,
      "outputs": []
    },
    {
      "cell_type": "markdown",
      "metadata": {
        "id": "9NVj9b-P4JWD"
      },
      "source": [
        "# GPU model using Keras"
      ]
    },
    {
      "cell_type": "code",
      "metadata": {
        "id": "xn0sp9wv4bkA"
      },
      "source": [
        "import tensorflow as tf\n"
      ],
      "execution_count": null,
      "outputs": []
    },
    {
      "cell_type": "code",
      "metadata": {
        "colab": {
          "base_uri": "https://localhost:8080/"
        },
        "id": "7UxmLY3i4VBf",
        "outputId": "3e52ac9d-4952-476f-b7e9-4d67b0efb2e6"
      },
      "source": [
        "# Create a MirroredStrategy.\n",
        "strategy = tf.distribute.MirroredStrategy()\n",
        "print('Number of devices: {}'.format(strategy.num_replicas_in_sync))\n",
        ""
      ],
      "execution_count": 35,
      "outputs": [
        {
          "output_type": "stream",
          "name": "stdout",
          "text": [
            "Number of devices: 1\n"
          ]
        }
      ]
    },
    {
      "cell_type": "code",
      "metadata": {
        "id": "w_9JRNxP4oRg"
      },
      "source": [
        "\n",
        "# Open a strategy scope.\n",
        "with strategy.scope():\n",
        "  # Everything that creates variables should be under the strategy scope.\n",
        "  # In general this is only model construction & `compile()`.\n",
        "  model = keras.models.Sequential()\n",
        "\n",
        "  model.add(keras.layers.Conv2D(32, kernel_size = (3, 3), padding=\"valid\", activation='relu', input_shape = input_shape))\n",
        "  model.add(keras.layers.Conv2D(64, kernel_size = (3, 3), padding=\"valid\", activation='relu'))\n",
        "  model.add(keras.layers.MaxPooling2D(pool_size = (2, 2)))\n",
        "\n",
        "  model.add(keras.layers.Dropout(0.25))\n",
        "  model.add(keras.layers.Flatten())\n",
        "\n",
        "  model.add(keras.layers.Dense(128, activation='relu'))\n",
        "  model.add(keras.layers.Dropout(0.5))\n",
        "  model.add(keras.layers.Dense(num_category, activation='softmax'))\n"
      ],
      "execution_count": 36,
      "outputs": []
    },
    {
      "cell_type": "code",
      "metadata": {
        "id": "l5o6ndq-400w"
      },
      "source": [
        "model.compile(loss = keras.losses.categorical_crossentropy,\n",
        "              optimizer = keras.optimizers.Adadelta(learning_rate=0.1, rho = 0.05),\n",
        "              metrics = ['accuracy'])"
      ],
      "execution_count": 37,
      "outputs": []
    },
    {
      "cell_type": "code",
      "metadata": {
        "id": "-Nau5kn643n6"
      },
      "source": [
        "batch_size = 2000\n",
        "num_epoch = 500\n",
        "\n",
        "early_stopping = keras.callbacks.EarlyStopping(patience = 10, restore_best_weights = True)\n",
        "\n",
        "#model training\n",
        "history = model.fit(X_train, y_train,\n",
        "                    batch_size = batch_size,\n",
        "                    epochs = num_epoch,\n",
        "                    verbose = 1,\n",
        "                    validation_data=(X_test, y_test),\n",
        "                    callbacks = [early_stopping])\n"
      ],
      "execution_count": null,
      "outputs": []
    },
    {
      "cell_type": "code",
      "metadata": {
        "id": "o6Mil5KI5Yud"
      },
      "source": [
        "import pandas as pd\n",
        "import matplotlib.pyplot as plt\n",
        "\n",
        "\n",
        "pd.DataFrame(history.history).plot(figsize=(16, 8))\n",
        "plt.grid(True)\n",
        "plt.gca().set_ylim(0, 0.4) # set the vertical range to [0-1] plt.show()"
      ],
      "execution_count": null,
      "outputs": []
    },
    {
      "cell_type": "markdown",
      "source": [
        "**Tarea**"
      ],
      "metadata": {
        "id": "rYd86QfdlGiD"
      }
    },
    {
      "cell_type": "code",
      "source": [
        "from keras.datasets import fashion_mnist"
      ],
      "metadata": {
        "id": "9esTNJrwlOXm"
      },
      "execution_count": 47,
      "outputs": []
    },
    {
      "cell_type": "code",
      "source": [
        "#load mnist dataset\n",
        "(X_train, y_train), (X_test, y_test) = fashion_mnist.load_data()"
      ],
      "metadata": {
        "id": "Ff6kDPtalKFR"
      },
      "execution_count": null,
      "outputs": []
    },
    {
      "cell_type": "code",
      "source": [
        "X_train.shape"
      ],
      "metadata": {
        "id": "VpX9YLjblRxT"
      },
      "execution_count": null,
      "outputs": []
    },
    {
      "cell_type": "code",
      "source": [
        "y_train"
      ],
      "metadata": {
        "id": "wNTBLP5dmBWJ"
      },
      "execution_count": null,
      "outputs": []
    },
    {
      "cell_type": "code",
      "source": [
        "plt.imshow(X_train[3])"
      ],
      "metadata": {
        "id": "jWv5d7qkmYYx",
        "outputId": "c1e797d2-4fdd-4faa-f434-08ce01787ff1",
        "colab": {
          "base_uri": "https://localhost:8080/",
          "height": 447
        }
      },
      "execution_count": 57,
      "outputs": [
        {
          "output_type": "execute_result",
          "data": {
            "text/plain": [
              "<matplotlib.image.AxesImage at 0x7fed7c151c00>"
            ]
          },
          "metadata": {},
          "execution_count": 57
        },
        {
          "output_type": "display_data",
          "data": {
            "text/plain": [
              "<Figure size 640x480 with 1 Axes>"
            ],
            "image/png": "[encoded data removed]"
          },
          "metadata": {}
        }
      ]
    }
  ]
}
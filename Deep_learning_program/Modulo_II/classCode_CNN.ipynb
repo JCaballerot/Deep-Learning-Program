{
  "nbformat": 4,
  "nbformat_minor": 0,
  "metadata": {
    "colab": {
      "provenance": [],
      "machine_shape": "hm",
      "authorship_tag": "ABX9TyMOwz7zsAfeBTbX1MeFvFMk",
      "include_colab_link": true
    },
    "kernelspec": {
      "name": "python3",
      "display_name": "Python 3"
    },
    "language_info": {
      "name": "python"
    },
    "accelerator": "GPU"
  },
  "cells": [
    {
      "cell_type": "markdown",
      "metadata": {
        "id": "view-in-github",
        "colab_type": "text"
      },
      "source": [
        "<a href=\"https://colab.research.google.com/github/JCaballerot/Deep_learning_program/blob/main/Deep_learning_program/Modulo_II/classCode_CNN.ipynb\" target=\"_parent\"><img src=\"https://colab.research.google.com/assets/colab-badge.svg\" alt=\"Open In Colab\"/></a>"
      ]
    },
    {
      "cell_type": "markdown",
      "metadata": {
        "id": "W9HaGkJRqbml"
      },
      "source": [
        "## CNN using Keras"
      ]
    },
    {
      "cell_type": "code",
      "metadata": {
        "id": "h5xpiWayqL7R"
      },
      "source": [
        "# Import library\n",
        "\n",
        "import tensorflow as tf\n",
        "from tensorflow import keras as keras\n",
        "from keras.datasets import mnist\n"
      ],
      "execution_count": null,
      "outputs": []
    },
    {
      "cell_type": "code",
      "metadata": {
        "id": "qobu-AnlqaAs",
        "colab": {
          "base_uri": "https://localhost:8080/"
        },
        "outputId": "7304a036-6f94-4ba8-87a3-e6e3ef12af4f"
      },
      "source": [
        "#load mnist dataset\n",
        "(X_train, y_train), (X_test, y_test) = mnist.load_data()\n"
      ],
      "execution_count": null,
      "outputs": [
        {
          "output_type": "stream",
          "name": "stdout",
          "text": [
            "Downloading data from https://storage.googleapis.com/tensorflow/tf-keras-datasets/mnist.npz\n",
            "11493376/11490434 [==============================] - 0s 0us/step\n",
            "11501568/11490434 [==============================] - 0s 0us/step\n"
          ]
        }
      ]
    },
    {
      "cell_type": "code",
      "metadata": {
        "id": "1xkMxR-5qlgb",
        "colab": {
          "base_uri": "https://localhost:8080/",
          "height": 284
        },
        "outputId": "1dc27f61-f938-4db1-9304-00e982c7f0eb"
      },
      "source": [
        "# Plotting images\n",
        "\n",
        "import matplotlib.pyplot as plt\n",
        "fig = plt.figure()\n",
        "\n",
        "for i in range(9):\n",
        "  plt.subplot(3,3,i+1)\n",
        "  plt.tight_layout()\n",
        "  plt.imshow(X_train[i], cmap='gray', interpolation='none')\n",
        "  plt.title(\"Digit: {}\".format(y_train[i]))\n",
        "  plt.xticks([])\n",
        "  plt.yticks([])\n",
        "\n"
      ],
      "execution_count": null,
      "outputs": [
        {
          "output_type": "display_data",
          "data": {
            "image/png": "[encoded data removed]",
            "text/plain": [
              "<Figure size 432x288 with 9 Axes>"
            ]
          },
          "metadata": {}
        }
      ]
    },
    {
      "cell_type": "code",
      "metadata": {
        "id": "HZsz5r6gq0AM"
      },
      "source": [
        "# Categorize target\n",
        "num_category = 10\n",
        "\n",
        "y_train = keras.utils.to_categorical(y_train, num_classes = num_category)\n",
        "y_test  = keras.utils.to_categorical(y_test, num_classes = num_category)\n"
      ],
      "execution_count": null,
      "outputs": []
    },
    {
      "cell_type": "code",
      "metadata": {
        "colab": {
          "base_uri": "https://localhost:8080/"
        },
        "id": "zW791eWGdw-Z",
        "outputId": "9eedd108-2f66-4690-9847-8296f85405f8"
      },
      "source": [
        "X_train.shape"
      ],
      "execution_count": null,
      "outputs": [
        {
          "output_type": "execute_result",
          "data": {
            "text/plain": [
              "(60000, 28, 28)"
            ]
          },
          "metadata": {},
          "execution_count": 8
        }
      ]
    },
    {
      "cell_type": "code",
      "metadata": {
        "id": "qMFsXcdHrZt1"
      },
      "source": [
        "# Reshape input\n",
        "\n",
        "img_rows = 28\n",
        "img_cols = 28\n",
        "chanels = 1\n",
        "\n",
        "X_train = X_train.reshape(X_train.shape[0], img_rows, img_cols, chanels)\n",
        "X_test  = X_test.reshape( X_test.shape[0],  img_rows, img_cols, chanels)\n",
        "input_shape = (img_rows, img_cols, chanels)\n"
      ],
      "execution_count": null,
      "outputs": []
    },
    {
      "cell_type": "code",
      "metadata": {
        "id": "GWjeoYhiySXH",
        "colab": {
          "base_uri": "https://localhost:8080/"
        },
        "outputId": "128f7a57-8fdb-49ed-a1d5-fbfea4470929"
      },
      "source": [
        "# Scale data\n",
        "\n",
        "X_train = X_train.astype('float32')\n",
        "X_test = X_test.astype('float32')\n",
        "\n",
        "X_train /= 255\n",
        "X_test /= 255\n",
        "\n",
        "print('X_train shape:', X_train.shape) \n"
      ],
      "execution_count": null,
      "outputs": [
        {
          "output_type": "stream",
          "name": "stdout",
          "text": [
            "X_train shape: (60000, 28, 28, 1)\n"
          ]
        }
      ]
    },
    {
      "cell_type": "code",
      "metadata": {
        "id": "Wpw30ixQzFvi"
      },
      "source": [
        "\n",
        "# model Building\n",
        "\n",
        "model = keras.models.Sequential()\n",
        "\n",
        "model.add(keras.layers.Conv2D(32, kernel_size = (3, 3), padding=\"valid\", activation='relu', input_shape = input_shape))\n",
        "model.add(keras.layers.Conv2D(64, kernel_size = (3, 3), padding=\"valid\", activation='relu'))\n",
        "model.add(keras.layers.MaxPooling2D(pool_size=(2, 2)))\n",
        "model.add(keras.layers.Dropout(0.25))\n",
        "\n",
        "model.add(keras.layers.Flatten())\n",
        "model.add(keras.layers.Dense(128, activation='relu'))\n",
        "model.add(keras.layers.Dropout(0.5))\n",
        "\n",
        "model.add(keras.layers.Dense(num_category, activation='softmax'))\n"
      ],
      "execution_count": null,
      "outputs": []
    },
    {
      "cell_type": "code",
      "metadata": {
        "id": "e2C0AuSb0P0B",
        "colab": {
          "base_uri": "https://localhost:8080/"
        },
        "outputId": "b64799ea-434c-44e2-9e3e-1aa89d35d137"
      },
      "source": [
        "model.summary()"
      ],
      "execution_count": null,
      "outputs": [
        {
          "output_type": "stream",
          "name": "stdout",
          "text": [
            "Model: \"sequential\"\n",
            "_________________________________________________________________\n",
            "Layer (type)                 Output Shape              Param #   \n",
            "=================================================================\n",
            "conv2d (Conv2D)              (None, 26, 26, 32)        320       \n",
            "_________________________________________________________________\n",
            "conv2d_1 (Conv2D)            (None, 24, 24, 64)        18496     \n",
            "_________________________________________________________________\n",
            "max_pooling2d (MaxPooling2D) (None, 12, 12, 64)        0         \n",
            "_________________________________________________________________\n",
            "dropout (Dropout)            (None, 12, 12, 64)        0         \n",
            "_________________________________________________________________\n",
            "flatten (Flatten)            (None, 9216)              0         \n",
            "_________________________________________________________________\n",
            "dense (Dense)                (None, 128)               1179776   \n",
            "_________________________________________________________________\n",
            "dropout_1 (Dropout)          (None, 128)               0         \n",
            "_________________________________________________________________\n",
            "dense_1 (Dense)              (None, 10)                1290      \n",
            "=================================================================\n",
            "Total params: 1,199,882\n",
            "Trainable params: 1,199,882\n",
            "Non-trainable params: 0\n",
            "_________________________________________________________________\n"
          ]
        }
      ]
    },
    {
      "cell_type": "code",
      "metadata": {
        "id": "f6dNiXLO1_E5",
        "colab": {
          "base_uri": "https://localhost:8080/",
          "height": 856
        },
        "outputId": "0d95e9a6-b4e3-4c92-d298-c3d100dfd1f1"
      },
      "source": [
        "tf.keras.utils.plot_model(model)"
      ],
      "execution_count": null,
      "outputs": [
        {
          "output_type": "execute_result",
          "data": {
            "image/png": "[encoded data removed]",
            "text/plain": [
              "<IPython.core.display.Image object>"
            ]
          },
          "metadata": {},
          "execution_count": 13
        }
      ]
    },
    {
      "cell_type": "code",
      "metadata": {
        "id": "zJrw4ScV2FBy"
      },
      "source": [
        "# Optimization \n",
        "\n",
        "model.compile(loss = keras.losses.categorical_crossentropy,\n",
        "              optimizer = keras.optimizers.Adadelta(learning_rate = 0.1, rho = 0.05),\n",
        "              metrics = ['accuracy'])\n",
        "\n"
      ],
      "execution_count": null,
      "outputs": []
    },
    {
      "cell_type": "code",
      "metadata": {
        "id": "jNiqSNvR2yDo",
        "colab": {
          "base_uri": "https://localhost:8080/"
        },
        "outputId": "bca377ae-aa72-4a8f-a9d6-3f45dc922a79"
      },
      "source": [
        "batch_size = 10000\n",
        "num_epoch = 30\n",
        "\n",
        "early_stopping = keras.callbacks.EarlyStopping(patience = 5, restore_best_weights = True)\n",
        "\n",
        "#model training\n",
        "history = model.fit(X_train, y_train,\n",
        "                    batch_size = batch_size,\n",
        "                    epochs = num_epoch,\n",
        "                    verbose = 1,\n",
        "                    validation_data = (X_test, y_test),\n",
        "                    callbacks = [early_stopping])\n"
      ],
      "execution_count": null,
      "outputs": [
        {
          "output_type": "stream",
          "name": "stdout",
          "text": [
            "Epoch 1/30\n",
            "6/6 [==============================] - 19s 245ms/step - loss: 2.2743 - accuracy: 0.1377 - val_loss: 2.2178 - val_accuracy: 0.3411\n",
            "Epoch 2/30\n",
            "6/6 [==============================] - 1s 207ms/step - loss: 2.1885 - accuracy: 0.2758 - val_loss: 2.0995 - val_accuracy: 0.6053\n",
            "Epoch 3/30\n",
            "6/6 [==============================] - 1s 207ms/step - loss: 2.0666 - accuracy: 0.4089 - val_loss: 1.9398 - val_accuracy: 0.6772\n",
            "Epoch 4/30\n",
            "6/6 [==============================] - 1s 205ms/step - loss: 1.9049 - accuracy: 0.5059 - val_loss: 1.7394 - val_accuracy: 0.7065\n",
            "Epoch 5/30\n",
            "6/6 [==============================] - 1s 207ms/step - loss: 1.7102 - accuracy: 0.5721 - val_loss: 1.5112 - val_accuracy: 0.7335\n",
            "Epoch 6/30\n",
            "6/6 [==============================] - 1s 207ms/step - loss: 1.5087 - accuracy: 0.6130 - val_loss: 1.2751 - val_accuracy: 0.7565\n",
            "Epoch 7/30\n",
            "6/6 [==============================] - 1s 206ms/step - loss: 1.3113 - accuracy: 0.6460 - val_loss: 1.0569 - val_accuracy: 0.7863\n",
            "Epoch 8/30\n",
            "6/6 [==============================] - 1s 208ms/step - loss: 1.1389 - accuracy: 0.6791 - val_loss: 0.8764 - val_accuracy: 0.8084\n",
            "Epoch 9/30\n",
            "6/6 [==============================] - 1s 207ms/step - loss: 0.9964 - accuracy: 0.7088 - val_loss: 0.7359 - val_accuracy: 0.8312\n",
            "Epoch 10/30\n",
            "6/6 [==============================] - 1s 206ms/step - loss: 0.8778 - accuracy: 0.7349 - val_loss: 0.6293 - val_accuracy: 0.8482\n",
            "Epoch 11/30\n",
            "6/6 [==============================] - 1s 208ms/step - loss: 0.7896 - accuracy: 0.7584 - val_loss: 0.5531 - val_accuracy: 0.8610\n",
            "Epoch 12/30\n",
            "6/6 [==============================] - 1s 207ms/step - loss: 0.7237 - accuracy: 0.7783 - val_loss: 0.4984 - val_accuracy: 0.8744\n",
            "Epoch 13/30\n",
            "6/6 [==============================] - 1s 209ms/step - loss: 0.6687 - accuracy: 0.7925 - val_loss: 0.4566 - val_accuracy: 0.8806\n",
            "Epoch 14/30\n",
            "6/6 [==============================] - 1s 206ms/step - loss: 0.6265 - accuracy: 0.8070 - val_loss: 0.4256 - val_accuracy: 0.8870\n",
            "Epoch 15/30\n",
            "6/6 [==============================] - 1s 208ms/step - loss: 0.5932 - accuracy: 0.8164 - val_loss: 0.4014 - val_accuracy: 0.8907\n",
            "Epoch 16/30\n",
            "6/6 [==============================] - 1s 207ms/step - loss: 0.5650 - accuracy: 0.8260 - val_loss: 0.3827 - val_accuracy: 0.8952\n",
            "Epoch 17/30\n",
            "6/6 [==============================] - 1s 208ms/step - loss: 0.5412 - accuracy: 0.8327 - val_loss: 0.3673 - val_accuracy: 0.8997\n",
            "Epoch 18/30\n",
            "6/6 [==============================] - 1s 206ms/step - loss: 0.5249 - accuracy: 0.8394 - val_loss: 0.3561 - val_accuracy: 0.9009\n",
            "Epoch 19/30\n",
            "6/6 [==============================] - 1s 206ms/step - loss: 0.5101 - accuracy: 0.8447 - val_loss: 0.3444 - val_accuracy: 0.9039\n",
            "Epoch 20/30\n",
            "6/6 [==============================] - 1s 207ms/step - loss: 0.4949 - accuracy: 0.8482 - val_loss: 0.3341 - val_accuracy: 0.9079\n",
            "Epoch 21/30\n",
            "6/6 [==============================] - 1s 206ms/step - loss: 0.4834 - accuracy: 0.8534 - val_loss: 0.3259 - val_accuracy: 0.9096\n",
            "Epoch 22/30\n",
            "6/6 [==============================] - 1s 208ms/step - loss: 0.4741 - accuracy: 0.8556 - val_loss: 0.3160 - val_accuracy: 0.9117\n",
            "Epoch 23/30\n",
            "6/6 [==============================] - 1s 206ms/step - loss: 0.4591 - accuracy: 0.8596 - val_loss: 0.3097 - val_accuracy: 0.9145\n",
            "Epoch 24/30\n",
            "6/6 [==============================] - 1s 206ms/step - loss: 0.4506 - accuracy: 0.8622 - val_loss: 0.3019 - val_accuracy: 0.9157\n",
            "Epoch 25/30\n",
            "6/6 [==============================] - 1s 206ms/step - loss: 0.4430 - accuracy: 0.8653 - val_loss: 0.2961 - val_accuracy: 0.9170\n",
            "Epoch 26/30\n",
            "6/6 [==============================] - 1s 207ms/step - loss: 0.4336 - accuracy: 0.8693 - val_loss: 0.2886 - val_accuracy: 0.9194\n",
            "Epoch 27/30\n",
            "6/6 [==============================] - 1s 206ms/step - loss: 0.4265 - accuracy: 0.8698 - val_loss: 0.2819 - val_accuracy: 0.9203\n",
            "Epoch 28/30\n",
            "6/6 [==============================] - 1s 206ms/step - loss: 0.4195 - accuracy: 0.8720 - val_loss: 0.2770 - val_accuracy: 0.9212\n",
            "Epoch 29/30\n",
            "6/6 [==============================] - 1s 206ms/step - loss: 0.4107 - accuracy: 0.8757 - val_loss: 0.2721 - val_accuracy: 0.9231\n",
            "Epoch 30/30\n",
            "6/6 [==============================] - 1s 206ms/step - loss: 0.4076 - accuracy: 0.8755 - val_loss: 0.2693 - val_accuracy: 0.9249\n"
          ]
        }
      ]
    },
    {
      "cell_type": "markdown",
      "metadata": {
        "id": "9NVj9b-P4JWD"
      },
      "source": [
        "# GPU model using Keras"
      ]
    },
    {
      "cell_type": "code",
      "metadata": {
        "id": "xn0sp9wv4bkA"
      },
      "source": [
        "import tensorflow as tf\n"
      ],
      "execution_count": null,
      "outputs": []
    },
    {
      "cell_type": "code",
      "metadata": {
        "colab": {
          "base_uri": "https://localhost:8080/"
        },
        "id": "7UxmLY3i4VBf",
        "outputId": "279e72fe-b1cf-4331-b192-0fb8a7a3f1d4"
      },
      "source": [
        "# Create a MirroredStrategy.\n",
        "strategy = tf.distribute.MirroredStrategy()\n",
        "print('Number of devices: {}'.format(strategy.num_replicas_in_sync))\n",
        " "
      ],
      "execution_count": null,
      "outputs": [
        {
          "output_type": "stream",
          "name": "stdout",
          "text": [
            "INFO:tensorflow:Using MirroredStrategy with devices ('/job:localhost/replica:0/task:0/device:GPU:0',)\n",
            "Number of devices: 1\n"
          ]
        }
      ]
    },
    {
      "cell_type": "code",
      "metadata": {
        "id": "w_9JRNxP4oRg"
      },
      "source": [
        "\n",
        "# Open a strategy scope.\n",
        "with strategy.scope():\n",
        "  # Everything that creates variables should be under the strategy scope.\n",
        "  # In general this is only model construction & `compile()`.\n",
        "  model = keras.models.Sequential()\n",
        "\n",
        "  model.add(keras.layers.Conv2D(32, kernel_size = (3, 3), padding=\"valid\", activation='relu', input_shape = input_shape))\n",
        "  model.add(keras.layers.Conv2D(64, kernel_size = (3, 3), padding=\"valid\", activation='relu'))\n",
        "  model.add(keras.layers.MaxPooling2D(pool_size = (2, 2)))\n",
        "\n",
        "  model.add(keras.layers.Dropout(0.25))\n",
        "  model.add(keras.layers.Flatten())\n",
        "\n",
        "  model.add(keras.layers.Dense(128, activation='relu'))\n",
        "  model.add(keras.layers.Dropout(0.5))\n",
        "  model.add(keras.layers.Dense(num_category, activation='softmax'))\n"
      ],
      "execution_count": null,
      "outputs": []
    },
    {
      "cell_type": "code",
      "metadata": {
        "id": "l5o6ndq-400w",
        "colab": {
          "base_uri": "https://localhost:8080/"
        },
        "outputId": "5dec5a56-5586-46e1-f919-93c57fac1a9e"
      },
      "source": [
        "model.compile(loss = keras.losses.categorical_crossentropy,\n",
        "              optimizer = keras.optimizers.Adadelta(learning_rate=0.1, rho = 0.05),\n",
        "              metrics = ['accuracy'])"
      ],
      "execution_count": null,
      "outputs": [
        {
          "output_type": "stream",
          "name": "stdout",
          "text": [
            "INFO:tensorflow:Reduce to /job:localhost/replica:0/task:0/device:CPU:0 then broadcast to ('/job:localhost/replica:0/task:0/device:CPU:0',).\n",
            "INFO:tensorflow:Reduce to /job:localhost/replica:0/task:0/device:CPU:0 then broadcast to ('/job:localhost/replica:0/task:0/device:CPU:0',).\n",
            "INFO:tensorflow:Reduce to /job:localhost/replica:0/task:0/device:CPU:0 then broadcast to ('/job:localhost/replica:0/task:0/device:CPU:0',).\n",
            "INFO:tensorflow:Reduce to /job:localhost/replica:0/task:0/device:CPU:0 then broadcast to ('/job:localhost/replica:0/task:0/device:CPU:0',).\n"
          ]
        }
      ]
    },
    {
      "cell_type": "code",
      "metadata": {
        "id": "-Nau5kn643n6",
        "colab": {
          "base_uri": "https://localhost:8080/"
        },
        "outputId": "a46da2b0-231a-45b1-e7ac-9c92940d0fff"
      },
      "source": [
        "batch_size = 10000\n",
        "num_epoch = 30\n",
        "\n",
        "early_stopping = keras.callbacks.EarlyStopping(patience = 5, restore_best_weights = True)\n",
        "\n",
        "#model training\n",
        "history = model.fit(X_train, y_train,\n",
        "                    batch_size = batch_size,\n",
        "                    epochs = num_epoch,\n",
        "                    verbose = 1,\n",
        "                    validation_data=(X_test, y_test),\n",
        "                    callbacks = [early_stopping])\n"
      ],
      "execution_count": null,
      "outputs": [
        {
          "output_type": "stream",
          "name": "stdout",
          "text": [
            "Epoch 1/30\n",
            "INFO:tensorflow:Reduce to /job:localhost/replica:0/task:0/device:CPU:0 then broadcast to ('/job:localhost/replica:0/task:0/device:CPU:0',).\n",
            "INFO:tensorflow:Reduce to /job:localhost/replica:0/task:0/device:CPU:0 then broadcast to ('/job:localhost/replica:0/task:0/device:CPU:0',).\n",
            "INFO:tensorflow:Reduce to /job:localhost/replica:0/task:0/device:CPU:0 then broadcast to ('/job:localhost/replica:0/task:0/device:CPU:0',).\n",
            "INFO:tensorflow:Reduce to /job:localhost/replica:0/task:0/device:CPU:0 then broadcast to ('/job:localhost/replica:0/task:0/device:CPU:0',).\n",
            "INFO:tensorflow:Reduce to /job:localhost/replica:0/task:0/device:CPU:0 then broadcast to ('/job:localhost/replica:0/task:0/device:CPU:0',).\n",
            "INFO:tensorflow:Reduce to /job:localhost/replica:0/task:0/device:CPU:0 then broadcast to ('/job:localhost/replica:0/task:0/device:CPU:0',).\n",
            "6/6 [==============================] - 3s 259ms/step - loss: 2.2862 - accuracy: 0.1383 - val_loss: 2.2579 - val_accuracy: 0.2574\n",
            "Epoch 2/30\n",
            "6/6 [==============================] - 1s 218ms/step - loss: 2.2427 - accuracy: 0.2419 - val_loss: 2.1994 - val_accuracy: 0.4658\n",
            "Epoch 3/30\n",
            "6/6 [==============================] - 1s 220ms/step - loss: 2.1795 - accuracy: 0.3571 - val_loss: 2.1155 - val_accuracy: 0.5893\n",
            "Epoch 4/30\n",
            "6/6 [==============================] - 1s 216ms/step - loss: 2.0905 - accuracy: 0.4487 - val_loss: 2.0019 - val_accuracy: 0.6440\n",
            "Epoch 5/30\n",
            "6/6 [==============================] - 1s 217ms/step - loss: 1.9728 - accuracy: 0.5121 - val_loss: 1.8572 - val_accuracy: 0.6787\n",
            "Epoch 6/30\n",
            "6/6 [==============================] - 1s 216ms/step - loss: 1.8318 - accuracy: 0.5538 - val_loss: 1.6839 - val_accuracy: 0.7189\n",
            "Epoch 7/30\n",
            "6/6 [==============================] - 1s 219ms/step - loss: 1.6681 - accuracy: 0.5921 - val_loss: 1.4881 - val_accuracy: 0.7584\n",
            "Epoch 8/30\n",
            "6/6 [==============================] - 1s 218ms/step - loss: 1.4909 - accuracy: 0.6259 - val_loss: 1.2830 - val_accuracy: 0.7885\n",
            "Epoch 9/30\n",
            "6/6 [==============================] - 1s 216ms/step - loss: 1.3205 - accuracy: 0.6491 - val_loss: 1.0863 - val_accuracy: 0.8083\n",
            "Epoch 10/30\n",
            "6/6 [==============================] - 1s 219ms/step - loss: 1.1598 - accuracy: 0.6804 - val_loss: 0.9123 - val_accuracy: 0.8251\n",
            "Epoch 11/30\n",
            "6/6 [==============================] - 1s 217ms/step - loss: 1.0192 - accuracy: 0.7076 - val_loss: 0.7702 - val_accuracy: 0.8379\n",
            "Epoch 12/30\n",
            "6/6 [==============================] - 1s 218ms/step - loss: 0.9075 - accuracy: 0.7307 - val_loss: 0.6607 - val_accuracy: 0.8479\n",
            "Epoch 13/30\n",
            "6/6 [==============================] - 1s 216ms/step - loss: 0.8175 - accuracy: 0.7529 - val_loss: 0.5785 - val_accuracy: 0.8576\n",
            "Epoch 14/30\n",
            "6/6 [==============================] - 1s 219ms/step - loss: 0.7491 - accuracy: 0.7677 - val_loss: 0.5166 - val_accuracy: 0.8665\n",
            "Epoch 15/30\n",
            "6/6 [==============================] - 1s 217ms/step - loss: 0.6888 - accuracy: 0.7841 - val_loss: 0.4702 - val_accuracy: 0.8742\n",
            "Epoch 16/30\n",
            "6/6 [==============================] - 1s 218ms/step - loss: 0.6454 - accuracy: 0.7950 - val_loss: 0.4347 - val_accuracy: 0.8809\n",
            "Epoch 17/30\n",
            "6/6 [==============================] - 1s 216ms/step - loss: 0.6055 - accuracy: 0.8104 - val_loss: 0.4079 - val_accuracy: 0.8846\n",
            "Epoch 18/30\n",
            "6/6 [==============================] - 1s 217ms/step - loss: 0.5803 - accuracy: 0.8184 - val_loss: 0.3872 - val_accuracy: 0.8897\n",
            "Epoch 19/30\n",
            "6/6 [==============================] - 1s 217ms/step - loss: 0.5521 - accuracy: 0.8264 - val_loss: 0.3703 - val_accuracy: 0.8945\n",
            "Epoch 20/30\n",
            "6/6 [==============================] - 1s 215ms/step - loss: 0.5316 - accuracy: 0.8338 - val_loss: 0.3566 - val_accuracy: 0.8969\n",
            "Epoch 21/30\n",
            "6/6 [==============================] - 1s 216ms/step - loss: 0.5192 - accuracy: 0.8371 - val_loss: 0.3439 - val_accuracy: 0.9012\n",
            "Epoch 22/30\n",
            "6/6 [==============================] - 1s 217ms/step - loss: 0.4965 - accuracy: 0.8458 - val_loss: 0.3341 - val_accuracy: 0.9033\n",
            "Epoch 23/30\n",
            "6/6 [==============================] - 1s 218ms/step - loss: 0.4853 - accuracy: 0.8496 - val_loss: 0.3239 - val_accuracy: 0.9067\n",
            "Epoch 24/30\n",
            "6/6 [==============================] - 1s 217ms/step - loss: 0.4752 - accuracy: 0.8525 - val_loss: 0.3162 - val_accuracy: 0.9096\n",
            "Epoch 25/30\n",
            "6/6 [==============================] - 1s 216ms/step - loss: 0.4637 - accuracy: 0.8556 - val_loss: 0.3090 - val_accuracy: 0.9117\n",
            "Epoch 26/30\n",
            "6/6 [==============================] - 1s 218ms/step - loss: 0.4564 - accuracy: 0.8595 - val_loss: 0.3020 - val_accuracy: 0.9138\n",
            "Epoch 27/30\n",
            "6/6 [==============================] - 1s 218ms/step - loss: 0.4453 - accuracy: 0.8637 - val_loss: 0.2955 - val_accuracy: 0.9147\n",
            "Epoch 28/30\n",
            "6/6 [==============================] - 1s 218ms/step - loss: 0.4380 - accuracy: 0.8665 - val_loss: 0.2893 - val_accuracy: 0.9162\n",
            "Epoch 29/30\n",
            "6/6 [==============================] - 1s 217ms/step - loss: 0.4303 - accuracy: 0.8679 - val_loss: 0.2831 - val_accuracy: 0.9174\n",
            "Epoch 30/30\n",
            "6/6 [==============================] - 1s 216ms/step - loss: 0.4213 - accuracy: 0.8705 - val_loss: 0.2775 - val_accuracy: 0.9184\n"
          ]
        }
      ]
    },
    {
      "cell_type": "code",
      "metadata": {
        "id": "o6Mil5KI5Yud",
        "colab": {
          "base_uri": "https://localhost:8080/",
          "height": 504
        },
        "outputId": "57c8e59b-be49-448a-cecf-1defc802b0b5"
      },
      "source": [
        "import pandas as pd\n",
        "import matplotlib.pyplot as plt\n",
        "\n",
        "\n",
        "pd.DataFrame(history.history).plot(figsize=(16, 8)) \n",
        "plt.grid(True)\n",
        "plt.gca().set_ylim(0, 3) # set the vertical range to [0-1] plt.show()"
      ],
      "execution_count": null,
      "outputs": [
        {
          "output_type": "execute_result",
          "data": {
            "text/plain": [
              "(0.0, 3.0)"
            ]
          },
          "metadata": {},
          "execution_count": 21
        },
        {
          "output_type": "display_data",
          "data": {
            "image/png": "[encoded data removed]",
            "text/plain": [
              "<Figure size 1152x576 with 1 Axes>"
            ]
          },
          "metadata": {
            "needs_background": "light"
          }
        }
      ]
    }
  ]
}
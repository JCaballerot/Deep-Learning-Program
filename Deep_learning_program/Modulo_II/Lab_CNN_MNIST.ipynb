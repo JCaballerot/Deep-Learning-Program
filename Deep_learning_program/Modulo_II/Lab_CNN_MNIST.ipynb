{
  "nbformat": 4,
  "nbformat_minor": 0,
  "metadata": {
    "anaconda-cloud": {},
    "kernelspec": {
      "name": "python3",
      "display_name": "Python 3"
    },
    "colab": {
      "name": "Lab CNN MNIST.ipynb",
      "provenance": [],
      "collapsed_sections": [],
      "machine_shape": "hm",
      "include_colab_link": true
    }
  },
  "cells": [
    {
      "cell_type": "markdown",
      "metadata": {
        "id": "view-in-github",
        "colab_type": "text"
      },
      "source": [
        "<a href=\"https://colab.research.google.com/github/JCaballerot/Deep_learning_program/blob/main/Deep_learning_program/Modulo_II/Lab_CNN_MNIST.ipynb\" target=\"_parent\"><img src=\"https://colab.research.google.com/assets/colab-badge.svg\" alt=\"Open In Colab\"/></a>"
      ]
    },
    {
      "cell_type": "markdown",
      "metadata": {
        "id": "Rn5JENlUtil9"
      },
      "source": [
        "<h1 align=\"center\"><font size=\"5\">APLICACIÓN DE REDES NEURONALES CONVOLUCIONALES</font></h1>"
      ]
    },
    {
      "cell_type": "markdown",
      "metadata": {
        "id": "npfFCE3KRF4Z"
      },
      "source": [
        "Utilizaremos el famoso [MNIST Dataset](https://cocl.us/0uk5s) para construir dos redes neuronales capaces de realizar la clasificación de dígitos escritos a mano. La primera red es un perceptrón multicapa simple (MLP) y la segunda es una red neuronal convolucional (CNN de ahora en adelante). En otras palabras, cuando se le da una entrada, nuestro algoritmo dirá, con algún error asociado, qué tipo de dígito representa esta entrada."
      ]
    },
    {
      "cell_type": "markdown",
      "metadata": {
        "id": "XDU3LmFSRF4a"
      },
      "source": [
        "---"
      ]
    },
    {
      "cell_type": "markdown",
      "metadata": {
        "id": "ldzSumTZRF4b"
      },
      "source": [
        "\n",
        "<div class=\"alert alert-block alert-info\" style=\"margin-top: 20px\">\n",
        "<font size = 3><strong></strong></font>\n",
        "<br>\n",
        "<h2>Tabla de Contenidos</h2>\n",
        "<ol>\n",
        "    <li><a href=\"#ref1\">¿Qué es Deep Learning?</a></li>\n",
        "    <li><a href=\"#ref2\">Test: ¿Cómo Trabaja TensorFlow?</a></li>\n",
        "    <li><a href=\"#ref3\">Parte 1: Clasifica MNIST usando un modelo simple</a></li>\n",
        "    <li><a href=\"#ref4\">Evaluando el resultado final</a></li>\n",
        "    <li><a href=\"#ref5\">Cómo potenciar el modelo?</a></li>\n",
        "    <li><a href=\"#ref6\">Parte 2: Aplicando Deep Learning en MNIST</a></li>\n",
        "    <li><a href=\"#ref7\">Resumen: Red neuronal convolucional profunda (Deep Convolutional Neural Network)</a></li>\n",
        "    <li><a href=\"#ref8\">Definiendo funciones y entrenando el modelo</a></li>\n",
        "    <li><a href=\"#ref9\">Evaluando el modelo</a></li>\n",
        "</ol>    \n",
        "</div>"
      ]
    },
    {
      "cell_type": "markdown",
      "metadata": {
        "id": "sZuNU05yRF4d"
      },
      "source": [
        "<hr>"
      ]
    },
    {
      "cell_type": "markdown",
      "metadata": {
        "id": "tMBZnXUyRF4e"
      },
      "source": [
        "<a id=\"ref1\"></a>\n",
        "<h2>¿Qué es Deep Learning?</h2>"
      ]
    },
    {
      "cell_type": "markdown",
      "metadata": {
        "id": "x4eHKtB2RF4f"
      },
      "source": [
        "<b>Teoría:</b> Deep Learning (también conocido como aprendizaje estructurado profundo, aprendizaje jerárquico o aprendizaje automático profundo) es una rama del aprendizaje automático basada en un conjunto de algoritmos que intentan modelar abstracciones de alto nivel en datos mediante el uso de múltiples capas de procesamiento, con estructuras complejas o de otro tipo, compuesto por múltiples transformaciones no lineales."
      ]
    },
    {
      "cell_type": "markdown",
      "metadata": {
        "id": "cv-gJD7-RF4g"
      },
      "source": [
        "<img src=\"https://ibm.box.com/shared/static/gcbbrh440604cj2nksu3f44be87b8ank.png\" alt=\"HTML5 Icon\" style=\"width: 600px; height: 450px;\">\n",
        "<div style=\"text-align: center\">Es el momento perfecto para deep learning. Nuestro cerebro no funciona con solo una o tres capas. ¿Por qué sería diferente con las máquinas ? </div>"
      ]
    },
    {
      "cell_type": "markdown",
      "metadata": {
        "id": "mXZ0aRqTRF4h"
      },
      "source": [
        "<b>Definiendo \"Deep\":</b> en este contexto, \"deep\" significa que estamos estudiando una red neuronal que tiene varias capas ocultas (más de una), sin importar el tipo (convolucional, agrupación, normalización, totalmente conectada, etc.). La parte más interesante es que algunos artículos notaron que las redes neuronales profundas con las arquitecturas / hiperparámetros correctos logran mejores resultados que las redes neuronales superficiales con el mismo poder computacional (por ejemplo, número de neuronas o conexiones). "
      ]
    },
    {
      "cell_type": "markdown",
      "metadata": {
        "id": "ygrqBhbQRF4j"
      },
      "source": [
        "<b>En la práctica, definiendo \"Learning\":</b> En el contexto del aprendizaje supervisado, el reconocimiento de dígitos en nuestro caso, la parte de aprendizaje consiste en un target / característica que se va a predecir utilizando un conjunto dado de observaciones con la predicción final ya conocida (etiqueta). En nuestro caso, el objetivo será el dígito (0, 1, 2, 3, 4, 5, 6, 7, 8, 9) y las observaciones son la intensidad y la posición relativa de los píxeles. Después de algún entrenamiento, es posible generar una \"función\" que mapee las entradas (imagen de dígitos) a las salidas deseadas (tipo de dígito). El único problema es qué tan bien se produce esta operación de mapa. Al tratar de generar esta \"función\", el proceso de entrenamiento continúa hasta que el modelo alcanza el nivel deseado de precisión en los datos de entrenamiento."
      ]
    },
    {
      "cell_type": "markdown",
      "metadata": {
        "id": "sOCyOlpsRF4k"
      },
      "source": [
        "<hr>"
      ]
    },
    {
      "cell_type": "markdown",
      "metadata": {
        "id": "9NphS5fwRF4l"
      },
      "source": [
        "<h2>Instalando TensorFlow </h2>\n",
        "\n",
        "Comenzamos instalando TensorFlow versión 2.2.0 y sus requisitos previos requeridos."
      ]
    },
    {
      "cell_type": "code",
      "metadata": {
        "id": "Gv59cCItRF4m"
      },
      "source": [
        "!pip install grpcio==1.24.3\n",
        "!pip install tensorflow==2.2.0"
      ],
      "execution_count": null,
      "outputs": []
    },
    {
      "cell_type": "markdown",
      "metadata": {
        "id": "qhpVNuEyRF4v"
      },
      "source": [
        "<b>Considera:</b> Este notebook ha sido creado usando TensorFlow versión 2.2, y podría no trabajar correctamente en otras versiones. Comprueba aquí:"
      ]
    },
    {
      "cell_type": "code",
      "metadata": {
        "id": "1UKjMK6dRF4x"
      },
      "source": [
        "import tensorflow as tf\n",
        "from IPython.display import Markdown, display\n",
        "\n",
        "def printmd(string):\n",
        "    display(Markdown('# <span style=\"color:red\">'+string+'</span>'))\n",
        "\n",
        "\n",
        "if not tf.__version__ >= '2.2.0':\n",
        "    printmd('<<<<<!!!!! ERROR !!!! por favor realice el upgrade para el TensorFlow 2.2.0, o resetear tu Kernel (Kernel->Restart & Clear Output)>>>>>')"
      ],
      "execution_count": null,
      "outputs": []
    },
    {
      "cell_type": "markdown",
      "metadata": {
        "id": "pYL_MNRsRF43"
      },
      "source": [
        "Primero clasificamos MNIST usando un perceptrón multicapa simple y luego, en la segunda parte, usamos el aprendizaje profundo para mejorar la precisión de nuestros resultados.\n",
        "\n",
        "<a id=\"ref3\"></a>\n",
        "<h2>Parte 1: Clasificando MNIST usando un modelo simple.</h2>"
      ]
    },
    {
      "cell_type": "markdown",
      "metadata": {
        "id": "qJnYJPpcRF43"
      },
      "source": [
        "Vamos a crear un perceptrón multicapa simple, un tipo simple de red neuronal, para realizar tareas de clasificación en el conjunto de datos de dígitos MNIST. Si no está familiarizado con el dataset MNIST, para leer más: <a href=\"https://cocl.us/0uk5s\">click aquí</a> "
      ]
    },
    {
      "cell_type": "markdown",
      "metadata": {
        "id": "oMvr_zZ4RF44"
      },
      "source": [
        "<h3>¿Qué es MNIST?</h3>"
      ]
    },
    {
      "cell_type": "markdown",
      "metadata": {
        "id": "FlfvIZWXRF45"
      },
      "source": [
        "Según el sitio web de LeCun, el MNIST es una: \"dataset de dígitos escritos a mano que tiene un conjunto de entrenamiento de 60,000 ejemplos y un conjunto de prueba de 10,000 ejemplos. Es un subconjunto de un conjunto más grande disponible en NIST. Los dígitos han sido de tamaño normalizado y centrado en una imagen de tamaño fijo \"."
      ]
    },
    {
      "cell_type": "markdown",
      "metadata": {
        "id": "q_ynh7upRF46"
      },
      "source": [
        "Importe el dataset MNIST con la función integrada de TensorFlow</h3>"
      ]
    },
    {
      "cell_type": "markdown",
      "metadata": {
        "id": "IucxJDwORF47"
      },
      "source": [
        "Es muy importante notar que MNIST es un dataset altamente optimizado y no contiene imágenes. Deberá crear su propio código si desea ver los dígitos reales. Otra nota al margen importante es el esfuerzo que los autores invirtieron en este dataset con operaciones de normalización y centrado. "
      ]
    },
    {
      "cell_type": "code",
      "metadata": {
        "id": "3P54VB93RF47",
        "colab": {
          "base_uri": "https://localhost:8080/"
        },
        "outputId": "de816fa0-2231-4eca-d29f-223018124b58"
      },
      "source": [
        "mnist = tf.keras.datasets.mnist\n",
        "(x_train, y_train), (x_test, y_test) = mnist.load_data()"
      ],
      "execution_count": null,
      "outputs": [
        {
          "output_type": "stream",
          "name": "stdout",
          "text": [
            "Downloading data from https://storage.googleapis.com/tensorflow/tf-keras-datasets/mnist.npz\n",
            "11493376/11490434 [==============================] - 0s 0us/step\n",
            "11501568/11490434 [==============================] - 0s 0us/step\n"
          ]
        }
      ]
    },
    {
      "cell_type": "code",
      "metadata": {
        "id": "8mx-ofo3xNu8"
      },
      "source": [
        "x_train"
      ],
      "execution_count": null,
      "outputs": []
    },
    {
      "cell_type": "code",
      "metadata": {
        "id": "Z8BuuKjZydTB"
      },
      "source": [
        "y_train"
      ],
      "execution_count": null,
      "outputs": []
    },
    {
      "cell_type": "markdown",
      "metadata": {
        "id": "yzTb-E-PRF4_"
      },
      "source": [
        "Los datos de características están entre 0 y 255, y lo normalizaremos para mejorar el rendimiento de optimización."
      ]
    },
    {
      "cell_type": "code",
      "metadata": {
        "id": "Ief6Bk4_RF5B"
      },
      "source": [
        "x_train, x_test = x_train / 255.0, x_test / 255.0"
      ],
      "execution_count": null,
      "outputs": []
    },
    {
      "cell_type": "markdown",
      "metadata": {
        "id": "LUvjLUBXRF5G"
      },
      "source": [
        "Revisemos los primeros valores de etiqueta:"
      ]
    },
    {
      "cell_type": "code",
      "metadata": {
        "id": "F_0JR9u-RF5J",
        "colab": {
          "base_uri": "https://localhost:8080/"
        },
        "outputId": "4f3d87c1-ece9-4115-8404-41f1b16a4711"
      },
      "source": [
        "print(y_train[0:5])"
      ],
      "execution_count": null,
      "outputs": [
        {
          "output_type": "stream",
          "name": "stdout",
          "text": [
            "[5 0 4 1 9]\n"
          ]
        }
      ]
    },
    {
      "cell_type": "markdown",
      "metadata": {
        "id": "Kom_kdhiRF5O"
      },
      "source": [
        "El esquema de etiquetas actual simplemente identifica la categoría a la que pertenece cada punto de datos (a cada dígito escrito a mano se le asigna una categoría igual al valor numérico). Necesitamos convertir esto en un one-hot encoded vector. A diferencia de la representación binaria, las etiquetas se presentarán de manera que para representar un número N, the $N^{ésimo}$ bit es 1 mientras que los otros bits ason 0. Por ejemplo, cinco y cero en un código binario serían:"
      ]
    },
    {
      "cell_type": "markdown",
      "metadata": {
        "id": "_cX8nGBrRF5P"
      },
      "source": [
        "<pre>\n",
        "Representación numérica:    0\n",
        "Binary encoding:        [2^5]  [2^4]   [2^3]   [2^2]   [2^1]   [2^0]  \n",
        "Array/vector:             0      0       0       0       0       0 \n",
        "\n",
        "Representación numérica:    5\n",
        "Binary encoding:        [2^5]  [2^4]   [2^3]   [2^2]   [2^1]   [2^0]  \n",
        "Array/vector:             0      0       0       1       0       1  \n",
        "</pre>"
      ]
    },
    {
      "cell_type": "markdown",
      "metadata": {
        "id": "ze5k0PpVRF5R"
      },
      "source": [
        "Usando una notación diferente, los mismos dígitos usando la representación de un vector activo se pueden mostrar como:"
      ]
    },
    {
      "cell_type": "markdown",
      "metadata": {
        "id": "3T_eDVuaRF5S"
      },
      "source": [
        "<pre>\n",
        "Representación numérica:   0\n",
        "One-hot encoding:        [5]   [4]    [3]    [2]    [1]   [0]  \n",
        "Array/vector:             0     0      0      0      0     1   \n",
        "\n",
        "Representación numérica:   5\n",
        "One-hot encoding:        [5]   [4]    [3]    [2]    [1]    [0]  \n",
        "Array/vector:             1     0      0      0      0      0   \n",
        "</pre>"
      ]
    },
    {
      "cell_type": "markdown",
      "metadata": {
        "id": "Eg-dAK3oRF5V"
      },
      "source": [
        "Esta es una operación estándar y se muestra a continuación.\n",
        "\n"
      ]
    },
    {
      "cell_type": "code",
      "metadata": {
        "id": "GS3qiWmzRF5W",
        "colab": {
          "base_uri": "https://localhost:8080/"
        },
        "outputId": "f1f68e37-a061-430f-d93e-e8fed7c95f82"
      },
      "source": [
        "print(\"Targets categóricos\")\n",
        "print(y_train[0:5])\n",
        "\n",
        "# Target one hot encoded\n",
        "y_train = tf.one_hot(y_train, 10)\n",
        "y_test = tf.one_hot(y_test, 10)\n",
        "\n",
        "print(\"one hot encoded Target\")\n",
        "print(y_train[0:5])"
      ],
      "execution_count": null,
      "outputs": [
        {
          "output_type": "stream",
          "name": "stdout",
          "text": [
            "Targets categóricos\n",
            "[5 0 4 1 9]\n",
            "one hot encoded Target\n",
            "tf.Tensor(\n",
            "[[0. 0. 0. 0. 0. 1. 0. 0. 0. 0.]\n",
            " [1. 0. 0. 0. 0. 0. 0. 0. 0. 0.]\n",
            " [0. 0. 0. 0. 1. 0. 0. 0. 0. 0.]\n",
            " [0. 1. 0. 0. 0. 0. 0. 0. 0. 0.]\n",
            " [0. 0. 0. 0. 0. 0. 0. 0. 0. 1.]], shape=(5, 10), dtype=float32)\n"
          ]
        }
      ]
    },
    {
      "cell_type": "markdown",
      "metadata": {
        "id": "s6LG5MM1RF5a"
      },
      "source": [
        "<h3>Analizando la data importada</h3>"
      ]
    },
    {
      "cell_type": "markdown",
      "metadata": {
        "id": "mHhuaLxgRF5b"
      },
      "source": [
        "Los datos importados se pueden dividir de la siguiente manera:\n",
        "\n",
        "- Training >>  Utilice el conjunto de datos proporcionado con entradas y salidas relacionadas para el entrenamiento de NN. En nuestro caso, si da una imagen que sabe que representa un \"nueve\", este conjunto le dirá a la red neuronal que esperamos un \"nueve\" como salida.  \n",
        "        - 60,000 observaciones\n",
        "        - x_train para los inputs\n",
        "        - y_train para los outputs/target\n",
        "  \n",
        " \n",
        "- Test >> El modelo no tiene acceso a esta información antes de la fase de prueba. Se utiliza para evaluar el rendimiento y la precisión del modelo frente a \"situaciones de la vida real\". No hay más optimización más allá de este punto.\n",
        "        - 10,000 observaciones\n",
        "        - x_test para los inputs\n",
        "        - y_test para los outputs/target\n",
        " \n",
        "- La validación de data no es utilizada en este ejemplo."
      ]
    },
    {
      "cell_type": "code",
      "metadata": {
        "id": "HvzaQW8TRF5b",
        "colab": {
          "base_uri": "https://localhost:8080/"
        },
        "outputId": "37e01cf5-15a2-4cf2-f683-ae74c2c6613d"
      },
      "source": [
        "print(\"número de ejemplos de training:\" , x_train.shape[0])\n",
        "print(\"número de ejemplos de tests:\" , x_test.shape[0])"
      ],
      "execution_count": null,
      "outputs": [
        {
          "output_type": "stream",
          "name": "stdout",
          "text": [
            "número de ejemplos de training: 60000\n",
            "número de ejemplos de tests: 10000\n"
          ]
        }
      ]
    },
    {
      "cell_type": "markdown",
      "metadata": {
        "id": "E0VsVhjmRF5g"
      },
      "source": [
        "La nueva API de conjunto de datos en TensorFlow 2.X le permite definir tamaños de lote como parte del conjunto de datos. Esto le permite iterar a través de subconjuntos (batches) de datos durante el entrenamiento. Esta es una práctica común que mejora el rendimiento al calcular gradientes en lotes más pequeños. Veremos esto en acción durante el paso de entrenamiento.\n",
        "\n",
        "Además, puede mezclar el conjunto de datos si cree que hay una distribución sesgada de datos en el conjunto de datos original que puede resultar en lotes con distribuciones diferentes. No estamos mezclando datos aquí."
      ]
    },
    {
      "cell_type": "code",
      "metadata": {
        "id": "gFGulq6-RF5h"
      },
      "source": [
        "train_ds = tf.data.Dataset.from_tensor_slices((x_train, y_train)).batch(50)\n",
        "test_ds = tf.data.Dataset.from_tensor_slices((x_test, y_test)).batch(50)"
      ],
      "execution_count": null,
      "outputs": []
    },
    {
      "cell_type": "markdown",
      "metadata": {
        "id": "bnAKsWM8RF5n"
      },
      "source": [
        "<h3>Conversión de una imagen 2D en un vector 1D</h3>"
      ]
    },
    {
      "cell_type": "markdown",
      "metadata": {
        "id": "dG3bPlHDRF5o"
      },
      "source": [
        "Las imágenes MNIST son imágenes cuadradas en miniatura en blanco y negro con 28x28 píxeles. A cada píxel se le asigna una intensidad (originalmente en una escala de 0 a 255). Para que la entrada sea útil para nosotros, necesitamos que estos estén organizados en un vector 1D usando una estrategia consistente, como se muestra en la figura siguiente. Podemos usar Flatten para realizar esta tarea."
      ]
    },
    {
      "cell_type": "code",
      "metadata": {
        "id": "k47MxCpdRF5p",
        "colab": {
          "base_uri": "https://localhost:8080/"
        },
        "outputId": "2e17a8d7-8e05-4b5e-e3e7-bb074aad832f"
      },
      "source": [
        "# Ejemplo de una clase Flatten y operation\n",
        "from tensorflow.keras.layers import Flatten\n",
        "flatten = Flatten(dtype='float32')\n",
        "\n",
        "\"original data shape\"\n",
        "print(x_train.shape)\n",
        "\n",
        "\"flattened shape\"\n",
        "print(flatten(x_train).shape)"
      ],
      "execution_count": null,
      "outputs": [
        {
          "output_type": "stream",
          "name": "stdout",
          "text": [
            "(60000, 28, 28)\n",
            "(60000, 784)\n"
          ]
        }
      ]
    },
    {
      "cell_type": "markdown",
      "metadata": {
        "id": "ME4CyIAfRF5v"
      },
      "source": [
        "<img src=\"Flatten.png\" alt=\"HTML5 Icon\" style=\"width:350px\"> \n",
        "<div style=\"text-align:center\">Ilutstración de la operación de Flattening</div>"
      ]
    },
    {
      "cell_type": "markdown",
      "metadata": {
        "id": "pkF91c6pRF5x"
      },
      "source": [
        "<h3>Asignando bias y pesos a los tensores null </h3>"
      ]
    },
    {
      "cell_type": "markdown",
      "metadata": {
        "id": "G45qw4-0RF5x"
      },
      "source": [
        "Ahora vamos a crear los pesos y los sesgos, para ello se utilizarán como matrices llenas de ceros. Los valores que elegimos aquí pueden ser críticos, pero cubriremos una mejor manera en la segunda parte, en lugar de este tipo de inicialización.\n",
        "Dado que estos valores se ajustarán durante el proceso de optimización, los definimos usando `tf.Variable`.\n",
        "\n",
        "NOTA: `tf.Variable` crea variables ajustables que están en el espacio de nombres global, por lo que cualquier función que haga referencia a estas variables no necesita pasar las variables. Pero son globales, ¡cuidado al nombrar!"
      ]
    },
    {
      "cell_type": "code",
      "metadata": {
        "id": "acygzq5QRF5y"
      },
      "source": [
        "# Peso del tensor\n",
        "W = tf.Variable(tf.zeros([784, 10], tf.float32))\n",
        "\n",
        "# Bias tensor\n",
        "b = tf.Variable(tf.zeros([10], tf.float32))"
      ],
      "execution_count": null,
      "outputs": []
    },
    {
      "cell_type": "markdown",
      "metadata": {
        "id": "x_Ij9FgbRF54"
      },
      "source": [
        "<h3>Agregando pesos y  Biases al input</h3>\n"
      ]
    },
    {
      "cell_type": "markdown",
      "metadata": {
        "id": "Fv2eul7WRF56"
      },
      "source": [
        "La única diferencia para nuestra siguiente operación con respecto a la imagen de abajo es que estamos usando la convención matemática para lo que se está ejecutando en la ilustración. La operación tf.matmul realiza una multiplicación de matrices entre x (inputs) y W (pesos) y, después del código, agrega bias."
      ]
    },
    {
      "cell_type": "markdown",
      "metadata": {
        "id": "kOcSpj10RF57"
      },
      "source": [
        "\n",
        "<img src=\"https://ibm.box.com/shared/static/88ksiymk1xkb10rgk0jwr3jw814jbfxo.png\" alt=\"HTML5 Icon\" style=\"width:350px\"> \n",
        "<div style=\"text-align:center\">Ilustración que muestra cómo se agregan pesos y sesgos a las neuronas / nodos. </div>\n"
      ]
    },
    {
      "cell_type": "code",
      "metadata": {
        "id": "eu3w5tptRF57"
      },
      "source": [
        "def forward(x):\n",
        "    return tf.matmul(x,W) + b"
      ],
      "execution_count": null,
      "outputs": []
    },
    {
      "cell_type": "markdown",
      "metadata": {
        "id": "Z3n4jQGVRF6B"
      },
      "source": [
        "<h3> Regression Softmax</h3>"
      ]
    },
    {
      "cell_type": "markdown",
      "metadata": {
        "id": "vm9c7svfRF6C"
      },
      "source": [
        "Softmax es una función de activación que se utiliza normalmente en problemas de clasificación. Genera las probabilidades de la salida. Por ejemplo, nuestro modelo no estará 100% seguro de que un dígito sea el número nueve, en cambio, la respuesta será una distribución de probabilidades donde, si el modelo es correcto, el número nueve tendrá una probabilidad mayor que los otros dígitos.\n",
        "\n",
        "A modo de comparación, a continuación se muestra el vector one-hot para una etiqueta de nueve dígitos:"
      ]
    },
    {
      "cell_type": "markdown",
      "metadata": {
        "id": "jckP_tyFRF6D"
      },
      "source": [
        " 0 --> 0  \n",
        " 1 --> 0 \n",
        " 2 --> 0\n",
        " 3 --> 0\n",
        " 4 --> 0\n",
        " 5 --> 0\n",
        " 6 --> 0\n",
        " 7 --> 0\n",
        " 8 --> 0\n",
        " 9 --> 1"
      ]
    },
    {
      "cell_type": "markdown",
      "metadata": {
        "id": "DPktTEPTRF6D"
      },
      "source": [
        "Una máquina no tiene toda esta certeza, por lo que queremos saber cuál es la mejor suposición, pero también queremos entender qué tan segura estaba y cuál era la segunda mejor opción. A continuación se muestra un ejemplo de una distribución hipotética de nueve dígitos:"
      ]
    },
    {
      "cell_type": "markdown",
      "metadata": {
        "id": "trUOF1CrRF6E"
      },
      "source": [
        " 0 -->0.01  \n",
        " 1 -->0.02  \n",
        " 2 -->0.03  \n",
        " 3 -->0.02  \n",
        " 4 -->0.12  \n",
        " 5 -->0.01  \n",
        " 6 -->0.03\n",
        " 7 -->0.06\n",
        " 8 -->0.10\n",
        " 9 -->0.60 "
      ]
    },
    {
      "cell_type": "markdown",
      "metadata": {
        "id": "7kW-oLhkRF6F"
      },
      "source": [
        "Softmax es simplemente un exponencial de cada valor de un vector que también está normalizado. La formula es:\n",
        "\n",
        "$$\\sigma(z_i) = \\frac{e^{z_i}}{\\sum{e^{z_i}}}$$"
      ]
    },
    {
      "cell_type": "code",
      "metadata": {
        "id": "WFJC84CNRF6G",
        "colab": {
          "base_uri": "https://localhost:8080/"
        },
        "outputId": "0132876d-c9b1-4a7c-c869-1620f0792eab"
      },
      "source": [
        "# un ejemplo de cálculo softmax en un vector de entrada\n",
        "vector = [10, 0.2, 8]\n",
        "softmax = tf.nn.softmax(vector)\n",
        "print(\"cálculo softmax\")\n",
        "print(softmax.numpy())\n",
        "print(\"verificando la  normalización\")\n",
        "print(tf.reduce_sum(softmax))\n",
        "print(\"encontrar el vector con mayor valor (label assignment)\")\n",
        "print(\"categoría\", tf.argmax(softmax).numpy())"
      ],
      "execution_count": null,
      "outputs": [
        {
          "output_type": "stream",
          "name": "stdout",
          "text": [
            "cálculo softmax\n",
            "[8.8075405e-01 4.8839214e-05 1.1919710e-01]\n",
            "verificando la  normalización\n",
            "tf.Tensor(1.0, shape=(), dtype=float32)\n",
            "encontrar el vector con mayor valor (label assignment)\n",
            "categoría 0\n"
          ]
        }
      ]
    },
    {
      "cell_type": "markdown",
      "metadata": {
        "id": "x3pwynbcRF6L"
      },
      "source": [
        "Ahora podemos definir nuestra capa de salida\n"
      ]
    },
    {
      "cell_type": "code",
      "metadata": {
        "id": "ToW08gmMRF6L"
      },
      "source": [
        "def activate(x):\n",
        "    return tf.nn.softmax(forward(x))"
      ],
      "execution_count": null,
      "outputs": []
    },
    {
      "cell_type": "markdown",
      "metadata": {
        "id": "07xuMpttRF6P"
      },
      "source": [
        "La salida de la función logística se utiliza para la clasificación entre dos targets 0/1. La función Softmax es un tipo generalizado de función logística. Es decir, Softmax puede generar una distribución de probabilidad categórica multiclase."
      ]
    },
    {
      "cell_type": "markdown",
      "metadata": {
        "id": "BA8D2REqRF6P"
      },
      "source": [
        "Creemos una función de modelo por conveniencia.\n",
        "\n"
      ]
    },
    {
      "cell_type": "code",
      "metadata": {
        "id": "3xMI96uWRF6Q"
      },
      "source": [
        "def model(x):\n",
        "    x = flatten(x)\n",
        "    return activate(x)"
      ],
      "execution_count": null,
      "outputs": []
    },
    {
      "cell_type": "markdown",
      "metadata": {
        "id": "-Zd2eWMuRF6T"
      },
      "source": [
        "<h3>Función de Coste</h3>"
      ]
    },
    {
      "cell_type": "markdown",
      "metadata": {
        "id": "O6w7gxtoRF6U"
      },
      "source": [
        "Es una función que se utiliza para minimizar la diferencia entre las respuestas correctas (labels) y los resultados estimados por nuestra Red. Aquí usamos la función de entropía cruzada, que es una función de coste popular utilizada para modelos categóricos. La función se define en términos de probabilidades, por lo que debemos utilizar vectores normalizados. Se da como:\n",
        "\n",
        "$$ CrossEntropy = \\sum{y_{Label}\\cdot \\log(y_{Prediction})}$$"
      ]
    },
    {
      "cell_type": "code",
      "metadata": {
        "id": "i1DiW0VRRF6V",
        "colab": {
          "base_uri": "https://localhost:8080/"
        },
        "outputId": "dc991db1-61fe-41b8-8523-af2f98c6ce44"
      },
      "source": [
        "def cross_entropy(y_label, y_pred):\n",
        "    return (-tf.reduce_sum(y_label * tf.math.log(y_pred + 1.e-10)))\n",
        "# Agregamos 1e-10 para prevenir errores en los cálculos zero\n",
        "\n",
        "# función de coste para modelo no optimizado\n",
        "cross_entropy(y_train, model(x_train)).numpy()"
      ],
      "execution_count": null,
      "outputs": [
        {
          "output_type": "execute_result",
          "data": {
            "text/plain": [
              "138155.1"
            ]
          },
          "metadata": {},
          "execution_count": 21
        }
      ]
    },
    {
      "cell_type": "markdown",
      "metadata": {
        "id": "jBb4ZMMCRF6Z"
      },
      "source": [
        "<h3>Tipo de optimización: Descenso Gradiente</h3>"
      ]
    },
    {
      "cell_type": "markdown",
      "metadata": {
        "id": "E_5TwM-hRF6a"
      },
      "source": [
        "Esta es la parte en la que configura el optimizador para su red neuronal. Hay varios optimizadores disponibles, en nuestro caso usaremos Descenso Gradiente porque es un optimizador bien establecido."
      ]
    },
    {
      "cell_type": "code",
      "metadata": {
        "id": "Q0rVaynkRF6b"
      },
      "source": [
        "optimizer = tf.keras.optimizers.SGD(learning_rate = 0.25)"
      ],
      "execution_count": null,
      "outputs": []
    },
    {
      "cell_type": "markdown",
      "metadata": {
        "id": "vFS8n5MqRF6f"
      },
      "source": [
        "Ahora definimos el paso de entrenamiento. Este paso usa `GradientTape` para calcular automáticamente las derivadas de las funciones que hemos creado manualmente y las aplica usando el optimizador` SGD`."
      ]
    },
    {
      "cell_type": "code",
      "metadata": {
        "id": "Yl1Zh_SrRF6f"
      },
      "source": [
        "def train_step(x, y ):\n",
        "    with tf.GradientTape() as tape:\n",
        "        # calculando la función de pérdida\n",
        "        current_loss = cross_entropy( y, model(x))\n",
        "        # calculando el gradiente\n",
        "        #(¡Esto es automático!¡Incluso con funciones especializadas!)\n",
        "        grads = tape.gradient( current_loss , [W,b] )\n",
        "        # Aplicar el SGD a nuestras variables W y b\n",
        "        optimizer.apply_gradients( zip( grads , [W,b] ) )     \n",
        "    return current_loss.numpy()"
      ],
      "execution_count": null,
      "outputs": []
    },
    {
      "cell_type": "markdown",
      "metadata": {
        "id": "IPfe3x2qRF6k"
      },
      "source": [
        "<h3>Training batches</h3>"
      ]
    },
    {
      "cell_type": "markdown",
      "metadata": {
        "id": "qwHS0YoQRF6l"
      },
      "source": [
        "Entrena usando Gradient Descent en minibatch.\n",
        "\n",
        "En la práctica, Descenso Gradiente Batch no se usa a menudo porque es demasiado costoso computacionalmente. Lo bueno de este método es que tiene el gradiente real, pero con la costosa tarea de computación de usar todo el conjunto de datos de una vez. Debido a este problema, las redes neuronales suelen utilizar minibatch para entrenar.\n",
        "\n",
        "Ya hemos dividido nuestro conjunto de datos completo en lotes de 50 cada uno utilizando la API de conjuntos de datos. Ahora podemos iterar a través de cada uno de esos batches para calcular un gradiente. Una vez que iteramos a través de todos los batches del dataset, completamos un **epoch** o un recorrido completo del dataset."
      ]
    },
    {
      "cell_type": "code",
      "metadata": {
        "id": "8487Gwa_RF6l",
        "colab": {
          "base_uri": "https://localhost:8080/"
        },
        "outputId": "a5a8748e-2521-418a-c40b-41ac9703f0f0"
      },
      "source": [
        "# Para ejecutar esta celda varias veces poner cero a los pesos\n",
        "# Peso del tensor\n",
        "W = tf.Variable(tf.zeros([784, 10],tf.float32))\n",
        "# Bias del tensor\n",
        "b = tf.Variable(tf.zeros([10],tf.float32))\n",
        "\n",
        "loss_values = []\n",
        "accuracies = []\n",
        "epochs = 10\n",
        "\n",
        "for i in range(epochs):\n",
        "    j=0\n",
        "    # cada batch tiene 50 ejemplos\n",
        "    for x_train_batch, y_train_batch in train_ds:\n",
        "        j+=1\n",
        "        current_loss = train_step(x_train_batch, y_train_batch)\n",
        "        if j%500==0: #reportando estadísticas batch intermitentes\n",
        "            print(\"epoch \", str(i), \"batch\", str(j), \"loss:\", str(current_loss) ) \n",
        "    \n",
        "    # recopilación de estadísticas en cada epoch ... función de coste y precisión\n",
        "    # función de coste\n",
        "    current_loss = cross_entropy( y_train, model( x_train )).numpy()\n",
        "    loss_values.append(current_loss)\n",
        "    correct_prediction = tf.equal(tf.argmax(model(x_train), axis=1),\n",
        "                                  tf.argmax(y_train, axis=1))\n",
        "    # presición\n",
        "    accuracy = tf.reduce_mean(tf.cast(correct_prediction, tf.float32)).numpy()\n",
        "    accuracies.append(accuracy)\n",
        "    print(\"end of epoch \", str(i), \"loss\", str(current_loss), \"accuracy\", str(accuracy) ) \n"
      ],
      "execution_count": null,
      "outputs": [
        {
          "output_type": "stream",
          "name": "stdout",
          "text": [
            "epoch  0 batch 500 loss: 321.2568\n",
            "epoch  0 batch 1000 loss: 268.77676\n",
            "end of epoch  0 loss 232957.34 accuracy 0.80016667\n",
            "epoch  1 batch 500 loss: 191.31088\n",
            "epoch  1 batch 1000 loss: 173.05966\n",
            "end of epoch  1 loss 217268.58 accuracy 0.8214667\n",
            "epoch  2 batch 500 loss: 219.25847\n",
            "epoch  2 batch 1000 loss: 158.98907\n",
            "end of epoch  2 loss 210818.14 accuracy 0.82808334\n",
            "epoch  3 batch 500 loss: 157.10153\n",
            "epoch  3 batch 1000 loss: 138.40044\n",
            "end of epoch  3 loss 232570.4 accuracy 0.80981666\n",
            "epoch  4 batch 500 loss: 214.29918\n",
            "epoch  4 batch 1000 loss: 182.41684\n",
            "end of epoch  4 loss 219563.36 accuracy 0.82241666\n",
            "epoch  5 batch 500 loss: 225.64648\n",
            "epoch  5 batch 1000 loss: 173.13219\n",
            "end of epoch  5 loss 210040.0 accuracy 0.83205\n",
            "epoch  6 batch 500 loss: 183.22713\n",
            "epoch  6 batch 1000 loss: 174.01784\n",
            "end of epoch  6 loss 199566.73 accuracy 0.8423\n",
            "epoch  7 batch 500 loss: 211.75125\n",
            "epoch  7 batch 1000 loss: 182.0682\n",
            "end of epoch  7 loss 206548.44 accuracy 0.83536667\n",
            "epoch  8 batch 500 loss: 166.04149\n",
            "epoch  8 batch 1000 loss: 153.58104\n",
            "end of epoch  8 loss 202008.19 accuracy 0.8395333\n",
            "epoch  9 batch 500 loss: 217.27345\n",
            "epoch  9 batch 1000 loss: 175.25919\n",
            "end of epoch  9 loss 199146.67 accuracy 0.8420333\n"
          ]
        }
      ]
    },
    {
      "cell_type": "markdown",
      "metadata": {
        "id": "M2OGJQbPRF6q"
      },
      "source": [
        "<h3>Test y Gráficos</h3>"
      ]
    },
    {
      "cell_type": "markdown",
      "metadata": {
        "id": "QekQAacgRF6r"
      },
      "source": [
        "Es común ejecutar diagnósticos intermitentes (como precisión y pérdida en todo el dataset) durante el entrenamiento. Aquí también calculamos una estadística de resumen en el dataset de prueba. Las métricas de ajuste para los datos de entrenamiento deben coincidir estrechamente con las de los datos de la prueba. Si las métricas de prueba son claramente menos favorables, esto puede ser una señal de overfitting."
      ]
    },
    {
      "cell_type": "code",
      "metadata": {
        "id": "Yo2L307HRF6r",
        "colab": {
          "base_uri": "https://localhost:8080/"
        },
        "outputId": "af960edd-b2b6-4031-8f61-d1ab190145e6"
      },
      "source": [
        "correct_prediction_train = tf.equal(tf.argmax(model(x_train), axis=1),tf.argmax(y_train,axis=1))\n",
        "accuracy_train = tf.reduce_mean(tf.cast(correct_prediction_train, tf.float32)).numpy()\n",
        "\n",
        "correct_prediction_test = tf.equal(tf.argmax(model(x_test), axis=1),tf.argmax(y_test, axis=1))\n",
        "accuracy_test = tf.reduce_mean(tf.cast(correct_prediction_test, tf.float32)).numpy()\n",
        "\n",
        "print(\"training accuracy\", accuracy_train)\n",
        "print(\"test accuracy\", accuracy_test)"
      ],
      "execution_count": null,
      "outputs": [
        {
          "output_type": "stream",
          "name": "stdout",
          "text": [
            "training accuracy 0.8420333\n",
            "test accuracy 0.8369\n"
          ]
        }
      ]
    },
    {
      "cell_type": "markdown",
      "metadata": {
        "id": "YLjU0Nd3RF6v"
      },
      "source": [
        "<hr>"
      ]
    },
    {
      "cell_type": "markdown",
      "metadata": {
        "id": "8uiLs8AWRF6v"
      },
      "source": [
        "Los dos gráficos siguientes muestran el rendimiento de la optimización en cada **epoch**."
      ]
    },
    {
      "cell_type": "code",
      "metadata": {
        "id": "mz07v0DPRF6w",
        "colab": {
          "base_uri": "https://localhost:8080/",
          "height": 421
        },
        "outputId": "8c47ec57-1404-4dee-e775-7ac7cd3ff385"
      },
      "source": [
        "import matplotlib.pyplot as plt\n",
        "%matplotlib inline\n",
        "plt.rcParams['figure.figsize'] = (10, 6)\n",
        "#print(loss_values)\n",
        "plt.plot(loss_values,'-ro')\n",
        "plt.title(\"pérdida por epoch\")\n",
        "plt.xlabel(\"epoch\")\n",
        "plt.ylabel(\"pérdida\")"
      ],
      "execution_count": null,
      "outputs": [
        {
          "output_type": "execute_result",
          "data": {
            "text/plain": [
              "Text(0, 0.5, 'pérdida')"
            ]
          },
          "metadata": {},
          "execution_count": 27
        },
        {
          "output_type": "display_data",
          "data": {
            "image/png": "[encoded data removed]",
            "text/plain": [
              "<Figure size 720x432 with 1 Axes>"
            ]
          },
          "metadata": {
            "needs_background": "light"
          }
        }
      ]
    },
    {
      "cell_type": "code",
      "metadata": {
        "id": "VrNK8iubRF61",
        "colab": {
          "base_uri": "https://localhost:8080/",
          "height": 421
        },
        "outputId": "b2e186ae-4afb-4995-d675-01b788dc5ed5"
      },
      "source": [
        "plt.plot(accuracies,'-ro')\n",
        "plt.title(\"precisión per epoch\")\n",
        "plt.xlabel(\"epoch\")\n",
        "plt.ylabel(\"precisión\")"
      ],
      "execution_count": null,
      "outputs": [
        {
          "output_type": "execute_result",
          "data": {
            "text/plain": [
              "Text(0, 0.5, 'precisión')"
            ]
          },
          "metadata": {},
          "execution_count": 28
        },
        {
          "output_type": "display_data",
          "data": {
            "image/png": "[encoded data removed]",
            "text/plain": [
              "<Figure size 720x432 with 1 Axes>"
            ]
          },
          "metadata": {
            "needs_background": "light"
          }
        }
      ]
    },
    {
      "cell_type": "markdown",
      "metadata": {
        "id": "LGwiozK7RF65"
      },
      "source": [
        "<a id=\"ref4\"></a>\n",
        "<h2>Evaluando el resultado final</h2>"
      ]
    },
    {
      "cell_type": "markdown",
      "metadata": {
        "id": "2nJnaZ33RF65"
      },
      "source": [
        "\n",
        "La precisión del 84% no está mal considerando la simplicidad del modelo, pero en el pasado se logró una precisión> 90%.  "
      ]
    },
    {
      "cell_type": "markdown",
      "metadata": {
        "id": "J1tRFx4HRF66"
      },
      "source": [
        "<a id=\"ref5\"></a>\n",
        "<h2>¿Cómo potenciar nuestro modelo?</h2>"
      ]
    },
    {
      "cell_type": "markdown",
      "metadata": {
        "id": "2R75WdinRF67"
      },
      "source": [
        "<h4>Tenemos varias opciones:</h4>\n",
        "<ul>\n",
        "    <li>Regularización de redes neuronales mediante DropConnect</li>\n",
        "    <li>Redes neuronales profundas de varias columnas para clasificación de imágenes</li> \n",
        "    <li>APAC: Clasificación de patrones aumentada con redes neuronales</li>\n",
        "    <li>Red neuronal profunda simple con dropout</li>\n",
        "</ul>\n",
        "<h4>En la siguiente parte vamos a explorar la opción:</h4>\n",
        "<ul>\n",
        "    <li>Red neuronal profunda simple con deserción (más de 1 capa oculta)</li>\n",
        "</ul> "
      ]
    },
    {
      "cell_type": "markdown",
      "metadata": {
        "id": "4tE5wmtQRF68"
      },
      "source": [
        "<a id=\"ref6\"></a>\n",
        "<h2>Parte 2: Aplicando Deep Learning en MNIST</h2>"
      ]
    },
    {
      "cell_type": "markdown",
      "metadata": {
        "id": "FDc7D3TKRF69"
      },
      "source": [
        "En la primera parte, aprendimos cómo usar un ANN simple para clasificar MNIST. Ahora vamos a ampliar nuestro conocimiento utilizando una red neuronal profunda.\n",
        "La arquitectura de nuestra red es:\n",
        "    \n",
        "- (Input) -> [batch_size, 28, 28, 1]  >> Aplicando 32 filtros de [5x5]\n",
        "- (Capa Convolucional 1)  -> [batch_size, 28, 28, 32]\n",
        "- (ReLU 1)  -> [?, 28, 28, 32]\n",
        "- (Max pooling 1) -> [?, 14, 14, 32]\n",
        "- (Capa Convolucional 2)  -> [?, 14, 14, 64] \n",
        "- (ReLU 2)  -> [?, 14, 14, 64] \n",
        "- (Max pooling 2)  -> [?, 7, 7, 64] \n",
        "- [capa fully connected 3] -> [1x1024]\n",
        "- [ReLU 3]  -> [1x1024]\n",
        "- [Drop out]  -> [1x1024]\n",
        "- [capa fully connected 4] -> [1x10]\n",
        "\n",
        "\n",
        "Las próximas células explorarán esta nueva arquitectura."
      ]
    },
    {
      "cell_type": "markdown",
      "metadata": {
        "id": "p7TnTTIyRF69"
      },
      "source": [
        "<h3>The MNIST data</h3>"
      ]
    },
    {
      "cell_type": "markdown",
      "metadata": {
        "jupyter": {
          "outputs_hidden": true
        },
        "id": "YLCyNAZXRF6-"
      },
      "source": [
        "El dataset MNIST se utilizará del ejemplo anterior."
      ]
    },
    {
      "cell_type": "markdown",
      "metadata": {
        "id": "EcEeL-aFRF6_"
      },
      "source": [
        "<h3>Parametros Iniciales</h3>"
      ]
    },
    {
      "cell_type": "markdown",
      "metadata": {
        "id": "BMLHTXq0RF6_"
      },
      "source": [
        "Crea parámetros generales para el modelo"
      ]
    },
    {
      "cell_type": "code",
      "metadata": {
        "id": "NfLuLXRrRF7A"
      },
      "source": [
        "width = 28 # ancho de la imagen en píxeles\n",
        "height = 28 # altura de la imagen en píxeles\n",
        "flat = width * height # número de píxeles en una imagen\n",
        "class_output = 10 # número de posibles clasificaciones para el problema"
      ],
      "execution_count": null,
      "outputs": []
    },
    {
      "cell_type": "markdown",
      "metadata": {
        "id": "LJFISLoeRF7F"
      },
      "source": [
        "<h4>Conversión de imágenes del dataset a tensores</h4>"
      ]
    },
    {
      "cell_type": "markdown",
      "metadata": {
        "id": "xWCYNYaZRF7F"
      },
      "source": [
        "La imagen de entrada es de 28 píxeles por 28 píxeles, 1 canal (escala de grises). En este caso, la primera dimensión es el <b>número de batch</b> de la imagen, y puede ser de cualquier tamaño (así que lo configuramos en -1). La segunda y tercera dimensión son el ancho y el alto, y la última son los canales de imagen."
      ]
    },
    {
      "cell_type": "code",
      "metadata": {
        "id": "ctrI19JORF7G"
      },
      "source": [
        "x_image_train = tf.reshape(x_train, [-1,28,28,1])  \n",
        "x_image_train = tf.cast(x_image_train, 'float32') \n",
        "\n",
        "x_image_test = tf.reshape(x_test, [-1,28,28,1]) \n",
        "x_image_test = tf.cast(x_image_test, 'float32') \n",
        "\n",
        "#creando un nuevo conjunto de datos con un reshape de entradas \n",
        "train_ds2 = tf.data.Dataset.from_tensor_slices((x_image_train, y_train)).batch(50)\n",
        "test_ds2 = tf.data.Dataset.from_tensor_slices((x_image_test, y_test)).batch(50)"
      ],
      "execution_count": null,
      "outputs": []
    },
    {
      "cell_type": "markdown",
      "metadata": {
        "id": "PgcKPSKoRF7L"
      },
      "source": [
        "Reducir el tamaño del conjunto de datos a partir de este momento porque Skills Netowrk Labs solo proporciona 4 GB de memoria principal, pero de lo contrario se necesitan 8."
      ]
    },
    {
      "cell_type": "code",
      "metadata": {
        "id": "wfoO1s59Cfnt",
        "colab": {
          "base_uri": "https://localhost:8080/"
        },
        "outputId": "0d831fc0-911d-4308-d68c-fbfd1a002965"
      },
      "source": [
        "x_image_train.shape"
      ],
      "execution_count": null,
      "outputs": [
        {
          "output_type": "execute_result",
          "data": {
            "text/plain": [
              "TensorShape([60000, 28, 28, 1])"
            ]
          },
          "metadata": {},
          "execution_count": 33
        }
      ]
    },
    {
      "cell_type": "code",
      "metadata": {
        "id": "1S4b_2jzRF7L"
      },
      "source": [
        "x_image_train = tf.slice(x_image_train, [0,0,0,0], [10000, 28, 28, 1])\n",
        "y_train = tf.slice(y_train,[0,0],[10000, 10])"
      ],
      "execution_count": null,
      "outputs": []
    },
    {
      "cell_type": "markdown",
      "metadata": {
        "id": "x0it2PLXRF7P"
      },
      "source": [
        "<h3>Capa Convolucional 1</h3>"
      ]
    },
    {
      "cell_type": "markdown",
      "metadata": {
        "id": "YbIwLLV0RF7P"
      },
      "source": [
        "<h4>Definiendo el peso del kernel y el bias</h4>\n",
        "Definimos un kernel aquí. El tamaño del filtro / kernel es 5x5; Los canales de entrada son 1 (escala de grises); y necesitamos 32 mapas de características diferentes (aquí, 32 mapas de características significa que se aplican 32 filtros diferentes en cada imagen. Por lo tanto, la salida de la capa de convolución sería 28x28x32). En este paso, creamos un tensor de forma de filtro / núcleo <code>[filter_height, filter_width, in_channels, out_channels]</code>"
      ]
    },
    {
      "cell_type": "code",
      "metadata": {
        "id": "uWK8Jw5ARF7Q"
      },
      "source": [
        "W_conv1 = tf.Variable(tf.random.truncated_normal([5, 5, 1, 32], stddev = 0.1, seed=0))\n",
        "b_conv1 = tf.Variable(tf.constant(0.1, shape=[32])) # necesitamos 32 outputs y 32 biases."
      ],
      "execution_count": null,
      "outputs": []
    },
    {
      "cell_type": "markdown",
      "metadata": {
        "id": "WnFUmZEHRF7T"
      },
      "source": [
        "<img src=\"https://ibm.box.com/shared/static/vn26neef1nnv2oxn5cb3uueowcawhkgb.png\" style=\"width: 800px; height: 400px;\" alt=\"HTML5 Icon\" >\n",
        "\n",
        "</h4>Convolucionar el peso del tensor and agregando biases.</h4>\n",
        "\n",
        "Para crear una capa convolucional, usamos <b>tf.nn.conv2d</b>. Calcula una convolución 2-D dada la entrada 4-D y los tensores de filtro.\n",
        "\n",
        "Inputs:\n",
        "- tensor de forma [batch, in_height, in_width, in_channels]. x shape [batch_size,28 ,28, 1]\n",
        "- un filtro / tensor de forma del tensor [filter_height, filter_width, in_channels, out_channels]. W es de tamaño [5, 5, 1, 32]\n",
        "- stride which is  [1, 1, 1, 1]. La capa convolucional desliza la \"ventana del tensor\" a través del tensor de entrada. Como el tensor de entrada tiene 4 dimensiones:  [batch, height, width, channels], luego la convolución opera en una ventana 2D en las dimensiones de alto y ancho. __strides__ determina cuánto se desplaza la ventana en cada una de las dimensiones. Como la primera y la última dimensión están relacionadas con el lote y los canales, establecemos el paso en 1. Pero para la segunda y la tercera dimensión, podríamos establecer otros valores, por Ej. [1, 2, 2, 1]\n",
        "    \n",
        "    \n",
        "Proceso:\n",
        "- Cambie el filtro a una matriz 2-D con forma [5\\*5\\*1,32]\n",
        "- Extrae parches de imagen del tensor de entrada para formar un tensor de forma *virtual* `[batch, 28, 28, 5*5*1]`.\n",
        "- Para cada batch, multiplica a la derecha la matriz de filtro y el vector de imagen.\n",
        "\n",
        "Output:\n",
        "- Un `Tensor` (una convolución 2-D) de tamaño tf.Tensor 'add_7:0' shape=(?, 28, 28, 32)- Nota: la salida de la primera capa de convolución es 32 [28x28] imágenes. Aquí 32 se considera como volumen/profundidad de la imagen de salida."
      ]
    },
    {
      "cell_type": "code",
      "metadata": {
        "id": "-SUMNoffRF7U"
      },
      "source": [
        "def convolve1(x):\n",
        "    return(tf.nn.conv2d(x, W_conv1, strides=[1, 1, 1, 1], padding='SAME') + b_conv1)"
      ],
      "execution_count": null,
      "outputs": []
    },
    {
      "cell_type": "markdown",
      "metadata": {
        "id": "LCvgX9ueRF7b"
      },
      "source": [
        "<img src=\"https://ibm.box.com/shared/static/iizf4ui4b2hh9wn86pplqxu27ykpqci9.png\" style=\"width: 800px; height: 400px;\" alt=\"HTML5 Icon\" >\n"
      ]
    },
    {
      "cell_type": "markdown",
      "metadata": {
        "id": "_KfRDlAQRF7c"
      },
      "source": [
        "<h4>Aplicando la función de activación ReLU</h4>"
      ]
    },
    {
      "cell_type": "markdown",
      "metadata": {
        "id": "Co111AzkRF7d"
      },
      "source": [
        "En este paso, solo pasamos por la capa de convolución de todas las salidas, <b>convolve1</b>, y siempre que aparece un número negativo, lo cambiamos por un 0. Se llama Función de activación de ReLU.<br> Sea f (x) una función de activación de ReLU $f(x) = max(0,x)$."
      ]
    },
    {
      "cell_type": "code",
      "metadata": {
        "id": "KRkeWcGjRF7g"
      },
      "source": [
        "def h_conv1(x): \n",
        "  return(tf.nn.relu(convolve1(x)))"
      ],
      "execution_count": null,
      "outputs": []
    },
    {
      "cell_type": "markdown",
      "metadata": {
        "id": "nh9eDMiQRF7l"
      },
      "source": [
        "<h4>Aplicando max pooling</h4>"
      ]
    },
    {
      "cell_type": "markdown",
      "metadata": {
        "id": "I5VJjPMTRF7n"
      },
      "source": [
        "<b>max pooling</b> es una forma de muestreo descendente no lineal. Divide la imagen de entrada en un conjunto de rectángulos y, luego, encuentra el valor máximo para esa región.\n",
        "\n",
        "Usemos <b>tf.nn.max_pool</b> función para realizar la agrupación máxima.\n",
        "<b>Tamaño del Kernel:</b> 2x2 (si la ventana es una matriz de 2x2, resultaría en un píxel de salida)  \n",
        "<b>Strides:</b> dicta el comportamiento deslizante del kernel. En este caso, se moverá 2 píxeles cada vez, por lo que no se superpondrá. La entrada es una matriz de tamaño 28x28x32 y la salida sería una matriz de tamaño 14x14x32.\n",
        "\n",
        "<img src=\"https://ibm.box.com/shared/static/kmaja90mn3aud9mro9cn8pbbg1h5pejy.png\" alt=\"HTML5 Icon\" style=\"width: 800px; height: 400px;\"> \n",
        "\n"
      ]
    },
    {
      "cell_type": "code",
      "metadata": {
        "id": "2MRL9_HiRF7n"
      },
      "source": [
        "def conv1(x):\n",
        "    return tf.nn.max_pool(h_conv1(x), ksize=[1, 2, 2, 1], \n",
        "                          strides=[1, 2, 2, 1], padding='SAME')"
      ],
      "execution_count": null,
      "outputs": []
    },
    {
      "cell_type": "markdown",
      "metadata": {
        "id": "5721P43aRF7s"
      },
      "source": [
        "Primera capa completada"
      ]
    },
    {
      "cell_type": "markdown",
      "metadata": {
        "id": "8Av6amUrRF7t"
      },
      "source": [
        "<h3>Capa convolucional 2</h3>\n",
        "<h4>Pesos y biases del Kernel</h4>"
      ]
    },
    {
      "cell_type": "markdown",
      "metadata": {
        "id": "Jje3bXdyRF7u"
      },
      "source": [
        "Aplicamos la convolución nuevamente en esta capa. Veamos el núcleo de la segunda capa:\n",
        "- Filtro / kernel: 5x5 (25 píxeles)\n",
        "- Canales de entrada: 32 (desde la primera capa Conv, teníamos 32 mapas de características)\n",
        "- 64 mapas de características de salida\n",
        "\n",
        "<b>Nota:</b> aquí, la imagen de entrada es [14x14x32], el filtro es [5x5x32], usamos 64 filtros de tamaño [5x5x32] y la salida de la capa convolucional sería 64 imágenes convolucionadas, [14x14x64].\n",
        "\n",
        "<b>Nota:</b> el resultado de la convolución de aplicar un filtro de tamaño [5x5x32] sobre una imagen de tamaño [14x14x32] es una imagen de tamaño [14x14x1], es decir, la convolución funciona en volumen."
      ]
    },
    {
      "cell_type": "code",
      "metadata": {
        "id": "o6iPzZBmRF7v"
      },
      "source": [
        "W_conv2 = tf.Variable(tf.random.truncated_normal([5, 5, 32, 64], stddev=0.1, seed=1))\n",
        "b_conv2 = tf.Variable(tf.constant(0.1, shape=[64])) #necesita 64 biases para 64 outputs"
      ],
      "execution_count": null,
      "outputs": []
    },
    {
      "cell_type": "markdown",
      "metadata": {
        "id": "5Dciu0DjRF7z"
      },
      "source": [
        "<h4>Convierta la imagen con el tensor de peso y agregue biases.</h4>"
      ]
    },
    {
      "cell_type": "code",
      "metadata": {
        "id": "ndDvjUHBRF7z"
      },
      "source": [
        "def convolve2(x): \n",
        "    return( \n",
        "    tf.nn.conv2d(conv1(x), W_conv2, strides=[1, 1, 1, 1], padding='SAME') + b_conv2)"
      ],
      "execution_count": null,
      "outputs": []
    },
    {
      "cell_type": "markdown",
      "metadata": {
        "id": "r09ZNUSaRF75"
      },
      "source": [
        "<h4>Aplicando la función de activación ReLU</h4>"
      ]
    },
    {
      "cell_type": "code",
      "metadata": {
        "id": "32jlvfqPRF77"
      },
      "source": [
        "def h_conv2(x):  return tf.nn.relu(convolve2(x))"
      ],
      "execution_count": null,
      "outputs": []
    },
    {
      "cell_type": "markdown",
      "metadata": {
        "id": "IRCxCc5tRF79"
      },
      "source": [
        "<h4>Aplicando max pooling</h4>"
      ]
    },
    {
      "cell_type": "code",
      "metadata": {
        "id": "cpx86TRjRF7_"
      },
      "source": [
        "def conv2(x):  \n",
        "    return(\n",
        "    tf.nn.max_pool(h_conv2(x), ksize=[1, 2, 2, 1], strides=[1, 2, 2, 1], padding='SAME'))"
      ],
      "execution_count": null,
      "outputs": []
    },
    {
      "cell_type": "markdown",
      "metadata": {
        "id": "Zpsa1v9wRF8D"
      },
      "source": [
        "Segunda capa completada. Entonces, ¿cuál es la salida de la segunda capa, capa 2?\n",
        "- es una matriz de 64 de [7x7]\n"
      ]
    },
    {
      "cell_type": "markdown",
      "metadata": {
        "id": "2nSVqr5SRF8D"
      },
      "source": [
        "<h3>Capa Fully Connected</h3>"
      ]
    },
    {
      "cell_type": "markdown",
      "metadata": {
        "id": "zIeSX5XfRF8F"
      },
      "source": [
        "Necesita una capa completamente conectada para usar Softmax y crear las probabilidades al final. Las capas completamente conectadas toman las imágenes filtradas de alto nivel de la capa anterior, es decir, las 64 matrices, y las convierten en una matriz plana.\n",
        "\n",
        "Por tanto, cada matriz [7x7] se convertirá en una matriz de [49x1], y luego se conectarán todas las 64 matrices, lo que hará una matriz de tamaño [3136x1]. Lo conectaremos a otra capa de tamaño [1024x1]. Por lo tanto, el peso entre estas 2 capas será [3136x1024]\n",
        "\n",
        "\n",
        "<img src=\"https://ibm.box.com/shared/static/pr9mnirmlrzm2bitf1d4jj389hyvv7ey.png\" alt=\"HTML5 Icon\" style=\"width: 800px; height: 400px;\"> \n"
      ]
    },
    {
      "cell_type": "markdown",
      "metadata": {
        "id": "dqY6n0vpRF8F"
      },
      "source": [
        "<h4>Flattening en la segunda Capa</h4>"
      ]
    },
    {
      "cell_type": "code",
      "metadata": {
        "id": "QJKZLe_tRF8G"
      },
      "source": [
        "def layer2_matrix(x): \n",
        "  return tf.reshape(conv2(x), [-1, 7 * 7 * 64])"
      ],
      "execution_count": null,
      "outputs": []
    },
    {
      "cell_type": "markdown",
      "metadata": {
        "id": "zLMRGQuTRF8J"
      },
      "source": [
        "<h4>Pesos y Biases entre la capa 2 y 3</h4>"
      ]
    },
    {
      "cell_type": "markdown",
      "metadata": {
        "id": "ayVt-dkuRF8K"
      },
      "source": [
        "Composición del mapa de características de la última capa (7x7) multiplicado por el número de mapas de características (64); 1027 salidas a la capa Softmax"
      ]
    },
    {
      "cell_type": "code",
      "metadata": {
        "id": "Qb6TIyshRF8L"
      },
      "source": [
        "W_fc1 = tf.Variable(tf.random.truncated_normal([7 * 7 * 64, 1024], stddev=0.1, seed = 2))\n",
        "b_fc1 = tf.Variable(tf.constant(0.1, shape=[1024])) # necesita 1024 biases para 1024 outputs"
      ],
      "execution_count": null,
      "outputs": []
    },
    {
      "cell_type": "markdown",
      "metadata": {
        "id": "Zq5X2JKfRF8O"
      },
      "source": [
        "<h4>Multiplicación de matrices (aplicando ponderaciones y bias)</h4>"
      ]
    },
    {
      "cell_type": "code",
      "metadata": {
        "id": "D27lLFY4RF8P"
      },
      "source": [
        "def fcl(x): return tf.matmul(layer2_matrix(x), W_fc1) + b_fc1"
      ],
      "execution_count": null,
      "outputs": []
    },
    {
      "cell_type": "markdown",
      "metadata": {
        "id": "HEp_Q8QwRF8U"
      },
      "source": [
        "<h4>Aplicando la función de activación ReLU</h4>"
      ]
    },
    {
      "cell_type": "code",
      "metadata": {
        "id": "EDzFidFWRF8V"
      },
      "source": [
        "def h_fc1(x): return tf.nn.relu(fcl(x))"
      ],
      "execution_count": null,
      "outputs": []
    },
    {
      "cell_type": "markdown",
      "metadata": {
        "id": "6wWkwvKrRF8X"
      },
      "source": [
        "Tercera capa completada"
      ]
    },
    {
      "cell_type": "markdown",
      "metadata": {
        "id": "B6BGROIJRF8d"
      },
      "source": [
        "<h4>Capa de dropout, fase opcional para reducir overfitting</h4>"
      ]
    },
    {
      "cell_type": "markdown",
      "metadata": {
        "id": "imrleHn6RF8d"
      },
      "source": [
        "Es una fase en la que la red \"olvida\" algunas características. En cada paso de entrenamiento en un mini-lote, algunas unidades se apagan aleatoriamente para que no interactúen con la red. Es decir, sus ponderaciones no se pueden actualizar ni afectar el aprendizaje de los otros nodos de la red. Esto puede resultar muy útil para redes neuronales muy grandes para evitar el sobreajuste."
      ]
    },
    {
      "cell_type": "code",
      "metadata": {
        "id": "f9r1t9YrRF8e"
      },
      "source": [
        "keep_prob=0.5\n",
        "def layer_drop(x): \n",
        "  return tf.nn.dropout(h_fc1(x), keep_prob)"
      ],
      "execution_count": null,
      "outputs": []
    },
    {
      "cell_type": "markdown",
      "metadata": {
        "id": "0emfAMY6RF8h"
      },
      "source": [
        "<h4>Capa de Lectura (Softmax Layer)</h4>"
      ]
    },
    {
      "cell_type": "markdown",
      "metadata": {
        "id": "7jgacqpXRF8i"
      },
      "source": [
        "Type: Softmax, Capa Fully Connected."
      ]
    },
    {
      "cell_type": "markdown",
      "metadata": {
        "id": "eNMB1WBfRF8i"
      },
      "source": [
        "<h4>Pesos y Biases</h4>"
      ]
    },
    {
      "cell_type": "markdown",
      "metadata": {
        "id": "TEDedqeoRF8l"
      },
      "source": [
        "En la última capa, CNN toma las imágenes filtradas de alto nivel y las traduce en votos usando softmax.\n",
        "Canales de entrada: 1024 (neuronas de la 3ª capa); 10 funciones de salida"
      ]
    },
    {
      "cell_type": "code",
      "metadata": {
        "id": "BJgBJlIVRF8l"
      },
      "source": [
        "W_fc2 = tf.Variable(tf.random.truncated_normal([1024, 10], stddev=0.1, seed = 2)) #1024 neuronas\n",
        "b_fc2 = tf.Variable(tf.constant(0.1, shape=[10])) # 10 posibilidades por dígitos [0,1,2,3,4,5,6,7,8,9]"
      ],
      "execution_count": null,
      "outputs": []
    },
    {
      "cell_type": "markdown",
      "metadata": {
        "id": "ZRFbjezURF8n"
      },
      "source": [
        "<h4>Multiplicación de matrices (aplicando pesos y biases)</h4>"
      ]
    },
    {
      "cell_type": "code",
      "metadata": {
        "id": "YPbwt8RsRF8o"
      },
      "source": [
        "def fc(x): return tf.matmul(layer_drop(x), W_fc2) + b_fc2"
      ],
      "execution_count": null,
      "outputs": []
    },
    {
      "cell_type": "markdown",
      "metadata": {
        "id": "7c3kIsyzRF8r"
      },
      "source": [
        "<h4>Aplicando la función de activación Softmax</h4>\n",
        "<b>softmax</b> nos permite interpretar las salidas de <b>fcl4</b> como probabilidades. Entonces, <b>y_conv</b> es un tensor de probabilidades."
      ]
    },
    {
      "cell_type": "code",
      "metadata": {
        "id": "q60AW1jgRF8s"
      },
      "source": [
        "def y_CNN(x): return tf.nn.softmax(fc(x))"
      ],
      "execution_count": null,
      "outputs": []
    },
    {
      "cell_type": "markdown",
      "metadata": {
        "id": "dDdo_ckfRF8w"
      },
      "source": [
        "---"
      ]
    },
    {
      "cell_type": "markdown",
      "metadata": {
        "id": "cQPSbF9yRF8x"
      },
      "source": [
        "<a id=\"ref7\"></a>\n",
        "<h2>Resumen Red Neuronal convolucional profunda</h2>"
      ]
    },
    {
      "cell_type": "markdown",
      "metadata": {
        "id": "kpFuh9KgRF8y"
      },
      "source": [
        "Ahora es el momento de recordar la estructura de nuestra red neuronal."
      ]
    },
    {
      "cell_type": "markdown",
      "metadata": {
        "id": "jAUYsrNDRF8y"
      },
      "source": [
        "#### 0) Input - MNIST dataset\n",
        "#### 1) Convolucional y Max-Pooling\n",
        "#### 2) Convolucional y Max-Pooling\n",
        "#### 3) Capa Fully Connected\n",
        "#### 4) Procesando - Dropout\n",
        "#### 5) Capa de Lectura - Fully Connected\n",
        "#### 6) Outputs - Classificando dígitos"
      ]
    },
    {
      "cell_type": "markdown",
      "metadata": {
        "id": "eP3RHNElRF8z"
      },
      "source": [
        "---"
      ]
    },
    {
      "cell_type": "markdown",
      "metadata": {
        "id": "YaFX2V9SRF8z"
      },
      "source": [
        "<a id=\"ref8\"></a>\n",
        "<h2>Definir funciones y entrenar el modelo</h2>"
      ]
    },
    {
      "cell_type": "markdown",
      "metadata": {
        "id": "VSFUNrZERF8z"
      },
      "source": [
        "<h4>Definir la función de coste</h4>\n",
        "\n",
        "Necesitamos comparar nuestra salida, tensor de capa4, con la verdad fundamental para todos los mini_batch. nosotros podemos usar <b>cross entropy</b> para ver qué tan mal está funcionando nuestra CNN, para medir el error en una capa softmax.\n",
        "\n",
        "El siguiente código muestra una muestra de juguete de entropía cruzada para un mini lote de tamaño 2 en el que se han clasificado sus artículos. Puede ejecutarlo (primero cambie el tipo de celda a <b>code</b> en la barra de herramientas) para ver cómo cambia la entropía cruzada."
      ]
    },
    {
      "cell_type": "markdown",
      "metadata": {
        "id": "u_PpdWsHRF80"
      },
      "source": [
        "import numpy as np\n",
        "layer4_test =[[0.9, 0.1, 0.1],[0.9, 0.1, 0.1]]\n",
        "y_test=[[1.0, 0.0, 0.0],[1.0, 0.0, 0.0]]\n",
        "np.mean( -np.sum(y_test * np.log(layer4_test),1))"
      ]
    },
    {
      "cell_type": "markdown",
      "metadata": {
        "id": "VoswudSFRF81"
      },
      "source": [
        "<b>reduce_sum</b> calcula la suma de elementos de<b>(y_ * tf.log(layer4)</b> a través de la segunda dimensión del tensor, y <b>reduce_mean</b> calcula la media de todos los elementos en el tensor.\n",
        "\n",
        "$$ CrossEntropy = \\sum{y_{Label}\\cdot \\log(y_{Prediction})}$$"
      ]
    },
    {
      "cell_type": "code",
      "metadata": {
        "id": "TIqxgTAcRF81"
      },
      "source": [
        "def cross_entropy(y_label, y_pred):\n",
        "    return (-tf.reduce_sum(y_label * tf.math.log(y_pred + 1.e-10)))"
      ],
      "execution_count": null,
      "outputs": []
    },
    {
      "cell_type": "markdown",
      "metadata": {
        "id": "d4g_cXntRF85"
      },
      "source": [
        "<h4>Definir el optimizador</h4>\n",
        "\n",
        "Es obvio que queremos minimizar el error de nuestra red, que se calcula mediante la métrica cross_entropy. Para resolver el problema, tenemos que calcular gradientes para la pérdida (que minimiza la entropía cruzada) y aplicar gradientes a las variables. Lo hará un optimizador: Descenso Gradiente o Adagrad. "
      ]
    },
    {
      "cell_type": "code",
      "metadata": {
        "id": "49UR3urMRF86"
      },
      "source": [
        "optimizer = tf.keras.optimizers.Adam(1e-4)"
      ],
      "execution_count": null,
      "outputs": []
    },
    {
      "cell_type": "markdown",
      "metadata": {
        "id": "HjQPcD-KRF9A"
      },
      "source": [
        "Siguiendo la convención de nuestro primer ejemplo, usaremos `GradientTape` para definir un modelo."
      ]
    },
    {
      "cell_type": "code",
      "metadata": {
        "id": "pNj-liQDRF9B"
      },
      "source": [
        "variables = [W_conv1, b_conv1, W_conv2, b_conv2, \n",
        "             W_fc1, b_fc1, W_fc2, b_fc2, ]\n",
        "\n",
        "def train_step(x, y):\n",
        "    with tf.GradientTape() as tape:\n",
        "        current_loss = cross_entropy( y, y_CNN( x ))\n",
        "        grads = tape.gradient( current_loss , variables )\n",
        "        optimizer.apply_gradients( zip( grads , variables ) )\n",
        "        return current_loss.numpy()\n"
      ],
      "execution_count": null,
      "outputs": []
    },
    {
      "cell_type": "code",
      "metadata": {
        "id": "MOU45yysRF9G"
      },
      "source": [
        "\"\"\"results = []\n",
        "increment = 1000\n",
        "for start in range(0,60000,increment):\n",
        "    s = tf.slice(x_image_train,[start,0,0,0],[start+increment-1, 28, 28, 1])\n",
        "    t = y_CNN(s)\n",
        "    #results.append(t)\n",
        "\"\"\""
      ],
      "execution_count": null,
      "outputs": []
    },
    {
      "cell_type": "markdown",
      "metadata": {
        "id": "fOGKGo4sRF9J"
      },
      "source": [
        "<h4>Definir predicción</h4>\n",
        "¿Quiere saber cuántos de los casos de un mini lote se han clasificado correctamente? vamos a contarlos."
      ]
    },
    {
      "cell_type": "code",
      "metadata": {
        "id": "E_HCBoyfRF9J"
      },
      "source": [
        "correct_prediction = tf.equal(tf.argmax(y_CNN(x_image_train), axis=1), tf.argmax(y_train, axis=1))"
      ],
      "execution_count": null,
      "outputs": []
    },
    {
      "cell_type": "markdown",
      "metadata": {
        "id": "1_wBusrmRF9L"
      },
      "source": [
        "<h4>Definir precisión</h4>\n",
        "Tiene más sentido informar la precisión utilizando el promedio de casos correctos."
      ]
    },
    {
      "cell_type": "code",
      "metadata": {
        "id": "U2_7euJ7RF9M"
      },
      "source": [
        "accuracy = tf.reduce_mean(tf.cast(correct_prediction, 'float32'))"
      ],
      "execution_count": null,
      "outputs": []
    },
    {
      "cell_type": "markdown",
      "metadata": {
        "id": "kQJqDeGKRF9P"
      },
      "source": [
        "<h4>Sesión Run, train</h4>"
      ]
    },
    {
      "cell_type": "markdown",
      "metadata": {
        "id": "256apeOtRF9R"
      },
      "source": [
        "<i>Si quieres un resultado rápido (<b>puede llevar algún tiempo entrenarlo</b>)</i>"
      ]
    },
    {
      "cell_type": "code",
      "metadata": {
        "id": "9krEnhQARF9S",
        "colab": {
          "base_uri": "https://localhost:8080/"
        },
        "outputId": "12a42c76-2d7a-43f4-a01f-f84096c2b340"
      },
      "source": [
        "loss_values=[]\n",
        "accuracies = []\n",
        "epochs = 1\n",
        "\n",
        "for i in range(epochs):\n",
        "    j=0\n",
        "    # cada batch tiene 50 ejemplos\n",
        "    for x_train_batch, y_train_batch in train_ds2:\n",
        "        j+=1\n",
        "        current_loss = train_step(x_train_batch, y_train_batch)\n",
        "        if j%50==0: #reportar estadísticas de batch intermitentes\n",
        "            correct_prediction = tf.equal(tf.argmax(y_CNN(x_train_batch), axis=1),\n",
        "                                  tf.argmax(y_train_batch, axis=1))\n",
        "            #  precisión\n",
        "            accuracy = tf.reduce_mean(tf.cast(correct_prediction, tf.float32)).numpy()\n",
        "            print(\"epoch \", str(i), \"batch\", str(j), \"loss:\", str(current_loss),\n",
        "                     \"accuracy\", str(accuracy)) \n",
        "            \n",
        "    current_loss = cross_entropy( y_train, y_CNN( x_image_train )).numpy()\n",
        "    loss_values.append(current_loss)\n",
        "    correct_prediction = tf.equal(tf.argmax(y_CNN(x_image_train), axis=1),\n",
        "                                  tf.argmax(y_train, axis=1))\n",
        "    #  precisión\n",
        "    accuracy = tf.reduce_mean(tf.cast(correct_prediction, tf.float32)).numpy()\n",
        "    accuracies.append(accuracy)\n",
        "    print(\"end of epoch \", str(i), \"loss\", str(current_loss), \"accuracy\", str(accuracy) )  \n",
        "    "
      ],
      "execution_count": null,
      "outputs": [
        {
          "output_type": "stream",
          "name": "stdout",
          "text": [
            "epoch  0 batch 50 loss: 15.607309 accuracy 0.94\n",
            "epoch  0 batch 100 loss: 21.425518 accuracy 0.88\n",
            "epoch  0 batch 150 loss: 11.453228 accuracy 0.94\n",
            "epoch  0 batch 200 loss: 7.4433417 accuracy 0.96\n",
            "epoch  0 batch 250 loss: 14.979427 accuracy 0.8\n",
            "epoch  0 batch 300 loss: 12.622277 accuracy 0.92\n",
            "epoch  0 batch 350 loss: 20.197962 accuracy 0.94\n",
            "epoch  0 batch 400 loss: 6.409218 accuracy 0.92\n",
            "epoch  0 batch 450 loss: 16.453423 accuracy 0.86\n",
            "epoch  0 batch 500 loss: 10.363175 accuracy 0.96\n",
            "epoch  0 batch 550 loss: 10.632949 accuracy 0.96\n",
            "epoch  0 batch 600 loss: 14.362846 accuracy 0.9\n",
            "epoch  0 batch 650 loss: 12.041695 accuracy 0.94\n",
            "epoch  0 batch 700 loss: 5.6133795 accuracy 0.98\n",
            "epoch  0 batch 750 loss: 21.887321 accuracy 0.9\n",
            "epoch  0 batch 800 loss: 11.9798975 accuracy 0.84\n",
            "epoch  0 batch 850 loss: 9.148705 accuracy 0.96\n",
            "epoch  0 batch 900 loss: 8.81819 accuracy 0.96\n",
            "epoch  0 batch 950 loss: 10.392128 accuracy 0.9\n",
            "epoch  0 batch 1000 loss: 15.65193 accuracy 0.92\n",
            "epoch  0 batch 1050 loss: 4.9506836 accuracy 0.96\n",
            "epoch  0 batch 1100 loss: 12.601755 accuracy 0.94\n",
            "epoch  0 batch 1150 loss: 9.327814 accuracy 0.9\n",
            "epoch  0 batch 1200 loss: 4.480837 accuracy 0.98\n",
            "end of epoch  0 loss 1823.8534 accuracy 0.9435\n"
          ]
        }
      ]
    },
    {
      "cell_type": "markdown",
      "metadata": {
        "id": "uMvtcLoeRF9U"
      },
      "source": [
        "<div class=\"alert alert-success alertsuccess\" style=\"margin-top: 20px\">\n",
        "<font size = 3><strong><i>¡95% de precisión después de solo 1 epoch! Puede aumentar el número de epoch en la celda anterior si REALMENTE tiene tiempo para esperar, o la está ejecutando usando PowerAI (<b> cambie el tipo de celda a código</b>)</i></strong></font>"
      ]
    },
    {
      "cell_type": "markdown",
      "metadata": {
        "id": "qhkQUpZWRF9V"
      },
      "source": [
        "<i>PD. Si tiene problemas para ejecutar este portátil, apague todos sus portátiles en ejecución de Jupyter, borre todas las salidas de las celdas y ejecute cada celda solo después de completar la celda anterior.</i>"
      ]
    },
    {
      "cell_type": "markdown",
      "metadata": {
        "id": "S0AtR3AVRF9V"
      },
      "source": [
        "<hr>"
      ]
    },
    {
      "cell_type": "markdown",
      "metadata": {
        "id": "LmbbXkAJRF9V"
      },
      "source": [
        "<a id=\"ref9\"></a>\n",
        "<h2>Evalua el modelo</h2>"
      ]
    },
    {
      "cell_type": "markdown",
      "metadata": {
        "id": "9t7o2StaRF9W"
      },
      "source": [
        "Print de la evaluación para el usuario"
      ]
    },
    {
      "cell_type": "code",
      "metadata": {
        "id": "nGhKt8THRF9W"
      },
      "source": [
        "j=0\n",
        "acccuracies=[]\n",
        "# evaluar la precisión por batch y promedio ... informar cada 100 batch\n",
        "for x_train_batch, y_train_batch in train_ds2:\n",
        "        j+=1\n",
        "        correct_prediction = tf.equal(tf.argmax(y_CNN(x_train_batch), axis=1),\n",
        "                                  tf.argmax(y_train_batch, axis=1))\n",
        "        accuracy = tf.reduce_mean(tf.cast(correct_prediction, tf.float32)).numpy()\n",
        "        #accuracies.append(accuracy)\n",
        "        if j%100==0:\n",
        "            print(\"batch\", str(j), \"accuracy\", str(accuracy) ) \n",
        "import numpy as np\n",
        "print(\"precisión de todo el conjunto\", str(np.mean(accuracies)))            "
      ],
      "execution_count": null,
      "outputs": []
    },
    {
      "cell_type": "markdown",
      "metadata": {
        "id": "_ZF-cU_ERF9Y"
      },
      "source": [
        "<h3>Visualización</h3>"
      ]
    },
    {
      "cell_type": "markdown",
      "metadata": {
        "id": "eKYpg__cRF9Y"
      },
      "source": [
        "¿Quieres ver todos los filtros?"
      ]
    },
    {
      "cell_type": "code",
      "metadata": {
        "id": "Q8zU9_orRF9Z"
      },
      "source": [
        "kernels = tf.reshape(tf.transpose(W_conv1, perm=[2, 3, 0,1]),[32, -1])"
      ],
      "execution_count": null,
      "outputs": []
    },
    {
      "cell_type": "code",
      "metadata": {
        "id": "zyVcnIkhRF9b"
      },
      "source": [
        "!wget --output-document utils1.py http://deeplearning.net/tutorial/code/utils.py\n",
        "import utils1\n",
        "import imp\n",
        "imp.reload(utils1)\n",
        "from utils1 import tile_raster_images\n",
        "import matplotlib.pyplot as plt\n",
        "from PIL import Image\n",
        "%matplotlib inline\n",
        "image = Image.fromarray(tile_raster_images(kernels.numpy(), img_shape=(5, 5) ,tile_shape=(4, 8), tile_spacing=(1, 1)))\n",
        "### Plot image\n",
        "plt.rcParams['figure.figsize'] = (18.0, 18.0)\n",
        "imgplot = plt.imshow(image)\n",
        "imgplot.set_cmap('gray')  "
      ],
      "execution_count": null,
      "outputs": []
    },
    {
      "cell_type": "markdown",
      "metadata": {
        "id": "h0HvXLoDRF9g"
      },
      "source": [
        "¿Quiere ver la salida de una imagen pasando por la primera capa de convolución?\n"
      ]
    },
    {
      "cell_type": "code",
      "metadata": {
        "id": "1KxvZ5BIRF9h",
        "colab": {
          "base_uri": "https://localhost:8080/",
          "height": 337
        },
        "outputId": "9f8bd61d-dacf-4a22-984c-652d9d2a5185"
      },
      "source": [
        "import numpy as np\n",
        "plt.rcParams['figure.figsize'] = (5.0, 5.0)\n",
        "sampleimage = [x_image_train[0]]\n",
        "plt.imshow(np.reshape(sampleimage,[28,28]), cmap=\"gray\")"
      ],
      "execution_count": null,
      "outputs": [
        {
          "output_type": "execute_result",
          "data": {
            "text/plain": [
              "<matplotlib.image.AxesImage at 0x7fa3eee924a8>"
            ]
          },
          "metadata": {
            "tags": []
          },
          "execution_count": 76
        },
        {
          "output_type": "display_data",
          "data": {
            "image/png": "[encoded data removed]",
            "text/plain": [
              "<Figure size 360x360 with 1 Axes>"
            ]
          },
          "metadata": {
            "tags": [],
            "needs_background": "light"
          }
        }
      ]
    },
    {
      "cell_type": "code",
      "metadata": {
        "id": "auNExEfRRF9j"
      },
      "source": [
        "#ActivatedUnits = sess.run(convolve1,feed_dict={x:np.reshape(sampleimage,[1,784],order='F'),keep_prob:1.0})\n",
        "keep_prob=1.0\n",
        "ActivatedUnits = convolve1(sampleimage)\n",
        "                           \n",
        "filters = ActivatedUnits.shape[3]\n",
        "plt.figure(1, figsize=(20,20))\n",
        "n_columns = 6\n",
        "n_rows = np.math.ceil(filters / n_columns) + 1\n",
        "for i in range(filters):\n",
        "    plt.subplot(n_rows, n_columns, i+1)\n",
        "    plt.title('Filter ' + str(i))\n",
        "    plt.imshow(ActivatedUnits[0,:,:,i], interpolation=\"nearest\", cmap=\"gray\")"
      ],
      "execution_count": null,
      "outputs": []
    },
    {
      "cell_type": "markdown",
      "metadata": {
        "id": "vChUXA_eRF9n"
      },
      "source": [
        "¿Qué pasa con la segunda capa de convolución?"
      ]
    },
    {
      "cell_type": "code",
      "metadata": {
        "id": "66Uf3r-XRF9n"
      },
      "source": [
        "#ActivatedUnits = sess.run(convolve2,feed_dict={x:np.reshape(sampleimage,[1,784],order='F'),keep_prob:1.0})\n",
        "ActivatedUnits = convolve2(sampleimage)\n",
        "filters = ActivatedUnits.shape[3]\n",
        "plt.figure(1, figsize=(20,20))\n",
        "n_columns = 8\n",
        "n_rows = np.math.ceil(filters / n_columns) + 1\n",
        "for i in range(filters):\n",
        "    plt.subplot(n_rows, n_columns, i+1)\n",
        "    plt.title('Filter ' + str(i))\n",
        "    plt.imshow(ActivatedUnits[0,:,:,i], interpolation=\"nearest\", cmap=\"gray\")"
      ],
      "execution_count": null,
      "outputs": []
    }
  ]
}
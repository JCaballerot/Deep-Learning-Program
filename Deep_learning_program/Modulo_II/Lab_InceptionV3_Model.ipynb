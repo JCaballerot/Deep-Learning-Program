{
  "nbformat": 4,
  "nbformat_minor": 0,
  "metadata": {
    "colab": {
      "name": "Lab InceptionV3 Model.ipynb",
      "provenance": [],
      "include_colab_link": true
    },
    "kernelspec": {
      "name": "python3",
      "display_name": "Python 3"
    }
  },
  "cells": [
    {
      "cell_type": "markdown",
      "metadata": {
        "id": "view-in-github",
        "colab_type": "text"
      },
      "source": [
        "<a href=\"https://colab.research.google.com/github/JCaballerot/Deep_learning_program/blob/main/Deep_learning_program/Modulo_II/Lab_InceptionV3_Model.ipynb\" target=\"_parent\"><img src=\"https://colab.research.google.com/assets/colab-badge.svg\" alt=\"Open In Colab\"/></a>"
      ]
    },
    {
      "cell_type": "markdown",
      "metadata": {
        "id": "Rn5JENlUtil9"
      },
      "source": [
        "\n",
        "<h1 align=\"center\"><font size=\"5\">INCEPTION-V3</font></h1>"
      ]
    },
    {
      "cell_type": "markdown",
      "metadata": {
        "id": "8okTKdq5RY1g"
      },
      "source": [
        "<h2>Introducción</h2>"
      ]
    },
    {
      "cell_type": "markdown",
      "metadata": {
        "id": "npfFCE3KRF4Z"
      },
      "source": [
        "En este laboratorio utilizaremos el famoso modelo [Inception-V3](https://keras.io/api/applications/inceptionv3/), un modelo desarrollado por google y brindado a la comunidad cientifica para servir de base de aprendisaje y desarrollo de nuevas herramientas. Nosotros utilizaremos este potente modelo para realizar predicciones sobre imagenes basados en modelos de inteligencia artificial."
      ]
    },
    {
      "cell_type": "markdown",
      "metadata": {
        "id": "HDcVd3VNRY1h"
      },
      "source": [
        "<h2>Objetivo</h2>\n",
        "\n",
        "En este laboratorio, aprenderemos más sobre las aplicaciones de las CNN (Redes neuronales convolucionales).\n",
        "Esta lección no pretende ser una referencia para<b> aprendizaje automático, aprendizaje profundo, convoluciones</b> o <b>TensorFlow</b>. La intención es dar nociones al usuario sobre estos campos.\n",
        "\n",
        "<h3> Requisitos previos: </h3>\n",
        "\n",
        "Conocimientos básicos de Python, Neural Networks, Keras y TensorFlow."
      ]
    },
    {
      "cell_type": "markdown",
      "metadata": {
        "id": "tMBZnXUyRF4e"
      },
      "source": [
        "<a id=\"ref1\"></a>\n",
        "<h2>¿Qué es Inception-V3?</h2>"
      ]
    },
    {
      "cell_type": "markdown",
      "metadata": {
        "id": "mXZ0aRqTRF4h"
      },
      "source": [
        "<b>Inception v3</b>  Es un modelo de reconocimiento de imágenes muy utilizado, el cual se demostró que alcanza una exactitud superior al 78.1% en el conjunto de datos de [ImageNet](http://www.image-net.org/). El modelo representa la culminación de muchas ideas que desarrollaron varios investigadores durante años. Se basa en el documento original: [Reformulación de la arquitectura de Inception para la visión artificial](https://arxiv.org/abs/1512.00567) de Szegedy y otros.\n",
        "\n",
        "El modelo está formado por bloques de construcción simétricos y asimétricos que incluyen convoluciones, reducción promedio, reducción máxima, concatenaciones, retirados y capas completamente conectadas. La normalización por lotes se usa con frecuencia en todo el modelo y se aplica a las entradas de activación. Las pérdidas se calculan a través de Softmax.\n",
        "\n",
        "A continuación, se muestra un diagrama de alto nivel del modelo:"
      ]
    },
    {
      "cell_type": "markdown",
      "metadata": {
        "id": "cv-gJD7-RF4g"
      },
      "source": [
        "<img src=\"https://cloud.google.com/tpu/docs/images/inceptionv3onc--oview.png\" alt=\"HTML5 Icon\" style=\"width: 600px; height: 800px;\">\n",
        "<div style=\"text-align: center\">Representación gráfica de la arquitectura de InceptionV3 </div>"
      ]
    },
    {
      "cell_type": "markdown",
      "metadata": {
        "id": "AACa8sPy4kvY"
      },
      "source": [
        "<h2>Codificando con Tensorflow</h2>"
      ]
    },
    {
      "cell_type": "code",
      "metadata": {
        "id": "TeStnv6g-xbz"
      },
      "source": [
        "# Importamos las librerias básicas\n",
        "import tensorflow as tf\n",
        "from tensorflow import keras\n",
        "\n",
        "import matplotlib.pyplot as plt\n",
        "import numpy as np"
      ],
      "execution_count": 12,
      "outputs": []
    },
    {
      "cell_type": "markdown",
      "metadata": {
        "id": "9SFXqEV-4uNO"
      },
      "source": [
        "El modelo Inception-v3 puede importarse directamente desde la librería de keras usando estos simples pasos:"
      ]
    },
    {
      "cell_type": "code",
      "metadata": {
        "id": "770rwHaV_RZI"
      },
      "source": [
        "from keras.applications.inception_v3 import InceptionV3, decode_predictions\n",
        "from keras import backend as K"
      ],
      "execution_count": 7,
      "outputs": []
    },
    {
      "cell_type": "code",
      "metadata": {
        "id": "9_u9Mszv_rPs"
      },
      "source": [
        "iv3 = InceptionV3()"
      ],
      "execution_count": 8,
      "outputs": []
    },
    {
      "cell_type": "markdown",
      "metadata": {
        "id": "hNLMovO_5Jdb"
      },
      "source": [
        "Listo!, ya tenemos nuestro modelo levantado, ahora veremos un resumen de los componentes del modelo"
      ]
    },
    {
      "cell_type": "code",
      "metadata": {
        "id": "LBNm4xXhALzG"
      },
      "source": [
        "print(iv3.summary())"
      ],
      "execution_count": null,
      "outputs": []
    },
    {
      "cell_type": "markdown",
      "metadata": {
        "id": "jbm04zin5XsY"
      },
      "source": [
        "Ahora como siguiente paso necesitamos aplicar nuestro modelo sobre alguna imagen a predecir, para esto cargaremos manualmente la imagen de nuestra preferencia:\n",
        "\n"
      ]
    },
    {
      "cell_type": "code",
      "metadata": {
        "id": "OxvlSM04AmyQ",
        "colab": {
          "base_uri": "https://localhost:8080/"
        },
        "outputId": "0a4ff364-64de-4392-b86b-2447a8fb6451"
      },
      "source": [
        "import keras.utils as image\n",
        "x = image.img_to_array(image.load_img(\"wisky.jpeg\", target_size=(299, 299)))\n",
        "x.shape\n"
      ],
      "execution_count": 14,
      "outputs": [
        {
          "output_type": "execute_result",
          "data": {
            "text/plain": [
              "(299, 299, 3)"
            ]
          },
          "metadata": {},
          "execution_count": 14
        }
      ]
    },
    {
      "cell_type": "markdown",
      "metadata": {
        "id": "EVcSCvDL5ilh"
      },
      "source": [
        "como se observa, la imagen que cargamos se representa por un tensor de tres dimensiones <b>(pixeles alto , pixeles ancho, 3)</b>"
      ]
    },
    {
      "cell_type": "code",
      "metadata": {
        "id": "9nDNf4z0CADr"
      },
      "source": [
        "print(x)"
      ],
      "execution_count": null,
      "outputs": []
    },
    {
      "cell_type": "markdown",
      "metadata": {
        "id": "WaaWwuEC6chq"
      },
      "source": [
        "Será importantísimo realizar la <b>nomalización</b> de nuestra imagen para poder aplicar el modelo sobre esta"
      ]
    },
    {
      "cell_type": "code",
      "metadata": {
        "id": "BI6HdD6iCQCt"
      },
      "source": [
        "# cambio de rango de 0-255 a -1 a 1\n",
        "x /= 255\n",
        "x -= 0.5\n",
        "x *= 2"
      ],
      "execution_count": null,
      "outputs": []
    },
    {
      "cell_type": "code",
      "metadata": {
        "id": "krng9e1BClKy",
        "colab": {
          "base_uri": "https://localhost:8080/"
        },
        "outputId": "f640db28-883f-46a3-ef57-0a5b49517634"
      },
      "source": [
        "print(x)"
      ],
      "execution_count": null,
      "outputs": [
        {
          "output_type": "stream",
          "name": "stdout",
          "text": [
            "[[[ 0.06666672 -0.23137254 -0.7882353 ]\n",
            "  [ 0.03529418 -0.26274508 -0.81960785]\n",
            "  [-0.01176471 -0.30196077 -0.8352941 ]\n",
            "  ...\n",
            "  [-0.99215686 -0.99215686 -0.99215686]\n",
            "  [-0.99215686 -0.99215686 -0.99215686]\n",
            "  [-0.99215686 -0.99215686 -0.99215686]]\n",
            "\n",
            " [[ 0.06666672 -0.23137254 -0.7882353 ]\n",
            "  [ 0.03529418 -0.26274508 -0.81960785]\n",
            "  [-0.01176471 -0.30196077 -0.8352941 ]\n",
            "  ...\n",
            "  [-0.99215686 -0.99215686 -0.99215686]\n",
            "  [-0.99215686 -0.99215686 -0.99215686]\n",
            "  [-0.99215686 -0.99215686 -0.99215686]]\n",
            "\n",
            " [[ 0.05882359 -0.23921567 -0.79607844]\n",
            "  [ 0.02745104 -0.27843136 -0.81960785]\n",
            "  [-0.01960784 -0.31764704 -0.827451  ]\n",
            "  ...\n",
            "  [-0.99215686 -0.99215686 -0.99215686]\n",
            "  [-0.99215686 -0.99215686 -0.99215686]\n",
            "  [-0.99215686 -0.99215686 -0.99215686]]\n",
            "\n",
            " ...\n",
            "\n",
            " [[ 0.33333337  0.2313726   0.09803927]\n",
            "  [ 0.427451    0.32549024  0.19215691]\n",
            "  [ 0.36470592  0.26274514  0.11372554]\n",
            "  ...\n",
            "  [ 0.21568632 -0.19999999 -0.60784316]\n",
            "  [ 0.15294123 -0.27843136 -0.7176471 ]\n",
            "  [ 0.19215691 -0.23137254 -0.7019608 ]]\n",
            "\n",
            " [[ 0.15294123  0.05098045 -0.08235294]\n",
            "  [ 0.22352946  0.12156868 -0.01176471]\n",
            "  [ 0.3411765   0.23921573  0.09019613]\n",
            "  ...\n",
            "  [ 0.20000005 -0.21568626 -0.60784316]\n",
            "  [ 0.20000005 -0.23137254 -0.67058825]\n",
            "  [ 0.20784318 -0.2235294  -0.67058825]]\n",
            "\n",
            " [[ 0.2313726   0.12941182 -0.00392157]\n",
            "  [ 0.17647064  0.07450986 -0.05882353]\n",
            "  [ 0.23921573  0.13725495 -0.01176471]\n",
            "  ...\n",
            "  [ 0.26274514 -0.15294117 -0.54509807]\n",
            "  [ 0.26274514 -0.16862744 -0.5921569 ]\n",
            "  [ 0.26274514 -0.16862744 -0.60784316]]]\n"
          ]
        }
      ]
    },
    {
      "cell_type": "code",
      "metadata": {
        "id": "oCks-t7eCy0v"
      },
      "source": [
        "x = x.reshape([1, x.shape[0], x.shape[1], x.shape[2]])"
      ],
      "execution_count": null,
      "outputs": []
    },
    {
      "cell_type": "markdown",
      "metadata": {
        "id": "TSjOtHGk6z8h"
      },
      "source": [
        "Finalmente aplicaremos el modelo sobre nuestra imagen tratada"
      ]
    },
    {
      "cell_type": "code",
      "metadata": {
        "id": "4ypXfY7ZDEcz"
      },
      "source": [
        "y = iv3.predict(x)"
      ],
      "execution_count": null,
      "outputs": []
    },
    {
      "cell_type": "code",
      "metadata": {
        "id": "j5YmKWIcDLRS",
        "colab": {
          "base_uri": "https://localhost:8080/"
        },
        "outputId": "4c503963-8ab9-4263-b168-921c524a6636"
      },
      "source": [
        "y.shape"
      ],
      "execution_count": null,
      "outputs": [
        {
          "output_type": "execute_result",
          "data": {
            "text/plain": [
              "(1, 1000)"
            ]
          },
          "metadata": {},
          "execution_count": 14
        }
      ]
    },
    {
      "cell_type": "code",
      "metadata": {
        "id": "0EYjSNATESS2"
      },
      "source": [
        "y"
      ],
      "execution_count": null,
      "outputs": []
    },
    {
      "cell_type": "code",
      "metadata": {
        "id": "nwyJUhCfDuMI",
        "colab": {
          "base_uri": "https://localhost:8080/"
        },
        "outputId": "90684f53-165c-4a85-8347-e5a41dac99ba"
      },
      "source": [
        "decode_predictions(y)"
      ],
      "execution_count": null,
      "outputs": [
        {
          "output_type": "stream",
          "name": "stdout",
          "text": [
            "Downloading data from https://storage.googleapis.com/download.tensorflow.org/data/imagenet_class_index.json\n",
            "40960/35363 [==================================] - 0s 0us/step\n",
            "49152/35363 [=========================================] - 0s 0us/step\n"
          ]
        },
        {
          "output_type": "execute_result",
          "data": {
            "text/plain": [
              "[[('n02823750', 'beer_glass', 0.6725889),\n",
              "  ('n03443371', 'goblet', 0.01624658),\n",
              "  ('n03937543', 'pill_bottle', 0.012932636),\n",
              "  ('n03916031', 'perfume', 0.011535904),\n",
              "  ('n07920052', 'espresso', 0.008847027)]]"
            ]
          },
          "metadata": {},
          "execution_count": 16
        }
      ]
    },
    {
      "cell_type": "markdown",
      "metadata": {
        "id": "tbXVoKEGRY20"
      },
      "source": [
        "<a id=\"ref5\"> </a>\n",
        "<h2> Conclusión </h2>\n",
        "\n",
        "La aplicación de modelos pre-entrenados es directa y sencilla y nos podrá ayudar en algunos casos, sin embargo si deseamos solucionar un problema específico con Deep Learning deberemos contruir un modelo con nuestra propia data o alguna que nos apoye con el fin."
      ]
    },
    {
      "cell_type": "markdown",
      "metadata": {
        "id": "K-NGvnHb7CY_"
      },
      "source": [
        "Como podemos ver, la predicción del modelo es bastante acertada sobre imágenes relativamente sencillas"
      ]
    },
    {
      "cell_type": "markdown",
      "metadata": {
        "id": "x-4g7hHrRY22"
      },
      "source": [
        "### Gracias por completar este laboratorio!"
      ]
    },
    {
      "cell_type": "markdown",
      "metadata": {
        "id": "UM1K2bOuRY22"
      },
      "source": [
        "# Referencias"
      ]
    },
    {
      "cell_type": "markdown",
      "metadata": {
        "id": "tP2lZFaXRY23"
      },
      "source": [
        "https://cloud.google.com/tpu/docs/inception-v3-advanced?hl=es"
      ]
    }
  ]
}
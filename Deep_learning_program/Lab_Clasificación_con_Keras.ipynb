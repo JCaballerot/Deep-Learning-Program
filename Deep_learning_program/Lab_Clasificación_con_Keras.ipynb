{
  "nbformat": 4,
  "nbformat_minor": 0,
  "metadata": {
    "kernelspec": {
      "display_name": "Python",
      "language": "python",
      "name": "conda-env-python-py"
    },
    "language_info": {
      "codemirror_mode": {
        "name": "ipython",
        "version": 3
      },
      "file_extension": ".py",
      "mimetype": "text/x-python",
      "name": "python",
      "nbconvert_exporter": "python",
      "pygments_lexer": "ipython3",
      "version": "3.6.7"
    },
    "colab": {
      "provenance": [],
      "machine_shape": "hm",
      "include_colab_link": true
    }
  },
  "cells": [
    {
      "cell_type": "markdown",
      "metadata": {
        "id": "view-in-github",
        "colab_type": "text"
      },
      "source": [
        "<a href=\"https://colab.research.google.com/github/JCaballerot/Deep_learning_program/blob/main/Deep_learning_program/Lab_Clasificaci%C3%B3n_con_Keras.ipynb\" target=\"_parent\"><img src=\"https://colab.research.google.com/assets/colab-badge.svg\" alt=\"Open In Colab\"/></a>"
      ]
    },
    {
      "cell_type": "markdown",
      "metadata": {
        "button": false,
        "deletable": true,
        "new_sheet": false,
        "run_control": {
          "read_only": false
        },
        "id": "1gKWn7PiRiXG"
      },
      "source": [
        "<h1 align=center><font size = 5>Modelos de Clasificación con Keras</font></h1>\n"
      ]
    },
    {
      "cell_type": "markdown",
      "metadata": {
        "button": false,
        "deletable": true,
        "new_sheet": false,
        "run_control": {
          "read_only": false
        },
        "id": "DNGWWfSURiXH"
      },
      "source": [
        "## Introduction\n"
      ]
    },
    {
      "cell_type": "markdown",
      "metadata": {
        "button": false,
        "deletable": true,
        "new_sheet": false,
        "run_control": {
          "read_only": false
        },
        "id": "sAqexMF0RiXI"
      },
      "source": [
        "En este laboratorio, aprenderemos cómo usar la biblioteca de Keras para construir modelos para problemas de clasificación. Usaremos el popular conjunto de datos MNIST, un conjunto de datos de imágenes, para variar.\n",
        "\n",
        "La <strong> base de datos MNIST </strong>, abreviatura de la base de datos modificada del Instituto Nacional de Estándares y Tecnología, es una gran base de datos de dígitos escritos a mano que se usa comúnmente para entrenar varios sistemas de procesamiento de imágenes. La base de datos también se usa ampliamente para entrenar y testear en el campo del machine learning.\n",
        "\n",
        "La base de datos del MNIST contiene 60,000 imágenes de entrenamiento y 10,000 imágenes de test de dígitos escritos por estudiantes de secundaria y empleados de la Oficina del Censo de los Estados Unidos.\n",
        "\n",
        "Además, de esta manera, podremos comparar cómo se comparan las redes neuronales convencionales con las redes neuronales convolucionales, que construiremos en el próximo módulo."
      ]
    },
    {
      "cell_type": "markdown",
      "metadata": {
        "id": "GvrqbHx8RiXJ"
      },
      "source": [
        "<h2> Modelos de clasificación con Keras </h2>\n",
        "\n",
        "<h3> Objetivo de este Notebook <h3>\n",
        "<h5> 1. Uso de la base de datos MNIST para entrenar varios sistemas de procesamiento de imágenes </h5>\n",
        "<h5> 2. Crear una red neuronal </h5>\n",
        "<h5> 3. Entrenar y testear la red. </h5>\n",
        "\n",
        "\n"
      ]
    },
    {
      "cell_type": "markdown",
      "metadata": {
        "button": false,
        "deletable": true,
        "new_sheet": false,
        "run_control": {
          "read_only": false
        },
        "id": "8_RONimoRiXK"
      },
      "source": [
        "## Tabla de Contenido\n",
        "\n",
        "<div class=\"alert alert-block alert-info\" style=\"margin-top: 20px\">\n",
        "\n",
        "<font size = 3>\n",
        "\n",
        "1.  <a href=\"#item312\">Importar Keras y Paquetes</a>      \n",
        "2.  <a href=\"#item322\">Contruir una red neuronal</a>     \n",
        "3.  <a href=\"#item332\">Entrenar y Testear la Red</a>     \n",
        "\n",
        "</font>\n",
        "</div>\n"
      ]
    },
    {
      "cell_type": "markdown",
      "metadata": {
        "id": "1XY0ksXgRiXL"
      },
      "source": [
        "<a id='item312'></a>\n"
      ]
    },
    {
      "cell_type": "markdown",
      "metadata": {
        "button": false,
        "deletable": true,
        "new_sheet": false,
        "run_control": {
          "read_only": false
        },
        "id": "bHYk5c8gRiXL"
      },
      "source": [
        "## Importar Keras y Paquetes\n"
      ]
    },
    {
      "cell_type": "markdown",
      "metadata": {
        "id": "qOnbLDlJRiXM"
      },
      "source": [
        "Comencemos por importar Keras y algunos de sus módulos."
      ]
    },
    {
      "cell_type": "code",
      "metadata": {
        "button": false,
        "deletable": true,
        "new_sheet": false,
        "run_control": {
          "read_only": false
        },
        "id": "kswYEetdRiXM"
      },
      "source": [
        "from tensorflow import keras\n",
        "import tensorflow as tf\n",
        "\n",
        "from tensorflow.keras.models import Sequential\n",
        "from tensorflow.keras.layers import Dense\n",
        "from tensorflow.keras.utils import to_categorical\n"
      ],
      "execution_count": null,
      "outputs": []
    },
    {
      "cell_type": "markdown",
      "metadata": {
        "button": false,
        "deletable": true,
        "new_sheet": false,
        "run_control": {
          "read_only": false
        },
        "id": "0uBh2d7qRiXQ"
      },
      "source": [
        "Since we are dealing we images, let's also import the Matplotlib scripting layer in order to view the images.\n",
        "Ya que estamos tratando con imágenes, también importemos Matplotlib para ver las imágenes."
      ]
    },
    {
      "cell_type": "code",
      "metadata": {
        "button": false,
        "deletable": true,
        "new_sheet": false,
        "run_control": {
          "read_only": false
        },
        "id": "2giXZoRWRiXS"
      },
      "source": [
        "import matplotlib.pyplot as plt"
      ],
      "execution_count": null,
      "outputs": []
    },
    {
      "cell_type": "markdown",
      "metadata": {
        "button": false,
        "deletable": true,
        "new_sheet": false,
        "run_control": {
          "read_only": false
        },
        "id": "Blhsg18LRiXW"
      },
      "source": [
        "La biblioteca de Keras incluye convenientemente el conjunto de datos MNIST como parte de su API. Puede consultar otros conjuntos de datos dentro de la biblioteca de Keras [aquí](https://keras.io/datasets?cm_mmc=Email_Newsletter-_-Developer_Ed%2BTech-_-WW_WW-_-SkillsNetwork-Courses-IBMDeveloperSkillsNetwork-DL0101EN-SkillsNetwork-20718188&cm_mmca1=000026UJ&cm_mmca2=10006555&cm_mmca3=M12345678&cvosrc=email.Newsletter.M12345678&cvo_campaign=000026UJ&cm_mmc=Email_Newsletter-_-Developer_Ed%2BTech-_-WW_WW-_-SkillsNetwork-Courses-IBMDeveloperSkillsNetwork-DL0101EN-SkillsNetwork-20718188&cm_mmca1=000026UJ&cm_mmca2=10006555&cm_mmca3=M12345678&cvosrc=email.Newsletter.M12345678&cvo_campaign=000026UJ). \n",
        "\n",
        "Entonces, carguemos el conjunto de datos MNIST de la biblioteca de Keras. El conjunto de datos se divide fácilmente en un conjunto de entrenamiento y un conjunto de prueba.\n"
      ]
    },
    {
      "cell_type": "code",
      "metadata": {
        "button": false,
        "deletable": true,
        "new_sheet": false,
        "run_control": {
          "read_only": false
        },
        "id": "xtLmbVdlRiXW"
      },
      "source": [
        "# importar la data\n",
        "from keras.datasets import mnist\n",
        "\n",
        "# leer la data\n",
        "(X_train, y_train), (X_test, y_test) = mnist.load_data()"
      ],
      "execution_count": null,
      "outputs": []
    },
    {
      "cell_type": "markdown",
      "metadata": {
        "button": false,
        "deletable": true,
        "new_sheet": false,
        "run_control": {
          "read_only": false
        },
        "id": "J_7F3gdfRiXZ"
      },
      "source": [
        "Confirmemos el número de imágenes en cada conjunto. Según la documentación del conjunto de datos, deberíamos tener 60000 imágenes en X_train y 10000 imágenes en X_test."
      ]
    },
    {
      "cell_type": "code",
      "metadata": {
        "button": false,
        "deletable": true,
        "new_sheet": false,
        "run_control": {
          "read_only": false
        },
        "id": "tKME_FVVRiXa"
      },
      "source": [
        "X_train.shape"
      ],
      "execution_count": null,
      "outputs": []
    },
    {
      "cell_type": "code",
      "metadata": {
        "id": "lB1SF70_zI38"
      },
      "source": [
        "X_test.shape"
      ],
      "execution_count": null,
      "outputs": []
    },
    {
      "cell_type": "markdown",
      "metadata": {
        "button": false,
        "deletable": true,
        "new_sheet": false,
        "run_control": {
          "read_only": false
        },
        "id": "SfHrc75IRiXc"
      },
      "source": [
        "El primer número en la tupla de salida es el número de imágenes y los otros dos números son el tamaño de las imágenes en el conjunto de datos. Entonces, cada imagen tiene 28 píxeles por 28 píxeles."
      ]
    },
    {
      "cell_type": "markdown",
      "metadata": {
        "button": false,
        "deletable": true,
        "new_sheet": false,
        "run_control": {
          "read_only": false
        },
        "id": "5A5RyTTBRiXd"
      },
      "source": [
        "Visualicemos la primera imagen en el conjunto de entrenamiento usando Matplotlib.\n"
      ]
    },
    {
      "cell_type": "code",
      "metadata": {
        "button": false,
        "deletable": true,
        "new_sheet": false,
        "run_control": {
          "read_only": false
        },
        "id": "vkSF1JgbRiXd"
      },
      "source": [
        "plt.imshow(X_train[0])"
      ],
      "execution_count": null,
      "outputs": []
    },
    {
      "cell_type": "markdown",
      "metadata": {
        "button": false,
        "deletable": true,
        "new_sheet": false,
        "run_control": {
          "read_only": false
        },
        "id": "Hgn-qhAQRiXi"
      },
      "source": [
        "Con las redes neuronales convencionales, no podemos alimentar la imagen como entrada tal como está. Así que necesitamos aplanar las imágenes en vectores unidimensionales, cada uno de tamaño 1 x (28 x 28) = 1 x 784.\n"
      ]
    },
    {
      "cell_type": "code",
      "metadata": {
        "button": false,
        "deletable": true,
        "new_sheet": false,
        "run_control": {
          "read_only": false
        },
        "id": "HPlbL0Q9RiXj"
      },
      "source": [
        "# aplanar imágenes en un vector unidimensional\n",
        "\n",
        "num_pixels = X_train.shape[1] * X_train.shape[2] # encuentra el tamaño del vector unidimensional\n",
        "\n",
        "X_train = X_train.reshape(X_train.shape[0], num_pixels).astype('float32') # aplanar imágenes de entrenamiento\n",
        "X_test = X_test.reshape(X_test.shape[0], num_pixels).astype('float32') # aplanar imágenes de prueba\n"
      ],
      "execution_count": null,
      "outputs": []
    },
    {
      "cell_type": "code",
      "metadata": {
        "id": "G4FtlgGVgd5Z"
      },
      "source": [
        "X_train"
      ],
      "execution_count": null,
      "outputs": []
    },
    {
      "cell_type": "markdown",
      "metadata": {
        "button": false,
        "deletable": true,
        "new_sheet": false,
        "run_control": {
          "read_only": false
        },
        "id": "pfUsu9JFRiXm"
      },
      "source": [
        "Dado que los valores de los píxeles pueden oscilar entre 0 y 255, normalicemos los vectores para que estén entre 0 y 1.\n"
      ]
    },
    {
      "cell_type": "code",
      "metadata": {
        "button": false,
        "deletable": true,
        "new_sheet": false,
        "run_control": {
          "read_only": false
        },
        "id": "usRbEGnqRiXn"
      },
      "source": [
        "# normalizar los input de 0-255 a 0-1\n",
        "X_train = X_train/255\n",
        "X_test = X_test/255"
      ],
      "execution_count": null,
      "outputs": []
    },
    {
      "cell_type": "markdown",
      "metadata": {
        "button": false,
        "deletable": true,
        "new_sheet": false,
        "run_control": {
          "read_only": false
        },
        "id": "DfSUc8L7RiXq"
      },
      "source": [
        "Finalmente, antes de comenzar a construir nuestro modelo, recuerde que para la clasificación necesitamos dividir nuestra variable objetivo en categorías. Usamos la función to_categorical del paquete Keras Utilities.\n"
      ]
    },
    {
      "cell_type": "code",
      "metadata": {
        "id": "5FAK9HwMvvgd"
      },
      "source": [
        "y_train"
      ],
      "execution_count": null,
      "outputs": []
    },
    {
      "cell_type": "code",
      "metadata": {
        "button": false,
        "deletable": true,
        "new_sheet": false,
        "run_control": {
          "read_only": false
        },
        "id": "FAPughoHRiXq"
      },
      "source": [
        "# one hot encode outputs\n",
        "y_train = to_categorical(y_train)\n",
        "y_test = to_categorical(y_test)\n",
        "\n",
        "num_classes = y_test.shape[1]\n",
        "print(num_classes)"
      ],
      "execution_count": null,
      "outputs": []
    },
    {
      "cell_type": "code",
      "metadata": {
        "id": "hM3XN-xJv-F0"
      },
      "source": [
        "y_train"
      ],
      "execution_count": null,
      "outputs": []
    },
    {
      "cell_type": "markdown",
      "metadata": {
        "id": "1r8wjgWwRiXs"
      },
      "source": [
        "<a id='item322'></a>\n"
      ]
    },
    {
      "cell_type": "markdown",
      "metadata": {
        "button": false,
        "deletable": true,
        "new_sheet": false,
        "run_control": {
          "read_only": false
        },
        "id": "M5IpEz59RiXt"
      },
      "source": [
        "## Construir una Red Neuronal\n"
      ]
    },
    {
      "cell_type": "code",
      "metadata": {
        "id": "0v7wp37NfAO8"
      },
      "source": [
        "\n",
        "model = Sequential()\n",
        "model.add(Dense(num_pixels, activation='relu', input_shape=(num_pixels,)))\n",
        "model.add(Dense(100, activation='relu'))\n",
        "model.add(Dense(num_classes, activation='softmax'))\n"
      ],
      "execution_count": null,
      "outputs": []
    },
    {
      "cell_type": "code",
      "metadata": {
        "id": "4YOSqIoefXdJ"
      },
      "source": [
        "model.summary()"
      ],
      "execution_count": null,
      "outputs": []
    },
    {
      "cell_type": "code",
      "metadata": {
        "id": "A5IqnnTJfpGE"
      },
      "source": [
        "tf.keras.utils.plot_model(model, show_shapes = True)"
      ],
      "execution_count": null,
      "outputs": []
    },
    {
      "cell_type": "code",
      "metadata": {
        "id": "yOqEZhgdgHMZ"
      },
      "source": [
        "\n",
        "model.compile(optimizer='adam', loss='categorical_crossentropy', metrics=['accuracy'])\n",
        "history = model.fit(X_train, y_train, validation_data=(X_test, y_test), epochs = 10, verbose = 2)\n"
      ],
      "execution_count": null,
      "outputs": []
    },
    {
      "cell_type": "code",
      "metadata": {
        "id": "yDX_rTL8lXNW"
      },
      "source": [
        "import pandas as pd\n",
        "import matplotlib.pyplot as plt\n",
        "\n",
        "pd.DataFrame(history.history).plot(figsize=(16, 8)) \n",
        "plt.grid(True)\n",
        "plt.gca().set_ylim(0, 1) # set the vertical range to [0-1] plt.show()"
      ],
      "execution_count": null,
      "outputs": []
    },
    {
      "cell_type": "code",
      "metadata": {
        "button": false,
        "deletable": true,
        "new_sheet": false,
        "run_control": {
          "read_only": false
        },
        "id": "VhYQDjMmRiXt"
      },
      "source": [
        "# definir modelo de clasificación\n",
        "def classification_model():\n",
        "    # crear un modelo\n",
        "    model = Sequential()\n",
        "    model.add(Dense(num_pixels, activation='relu', input_shape=(num_pixels,)))\n",
        "    model.add(Dense(100, activation='relu'))\n",
        "    model.add(Dense(num_classes, activation='softmax'))\n",
        "    \n",
        "    # compilar modelo\n",
        "    model.compile(optimizer='adam', loss='categorical_crossentropy', metrics=['accuracy'])\n",
        "    return model"
      ],
      "execution_count": null,
      "outputs": []
    },
    {
      "cell_type": "markdown",
      "metadata": {
        "id": "7t_ReXBTRiXw"
      },
      "source": [
        "<a id='item332'></a>\n"
      ]
    },
    {
      "cell_type": "markdown",
      "metadata": {
        "button": false,
        "deletable": true,
        "new_sheet": false,
        "run_control": {
          "read_only": false
        },
        "id": "KXwMwNeQRiXw"
      },
      "source": [
        "## Entrenar y testear la red\n"
      ]
    },
    {
      "cell_type": "code",
      "metadata": {
        "button": false,
        "deletable": true,
        "new_sheet": false,
        "run_control": {
          "read_only": false
        },
        "id": "nPKSwrr9RiXx"
      },
      "source": [
        "# construir el modelo\n",
        "model = classification_model()\n",
        "\n",
        "# Entrenar el modelo\n",
        "model.fit(X_train, y_train, validation_data=(X_test, y_test), epochs=10, verbose=2)\n",
        "\n",
        "# evaluar el modelo\n",
        "scores = model.evaluate(X_test, y_test, verbose=0)"
      ],
      "execution_count": null,
      "outputs": []
    },
    {
      "cell_type": "code",
      "metadata": {
        "id": "MR5bYiscmPJJ"
      },
      "source": [
        "# evaluar el modelo\n",
        "scores = model.evaluate(X_test, y_test, verbose=0)"
      ],
      "execution_count": null,
      "outputs": []
    },
    {
      "cell_type": "code",
      "metadata": {
        "id": "uzkrDnX5mS0e"
      },
      "source": [
        "scores"
      ],
      "execution_count": null,
      "outputs": []
    },
    {
      "cell_type": "code",
      "metadata": {
        "id": "lNKd4z3BmYgO"
      },
      "source": [
        "model.predict(X_test)"
      ],
      "execution_count": null,
      "outputs": []
    },
    {
      "cell_type": "markdown",
      "metadata": {
        "button": false,
        "deletable": true,
        "new_sheet": false,
        "run_control": {
          "read_only": false
        },
        "id": "_gK0ZByhRiX3"
      },
      "source": [
        "Imprimamos la precisión y el error correspondiente.\n"
      ]
    },
    {
      "cell_type": "code",
      "metadata": {
        "button": false,
        "deletable": true,
        "new_sheet": false,
        "run_control": {
          "read_only": false
        },
        "id": "lxEA7IHLRiX9"
      },
      "source": [
        "print('Accuracy: {}% \\n Error: {}'.format(scores[1], 1 - scores[1]))        "
      ],
      "execution_count": null,
      "outputs": []
    },
    {
      "cell_type": "markdown",
      "metadata": {
        "button": false,
        "deletable": true,
        "new_sheet": false,
        "run_control": {
          "read_only": false
        },
        "id": "HsaP6SoRRiYA"
      },
      "source": [
        "Solo ejecutar 10 epoch en realidad podría llevar más de 20 minutos. Pero podemos ver los resultados a medida que se generan.\n"
      ]
    },
    {
      "cell_type": "markdown",
      "metadata": {
        "button": false,
        "deletable": true,
        "new_sheet": false,
        "run_control": {
          "read_only": false
        },
        "id": "N9XKSZQwRiYB"
      },
      "source": [
        "A veces, no puede darse el lujo de volver a entrenar su modelo cada vez que quiera usarlo, especialmente si tiene recursos computacionales limitados y el entrenamiento de su modelo puede llevar mucho tiempo. Por lo tanto, con la biblioteca de Keras, puede guardar su modelo después del entrenamiento. Para hacer eso, usamos el método de guardar."
      ]
    },
    {
      "cell_type": "code",
      "metadata": {
        "button": false,
        "deletable": true,
        "new_sheet": false,
        "run_control": {
          "read_only": false
        },
        "id": "e3niMseRRiYB"
      },
      "source": [
        "model.save('classification_model.h5')"
      ],
      "execution_count": null,
      "outputs": []
    },
    {
      "cell_type": "markdown",
      "metadata": {
        "button": false,
        "deletable": true,
        "new_sheet": false,
        "run_control": {
          "read_only": false
        },
        "id": "BDzWUnWPRiYF"
      },
      "source": [
        "Dado que nuestro modelo contiene matrices multidimensionales de datos, los modelos generalmente se guardan como archivos .h5."
      ]
    },
    {
      "cell_type": "markdown",
      "metadata": {
        "button": false,
        "deletable": true,
        "new_sheet": false,
        "run_control": {
          "read_only": false
        },
        "id": "-NCoTA1VRiYG"
      },
      "source": [
        "Cuando querramos usar el modelo nuevamente, usamos la función load_model de <strong> keras.models </strong>.\n"
      ]
    },
    {
      "cell_type": "code",
      "metadata": {
        "button": false,
        "deletable": true,
        "new_sheet": false,
        "run_control": {
          "read_only": false
        },
        "id": "5urvQb8xRiYH"
      },
      "source": [
        "from keras.models import load_model"
      ],
      "execution_count": null,
      "outputs": []
    },
    {
      "cell_type": "code",
      "metadata": {
        "button": false,
        "deletable": true,
        "new_sheet": false,
        "run_control": {
          "read_only": false
        },
        "id": "aN7cOS7pRiYJ"
      },
      "source": [
        "pretrained_model = load_model('classification_model.h5')"
      ],
      "execution_count": null,
      "outputs": []
    },
    {
      "cell_type": "code",
      "metadata": {
        "colab": {
          "base_uri": "https://localhost:8080/"
        },
        "id": "HMH6aEzUqunC",
        "outputId": "f19ba0d9-d1e8-48ae-85bf-c748964d2a2c"
      },
      "source": [
        "pretrained_model"
      ],
      "execution_count": null,
      "outputs": [
        {
          "output_type": "execute_result",
          "data": {
            "text/plain": [
              "<keras.engine.sequential.Sequential at 0x7f0f9bf02690>"
            ]
          },
          "metadata": {},
          "execution_count": 35
        }
      ]
    },
    {
      "cell_type": "markdown",
      "metadata": {
        "button": false,
        "deletable": true,
        "new_sheet": false,
        "run_control": {
          "read_only": false
        },
        "id": "4_TkYU37RiYM"
      },
      "source": [
        "### ¡Gracias por completar este laboratorio!\n",
        "\n"
      ]
    },
    {
      "cell_type": "code",
      "metadata": {
        "id": "5nBac00D3AMD"
      },
      "source": [
        "pretrained_model.predict(X_test)"
      ],
      "execution_count": null,
      "outputs": []
    },
    {
      "cell_type": "code",
      "metadata": {
        "id": "c0eCHFWPuPNL"
      },
      "source": [
        "import pandas as pd\n",
        "pd.DataFrame(pretrained_model.predict(X_test))"
      ],
      "execution_count": null,
      "outputs": []
    },
    {
      "cell_type": "code",
      "metadata": {
        "id": "L89Ntj8aq-ZN"
      },
      "source": [
        "plt.imshow(X_test[1])"
      ],
      "execution_count": null,
      "outputs": []
    }
  ]
}
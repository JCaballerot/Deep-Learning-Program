{
  "cells": [
    {
      "cell_type": "markdown",
      "metadata": {
        "id": "view-in-github",
        "colab_type": "text"
      },
      "source": [
        "<a href=\"https://colab.research.google.com/github/JCaballerot/Deep_learning_program/blob/main/Topicos_avanzados/CIFAR10.ipynb\" target=\"_parent\"><img src=\"https://colab.research.google.com/assets/colab-badge.svg\" alt=\"Open In Colab\"/></a>"
      ]
    },
    {
      "cell_type": "markdown",
      "source": [
        "<h1 align=\"center\"><font size=\"5\">CIFAR10</font></h1>\n"
      ],
      "metadata": {
        "id": "7UCr2aW_NUdu"
      }
    },
    {
      "cell_type": "markdown",
      "source": [
        "<center>\n",
        "  <img src=\"https://symjax.readthedocs.io/en/latest/_images/sphx_glr_plot_cifar10_001.svg\" width=\"800\" height=\"300\">\n",
        "</center>\n"
      ],
      "metadata": {
        "id": "6KS2LHNcgqwi"
      }
    },
    {
      "cell_type": "markdown",
      "source": [
        "Este laboratorio se enfoca en la construcción, entrenamiento y optimización de un modelo de red neuronal convolucional (CNN) para clasificar imágenes del conjunto de datos CIFAR10, que consiste en 60,000 imágenes a color de 32x32 distribuidas en 10 clases diferentes."
      ],
      "metadata": {
        "id": "tzF0jEk4NUdw"
      }
    },
    {
      "cell_type": "markdown",
      "metadata": {
        "id": "0ELb0bhGD32h"
      },
      "source": [
        "### 1. Instalación de dependencias\n"
      ]
    },
    {
      "cell_type": "markdown",
      "metadata": {
        "id": "dh2PcfxCD9Kt"
      },
      "source": [
        "Primero, instalamos scikeras, que es una interfaz de Scikit-learn para Keras, permitiéndonos usar herramientas de Scikit-learn como GridSearchCV para optimizar nuestros modelos de Keras."
      ]
    },
    {
      "cell_type": "code",
      "execution_count": 1,
      "metadata": {
        "id": "odm14iDiBiuK"
      },
      "outputs": [],
      "source": [
        "%%capture\n",
        "!pip3 install scikeras"
      ]
    },
    {
      "cell_type": "markdown",
      "metadata": {
        "id": "BhWgo16PEZzt"
      },
      "source": [
        "---"
      ]
    },
    {
      "cell_type": "markdown",
      "metadata": {
        "id": "0RtX_iRVEDGc"
      },
      "source": [
        "### 2. Importación de librerías necesarias"
      ]
    },
    {
      "cell_type": "markdown",
      "metadata": {
        "id": "7Vfgh_5uEN1q"
      },
      "source": [
        "Aquí importamos todas las librerías necesarias para nuestro laboratorio, incluyendo TensorFlow, Keras para la construcción del modelo, y Scikit-learn para la optimización de hiperparámetros."
      ]
    },
    {
      "cell_type": "code",
      "execution_count": 2,
      "metadata": {
        "id": "0VNq5Twf_v9n"
      },
      "outputs": [],
      "source": [
        "import pandas as pd\n",
        "import numpy as np\n",
        "import matplotlib.pyplot as plt\n",
        "\n",
        "from tensorflow import keras\n",
        "from tensorflow.keras.datasets import mnist\n",
        "from tensorflow.keras.models import Sequential\n",
        "from tensorflow.keras.layers import Dense, Dropout, Flatten\n",
        "from tensorflow.keras.regularizers import l1\n",
        "from tensorflow.keras.optimizers import Adam\n",
        "from sklearn.model_selection import GridSearchCV\n",
        "from scikeras.wrappers import KerasClassifier\n"
      ]
    },
    {
      "cell_type": "markdown",
      "metadata": {
        "id": "CWQr93aTEbFe"
      },
      "source": [
        "---"
      ]
    },
    {
      "cell_type": "markdown",
      "metadata": {
        "id": "xyu3Sl4cERxj"
      },
      "source": [
        "### 3. Definición del modelo\n"
      ]
    },
    {
      "cell_type": "markdown",
      "metadata": {
        "id": "vIdoTLEmEXJL"
      },
      "source": [
        "En esta sección, definimos la arquitectura de nuestra red neuronal convolucional (CNN), especificando capas convolucionales, capas de pooling, y capas densas para la clasificación. También configuramos dinámicamente el optimizador, la tasa de aprendizaje y la función de pérdida."
      ]
    },
    {
      "cell_type": "code",
      "execution_count": 3,
      "metadata": {
        "id": "qF2X6sv0AI85"
      },
      "outputs": [],
      "source": [
        "\n",
        "\n",
        "def create_model(learning_rate=0.01, optimizer='adam', loss='sparse_categorical_crossentropy', l1_reg=0.01):\n",
        "    model = Sequential([\n",
        "        keras.layers.Conv2D(32, (3, 3), activation='relu', input_shape=(32, 32, 3)),\n",
        "        keras.layers.MaxPooling2D((2, 2)),\n",
        "        keras.layers.Dropout(0.25),  # Agregar Dropout después de la capa de MaxPooling\n",
        "        Flatten(),\n",
        "        Dense(64, activation='relu', kernel_regularizer=l1(l1_reg)),  # Aplicar regularización L1 aquí\n",
        "        Dropout(0.5),  # Agregar Dropout antes de la capa final\n",
        "        Dense(10, activation='softmax', kernel_regularizer=l1(l1_reg))  # Aplicar regularización L1 aquí\n",
        "    ])\n",
        "\n",
        "    optimizer_choices = {\n",
        "        'adam': Adam(learning_rate=learning_rate),\n",
        "        'sgd': keras.optimizers.SGD(learning_rate=learning_rate),\n",
        "        'rmsprop': keras.optimizers.RMSprop(learning_rate=learning_rate)\n",
        "    }\n",
        "\n",
        "    model.compile(optimizer=optimizer_choices[optimizer],\n",
        "                  loss=loss,\n",
        "                  metrics=['accuracy'])\n",
        "    return model\n"
      ]
    },
    {
      "cell_type": "markdown",
      "metadata": {
        "id": "iNixfuB1Een_"
      },
      "source": [
        "### 4. Preprocesamiento de datos\n"
      ]
    },
    {
      "cell_type": "markdown",
      "metadata": {
        "id": "pzyOAuCPEidj"
      },
      "source": [
        "Cargamos y preprocesamos el conjunto de datos CIFAR10, normalizando las imágenes y convirtiendo las etiquetas a formato one-hot para su uso con la función de pérdida categorical_crossentropy."
      ]
    },
    {
      "cell_type": "code",
      "execution_count": 4,
      "metadata": {
        "id": "N74Cv7DfEmR0"
      },
      "outputs": [],
      "source": [
        "from tensorflow.keras.utils import to_categorical"
      ]
    },
    {
      "cell_type": "code",
      "execution_count": 5,
      "metadata": {
        "id": "fKhXqDMZF6ju",
        "colab": {
          "base_uri": "https://localhost:8080/"
        },
        "outputId": "85c06b87-c09b-44e3-c984-7567b0b0ba49"
      },
      "outputs": [
        {
          "output_type": "stream",
          "name": "stdout",
          "text": [
            "Downloading data from https://www.cs.toronto.edu/~kriz/cifar-10-python.tar.gz\n",
            "170498071/170498071 [==============================] - 11s 0us/step\n"
          ]
        }
      ],
      "source": [
        "(x_train, y_train), (x_test, y_test) = keras.datasets.cifar10.load_data()"
      ]
    },
    {
      "cell_type": "code",
      "source": [
        "x_train.shape"
      ],
      "metadata": {
        "colab": {
          "base_uri": "https://localhost:8080/"
        },
        "id": "umorE-yd4eTW",
        "outputId": "20182b93-f9cc-49a5-eac2-8f08f4c43400"
      },
      "execution_count": 11,
      "outputs": [
        {
          "output_type": "execute_result",
          "data": {
            "text/plain": [
              "(50000, 32, 32, 3)"
            ]
          },
          "metadata": {},
          "execution_count": 11
        }
      ]
    },
    {
      "cell_type": "code",
      "execution_count": 6,
      "metadata": {
        "id": "BR4ZU1z-Gr9E"
      },
      "outputs": [],
      "source": [
        "# Muestrear 2000 datos aleatoriamente de cada conjunto (entrenamiento y prueba)\n",
        "indices_train = np.random.choice(range(x_train.shape[0]), size = 10000, replace=False)\n",
        "indices_test = np.random.choice(range(x_test.shape[0]), size = 10000, replace=False)\n",
        "\n",
        "x_train_sampled = x_train[indices_train]\n",
        "y_train_sampled = y_train[indices_train]\n",
        "\n",
        "x_test_sampled = x_test[indices_test]\n",
        "y_test_sampled = y_test[indices_test]"
      ]
    },
    {
      "cell_type": "code",
      "execution_count": 7,
      "metadata": {
        "id": "iRbcEDopAPRu"
      },
      "outputs": [],
      "source": [
        "\n",
        "# Normalizar los datos\n",
        "x_train_sampled, x_test_sampled = x_train_sampled / 255.0, x_test_sampled / 255.0\n",
        "\n",
        "# Para usar 'categorical_crossentropy', necesitamos etiquetas en formato one-hot\n",
        "y_train_one_hot = to_categorical(y_train_sampled, 10)\n",
        "y_test_one_hot = to_categorical(y_test_sampled, 10)"
      ]
    },
    {
      "cell_type": "markdown",
      "metadata": {
        "id": "u-GscunYEq-d"
      },
      "source": [
        "### 5. Configuración de Gridsearch\n"
      ]
    },
    {
      "cell_type": "markdown",
      "metadata": {
        "id": "EdAe8s2FEzZU"
      },
      "source": [
        "Establecemos una grilla de hiperparámetros para explorar diferentes configuraciones de tasa de aprendizaje, tamaño de lote, optimizadores y funciones de pérdida, y preparamos nuestro modelo para la optimización."
      ]
    },
    {
      "cell_type": "code",
      "execution_count": 8,
      "metadata": {
        "id": "t0E8GzX0ARwG"
      },
      "outputs": [],
      "source": [
        "param_grid = {\n",
        "    'model__learning_rate': [0.001, 0.01],\n",
        "    'batch_size': [64, 128],\n",
        "    'model__optimizer': ['adam', 'sgd', 'rmsprop'],  # optimizador\n",
        "    'model__loss': ['sparse_categorical_crossentropy', 'categorical_crossentropy'],  # función de pérdida\n",
        "    'model__l1_reg': [0.001, 0.01, 0.1]  # Nuevos valores de regularización L1 para probar\n",
        "}\n"
      ]
    },
    {
      "cell_type": "markdown",
      "metadata": {
        "id": "ZS-mvkW6E5X5"
      },
      "source": [
        "### 6. Ejecución de la búsqueda de hiperparámetros y resultados\n"
      ]
    },
    {
      "cell_type": "markdown",
      "metadata": {
        "id": "EJ4yYDYmFAu9"
      },
      "source": [
        "Finalmente, ejecutamos la búsqueda de hiperparámetros utilizando GridSearchCV, entrenando el modelo con diferentes configuraciones y evaluando su rendimiento. Los mejores parámetros se muestran al final, junto con el rendimiento de todas las configuraciones probadas."
      ]
    },
    {
      "cell_type": "code",
      "execution_count": 9,
      "metadata": {
        "id": "imcKalH3FaJa"
      },
      "outputs": [],
      "source": [
        "\n",
        "model = KerasClassifier(build_fn = create_model, epochs = 10, verbose=1)  # Ajusta epochs según necesidad\n",
        "grid = GridSearchCV(estimator = model, param_grid = param_grid, n_jobs = 1, cv = 3, return_train_score = True, verbose = 2)\n"
      ]
    },
    {
      "cell_type": "code",
      "execution_count": 10,
      "metadata": {
        "colab": {
          "base_uri": "https://localhost:8080/"
        },
        "id": "aOyPdNuLFd2c",
        "outputId": "e7d1f6d3-2f4a-475b-9322-9c8a86dc30e1"
      },
      "outputs": [
        {
          "output_type": "stream",
          "name": "stdout",
          "text": [
            "Fitting 3 folds for each of 72 candidates, totalling 216 fits\n"
          ]
        },
        {
          "output_type": "stream",
          "name": "stderr",
          "text": [
            "/usr/local/lib/python3.10/dist-packages/scikeras/wrappers.py:915: UserWarning: ``build_fn`` will be renamed to ``model`` in a future release, at which point use of ``build_fn`` will raise an Error instead.\n",
            "  X, y = self._initialize(X, y)\n"
          ]
        },
        {
          "output_type": "stream",
          "name": "stdout",
          "text": [
            "Epoch 1/10\n",
            "4/4 [==============================] - 4s 115ms/step - loss: 8.7981 - accuracy: 0.1100\n",
            "Epoch 2/10\n",
            "4/4 [==============================] - 0s 80ms/step - loss: 7.6332 - accuracy: 0.1750\n",
            "Epoch 3/10\n",
            "4/4 [==============================] - 0s 68ms/step - loss: 6.6036 - accuracy: 0.2000\n",
            "Epoch 4/10\n",
            "4/4 [==============================] - 0s 97ms/step - loss: 5.6938 - accuracy: 0.1900\n",
            "Epoch 5/10\n",
            "4/4 [==============================] - 0s 75ms/step - loss: 4.9799 - accuracy: 0.1900\n",
            "Epoch 6/10\n",
            "4/4 [==============================] - 0s 69ms/step - loss: 4.3961 - accuracy: 0.1600\n",
            "Epoch 7/10\n",
            "4/4 [==============================] - 0s 70ms/step - loss: 3.9651 - accuracy: 0.2250\n",
            "Epoch 8/10\n",
            "4/4 [==============================] - 0s 72ms/step - loss: 3.7397 - accuracy: 0.1600\n",
            "Epoch 9/10\n",
            "4/4 [==============================] - 0s 76ms/step - loss: 3.5173 - accuracy: 0.2200\n",
            "Epoch 10/10\n",
            "4/4 [==============================] - 0s 99ms/step - loss: 3.3783 - accuracy: 0.1850\n",
            "2/2 [==============================] - 0s 14ms/step\n",
            "4/4 [==============================] - 0s 11ms/step\n",
            "[CV] END batch_size=64, model__l1_reg=0.001, model__learning_rate=0.001, model__loss=sparse_categorical_crossentropy, model__optimizer=adam; total time=  10.4s\n",
            "Epoch 1/10\n"
          ]
        },
        {
          "output_type": "stream",
          "name": "stderr",
          "text": [
            "/usr/local/lib/python3.10/dist-packages/scikeras/wrappers.py:915: UserWarning: ``build_fn`` will be renamed to ``model`` in a future release, at which point use of ``build_fn`` will raise an Error instead.\n",
            "  X, y = self._initialize(X, y)\n"
          ]
        },
        {
          "output_type": "stream",
          "name": "stdout",
          "text": [
            "4/4 [==============================] - 2s 42ms/step - loss: 8.7510 - accuracy: 0.1150\n",
            "Epoch 2/10\n",
            "4/4 [==============================] - 0s 42ms/step - loss: 7.5356 - accuracy: 0.1700\n",
            "Epoch 3/10\n",
            "4/4 [==============================] - 0s 43ms/step - loss: 6.4414 - accuracy: 0.1450\n",
            "Epoch 4/10\n",
            "4/4 [==============================] - 0s 37ms/step - loss: 5.5572 - accuracy: 0.1350\n",
            "Epoch 5/10\n",
            "4/4 [==============================] - 0s 36ms/step - loss: 4.8180 - accuracy: 0.1550\n",
            "Epoch 6/10\n",
            "4/4 [==============================] - 0s 45ms/step - loss: 4.2582 - accuracy: 0.1450\n",
            "Epoch 7/10\n",
            "4/4 [==============================] - 0s 55ms/step - loss: 3.8722 - accuracy: 0.1500\n",
            "Epoch 8/10\n",
            "4/4 [==============================] - 0s 60ms/step - loss: 3.6335 - accuracy: 0.1250\n",
            "Epoch 9/10\n",
            "4/4 [==============================] - 0s 63ms/step - loss: 3.4605 - accuracy: 0.2100\n",
            "Epoch 10/10\n",
            "4/4 [==============================] - 0s 64ms/step - loss: 3.2899 - accuracy: 0.1700\n",
            "2/2 [==============================] - 0s 21ms/step\n",
            "4/4 [==============================] - 0s 16ms/step\n",
            "[CV] END batch_size=64, model__l1_reg=0.001, model__learning_rate=0.001, model__loss=sparse_categorical_crossentropy, model__optimizer=adam; total time=   4.0s\n"
          ]
        },
        {
          "output_type": "stream",
          "name": "stderr",
          "text": [
            "/usr/local/lib/python3.10/dist-packages/scikeras/wrappers.py:915: UserWarning: ``build_fn`` will be renamed to ``model`` in a future release, at which point use of ``build_fn`` will raise an Error instead.\n",
            "  X, y = self._initialize(X, y)\n"
          ]
        },
        {
          "output_type": "stream",
          "name": "stdout",
          "text": [
            "Epoch 1/10\n",
            "4/4 [==============================] - 1s 42ms/step - loss: 8.8526 - accuracy: 0.1000\n",
            "Epoch 2/10\n",
            "4/4 [==============================] - 0s 40ms/step - loss: 7.7542 - accuracy: 0.1650\n",
            "Epoch 3/10\n",
            "4/4 [==============================] - 0s 38ms/step - loss: 6.7227 - accuracy: 0.1400\n",
            "Epoch 4/10\n",
            "4/4 [==============================] - 0s 36ms/step - loss: 5.8663 - accuracy: 0.1850\n",
            "Epoch 5/10\n",
            "4/4 [==============================] - 0s 39ms/step - loss: 5.2195 - accuracy: 0.1550\n",
            "Epoch 6/10\n",
            "4/4 [==============================] - 0s 40ms/step - loss: 4.6426 - accuracy: 0.1800\n",
            "Epoch 7/10\n",
            "4/4 [==============================] - 0s 41ms/step - loss: 4.2253 - accuracy: 0.1600\n",
            "Epoch 8/10\n",
            "4/4 [==============================] - 0s 38ms/step - loss: 3.9671 - accuracy: 0.2050\n",
            "Epoch 9/10\n",
            "4/4 [==============================] - 0s 37ms/step - loss: 3.7559 - accuracy: 0.2150\n",
            "Epoch 10/10\n",
            "4/4 [==============================] - 0s 35ms/step - loss: 3.5391 - accuracy: 0.2100\n",
            "2/2 [==============================] - 0s 14ms/step\n",
            "4/4 [==============================] - 0s 10ms/step\n",
            "[CV] END batch_size=64, model__l1_reg=0.001, model__learning_rate=0.001, model__loss=sparse_categorical_crossentropy, model__optimizer=adam; total time=   3.4s\n"
          ]
        },
        {
          "output_type": "stream",
          "name": "stderr",
          "text": [
            "/usr/local/lib/python3.10/dist-packages/scikeras/wrappers.py:915: UserWarning: ``build_fn`` will be renamed to ``model`` in a future release, at which point use of ``build_fn`` will raise an Error instead.\n",
            "  X, y = self._initialize(X, y)\n"
          ]
        },
        {
          "output_type": "stream",
          "name": "stdout",
          "text": [
            "Epoch 1/10\n",
            "4/4 [==============================] - 1s 38ms/step - loss: 9.0376 - accuracy: 0.1200\n",
            "Epoch 2/10\n",
            "4/4 [==============================] - 0s 45ms/step - loss: 9.0220 - accuracy: 0.1300\n",
            "Epoch 3/10\n",
            "4/4 [==============================] - 0s 36ms/step - loss: 9.0329 - accuracy: 0.1400\n",
            "Epoch 4/10\n",
            "4/4 [==============================] - 0s 35ms/step - loss: 9.0314 - accuracy: 0.1050\n",
            "Epoch 5/10\n",
            "4/4 [==============================] - 0s 32ms/step - loss: 9.0170 - accuracy: 0.1250\n",
            "Epoch 6/10\n",
            "4/4 [==============================] - 0s 35ms/step - loss: 9.0387 - accuracy: 0.1000\n",
            "Epoch 7/10\n",
            "4/4 [==============================] - 0s 35ms/step - loss: 9.0064 - accuracy: 0.1450\n",
            "Epoch 8/10\n",
            "4/4 [==============================] - 0s 37ms/step - loss: 9.0176 - accuracy: 0.1000\n",
            "Epoch 9/10\n",
            "4/4 [==============================] - 0s 38ms/step - loss: 8.9940 - accuracy: 0.1300\n",
            "Epoch 10/10\n",
            "4/4 [==============================] - 0s 36ms/step - loss: 8.9983 - accuracy: 0.1300\n",
            "2/2 [==============================] - 0s 14ms/step\n",
            "4/4 [==============================] - 0s 11ms/step\n",
            "[CV] END batch_size=64, model__l1_reg=0.001, model__learning_rate=0.001, model__loss=sparse_categorical_crossentropy, model__optimizer=sgd; total time=   2.7s\n",
            "Epoch 1/10\n"
          ]
        },
        {
          "output_type": "stream",
          "name": "stderr",
          "text": [
            "/usr/local/lib/python3.10/dist-packages/scikeras/wrappers.py:915: UserWarning: ``build_fn`` will be renamed to ``model`` in a future release, at which point use of ``build_fn`` will raise an Error instead.\n",
            "  X, y = self._initialize(X, y)\n"
          ]
        },
        {
          "output_type": "stream",
          "name": "stdout",
          "text": [
            "4/4 [==============================] - 1s 35ms/step - loss: 9.0429 - accuracy: 0.1200\n",
            "Epoch 2/10\n",
            "4/4 [==============================] - 0s 36ms/step - loss: 9.0528 - accuracy: 0.1250\n",
            "Epoch 3/10\n",
            "4/4 [==============================] - 0s 43ms/step - loss: 9.0094 - accuracy: 0.1350\n",
            "Epoch 4/10\n",
            "4/4 [==============================] - 0s 35ms/step - loss: 9.0314 - accuracy: 0.1200\n",
            "Epoch 5/10\n",
            "4/4 [==============================] - 0s 33ms/step - loss: 9.0117 - accuracy: 0.1300\n",
            "Epoch 6/10\n",
            "4/4 [==============================] - 0s 34ms/step - loss: 8.9943 - accuracy: 0.1650\n",
            "Epoch 7/10\n",
            "4/4 [==============================] - 0s 36ms/step - loss: 9.0170 - accuracy: 0.1600\n",
            "Epoch 8/10\n",
            "4/4 [==============================] - 0s 36ms/step - loss: 9.0077 - accuracy: 0.1450\n",
            "Epoch 9/10\n",
            "4/4 [==============================] - 0s 36ms/step - loss: 8.9944 - accuracy: 0.1350\n",
            "Epoch 10/10\n",
            "4/4 [==============================] - 0s 41ms/step - loss: 9.0069 - accuracy: 0.1300\n",
            "2/2 [==============================] - 0s 13ms/step\n",
            "4/4 [==============================] - 0s 11ms/step\n",
            "[CV] END batch_size=64, model__l1_reg=0.001, model__learning_rate=0.001, model__loss=sparse_categorical_crossentropy, model__optimizer=sgd; total time=   3.6s\n",
            "Epoch 1/10\n"
          ]
        },
        {
          "output_type": "stream",
          "name": "stderr",
          "text": [
            "/usr/local/lib/python3.10/dist-packages/scikeras/wrappers.py:915: UserWarning: ``build_fn`` will be renamed to ``model`` in a future release, at which point use of ``build_fn`` will raise an Error instead.\n",
            "  X, y = self._initialize(X, y)\n"
          ]
        },
        {
          "output_type": "stream",
          "name": "stdout",
          "text": [
            "4/4 [==============================] - 1s 46ms/step - loss: 9.0572 - accuracy: 0.0650\n",
            "Epoch 2/10\n",
            "4/4 [==============================] - 0s 54ms/step - loss: 9.0397 - accuracy: 0.1200\n",
            "Epoch 3/10\n",
            "4/4 [==============================] - 0s 52ms/step - loss: 9.0303 - accuracy: 0.1200\n",
            "Epoch 4/10\n",
            "4/4 [==============================] - 0s 56ms/step - loss: 9.0199 - accuracy: 0.1450\n",
            "Epoch 5/10\n",
            "4/4 [==============================] - 0s 54ms/step - loss: 9.0501 - accuracy: 0.0750\n",
            "Epoch 6/10\n",
            "4/4 [==============================] - 0s 57ms/step - loss: 9.0582 - accuracy: 0.0900\n",
            "Epoch 7/10\n",
            "4/4 [==============================] - 0s 55ms/step - loss: 9.0299 - accuracy: 0.1200\n",
            "Epoch 8/10\n",
            "4/4 [==============================] - 0s 53ms/step - loss: 9.0019 - accuracy: 0.1000\n",
            "Epoch 9/10\n",
            "4/4 [==============================] - 0s 61ms/step - loss: 8.9946 - accuracy: 0.1050\n",
            "Epoch 10/10\n",
            "4/4 [==============================] - 0s 53ms/step - loss: 9.0048 - accuracy: 0.1150\n",
            "2/2 [==============================] - 0s 19ms/step\n",
            "4/4 [==============================] - 0s 10ms/step\n",
            "[CV] END batch_size=64, model__l1_reg=0.001, model__learning_rate=0.001, model__loss=sparse_categorical_crossentropy, model__optimizer=sgd; total time=   3.7s\n",
            "Epoch 1/10\n"
          ]
        },
        {
          "output_type": "stream",
          "name": "stderr",
          "text": [
            "/usr/local/lib/python3.10/dist-packages/scikeras/wrappers.py:915: UserWarning: ``build_fn`` will be renamed to ``model`` in a future release, at which point use of ``build_fn`` will raise an Error instead.\n",
            "  X, y = self._initialize(X, y)\n"
          ]
        },
        {
          "output_type": "stream",
          "name": "stdout",
          "text": [
            "4/4 [==============================] - 1s 35ms/step - loss: 8.8789 - accuracy: 0.0950\n",
            "Epoch 2/10\n",
            "4/4 [==============================] - 0s 42ms/step - loss: 6.5881 - accuracy: 0.1550\n",
            "Epoch 3/10\n",
            "4/4 [==============================] - 0s 33ms/step - loss: 5.3849 - accuracy: 0.1250\n",
            "Epoch 4/10\n",
            "4/4 [==============================] - 0s 33ms/step - loss: 4.5683 - accuracy: 0.1550\n",
            "Epoch 5/10\n",
            "4/4 [==============================] - 0s 35ms/step - loss: 3.9427 - accuracy: 0.1450\n",
            "Epoch 6/10\n",
            "4/4 [==============================] - 0s 34ms/step - loss: 3.5781 - accuracy: 0.1650\n",
            "Epoch 7/10\n",
            "4/4 [==============================] - 0s 34ms/step - loss: 3.3964 - accuracy: 0.1350\n",
            "Epoch 8/10\n",
            "4/4 [==============================] - 0s 38ms/step - loss: 3.2009 - accuracy: 0.2200\n",
            "Epoch 9/10\n",
            "4/4 [==============================] - 0s 34ms/step - loss: 3.1305 - accuracy: 0.1450\n",
            "Epoch 10/10\n",
            "4/4 [==============================] - 0s 35ms/step - loss: 3.0214 - accuracy: 0.1750\n",
            "2/2 [==============================] - 0s 14ms/step\n",
            "4/4 [==============================] - 0s 12ms/step\n",
            "[CV] END batch_size=64, model__l1_reg=0.001, model__learning_rate=0.001, model__loss=sparse_categorical_crossentropy, model__optimizer=rmsprop; total time=   3.6s\n",
            "Epoch 1/10\n"
          ]
        },
        {
          "output_type": "stream",
          "name": "stderr",
          "text": [
            "/usr/local/lib/python3.10/dist-packages/scikeras/wrappers.py:915: UserWarning: ``build_fn`` will be renamed to ``model`` in a future release, at which point use of ``build_fn`` will raise an Error instead.\n",
            "  X, y = self._initialize(X, y)\n"
          ]
        },
        {
          "output_type": "stream",
          "name": "stdout",
          "text": [
            "4/4 [==============================] - 1s 36ms/step - loss: 8.6988 - accuracy: 0.1150\n",
            "Epoch 2/10\n",
            "4/4 [==============================] - 0s 33ms/step - loss: 6.4910 - accuracy: 0.1400\n",
            "Epoch 3/10\n",
            "4/4 [==============================] - 0s 33ms/step - loss: 5.2287 - accuracy: 0.1400\n",
            "Epoch 4/10\n",
            "4/4 [==============================] - 0s 37ms/step - loss: 4.3486 - accuracy: 0.1350\n",
            "Epoch 5/10\n",
            "4/4 [==============================] - 0s 35ms/step - loss: 3.7938 - accuracy: 0.1250\n",
            "Epoch 6/10\n",
            "4/4 [==============================] - 0s 33ms/step - loss: 3.4008 - accuracy: 0.2000\n",
            "Epoch 7/10\n",
            "4/4 [==============================] - 0s 34ms/step - loss: 3.2321 - accuracy: 0.1800\n",
            "Epoch 8/10\n",
            "4/4 [==============================] - 0s 39ms/step - loss: 3.1455 - accuracy: 0.2050\n",
            "Epoch 9/10\n",
            "4/4 [==============================] - 0s 33ms/step - loss: 2.9848 - accuracy: 0.2200\n",
            "Epoch 10/10\n",
            "4/4 [==============================] - 0s 32ms/step - loss: 2.9084 - accuracy: 0.1550\n",
            "2/2 [==============================] - 0s 14ms/step\n",
            "4/4 [==============================] - 0s 10ms/step\n",
            "[CV] END batch_size=64, model__l1_reg=0.001, model__learning_rate=0.001, model__loss=sparse_categorical_crossentropy, model__optimizer=rmsprop; total time=   3.7s\n",
            "Epoch 1/10\n"
          ]
        },
        {
          "output_type": "stream",
          "name": "stderr",
          "text": [
            "/usr/local/lib/python3.10/dist-packages/scikeras/wrappers.py:915: UserWarning: ``build_fn`` will be renamed to ``model`` in a future release, at which point use of ``build_fn`` will raise an Error instead.\n",
            "  X, y = self._initialize(X, y)\n"
          ]
        },
        {
          "output_type": "stream",
          "name": "stdout",
          "text": [
            "4/4 [==============================] - 1s 35ms/step - loss: 8.4457 - accuracy: 0.1350\n",
            "Epoch 2/10\n",
            "4/4 [==============================] - 0s 35ms/step - loss: 6.4368 - accuracy: 0.1650\n",
            "Epoch 3/10\n",
            "4/4 [==============================] - 0s 36ms/step - loss: 5.2050 - accuracy: 0.1450\n",
            "Epoch 4/10\n",
            "4/4 [==============================] - 0s 32ms/step - loss: 4.3298 - accuracy: 0.1750\n",
            "Epoch 5/10\n",
            "4/4 [==============================] - 0s 33ms/step - loss: 3.6935 - accuracy: 0.1950\n",
            "Epoch 6/10\n",
            "4/4 [==============================] - 0s 40ms/step - loss: 3.3253 - accuracy: 0.2100\n",
            "Epoch 7/10\n",
            "4/4 [==============================] - 0s 33ms/step - loss: 3.1216 - accuracy: 0.2350\n",
            "Epoch 8/10\n",
            "4/4 [==============================] - 0s 35ms/step - loss: 3.0042 - accuracy: 0.2050\n",
            "Epoch 9/10\n",
            "4/4 [==============================] - 0s 59ms/step - loss: 2.9116 - accuracy: 0.2050\n",
            "Epoch 10/10\n",
            "4/4 [==============================] - 0s 58ms/step - loss: 2.8298 - accuracy: 0.2200\n",
            "2/2 [==============================] - 0s 17ms/step\n",
            "4/4 [==============================] - 0s 16ms/step\n",
            "[CV] END batch_size=64, model__l1_reg=0.001, model__learning_rate=0.001, model__loss=sparse_categorical_crossentropy, model__optimizer=rmsprop; total time=   3.7s\n"
          ]
        },
        {
          "output_type": "stream",
          "name": "stderr",
          "text": [
            "/usr/local/lib/python3.10/dist-packages/scikeras/wrappers.py:915: UserWarning: ``build_fn`` will be renamed to ``model`` in a future release, at which point use of ``build_fn`` will raise an Error instead.\n",
            "  X, y = self._initialize(X, y)\n"
          ]
        },
        {
          "output_type": "stream",
          "name": "stdout",
          "text": [
            "Epoch 1/10\n",
            "[CV] END batch_size=64, model__l1_reg=0.001, model__learning_rate=0.001, model__loss=categorical_crossentropy, model__optimizer=adam; total time=   0.3s\n",
            "Epoch 1/10\n"
          ]
        },
        {
          "output_type": "stream",
          "name": "stderr",
          "text": [
            "/usr/local/lib/python3.10/dist-packages/scikeras/wrappers.py:915: UserWarning: ``build_fn`` will be renamed to ``model`` in a future release, at which point use of ``build_fn`` will raise an Error instead.\n",
            "  X, y = self._initialize(X, y)\n"
          ]
        },
        {
          "output_type": "stream",
          "name": "stdout",
          "text": [
            "[CV] END batch_size=64, model__l1_reg=0.001, model__learning_rate=0.001, model__loss=categorical_crossentropy, model__optimizer=adam; total time=   0.3s\n",
            "Epoch 1/10\n"
          ]
        },
        {
          "output_type": "stream",
          "name": "stderr",
          "text": [
            "/usr/local/lib/python3.10/dist-packages/scikeras/wrappers.py:915: UserWarning: ``build_fn`` will be renamed to ``model`` in a future release, at which point use of ``build_fn`` will raise an Error instead.\n",
            "  X, y = self._initialize(X, y)\n"
          ]
        },
        {
          "output_type": "stream",
          "name": "stdout",
          "text": [
            "[CV] END batch_size=64, model__l1_reg=0.001, model__learning_rate=0.001, model__loss=categorical_crossentropy, model__optimizer=adam; total time=   0.3s\n",
            "Epoch 1/10\n"
          ]
        },
        {
          "output_type": "stream",
          "name": "stderr",
          "text": [
            "/usr/local/lib/python3.10/dist-packages/scikeras/wrappers.py:915: UserWarning: ``build_fn`` will be renamed to ``model`` in a future release, at which point use of ``build_fn`` will raise an Error instead.\n",
            "  X, y = self._initialize(X, y)\n"
          ]
        },
        {
          "output_type": "stream",
          "name": "stdout",
          "text": [
            "[CV] END batch_size=64, model__l1_reg=0.001, model__learning_rate=0.001, model__loss=categorical_crossentropy, model__optimizer=sgd; total time=   0.3s\n"
          ]
        },
        {
          "output_type": "stream",
          "name": "stderr",
          "text": [
            "/usr/local/lib/python3.10/dist-packages/scikeras/wrappers.py:915: UserWarning: ``build_fn`` will be renamed to ``model`` in a future release, at which point use of ``build_fn`` will raise an Error instead.\n",
            "  X, y = self._initialize(X, y)\n"
          ]
        },
        {
          "output_type": "stream",
          "name": "stdout",
          "text": [
            "Epoch 1/10\n",
            "[CV] END batch_size=64, model__l1_reg=0.001, model__learning_rate=0.001, model__loss=categorical_crossentropy, model__optimizer=sgd; total time=   0.3s\n",
            "Epoch 1/10\n"
          ]
        },
        {
          "output_type": "stream",
          "name": "stderr",
          "text": [
            "/usr/local/lib/python3.10/dist-packages/scikeras/wrappers.py:915: UserWarning: ``build_fn`` will be renamed to ``model`` in a future release, at which point use of ``build_fn`` will raise an Error instead.\n",
            "  X, y = self._initialize(X, y)\n"
          ]
        },
        {
          "output_type": "stream",
          "name": "stdout",
          "text": [
            "[CV] END batch_size=64, model__l1_reg=0.001, model__learning_rate=0.001, model__loss=categorical_crossentropy, model__optimizer=sgd; total time=   0.3s\n",
            "Epoch 1/10\n"
          ]
        },
        {
          "output_type": "stream",
          "name": "stderr",
          "text": [
            "/usr/local/lib/python3.10/dist-packages/scikeras/wrappers.py:915: UserWarning: ``build_fn`` will be renamed to ``model`` in a future release, at which point use of ``build_fn`` will raise an Error instead.\n",
            "  X, y = self._initialize(X, y)\n"
          ]
        },
        {
          "output_type": "stream",
          "name": "stdout",
          "text": [
            "[CV] END batch_size=64, model__l1_reg=0.001, model__learning_rate=0.001, model__loss=categorical_crossentropy, model__optimizer=rmsprop; total time=   0.3s\n",
            "Epoch 1/10\n"
          ]
        },
        {
          "output_type": "stream",
          "name": "stderr",
          "text": [
            "/usr/local/lib/python3.10/dist-packages/scikeras/wrappers.py:915: UserWarning: ``build_fn`` will be renamed to ``model`` in a future release, at which point use of ``build_fn`` will raise an Error instead.\n",
            "  X, y = self._initialize(X, y)\n"
          ]
        },
        {
          "output_type": "stream",
          "name": "stdout",
          "text": [
            "[CV] END batch_size=64, model__l1_reg=0.001, model__learning_rate=0.001, model__loss=categorical_crossentropy, model__optimizer=rmsprop; total time=   0.3s\n",
            "Epoch 1/10\n"
          ]
        },
        {
          "output_type": "stream",
          "name": "stderr",
          "text": [
            "/usr/local/lib/python3.10/dist-packages/scikeras/wrappers.py:915: UserWarning: ``build_fn`` will be renamed to ``model`` in a future release, at which point use of ``build_fn`` will raise an Error instead.\n",
            "  X, y = self._initialize(X, y)\n"
          ]
        },
        {
          "output_type": "stream",
          "name": "stdout",
          "text": [
            "[CV] END batch_size=64, model__l1_reg=0.001, model__learning_rate=0.001, model__loss=categorical_crossentropy, model__optimizer=rmsprop; total time=   0.3s\n"
          ]
        },
        {
          "output_type": "stream",
          "name": "stderr",
          "text": [
            "/usr/local/lib/python3.10/dist-packages/scikeras/wrappers.py:915: UserWarning: ``build_fn`` will be renamed to ``model`` in a future release, at which point use of ``build_fn`` will raise an Error instead.\n",
            "  X, y = self._initialize(X, y)\n"
          ]
        },
        {
          "output_type": "stream",
          "name": "stdout",
          "text": [
            "Epoch 1/10\n",
            "4/4 [==============================] - 1s 36ms/step - loss: 10.4843 - accuracy: 0.1100\n",
            "Epoch 2/10\n",
            "4/4 [==============================] - 0s 35ms/step - loss: 7.2227 - accuracy: 0.1150\n",
            "Epoch 3/10\n",
            "4/4 [==============================] - 0s 37ms/step - loss: 6.5017 - accuracy: 0.1450\n",
            "Epoch 4/10\n",
            "4/4 [==============================] - 0s 34ms/step - loss: 5.8988 - accuracy: 0.1350\n",
            "Epoch 5/10\n",
            "4/4 [==============================] - 0s 39ms/step - loss: 5.3136 - accuracy: 0.1200\n",
            "Epoch 6/10\n",
            "4/4 [==============================] - 0s 35ms/step - loss: 4.8025 - accuracy: 0.1350\n",
            "Epoch 7/10\n",
            "4/4 [==============================] - 0s 34ms/step - loss: 4.3477 - accuracy: 0.1300\n",
            "Epoch 8/10\n",
            "4/4 [==============================] - 0s 32ms/step - loss: 4.0269 - accuracy: 0.1400\n",
            "Epoch 9/10\n",
            "4/4 [==============================] - 0s 40ms/step - loss: 3.7382 - accuracy: 0.1400\n",
            "Epoch 10/10\n",
            "4/4 [==============================] - 0s 33ms/step - loss: 3.5076 - accuracy: 0.1400\n",
            "2/2 [==============================] - 0s 17ms/step\n",
            "4/4 [==============================] - 0s 11ms/step\n",
            "[CV] END batch_size=64, model__l1_reg=0.001, model__learning_rate=0.01, model__loss=sparse_categorical_crossentropy, model__optimizer=adam; total time=   2.9s\n",
            "Epoch 1/10\n"
          ]
        },
        {
          "output_type": "stream",
          "name": "stderr",
          "text": [
            "/usr/local/lib/python3.10/dist-packages/scikeras/wrappers.py:915: UserWarning: ``build_fn`` will be renamed to ``model`` in a future release, at which point use of ``build_fn`` will raise an Error instead.\n",
            "  X, y = self._initialize(X, y)\n"
          ]
        },
        {
          "output_type": "stream",
          "name": "stdout",
          "text": [
            "4/4 [==============================] - 1s 37ms/step - loss: 8.4142 - accuracy: 0.1350\n",
            "Epoch 2/10\n",
            "4/4 [==============================] - 0s 37ms/step - loss: 6.5817 - accuracy: 0.0950\n",
            "Epoch 3/10\n",
            "4/4 [==============================] - 0s 42ms/step - loss: 5.7956 - accuracy: 0.1050\n",
            "Epoch 4/10\n",
            "4/4 [==============================] - 0s 36ms/step - loss: 5.2432 - accuracy: 0.1200\n",
            "Epoch 5/10\n",
            "4/4 [==============================] - 0s 34ms/step - loss: 4.7166 - accuracy: 0.0950\n",
            "Epoch 6/10\n",
            "4/4 [==============================] - 0s 32ms/step - loss: 4.2723 - accuracy: 0.1300\n",
            "Epoch 7/10\n",
            "4/4 [==============================] - 0s 33ms/step - loss: 3.8931 - accuracy: 0.1450\n",
            "Epoch 8/10\n",
            "4/4 [==============================] - 0s 35ms/step - loss: 3.6383 - accuracy: 0.1450\n",
            "Epoch 9/10\n",
            "4/4 [==============================] - 0s 33ms/step - loss: 3.4104 - accuracy: 0.1450\n",
            "Epoch 10/10\n",
            "4/4 [==============================] - 0s 37ms/step - loss: 3.2423 - accuracy: 0.1450\n",
            "2/2 [==============================] - 0s 13ms/step\n",
            "4/4 [==============================] - 0s 11ms/step\n",
            "[CV] END batch_size=64, model__l1_reg=0.001, model__learning_rate=0.01, model__loss=sparse_categorical_crossentropy, model__optimizer=adam; total time=   2.8s\n",
            "Epoch 1/10\n"
          ]
        },
        {
          "output_type": "stream",
          "name": "stderr",
          "text": [
            "/usr/local/lib/python3.10/dist-packages/scikeras/wrappers.py:915: UserWarning: ``build_fn`` will be renamed to ``model`` in a future release, at which point use of ``build_fn`` will raise an Error instead.\n",
            "  X, y = self._initialize(X, y)\n"
          ]
        },
        {
          "output_type": "stream",
          "name": "stdout",
          "text": [
            "4/4 [==============================] - 1s 37ms/step - loss: 11.4979 - accuracy: 0.1250\n",
            "Epoch 2/10\n",
            "4/4 [==============================] - 0s 34ms/step - loss: 7.0312 - accuracy: 0.0950\n",
            "Epoch 3/10\n",
            "4/4 [==============================] - 0s 33ms/step - loss: 6.2765 - accuracy: 0.1150\n",
            "Epoch 4/10\n",
            "4/4 [==============================] - 0s 34ms/step - loss: 5.7537 - accuracy: 0.1000\n",
            "Epoch 5/10\n",
            "4/4 [==============================] - 0s 56ms/step - loss: 5.3041 - accuracy: 0.1550\n",
            "Epoch 6/10\n",
            "4/4 [==============================] - 0s 54ms/step - loss: 4.8309 - accuracy: 0.1200\n",
            "Epoch 7/10\n",
            "4/4 [==============================] - 0s 54ms/step - loss: 4.4770 - accuracy: 0.1450\n",
            "Epoch 8/10\n",
            "4/4 [==============================] - 0s 57ms/step - loss: 4.1691 - accuracy: 0.1700\n",
            "Epoch 9/10\n",
            "4/4 [==============================] - 0s 57ms/step - loss: 3.8602 - accuracy: 0.1500\n",
            "Epoch 10/10\n",
            "4/4 [==============================] - 0s 56ms/step - loss: 3.6688 - accuracy: 0.1550\n",
            "2/2 [==============================] - 0s 17ms/step\n",
            "4/4 [==============================] - 0s 22ms/step\n",
            "[CV] END batch_size=64, model__l1_reg=0.001, model__learning_rate=0.01, model__loss=sparse_categorical_crossentropy, model__optimizer=adam; total time=   3.9s\n",
            "Epoch 1/10\n"
          ]
        },
        {
          "output_type": "stream",
          "name": "stderr",
          "text": [
            "/usr/local/lib/python3.10/dist-packages/scikeras/wrappers.py:915: UserWarning: ``build_fn`` will be renamed to ``model`` in a future release, at which point use of ``build_fn`` will raise an Error instead.\n",
            "  X, y = self._initialize(X, y)\n"
          ]
        },
        {
          "output_type": "stream",
          "name": "stdout",
          "text": [
            "4/4 [==============================] - 1s 34ms/step - loss: 9.0757 - accuracy: 0.1000\n",
            "Epoch 2/10\n",
            "4/4 [==============================] - 0s 37ms/step - loss: 9.0214 - accuracy: 0.1150\n",
            "Epoch 3/10\n",
            "4/4 [==============================] - 0s 34ms/step - loss: 8.9948 - accuracy: 0.1150\n",
            "Epoch 4/10\n",
            "4/4 [==============================] - 0s 33ms/step - loss: 8.9422 - accuracy: 0.1250\n",
            "Epoch 5/10\n",
            "4/4 [==============================] - 0s 32ms/step - loss: 8.9237 - accuracy: 0.1600\n",
            "Epoch 6/10\n",
            "4/4 [==============================] - 0s 41ms/step - loss: 8.9291 - accuracy: 0.1350\n",
            "Epoch 7/10\n",
            "4/4 [==============================] - 0s 33ms/step - loss: 8.8582 - accuracy: 0.1650\n",
            "Epoch 8/10\n",
            "4/4 [==============================] - 0s 35ms/step - loss: 8.8470 - accuracy: 0.1800\n",
            "Epoch 9/10\n",
            "4/4 [==============================] - 0s 36ms/step - loss: 8.8575 - accuracy: 0.1400\n",
            "Epoch 10/10\n",
            "4/4 [==============================] - 0s 34ms/step - loss: 8.8287 - accuracy: 0.1350\n",
            "2/2 [==============================] - 0s 13ms/step\n",
            "4/4 [==============================] - 0s 10ms/step\n",
            "[CV] END batch_size=64, model__l1_reg=0.001, model__learning_rate=0.01, model__loss=sparse_categorical_crossentropy, model__optimizer=sgd; total time=   3.6s\n",
            "Epoch 1/10\n"
          ]
        },
        {
          "output_type": "stream",
          "name": "stderr",
          "text": [
            "/usr/local/lib/python3.10/dist-packages/scikeras/wrappers.py:915: UserWarning: ``build_fn`` will be renamed to ``model`` in a future release, at which point use of ``build_fn`` will raise an Error instead.\n",
            "  X, y = self._initialize(X, y)\n"
          ]
        },
        {
          "output_type": "stream",
          "name": "stdout",
          "text": [
            "4/4 [==============================] - 1s 36ms/step - loss: 9.0383 - accuracy: 0.1400\n",
            "Epoch 2/10\n",
            "4/4 [==============================] - 0s 31ms/step - loss: 9.0025 - accuracy: 0.1200\n",
            "Epoch 3/10\n",
            "4/4 [==============================] - 0s 33ms/step - loss: 8.9765 - accuracy: 0.0900\n",
            "Epoch 4/10\n",
            "4/4 [==============================] - 0s 33ms/step - loss: 8.9442 - accuracy: 0.0950\n",
            "Epoch 5/10\n",
            "4/4 [==============================] - 0s 33ms/step - loss: 8.9375 - accuracy: 0.1150\n",
            "Epoch 6/10\n",
            "4/4 [==============================] - 0s 32ms/step - loss: 8.9059 - accuracy: 0.1300\n",
            "Epoch 7/10\n",
            "4/4 [==============================] - 0s 34ms/step - loss: 8.8686 - accuracy: 0.1350\n",
            "Epoch 8/10\n",
            "4/4 [==============================] - 0s 38ms/step - loss: 8.8721 - accuracy: 0.1300\n",
            "Epoch 9/10\n",
            "4/4 [==============================] - 0s 32ms/step - loss: 8.8320 - accuracy: 0.1400\n",
            "Epoch 10/10\n",
            "4/4 [==============================] - 0s 33ms/step - loss: 8.8278 - accuracy: 0.1600\n",
            "2/2 [==============================] - 0s 12ms/step\n",
            "4/4 [==============================] - 0s 10ms/step\n",
            "[CV] END batch_size=64, model__l1_reg=0.001, model__learning_rate=0.01, model__loss=sparse_categorical_crossentropy, model__optimizer=sgd; total time=   3.5s\n",
            "Epoch 1/10\n"
          ]
        },
        {
          "output_type": "stream",
          "name": "stderr",
          "text": [
            "/usr/local/lib/python3.10/dist-packages/scikeras/wrappers.py:915: UserWarning: ``build_fn`` will be renamed to ``model`` in a future release, at which point use of ``build_fn`` will raise an Error instead.\n",
            "  X, y = self._initialize(X, y)\n"
          ]
        },
        {
          "output_type": "stream",
          "name": "stdout",
          "text": [
            "4/4 [==============================] - 1s 33ms/step - loss: 9.0331 - accuracy: 0.0550\n",
            "Epoch 2/10\n",
            "4/4 [==============================] - 0s 33ms/step - loss: 8.9911 - accuracy: 0.1050\n",
            "Epoch 3/10\n",
            "4/4 [==============================] - 0s 34ms/step - loss: 8.9733 - accuracy: 0.0950\n",
            "Epoch 4/10\n",
            "4/4 [==============================] - 0s 41ms/step - loss: 8.9379 - accuracy: 0.1300\n",
            "Epoch 5/10\n",
            "4/4 [==============================] - 0s 32ms/step - loss: 8.9242 - accuracy: 0.1100\n",
            "Epoch 6/10\n",
            "4/4 [==============================] - 0s 32ms/step - loss: 8.9064 - accuracy: 0.1100\n",
            "Epoch 7/10\n",
            "4/4 [==============================] - 0s 33ms/step - loss: 8.8639 - accuracy: 0.1350\n",
            "Epoch 8/10\n",
            "4/4 [==============================] - 0s 35ms/step - loss: 8.8567 - accuracy: 0.1400\n",
            "Epoch 9/10\n",
            "4/4 [==============================] - 0s 33ms/step - loss: 8.8246 - accuracy: 0.1850\n",
            "Epoch 10/10\n",
            "4/4 [==============================] - 0s 36ms/step - loss: 8.7965 - accuracy: 0.1900\n",
            "2/2 [==============================] - 0s 22ms/step\n",
            "4/4 [==============================] - 0s 20ms/step\n",
            "[CV] END batch_size=64, model__l1_reg=0.001, model__learning_rate=0.01, model__loss=sparse_categorical_crossentropy, model__optimizer=sgd; total time=   3.7s\n"
          ]
        },
        {
          "output_type": "stream",
          "name": "stderr",
          "text": [
            "/usr/local/lib/python3.10/dist-packages/scikeras/wrappers.py:915: UserWarning: ``build_fn`` will be renamed to ``model`` in a future release, at which point use of ``build_fn`` will raise an Error instead.\n",
            "  X, y = self._initialize(X, y)\n"
          ]
        },
        {
          "output_type": "stream",
          "name": "stdout",
          "text": [
            "Epoch 1/10\n",
            "4/4 [==============================] - 1s 35ms/step - loss: 21.5184 - accuracy: 0.1350\n",
            "Epoch 2/10\n",
            "4/4 [==============================] - 0s 35ms/step - loss: 6.9227 - accuracy: 0.0850\n",
            "Epoch 3/10\n",
            "4/4 [==============================] - 0s 32ms/step - loss: 5.7089 - accuracy: 0.1250\n",
            "Epoch 4/10\n",
            "4/4 [==============================] - 0s 41ms/step - loss: 5.1698 - accuracy: 0.1300\n",
            "Epoch 5/10\n",
            "4/4 [==============================] - 0s 33ms/step - loss: 4.8982 - accuracy: 0.1050\n",
            "Epoch 6/10\n",
            "4/4 [==============================] - 0s 32ms/step - loss: 4.7065 - accuracy: 0.1100\n",
            "Epoch 7/10\n",
            "4/4 [==============================] - 0s 42ms/step - loss: 4.5711 - accuracy: 0.1650\n",
            "Epoch 8/10\n",
            "4/4 [==============================] - 0s 34ms/step - loss: 4.5031 - accuracy: 0.1800\n",
            "Epoch 9/10\n",
            "4/4 [==============================] - 0s 33ms/step - loss: 4.4823 - accuracy: 0.1400\n",
            "Epoch 10/10\n",
            "4/4 [==============================] - 0s 38ms/step - loss: 4.5125 - accuracy: 0.1350\n",
            "2/2 [==============================] - 0s 13ms/step\n",
            "4/4 [==============================] - 0s 10ms/step\n",
            "[CV] END batch_size=64, model__l1_reg=0.001, model__learning_rate=0.01, model__loss=sparse_categorical_crossentropy, model__optimizer=rmsprop; total time=   3.9s\n",
            "Epoch 1/10\n"
          ]
        },
        {
          "output_type": "stream",
          "name": "stderr",
          "text": [
            "/usr/local/lib/python3.10/dist-packages/scikeras/wrappers.py:915: UserWarning: ``build_fn`` will be renamed to ``model`` in a future release, at which point use of ``build_fn`` will raise an Error instead.\n",
            "  X, y = self._initialize(X, y)\n"
          ]
        },
        {
          "output_type": "stream",
          "name": "stdout",
          "text": [
            "4/4 [==============================] - 1s 37ms/step - loss: 22.2138 - accuracy: 0.0850\n",
            "Epoch 2/10\n",
            "4/4 [==============================] - 0s 34ms/step - loss: 7.5697 - accuracy: 0.1100\n",
            "Epoch 3/10\n",
            "4/4 [==============================] - 0s 34ms/step - loss: 6.1985 - accuracy: 0.1350\n",
            "Epoch 4/10\n",
            "4/4 [==============================] - 0s 35ms/step - loss: 5.4810 - accuracy: 0.1350\n",
            "Epoch 5/10\n",
            "4/4 [==============================] - 0s 32ms/step - loss: 5.0600 - accuracy: 0.1100\n",
            "Epoch 6/10\n",
            "4/4 [==============================] - 0s 35ms/step - loss: 4.7991 - accuracy: 0.1550\n",
            "Epoch 7/10\n",
            "4/4 [==============================] - 0s 34ms/step - loss: 4.6249 - accuracy: 0.1700\n",
            "Epoch 8/10\n",
            "4/4 [==============================] - 0s 34ms/step - loss: 4.5165 - accuracy: 0.1450\n",
            "Epoch 9/10\n",
            "4/4 [==============================] - 0s 34ms/step - loss: 4.4540 - accuracy: 0.1550\n",
            "Epoch 10/10\n",
            "4/4 [==============================] - 0s 33ms/step - loss: 4.4332 - accuracy: 0.1900\n",
            "2/2 [==============================] - 0s 12ms/step\n",
            "4/4 [==============================] - 0s 12ms/step\n",
            "[CV] END batch_size=64, model__l1_reg=0.001, model__learning_rate=0.01, model__loss=sparse_categorical_crossentropy, model__optimizer=rmsprop; total time=   3.3s\n",
            "Epoch 1/10\n"
          ]
        },
        {
          "output_type": "stream",
          "name": "stderr",
          "text": [
            "/usr/local/lib/python3.10/dist-packages/scikeras/wrappers.py:915: UserWarning: ``build_fn`` will be renamed to ``model`` in a future release, at which point use of ``build_fn`` will raise an Error instead.\n",
            "  X, y = self._initialize(X, y)\n"
          ]
        },
        {
          "output_type": "stream",
          "name": "stdout",
          "text": [
            "4/4 [==============================] - 1s 34ms/step - loss: 18.4478 - accuracy: 0.0950\n",
            "Epoch 2/10\n",
            "4/4 [==============================] - 0s 32ms/step - loss: 7.6581 - accuracy: 0.1350\n",
            "Epoch 3/10\n",
            "4/4 [==============================] - 0s 37ms/step - loss: 6.1888 - accuracy: 0.1300\n",
            "Epoch 4/10\n",
            "4/4 [==============================] - 0s 33ms/step - loss: 5.4286 - accuracy: 0.1150\n",
            "Epoch 5/10\n",
            "4/4 [==============================] - 0s 32ms/step - loss: 5.0049 - accuracy: 0.1300\n",
            "Epoch 6/10\n",
            "4/4 [==============================] - 0s 32ms/step - loss: 4.7247 - accuracy: 0.1150\n",
            "Epoch 7/10\n",
            "4/4 [==============================] - 0s 33ms/step - loss: 4.5603 - accuracy: 0.1300\n",
            "Epoch 8/10\n",
            "4/4 [==============================] - 0s 32ms/step - loss: 4.4792 - accuracy: 0.1400\n",
            "Epoch 9/10\n",
            "4/4 [==============================] - 0s 34ms/step - loss: 4.5001 - accuracy: 0.1600\n",
            "Epoch 10/10\n",
            "4/4 [==============================] - 0s 35ms/step - loss: 4.4381 - accuracy: 0.1400\n",
            "2/2 [==============================] - 0s 16ms/step\n",
            "4/4 [==============================] - 0s 15ms/step\n",
            "[CV] END batch_size=64, model__l1_reg=0.001, model__learning_rate=0.01, model__loss=sparse_categorical_crossentropy, model__optimizer=rmsprop; total time=   3.8s\n"
          ]
        },
        {
          "output_type": "stream",
          "name": "stderr",
          "text": [
            "/usr/local/lib/python3.10/dist-packages/scikeras/wrappers.py:915: UserWarning: ``build_fn`` will be renamed to ``model`` in a future release, at which point use of ``build_fn`` will raise an Error instead.\n",
            "  X, y = self._initialize(X, y)\n"
          ]
        },
        {
          "output_type": "stream",
          "name": "stdout",
          "text": [
            "Epoch 1/10\n",
            "[CV] END batch_size=64, model__l1_reg=0.001, model__learning_rate=0.01, model__loss=categorical_crossentropy, model__optimizer=adam; total time=   0.4s\n"
          ]
        },
        {
          "output_type": "stream",
          "name": "stderr",
          "text": [
            "/usr/local/lib/python3.10/dist-packages/scikeras/wrappers.py:915: UserWarning: ``build_fn`` will be renamed to ``model`` in a future release, at which point use of ``build_fn`` will raise an Error instead.\n",
            "  X, y = self._initialize(X, y)\n"
          ]
        },
        {
          "output_type": "stream",
          "name": "stdout",
          "text": [
            "Epoch 1/10\n",
            "[CV] END batch_size=64, model__l1_reg=0.001, model__learning_rate=0.01, model__loss=categorical_crossentropy, model__optimizer=adam; total time=   0.4s\n"
          ]
        },
        {
          "output_type": "stream",
          "name": "stderr",
          "text": [
            "/usr/local/lib/python3.10/dist-packages/scikeras/wrappers.py:915: UserWarning: ``build_fn`` will be renamed to ``model`` in a future release, at which point use of ``build_fn`` will raise an Error instead.\n",
            "  X, y = self._initialize(X, y)\n"
          ]
        },
        {
          "output_type": "stream",
          "name": "stdout",
          "text": [
            "Epoch 1/10\n",
            "[CV] END batch_size=64, model__l1_reg=0.001, model__learning_rate=0.01, model__loss=categorical_crossentropy, model__optimizer=adam; total time=   0.5s\n",
            "Epoch 1/10\n"
          ]
        },
        {
          "output_type": "stream",
          "name": "stderr",
          "text": [
            "/usr/local/lib/python3.10/dist-packages/scikeras/wrappers.py:915: UserWarning: ``build_fn`` will be renamed to ``model`` in a future release, at which point use of ``build_fn`` will raise an Error instead.\n",
            "  X, y = self._initialize(X, y)\n"
          ]
        },
        {
          "output_type": "stream",
          "name": "stdout",
          "text": [
            "[CV] END batch_size=64, model__l1_reg=0.001, model__learning_rate=0.01, model__loss=categorical_crossentropy, model__optimizer=sgd; total time=   0.3s\n",
            "Epoch 1/10\n"
          ]
        },
        {
          "output_type": "stream",
          "name": "stderr",
          "text": [
            "/usr/local/lib/python3.10/dist-packages/scikeras/wrappers.py:915: UserWarning: ``build_fn`` will be renamed to ``model`` in a future release, at which point use of ``build_fn`` will raise an Error instead.\n",
            "  X, y = self._initialize(X, y)\n"
          ]
        },
        {
          "output_type": "stream",
          "name": "stdout",
          "text": [
            "[CV] END batch_size=64, model__l1_reg=0.001, model__learning_rate=0.01, model__loss=categorical_crossentropy, model__optimizer=sgd; total time=   0.3s\n",
            "Epoch 1/10\n"
          ]
        },
        {
          "output_type": "stream",
          "name": "stderr",
          "text": [
            "/usr/local/lib/python3.10/dist-packages/scikeras/wrappers.py:915: UserWarning: ``build_fn`` will be renamed to ``model`` in a future release, at which point use of ``build_fn`` will raise an Error instead.\n",
            "  X, y = self._initialize(X, y)\n"
          ]
        },
        {
          "output_type": "stream",
          "name": "stdout",
          "text": [
            "[CV] END batch_size=64, model__l1_reg=0.001, model__learning_rate=0.01, model__loss=categorical_crossentropy, model__optimizer=sgd; total time=   0.3s\n",
            "Epoch 1/10\n"
          ]
        },
        {
          "output_type": "stream",
          "name": "stderr",
          "text": [
            "/usr/local/lib/python3.10/dist-packages/scikeras/wrappers.py:915: UserWarning: ``build_fn`` will be renamed to ``model`` in a future release, at which point use of ``build_fn`` will raise an Error instead.\n",
            "  X, y = self._initialize(X, y)\n"
          ]
        },
        {
          "output_type": "stream",
          "name": "stdout",
          "text": [
            "[CV] END batch_size=64, model__l1_reg=0.001, model__learning_rate=0.01, model__loss=categorical_crossentropy, model__optimizer=rmsprop; total time=   0.3s\n",
            "Epoch 1/10\n"
          ]
        },
        {
          "output_type": "stream",
          "name": "stderr",
          "text": [
            "/usr/local/lib/python3.10/dist-packages/scikeras/wrappers.py:915: UserWarning: ``build_fn`` will be renamed to ``model`` in a future release, at which point use of ``build_fn`` will raise an Error instead.\n",
            "  X, y = self._initialize(X, y)\n"
          ]
        },
        {
          "output_type": "stream",
          "name": "stdout",
          "text": [
            "[CV] END batch_size=64, model__l1_reg=0.001, model__learning_rate=0.01, model__loss=categorical_crossentropy, model__optimizer=rmsprop; total time=   0.3s\n"
          ]
        },
        {
          "output_type": "stream",
          "name": "stderr",
          "text": [
            "/usr/local/lib/python3.10/dist-packages/scikeras/wrappers.py:915: UserWarning: ``build_fn`` will be renamed to ``model`` in a future release, at which point use of ``build_fn`` will raise an Error instead.\n",
            "  X, y = self._initialize(X, y)\n"
          ]
        },
        {
          "output_type": "stream",
          "name": "stdout",
          "text": [
            "Epoch 1/10\n",
            "[CV] END batch_size=64, model__l1_reg=0.001, model__learning_rate=0.01, model__loss=categorical_crossentropy, model__optimizer=rmsprop; total time=   0.3s\n",
            "Epoch 1/10\n"
          ]
        },
        {
          "output_type": "stream",
          "name": "stderr",
          "text": [
            "/usr/local/lib/python3.10/dist-packages/scikeras/wrappers.py:915: UserWarning: ``build_fn`` will be renamed to ``model`` in a future release, at which point use of ``build_fn`` will raise an Error instead.\n",
            "  X, y = self._initialize(X, y)\n"
          ]
        },
        {
          "output_type": "stream",
          "name": "stdout",
          "text": [
            "4/4 [==============================] - 1s 35ms/step - loss: 64.9581 - accuracy: 0.0950\n",
            "Epoch 2/10\n",
            "4/4 [==============================] - 0s 37ms/step - loss: 49.6238 - accuracy: 0.1350\n",
            "Epoch 3/10\n",
            "4/4 [==============================] - 0s 37ms/step - loss: 37.0310 - accuracy: 0.1200\n",
            "Epoch 4/10\n",
            "4/4 [==============================] - 0s 44ms/step - loss: 26.8428 - accuracy: 0.1750\n",
            "Epoch 5/10\n",
            "4/4 [==============================] - 0s 36ms/step - loss: 18.9032 - accuracy: 0.1750\n",
            "Epoch 6/10\n",
            "4/4 [==============================] - 0s 35ms/step - loss: 13.2378 - accuracy: 0.1600\n",
            "Epoch 7/10\n",
            "4/4 [==============================] - 0s 36ms/step - loss: 9.7509 - accuracy: 0.1650\n",
            "Epoch 8/10\n",
            "4/4 [==============================] - 0s 36ms/step - loss: 8.4743 - accuracy: 0.1400\n",
            "Epoch 9/10\n",
            "4/4 [==============================] - 0s 41ms/step - loss: 7.7756 - accuracy: 0.1750\n",
            "Epoch 10/10\n",
            "4/4 [==============================] - 0s 43ms/step - loss: 6.6003 - accuracy: 0.1900\n",
            "2/2 [==============================] - 0s 12ms/step\n",
            "4/4 [==============================] - 0s 10ms/step\n",
            "[CV] END batch_size=64, model__l1_reg=0.01, model__learning_rate=0.001, model__loss=sparse_categorical_crossentropy, model__optimizer=adam; total time=   3.0s\n",
            "Epoch 1/10\n"
          ]
        },
        {
          "output_type": "stream",
          "name": "stderr",
          "text": [
            "/usr/local/lib/python3.10/dist-packages/scikeras/wrappers.py:915: UserWarning: ``build_fn`` will be renamed to ``model`` in a future release, at which point use of ``build_fn`` will raise an Error instead.\n",
            "  X, y = self._initialize(X, y)\n"
          ]
        },
        {
          "output_type": "stream",
          "name": "stdout",
          "text": [
            "4/4 [==============================] - 1s 33ms/step - loss: 64.7845 - accuracy: 0.1150\n",
            "Epoch 2/10\n",
            "4/4 [==============================] - 0s 37ms/step - loss: 49.2803 - accuracy: 0.0900\n",
            "Epoch 3/10\n",
            "4/4 [==============================] - 0s 36ms/step - loss: 36.4980 - accuracy: 0.0950\n",
            "Epoch 4/10\n",
            "4/4 [==============================] - 0s 41ms/step - loss: 26.1535 - accuracy: 0.1400\n",
            "Epoch 5/10\n",
            "4/4 [==============================] - 0s 35ms/step - loss: 18.2568 - accuracy: 0.1100\n",
            "Epoch 6/10\n",
            "4/4 [==============================] - 0s 38ms/step - loss: 12.7081 - accuracy: 0.1150\n",
            "Epoch 7/10\n",
            "4/4 [==============================] - 0s 35ms/step - loss: 9.4382 - accuracy: 0.1700\n",
            "Epoch 8/10\n",
            "4/4 [==============================] - 0s 36ms/step - loss: 8.4344 - accuracy: 0.1300\n",
            "Epoch 9/10\n",
            "4/4 [==============================] - 0s 37ms/step - loss: 7.7886 - accuracy: 0.1400\n",
            "Epoch 10/10\n",
            "4/4 [==============================] - 0s 38ms/step - loss: 6.5303 - accuracy: 0.1700\n",
            "2/2 [==============================] - 0s 14ms/step\n",
            "4/4 [==============================] - 0s 11ms/step\n",
            "[CV] END batch_size=64, model__l1_reg=0.01, model__learning_rate=0.001, model__loss=sparse_categorical_crossentropy, model__optimizer=adam; total time=   2.9s\n",
            "Epoch 1/10\n"
          ]
        },
        {
          "output_type": "stream",
          "name": "stderr",
          "text": [
            "/usr/local/lib/python3.10/dist-packages/scikeras/wrappers.py:915: UserWarning: ``build_fn`` will be renamed to ``model`` in a future release, at which point use of ``build_fn`` will raise an Error instead.\n",
            "  X, y = self._initialize(X, y)\n"
          ]
        },
        {
          "output_type": "stream",
          "name": "stdout",
          "text": [
            "4/4 [==============================] - 1s 35ms/step - loss: 64.7572 - accuracy: 0.1200\n",
            "Epoch 2/10\n",
            "4/4 [==============================] - 0s 35ms/step - loss: 49.2850 - accuracy: 0.1300\n",
            "Epoch 3/10\n",
            "4/4 [==============================] - 0s 36ms/step - loss: 36.5500 - accuracy: 0.1550\n",
            "Epoch 4/10\n",
            "4/4 [==============================] - 0s 39ms/step - loss: 26.2656 - accuracy: 0.1150\n",
            "Epoch 5/10\n",
            "4/4 [==============================] - 0s 34ms/step - loss: 18.3442 - accuracy: 0.1500\n",
            "Epoch 6/10\n",
            "4/4 [==============================] - 0s 35ms/step - loss: 12.7421 - accuracy: 0.1600\n",
            "Epoch 7/10\n",
            "4/4 [==============================] - 0s 52ms/step - loss: 9.4507 - accuracy: 0.2000\n",
            "Epoch 8/10\n",
            "4/4 [==============================] - 0s 55ms/step - loss: 8.3822 - accuracy: 0.1650\n",
            "Epoch 9/10\n",
            "4/4 [==============================] - 0s 65ms/step - loss: 7.7051 - accuracy: 0.1550\n",
            "Epoch 10/10\n",
            "4/4 [==============================] - 0s 58ms/step - loss: 6.4673 - accuracy: 0.1900\n",
            "2/2 [==============================] - 0s 26ms/step\n",
            "4/4 [==============================] - 0s 21ms/step\n",
            "[CV] END batch_size=64, model__l1_reg=0.01, model__learning_rate=0.001, model__loss=sparse_categorical_crossentropy, model__optimizer=adam; total time=   4.0s\n"
          ]
        },
        {
          "output_type": "stream",
          "name": "stderr",
          "text": [
            "/usr/local/lib/python3.10/dist-packages/scikeras/wrappers.py:915: UserWarning: ``build_fn`` will be renamed to ``model`` in a future release, at which point use of ``build_fn`` will raise an Error instead.\n",
            "  X, y = self._initialize(X, y)\n"
          ]
        },
        {
          "output_type": "stream",
          "name": "stdout",
          "text": [
            "Epoch 1/10\n",
            "4/4 [==============================] - 1s 32ms/step - loss: 69.4007 - accuracy: 0.1250\n",
            "Epoch 2/10\n",
            "4/4 [==============================] - 0s 32ms/step - loss: 69.2244 - accuracy: 0.1050\n",
            "Epoch 3/10\n",
            "4/4 [==============================] - 0s 39ms/step - loss: 69.0191 - accuracy: 0.1200\n",
            "Epoch 4/10\n",
            "4/4 [==============================] - 0s 34ms/step - loss: 68.8761 - accuracy: 0.0950\n",
            "Epoch 5/10\n",
            "4/4 [==============================] - 0s 32ms/step - loss: 68.6559 - accuracy: 0.0900\n",
            "Epoch 6/10\n",
            "4/4 [==============================] - 0s 35ms/step - loss: 68.4655 - accuracy: 0.1000\n",
            "Epoch 7/10\n",
            "4/4 [==============================] - 0s 31ms/step - loss: 68.2921 - accuracy: 0.0850\n",
            "Epoch 8/10\n",
            "4/4 [==============================] - 0s 33ms/step - loss: 68.1039 - accuracy: 0.1050\n",
            "Epoch 9/10\n",
            "4/4 [==============================] - 0s 33ms/step - loss: 67.9302 - accuracy: 0.1000\n",
            "Epoch 10/10\n",
            "4/4 [==============================] - 0s 32ms/step - loss: 67.7393 - accuracy: 0.0900\n",
            "2/2 [==============================] - 0s 13ms/step\n",
            "4/4 [==============================] - 0s 10ms/step\n",
            "[CV] END batch_size=64, model__l1_reg=0.01, model__learning_rate=0.001, model__loss=sparse_categorical_crossentropy, model__optimizer=sgd; total time=   2.6s\n",
            "Epoch 1/10\n"
          ]
        },
        {
          "output_type": "stream",
          "name": "stderr",
          "text": [
            "/usr/local/lib/python3.10/dist-packages/scikeras/wrappers.py:915: UserWarning: ``build_fn`` will be renamed to ``model`` in a future release, at which point use of ``build_fn`` will raise an Error instead.\n",
            "  X, y = self._initialize(X, y)\n"
          ]
        },
        {
          "output_type": "stream",
          "name": "stdout",
          "text": [
            "4/4 [==============================] - 1s 33ms/step - loss: 69.4862 - accuracy: 0.1050\n",
            "Epoch 2/10\n",
            "4/4 [==============================] - 0s 41ms/step - loss: 69.2608 - accuracy: 0.0700\n",
            "Epoch 3/10\n",
            "4/4 [==============================] - 0s 33ms/step - loss: 69.0539 - accuracy: 0.1150\n",
            "Epoch 4/10\n",
            "4/4 [==============================] - 0s 33ms/step - loss: 68.8719 - accuracy: 0.0950\n",
            "Epoch 5/10\n",
            "4/4 [==============================] - 0s 32ms/step - loss: 68.6720 - accuracy: 0.0900\n",
            "Epoch 6/10\n",
            "4/4 [==============================] - 0s 32ms/step - loss: 68.5160 - accuracy: 0.0750\n",
            "Epoch 7/10\n",
            "4/4 [==============================] - 0s 32ms/step - loss: 68.3307 - accuracy: 0.0750\n",
            "Epoch 8/10\n",
            "4/4 [==============================] - 0s 33ms/step - loss: 68.1070 - accuracy: 0.0750\n",
            "Epoch 9/10\n",
            "4/4 [==============================] - 0s 38ms/step - loss: 67.9413 - accuracy: 0.0900\n",
            "Epoch 10/10\n",
            "4/4 [==============================] - 0s 33ms/step - loss: 67.7580 - accuracy: 0.0500\n",
            "2/2 [==============================] - 0s 13ms/step\n",
            "4/4 [==============================] - 0s 11ms/step\n",
            "[CV] END batch_size=64, model__l1_reg=0.01, model__learning_rate=0.001, model__loss=sparse_categorical_crossentropy, model__optimizer=sgd; total time=   3.5s\n",
            "Epoch 1/10\n"
          ]
        },
        {
          "output_type": "stream",
          "name": "stderr",
          "text": [
            "/usr/local/lib/python3.10/dist-packages/scikeras/wrappers.py:915: UserWarning: ``build_fn`` will be renamed to ``model`` in a future release, at which point use of ``build_fn`` will raise an Error instead.\n",
            "  X, y = self._initialize(X, y)\n"
          ]
        },
        {
          "output_type": "stream",
          "name": "stdout",
          "text": [
            "4/4 [==============================] - 1s 37ms/step - loss: 69.4550 - accuracy: 0.0950\n",
            "Epoch 2/10\n",
            "4/4 [==============================] - 0s 33ms/step - loss: 69.2762 - accuracy: 0.1050\n",
            "Epoch 3/10\n",
            "4/4 [==============================] - 0s 36ms/step - loss: 69.1111 - accuracy: 0.1100\n",
            "Epoch 4/10\n",
            "4/4 [==============================] - 0s 39ms/step - loss: 68.8923 - accuracy: 0.1050\n",
            "Epoch 5/10\n",
            "4/4 [==============================] - 0s 35ms/step - loss: 68.7036 - accuracy: 0.0750\n",
            "Epoch 6/10\n",
            "4/4 [==============================] - 0s 34ms/step - loss: 68.5027 - accuracy: 0.1650\n",
            "Epoch 7/10\n",
            "4/4 [==============================] - 0s 41ms/step - loss: 68.3471 - accuracy: 0.0850\n",
            "Epoch 8/10\n",
            "4/4 [==============================] - 0s 33ms/step - loss: 68.1261 - accuracy: 0.1500\n",
            "Epoch 9/10\n",
            "4/4 [==============================] - 0s 34ms/step - loss: 67.9698 - accuracy: 0.0950\n",
            "Epoch 10/10\n",
            "4/4 [==============================] - 0s 34ms/step - loss: 67.7961 - accuracy: 0.1300\n",
            "2/2 [==============================] - 0s 15ms/step\n",
            "4/4 [==============================] - 0s 10ms/step\n",
            "[CV] END batch_size=64, model__l1_reg=0.01, model__learning_rate=0.001, model__loss=sparse_categorical_crossentropy, model__optimizer=sgd; total time=   2.6s\n",
            "Epoch 1/10\n"
          ]
        },
        {
          "output_type": "stream",
          "name": "stderr",
          "text": [
            "/usr/local/lib/python3.10/dist-packages/scikeras/wrappers.py:915: UserWarning: ``build_fn`` will be renamed to ``model`` in a future release, at which point use of ``build_fn`` will raise an Error instead.\n",
            "  X, y = self._initialize(X, y)\n"
          ]
        },
        {
          "output_type": "stream",
          "name": "stdout",
          "text": [
            "4/4 [==============================] - 2s 58ms/step - loss: 57.5618 - accuracy: 0.1100\n",
            "Epoch 2/10\n",
            "4/4 [==============================] - 0s 59ms/step - loss: 32.2181 - accuracy: 0.0850\n",
            "Epoch 3/10\n",
            "4/4 [==============================] - 0s 56ms/step - loss: 19.1375 - accuracy: 0.1450\n",
            "Epoch 4/10\n",
            "4/4 [==============================] - 0s 56ms/step - loss: 11.3947 - accuracy: 0.1350\n",
            "Epoch 5/10\n",
            "4/4 [==============================] - 0s 57ms/step - loss: 7.2506 - accuracy: 0.1200\n",
            "Epoch 6/10\n",
            "4/4 [==============================] - 0s 59ms/step - loss: 5.8802 - accuracy: 0.1300\n",
            "Epoch 7/10\n",
            "4/4 [==============================] - 0s 62ms/step - loss: 5.5414 - accuracy: 0.1300\n",
            "Epoch 8/10\n",
            "4/4 [==============================] - 0s 60ms/step - loss: 5.3901 - accuracy: 0.1300\n",
            "Epoch 9/10\n",
            "4/4 [==============================] - 0s 55ms/step - loss: 5.3369 - accuracy: 0.1250\n",
            "Epoch 10/10\n",
            "4/4 [==============================] - 0s 55ms/step - loss: 5.3177 - accuracy: 0.1400\n",
            "2/2 [==============================] - 0s 13ms/step\n",
            "4/4 [==============================] - 0s 11ms/step\n",
            "[CV] END batch_size=64, model__l1_reg=0.01, model__learning_rate=0.001, model__loss=sparse_categorical_crossentropy, model__optimizer=rmsprop; total time=   4.3s\n"
          ]
        },
        {
          "output_type": "stream",
          "name": "stderr",
          "text": [
            "/usr/local/lib/python3.10/dist-packages/scikeras/wrappers.py:915: UserWarning: ``build_fn`` will be renamed to ``model`` in a future release, at which point use of ``build_fn`` will raise an Error instead.\n",
            "  X, y = self._initialize(X, y)\n"
          ]
        },
        {
          "output_type": "stream",
          "name": "stdout",
          "text": [
            "Epoch 1/10\n",
            "4/4 [==============================] - 1s 37ms/step - loss: 57.9981 - accuracy: 0.1200\n",
            "Epoch 2/10\n",
            "4/4 [==============================] - 0s 36ms/step - loss: 32.4132 - accuracy: 0.1550\n",
            "Epoch 3/10\n",
            "4/4 [==============================] - 0s 36ms/step - loss: 19.4432 - accuracy: 0.1250\n",
            "Epoch 4/10\n",
            "4/4 [==============================] - 0s 43ms/step - loss: 11.6551 - accuracy: 0.0950\n",
            "Epoch 5/10\n",
            "4/4 [==============================] - 0s 41ms/step - loss: 7.4485 - accuracy: 0.1100\n",
            "Epoch 6/10\n",
            "4/4 [==============================] - 0s 38ms/step - loss: 6.0359 - accuracy: 0.1600\n",
            "Epoch 7/10\n",
            "4/4 [==============================] - 0s 45ms/step - loss: 5.7055 - accuracy: 0.1350\n",
            "Epoch 8/10\n",
            "4/4 [==============================] - 0s 42ms/step - loss: 5.5725 - accuracy: 0.1400\n",
            "Epoch 9/10\n",
            "4/4 [==============================] - 0s 45ms/step - loss: 5.4514 - accuracy: 0.1550\n",
            "Epoch 10/10\n",
            "4/4 [==============================] - 0s 42ms/step - loss: 5.3722 - accuracy: 0.1650\n",
            "2/2 [==============================] - 0s 14ms/step\n",
            "4/4 [==============================] - 0s 11ms/step\n",
            "[CV] END batch_size=64, model__l1_reg=0.01, model__learning_rate=0.001, model__loss=sparse_categorical_crossentropy, model__optimizer=rmsprop; total time=   3.7s\n",
            "Epoch 1/10\n"
          ]
        },
        {
          "output_type": "stream",
          "name": "stderr",
          "text": [
            "/usr/local/lib/python3.10/dist-packages/scikeras/wrappers.py:915: UserWarning: ``build_fn`` will be renamed to ``model`` in a future release, at which point use of ``build_fn`` will raise an Error instead.\n",
            "  X, y = self._initialize(X, y)\n"
          ]
        },
        {
          "output_type": "stream",
          "name": "stdout",
          "text": [
            "4/4 [==============================] - 1s 41ms/step - loss: 57.4721 - accuracy: 0.1200\n",
            "Epoch 2/10\n",
            "4/4 [==============================] - 0s 45ms/step - loss: 31.6912 - accuracy: 0.0900\n",
            "Epoch 3/10\n",
            "4/4 [==============================] - 0s 40ms/step - loss: 18.6377 - accuracy: 0.1150\n",
            "Epoch 4/10\n",
            "4/4 [==============================] - 0s 43ms/step - loss: 10.8811 - accuracy: 0.1600\n",
            "Epoch 5/10\n",
            "4/4 [==============================] - 0s 38ms/step - loss: 6.8689 - accuracy: 0.1250\n",
            "Epoch 6/10\n",
            "4/4 [==============================] - 0s 45ms/step - loss: 5.7303 - accuracy: 0.1300\n",
            "Epoch 7/10\n",
            "4/4 [==============================] - 0s 41ms/step - loss: 5.5268 - accuracy: 0.1150\n",
            "Epoch 8/10\n",
            "4/4 [==============================] - 0s 44ms/step - loss: 5.4381 - accuracy: 0.1450\n",
            "Epoch 9/10\n",
            "4/4 [==============================] - 0s 39ms/step - loss: 5.3916 - accuracy: 0.1650\n",
            "Epoch 10/10\n",
            "4/4 [==============================] - 0s 38ms/step - loss: 5.3633 - accuracy: 0.1350\n",
            "2/2 [==============================] - 0s 13ms/step\n",
            "4/4 [==============================] - 0s 13ms/step\n",
            "[CV] END batch_size=64, model__l1_reg=0.01, model__learning_rate=0.001, model__loss=sparse_categorical_crossentropy, model__optimizer=rmsprop; total time=   3.7s\n"
          ]
        },
        {
          "output_type": "stream",
          "name": "stderr",
          "text": [
            "/usr/local/lib/python3.10/dist-packages/scikeras/wrappers.py:915: UserWarning: ``build_fn`` will be renamed to ``model`` in a future release, at which point use of ``build_fn`` will raise an Error instead.\n",
            "  X, y = self._initialize(X, y)\n"
          ]
        },
        {
          "output_type": "stream",
          "name": "stdout",
          "text": [
            "Epoch 1/10\n",
            "[CV] END batch_size=64, model__l1_reg=0.01, model__learning_rate=0.001, model__loss=categorical_crossentropy, model__optimizer=adam; total time=   0.3s\n"
          ]
        },
        {
          "output_type": "stream",
          "name": "stderr",
          "text": [
            "/usr/local/lib/python3.10/dist-packages/scikeras/wrappers.py:915: UserWarning: ``build_fn`` will be renamed to ``model`` in a future release, at which point use of ``build_fn`` will raise an Error instead.\n",
            "  X, y = self._initialize(X, y)\n"
          ]
        },
        {
          "output_type": "stream",
          "name": "stdout",
          "text": [
            "Epoch 1/10\n",
            "[CV] END batch_size=64, model__l1_reg=0.01, model__learning_rate=0.001, model__loss=categorical_crossentropy, model__optimizer=adam; total time=   0.3s\n"
          ]
        },
        {
          "output_type": "stream",
          "name": "stderr",
          "text": [
            "/usr/local/lib/python3.10/dist-packages/scikeras/wrappers.py:915: UserWarning: ``build_fn`` will be renamed to ``model`` in a future release, at which point use of ``build_fn`` will raise an Error instead.\n",
            "  X, y = self._initialize(X, y)\n"
          ]
        },
        {
          "output_type": "stream",
          "name": "stdout",
          "text": [
            "Epoch 1/10\n",
            "[CV] END batch_size=64, model__l1_reg=0.01, model__learning_rate=0.001, model__loss=categorical_crossentropy, model__optimizer=adam; total time=   0.3s\n",
            "Epoch 1/10\n"
          ]
        },
        {
          "output_type": "stream",
          "name": "stderr",
          "text": [
            "/usr/local/lib/python3.10/dist-packages/scikeras/wrappers.py:915: UserWarning: ``build_fn`` will be renamed to ``model`` in a future release, at which point use of ``build_fn`` will raise an Error instead.\n",
            "  X, y = self._initialize(X, y)\n"
          ]
        },
        {
          "output_type": "stream",
          "name": "stdout",
          "text": [
            "[CV] END batch_size=64, model__l1_reg=0.01, model__learning_rate=0.001, model__loss=categorical_crossentropy, model__optimizer=sgd; total time=   0.3s\n"
          ]
        },
        {
          "output_type": "stream",
          "name": "stderr",
          "text": [
            "/usr/local/lib/python3.10/dist-packages/scikeras/wrappers.py:915: UserWarning: ``build_fn`` will be renamed to ``model`` in a future release, at which point use of ``build_fn`` will raise an Error instead.\n",
            "  X, y = self._initialize(X, y)\n"
          ]
        },
        {
          "output_type": "stream",
          "name": "stdout",
          "text": [
            "Epoch 1/10\n",
            "[CV] END batch_size=64, model__l1_reg=0.01, model__learning_rate=0.001, model__loss=categorical_crossentropy, model__optimizer=sgd; total time=   0.3s\n",
            "Epoch 1/10\n"
          ]
        },
        {
          "output_type": "stream",
          "name": "stderr",
          "text": [
            "/usr/local/lib/python3.10/dist-packages/scikeras/wrappers.py:915: UserWarning: ``build_fn`` will be renamed to ``model`` in a future release, at which point use of ``build_fn`` will raise an Error instead.\n",
            "  X, y = self._initialize(X, y)\n"
          ]
        },
        {
          "output_type": "stream",
          "name": "stdout",
          "text": [
            "[CV] END batch_size=64, model__l1_reg=0.01, model__learning_rate=0.001, model__loss=categorical_crossentropy, model__optimizer=sgd; total time=   0.3s\n",
            "Epoch 1/10\n"
          ]
        },
        {
          "output_type": "stream",
          "name": "stderr",
          "text": [
            "/usr/local/lib/python3.10/dist-packages/scikeras/wrappers.py:915: UserWarning: ``build_fn`` will be renamed to ``model`` in a future release, at which point use of ``build_fn`` will raise an Error instead.\n",
            "  X, y = self._initialize(X, y)\n"
          ]
        },
        {
          "output_type": "stream",
          "name": "stdout",
          "text": [
            "[CV] END batch_size=64, model__l1_reg=0.01, model__learning_rate=0.001, model__loss=categorical_crossentropy, model__optimizer=rmsprop; total time=   0.3s\n"
          ]
        },
        {
          "output_type": "stream",
          "name": "stderr",
          "text": [
            "/usr/local/lib/python3.10/dist-packages/scikeras/wrappers.py:915: UserWarning: ``build_fn`` will be renamed to ``model`` in a future release, at which point use of ``build_fn`` will raise an Error instead.\n",
            "  X, y = self._initialize(X, y)\n"
          ]
        },
        {
          "output_type": "stream",
          "name": "stdout",
          "text": [
            "Epoch 1/10\n",
            "[CV] END batch_size=64, model__l1_reg=0.01, model__learning_rate=0.001, model__loss=categorical_crossentropy, model__optimizer=rmsprop; total time=   0.4s\n"
          ]
        },
        {
          "output_type": "stream",
          "name": "stderr",
          "text": [
            "/usr/local/lib/python3.10/dist-packages/scikeras/wrappers.py:915: UserWarning: ``build_fn`` will be renamed to ``model`` in a future release, at which point use of ``build_fn`` will raise an Error instead.\n",
            "  X, y = self._initialize(X, y)\n"
          ]
        },
        {
          "output_type": "stream",
          "name": "stdout",
          "text": [
            "Epoch 1/10\n",
            "[CV] END batch_size=64, model__l1_reg=0.01, model__learning_rate=0.001, model__loss=categorical_crossentropy, model__optimizer=rmsprop; total time=   0.4s\n"
          ]
        },
        {
          "output_type": "stream",
          "name": "stderr",
          "text": [
            "/usr/local/lib/python3.10/dist-packages/scikeras/wrappers.py:915: UserWarning: ``build_fn`` will be renamed to ``model`` in a future release, at which point use of ``build_fn`` will raise an Error instead.\n",
            "  X, y = self._initialize(X, y)\n"
          ]
        },
        {
          "output_type": "stream",
          "name": "stdout",
          "text": [
            "Epoch 1/10\n",
            "4/4 [==============================] - 2s 39ms/step - loss: 45.6564 - accuracy: 0.1100\n",
            "Epoch 2/10\n",
            "4/4 [==============================] - 0s 42ms/step - loss: 28.8744 - accuracy: 0.1050\n",
            "Epoch 3/10\n",
            "4/4 [==============================] - 0s 38ms/step - loss: 18.9665 - accuracy: 0.1350\n",
            "Epoch 4/10\n",
            "4/4 [==============================] - 0s 35ms/step - loss: 16.2606 - accuracy: 0.1300\n",
            "Epoch 5/10\n",
            "4/4 [==============================] - 0s 44ms/step - loss: 13.8443 - accuracy: 0.1450\n",
            "Epoch 6/10\n",
            "4/4 [==============================] - 0s 37ms/step - loss: 12.3073 - accuracy: 0.1450\n",
            "Epoch 7/10\n",
            "4/4 [==============================] - 0s 35ms/step - loss: 10.7186 - accuracy: 0.1400\n",
            "Epoch 8/10\n",
            "4/4 [==============================] - 0s 37ms/step - loss: 10.2150 - accuracy: 0.1400\n",
            "Epoch 9/10\n",
            "4/4 [==============================] - 0s 38ms/step - loss: 9.3704 - accuracy: 0.1400\n",
            "Epoch 10/10\n",
            "4/4 [==============================] - 0s 36ms/step - loss: 8.7658 - accuracy: 0.1400\n",
            "2/2 [==============================] - 0s 13ms/step\n",
            "4/4 [==============================] - 0s 11ms/step\n",
            "[CV] END batch_size=64, model__l1_reg=0.01, model__learning_rate=0.01, model__loss=sparse_categorical_crossentropy, model__optimizer=adam; total time=   4.4s\n",
            "Epoch 1/10\n"
          ]
        },
        {
          "output_type": "stream",
          "name": "stderr",
          "text": [
            "/usr/local/lib/python3.10/dist-packages/scikeras/wrappers.py:915: UserWarning: ``build_fn`` will be renamed to ``model`` in a future release, at which point use of ``build_fn`` will raise an Error instead.\n",
            "  X, y = self._initialize(X, y)\n"
          ]
        },
        {
          "output_type": "stream",
          "name": "stdout",
          "text": [
            "4/4 [==============================] - 1s 43ms/step - loss: 45.9000 - accuracy: 0.1400\n",
            "Epoch 2/10\n",
            "4/4 [==============================] - 0s 41ms/step - loss: 29.7893 - accuracy: 0.1400\n",
            "Epoch 3/10\n",
            "4/4 [==============================] - 0s 34ms/step - loss: 19.6086 - accuracy: 0.1100\n",
            "Epoch 4/10\n",
            "4/4 [==============================] - 0s 35ms/step - loss: 16.6221 - accuracy: 0.1350\n",
            "Epoch 5/10\n",
            "4/4 [==============================] - 0s 38ms/step - loss: 14.1142 - accuracy: 0.1000\n",
            "Epoch 6/10\n",
            "4/4 [==============================] - 0s 40ms/step - loss: 12.4681 - accuracy: 0.1050\n",
            "Epoch 7/10\n",
            "4/4 [==============================] - 0s 39ms/step - loss: 10.8931 - accuracy: 0.1150\n",
            "Epoch 8/10\n",
            "4/4 [==============================] - 0s 40ms/step - loss: 10.3104 - accuracy: 0.1350\n",
            "Epoch 9/10\n",
            "4/4 [==============================] - 0s 38ms/step - loss: 9.4733 - accuracy: 0.1200\n",
            "Epoch 10/10\n",
            "4/4 [==============================] - 0s 38ms/step - loss: 8.8402 - accuracy: 0.1250\n",
            "2/2 [==============================] - 0s 16ms/step\n",
            "4/4 [==============================] - 0s 16ms/step\n",
            "[CV] END batch_size=64, model__l1_reg=0.01, model__learning_rate=0.01, model__loss=sparse_categorical_crossentropy, model__optimizer=adam; total time=   3.0s\n",
            "Epoch 1/10\n"
          ]
        },
        {
          "output_type": "stream",
          "name": "stderr",
          "text": [
            "/usr/local/lib/python3.10/dist-packages/scikeras/wrappers.py:915: UserWarning: ``build_fn`` will be renamed to ``model`` in a future release, at which point use of ``build_fn`` will raise an Error instead.\n",
            "  X, y = self._initialize(X, y)\n"
          ]
        },
        {
          "output_type": "stream",
          "name": "stdout",
          "text": [
            "4/4 [==============================] - 1s 43ms/step - loss: 45.0401 - accuracy: 0.1250\n",
            "Epoch 2/10\n",
            "4/4 [==============================] - 0s 41ms/step - loss: 28.9222 - accuracy: 0.0850\n",
            "Epoch 3/10\n",
            "4/4 [==============================] - 0s 41ms/step - loss: 18.8662 - accuracy: 0.0900\n",
            "Epoch 4/10\n",
            "4/4 [==============================] - 0s 40ms/step - loss: 16.2121 - accuracy: 0.1200\n",
            "Epoch 5/10\n",
            "4/4 [==============================] - 0s 42ms/step - loss: 13.8048 - accuracy: 0.1300\n",
            "Epoch 6/10\n",
            "4/4 [==============================] - 0s 44ms/step - loss: 12.2651 - accuracy: 0.1450\n",
            "Epoch 7/10\n",
            "4/4 [==============================] - 0s 37ms/step - loss: 10.7495 - accuracy: 0.1450\n",
            "Epoch 8/10\n",
            "4/4 [==============================] - 0s 41ms/step - loss: 10.2198 - accuracy: 0.1450\n",
            "Epoch 9/10\n",
            "4/4 [==============================] - 0s 45ms/step - loss: 9.4136 - accuracy: 0.1350\n",
            "Epoch 10/10\n",
            "4/4 [==============================] - 0s 95ms/step - loss: 8.8287 - accuracy: 0.1650\n",
            "2/2 [==============================] - 0s 13ms/step\n",
            "4/4 [==============================] - 0s 11ms/step\n",
            "[CV] END batch_size=64, model__l1_reg=0.01, model__learning_rate=0.01, model__loss=sparse_categorical_crossentropy, model__optimizer=adam; total time=   3.6s\n"
          ]
        },
        {
          "output_type": "stream",
          "name": "stderr",
          "text": [
            "/usr/local/lib/python3.10/dist-packages/scikeras/wrappers.py:915: UserWarning: ``build_fn`` will be renamed to ``model`` in a future release, at which point use of ``build_fn`` will raise an Error instead.\n",
            "  X, y = self._initialize(X, y)\n"
          ]
        },
        {
          "output_type": "stream",
          "name": "stdout",
          "text": [
            "Epoch 1/10\n",
            "4/4 [==============================] - 2s 59ms/step - loss: 68.9361 - accuracy: 0.1000\n",
            "Epoch 2/10\n",
            "4/4 [==============================] - 0s 58ms/step - loss: 67.0546 - accuracy: 0.1000\n",
            "Epoch 3/10\n",
            "4/4 [==============================] - 0s 58ms/step - loss: 65.2239 - accuracy: 0.1450\n",
            "Epoch 4/10\n",
            "4/4 [==============================] - 0s 53ms/step - loss: 63.4723 - accuracy: 0.1450\n",
            "Epoch 5/10\n",
            "4/4 [==============================] - 0s 37ms/step - loss: 61.7051 - accuracy: 0.1450\n",
            "Epoch 6/10\n",
            "4/4 [==============================] - 0s 37ms/step - loss: 59.9865 - accuracy: 0.1600\n",
            "Epoch 7/10\n",
            "4/4 [==============================] - 0s 37ms/step - loss: 58.3052 - accuracy: 0.1400\n",
            "Epoch 8/10\n",
            "4/4 [==============================] - 0s 34ms/step - loss: 56.6137 - accuracy: 0.1700\n",
            "Epoch 9/10\n",
            "4/4 [==============================] - 0s 35ms/step - loss: 54.9751 - accuracy: 0.1800\n",
            "Epoch 10/10\n",
            "4/4 [==============================] - 0s 39ms/step - loss: 53.3715 - accuracy: 0.1350\n",
            "2/2 [==============================] - 0s 13ms/step\n",
            "4/4 [==============================] - 0s 11ms/step\n",
            "[CV] END batch_size=64, model__l1_reg=0.01, model__learning_rate=0.01, model__loss=sparse_categorical_crossentropy, model__optimizer=sgd; total time=   4.2s\n",
            "Epoch 1/10\n"
          ]
        },
        {
          "output_type": "stream",
          "name": "stderr",
          "text": [
            "/usr/local/lib/python3.10/dist-packages/scikeras/wrappers.py:915: UserWarning: ``build_fn`` will be renamed to ``model`` in a future release, at which point use of ``build_fn`` will raise an Error instead.\n",
            "  X, y = self._initialize(X, y)\n"
          ]
        },
        {
          "output_type": "stream",
          "name": "stdout",
          "text": [
            "4/4 [==============================] - 1s 37ms/step - loss: 69.0548 - accuracy: 0.0750\n",
            "Epoch 2/10\n",
            "4/4 [==============================] - 0s 34ms/step - loss: 67.2229 - accuracy: 0.0850\n",
            "Epoch 3/10\n",
            "4/4 [==============================] - 0s 40ms/step - loss: 65.3610 - accuracy: 0.1350\n",
            "Epoch 4/10\n",
            "4/4 [==============================] - 0s 35ms/step - loss: 63.5825 - accuracy: 0.1050\n",
            "Epoch 5/10\n",
            "4/4 [==============================] - 0s 37ms/step - loss: 61.8374 - accuracy: 0.1400\n",
            "Epoch 6/10\n",
            "4/4 [==============================] - 0s 33ms/step - loss: 60.1219 - accuracy: 0.1400\n",
            "Epoch 7/10\n",
            "4/4 [==============================] - 0s 37ms/step - loss: 58.4261 - accuracy: 0.1400\n",
            "Epoch 8/10\n",
            "4/4 [==============================] - 0s 35ms/step - loss: 56.7532 - accuracy: 0.1100\n",
            "Epoch 9/10\n",
            "4/4 [==============================] - 0s 38ms/step - loss: 55.0937 - accuracy: 0.0900\n",
            "Epoch 10/10\n",
            "4/4 [==============================] - 0s 40ms/step - loss: 53.4711 - accuracy: 0.1750\n",
            "2/2 [==============================] - 0s 14ms/step\n",
            "4/4 [==============================] - 0s 12ms/step\n",
            "[CV] END batch_size=64, model__l1_reg=0.01, model__learning_rate=0.01, model__loss=sparse_categorical_crossentropy, model__optimizer=sgd; total time=   2.7s\n"
          ]
        },
        {
          "output_type": "stream",
          "name": "stderr",
          "text": [
            "/usr/local/lib/python3.10/dist-packages/scikeras/wrappers.py:915: UserWarning: ``build_fn`` will be renamed to ``model`` in a future release, at which point use of ``build_fn`` will raise an Error instead.\n",
            "  X, y = self._initialize(X, y)\n"
          ]
        },
        {
          "output_type": "stream",
          "name": "stdout",
          "text": [
            "Epoch 1/10\n",
            "4/4 [==============================] - 1s 37ms/step - loss: 69.0285 - accuracy: 0.0700\n",
            "Epoch 2/10\n",
            "4/4 [==============================] - 0s 34ms/step - loss: 67.1280 - accuracy: 0.1500\n",
            "Epoch 3/10\n",
            "4/4 [==============================] - 0s 34ms/step - loss: 65.3606 - accuracy: 0.1000\n",
            "Epoch 4/10\n",
            "4/4 [==============================] - 0s 40ms/step - loss: 63.5943 - accuracy: 0.1150\n",
            "Epoch 5/10\n",
            "4/4 [==============================] - 0s 34ms/step - loss: 61.8190 - accuracy: 0.1250\n",
            "Epoch 6/10\n",
            "4/4 [==============================] - 0s 37ms/step - loss: 60.0626 - accuracy: 0.1400\n",
            "Epoch 7/10\n",
            "4/4 [==============================] - 0s 35ms/step - loss: 58.3574 - accuracy: 0.1550\n",
            "Epoch 8/10\n",
            "4/4 [==============================] - 0s 38ms/step - loss: 56.7172 - accuracy: 0.1500\n",
            "Epoch 9/10\n",
            "4/4 [==============================] - 0s 35ms/step - loss: 55.0583 - accuracy: 0.1700\n",
            "Epoch 10/10\n",
            "4/4 [==============================] - 0s 38ms/step - loss: 53.4485 - accuracy: 0.1450\n",
            "2/2 [==============================] - 1s 13ms/step\n",
            "4/4 [==============================] - 0s 10ms/step\n",
            "[CV] END batch_size=64, model__l1_reg=0.01, model__learning_rate=0.01, model__loss=sparse_categorical_crossentropy, model__optimizer=sgd; total time=   3.5s\n"
          ]
        },
        {
          "output_type": "stream",
          "name": "stderr",
          "text": [
            "/usr/local/lib/python3.10/dist-packages/scikeras/wrappers.py:915: UserWarning: ``build_fn`` will be renamed to ``model`` in a future release, at which point use of ``build_fn`` will raise an Error instead.\n",
            "  X, y = self._initialize(X, y)\n"
          ]
        },
        {
          "output_type": "stream",
          "name": "stdout",
          "text": [
            "Epoch 1/10\n",
            "4/4 [==============================] - 1s 37ms/step - loss: 84.0178 - accuracy: 0.0650\n",
            "Epoch 2/10\n",
            "4/4 [==============================] - 0s 35ms/step - loss: 41.7407 - accuracy: 0.1250\n",
            "Epoch 3/10\n",
            "4/4 [==============================] - 0s 37ms/step - loss: 30.5417 - accuracy: 0.0850\n",
            "Epoch 4/10\n",
            "4/4 [==============================] - 0s 35ms/step - loss: 26.8625 - accuracy: 0.1250\n",
            "Epoch 5/10\n",
            "4/4 [==============================] - 0s 32ms/step - loss: 25.4477 - accuracy: 0.1400\n",
            "Epoch 6/10\n",
            "4/4 [==============================] - 0s 35ms/step - loss: 24.8607 - accuracy: 0.1400\n",
            "Epoch 7/10\n",
            "4/4 [==============================] - 0s 47ms/step - loss: 24.6106 - accuracy: 0.1400\n",
            "Epoch 8/10\n",
            "4/4 [==============================] - 0s 51ms/step - loss: 24.5013 - accuracy: 0.1400\n",
            "Epoch 9/10\n",
            "4/4 [==============================] - 0s 55ms/step - loss: 24.4429 - accuracy: 0.1400\n",
            "Epoch 10/10\n",
            "4/4 [==============================] - 0s 52ms/step - loss: 24.4333 - accuracy: 0.1400\n",
            "2/2 [==============================] - 0s 15ms/step\n",
            "4/4 [==============================] - 0s 15ms/step\n",
            "[CV] END batch_size=64, model__l1_reg=0.01, model__learning_rate=0.01, model__loss=sparse_categorical_crossentropy, model__optimizer=rmsprop; total time=   3.1s\n"
          ]
        },
        {
          "output_type": "stream",
          "name": "stderr",
          "text": [
            "/usr/local/lib/python3.10/dist-packages/scikeras/wrappers.py:915: UserWarning: ``build_fn`` will be renamed to ``model`` in a future release, at which point use of ``build_fn`` will raise an Error instead.\n",
            "  X, y = self._initialize(X, y)\n"
          ]
        },
        {
          "output_type": "stream",
          "name": "stdout",
          "text": [
            "Epoch 1/10\n",
            "4/4 [==============================] - 1s 37ms/step - loss: 78.8394 - accuracy: 0.1150\n",
            "Epoch 2/10\n",
            "4/4 [==============================] - 0s 36ms/step - loss: 41.9469 - accuracy: 0.0750\n",
            "Epoch 3/10\n",
            "4/4 [==============================] - 0s 38ms/step - loss: 30.1957 - accuracy: 0.1450\n",
            "Epoch 4/10\n",
            "4/4 [==============================] - 0s 35ms/step - loss: 26.6958 - accuracy: 0.1450\n",
            "Epoch 5/10\n",
            "4/4 [==============================] - 0s 38ms/step - loss: 25.4207 - accuracy: 0.1450\n",
            "Epoch 6/10\n",
            "4/4 [==============================] - 0s 34ms/step - loss: 24.9169 - accuracy: 0.1450\n",
            "Epoch 7/10\n",
            "4/4 [==============================] - 0s 34ms/step - loss: 24.6811 - accuracy: 0.1450\n",
            "Epoch 8/10\n",
            "4/4 [==============================] - 0s 35ms/step - loss: 24.5734 - accuracy: 0.1450\n",
            "Epoch 9/10\n",
            "4/4 [==============================] - 0s 41ms/step - loss: 24.5112 - accuracy: 0.1450\n",
            "Epoch 10/10\n",
            "4/4 [==============================] - 0s 34ms/step - loss: 24.4809 - accuracy: 0.1450\n",
            "2/2 [==============================] - 0s 13ms/step\n",
            "4/4 [==============================] - 0s 11ms/step\n",
            "[CV] END batch_size=64, model__l1_reg=0.01, model__learning_rate=0.01, model__loss=sparse_categorical_crossentropy, model__optimizer=rmsprop; total time=   3.2s\n",
            "Epoch 1/10\n"
          ]
        },
        {
          "output_type": "stream",
          "name": "stderr",
          "text": [
            "/usr/local/lib/python3.10/dist-packages/scikeras/wrappers.py:915: UserWarning: ``build_fn`` will be renamed to ``model`` in a future release, at which point use of ``build_fn`` will raise an Error instead.\n",
            "  X, y = self._initialize(X, y)\n"
          ]
        },
        {
          "output_type": "stream",
          "name": "stdout",
          "text": [
            "4/4 [==============================] - 1s 36ms/step - loss: 70.5287 - accuracy: 0.0800\n",
            "Epoch 2/10\n",
            "4/4 [==============================] - 0s 35ms/step - loss: 40.4804 - accuracy: 0.1000\n",
            "Epoch 3/10\n",
            "4/4 [==============================] - 0s 34ms/step - loss: 29.6818 - accuracy: 0.1100\n",
            "Epoch 4/10\n",
            "4/4 [==============================] - 0s 38ms/step - loss: 26.9707 - accuracy: 0.1000\n",
            "Epoch 5/10\n",
            "4/4 [==============================] - 0s 35ms/step - loss: 25.8136 - accuracy: 0.1200\n",
            "Epoch 6/10\n",
            "4/4 [==============================] - 0s 35ms/step - loss: 25.2021 - accuracy: 0.1250\n",
            "Epoch 7/10\n",
            "4/4 [==============================] - 0s 35ms/step - loss: 24.8500 - accuracy: 0.1300\n",
            "Epoch 8/10\n",
            "4/4 [==============================] - 0s 35ms/step - loss: 24.6330 - accuracy: 0.1150\n",
            "Epoch 9/10\n",
            "4/4 [==============================] - 0s 36ms/step - loss: 24.5076 - accuracy: 0.1300\n",
            "Epoch 10/10\n",
            "4/4 [==============================] - 0s 35ms/step - loss: 24.4158 - accuracy: 0.1500\n",
            "2/2 [==============================] - 0s 14ms/step\n",
            "4/4 [==============================] - 0s 10ms/step\n",
            "[CV] END batch_size=64, model__l1_reg=0.01, model__learning_rate=0.01, model__loss=sparse_categorical_crossentropy, model__optimizer=rmsprop; total time=   3.7s\n",
            "Epoch 1/10\n"
          ]
        },
        {
          "output_type": "stream",
          "name": "stderr",
          "text": [
            "/usr/local/lib/python3.10/dist-packages/scikeras/wrappers.py:915: UserWarning: ``build_fn`` will be renamed to ``model`` in a future release, at which point use of ``build_fn`` will raise an Error instead.\n",
            "  X, y = self._initialize(X, y)\n"
          ]
        },
        {
          "output_type": "stream",
          "name": "stdout",
          "text": [
            "[CV] END batch_size=64, model__l1_reg=0.01, model__learning_rate=0.01, model__loss=categorical_crossentropy, model__optimizer=adam; total time=   0.3s\n",
            "Epoch 1/10\n"
          ]
        },
        {
          "output_type": "stream",
          "name": "stderr",
          "text": [
            "/usr/local/lib/python3.10/dist-packages/scikeras/wrappers.py:915: UserWarning: ``build_fn`` will be renamed to ``model`` in a future release, at which point use of ``build_fn`` will raise an Error instead.\n",
            "  X, y = self._initialize(X, y)\n"
          ]
        },
        {
          "output_type": "stream",
          "name": "stdout",
          "text": [
            "[CV] END batch_size=64, model__l1_reg=0.01, model__learning_rate=0.01, model__loss=categorical_crossentropy, model__optimizer=adam; total time=   0.3s\n"
          ]
        },
        {
          "output_type": "stream",
          "name": "stderr",
          "text": [
            "/usr/local/lib/python3.10/dist-packages/scikeras/wrappers.py:915: UserWarning: ``build_fn`` will be renamed to ``model`` in a future release, at which point use of ``build_fn`` will raise an Error instead.\n",
            "  X, y = self._initialize(X, y)\n"
          ]
        },
        {
          "output_type": "stream",
          "name": "stdout",
          "text": [
            "Epoch 1/10\n",
            "[CV] END batch_size=64, model__l1_reg=0.01, model__learning_rate=0.01, model__loss=categorical_crossentropy, model__optimizer=adam; total time=   0.3s\n",
            "Epoch 1/10\n"
          ]
        },
        {
          "output_type": "stream",
          "name": "stderr",
          "text": [
            "/usr/local/lib/python3.10/dist-packages/scikeras/wrappers.py:915: UserWarning: ``build_fn`` will be renamed to ``model`` in a future release, at which point use of ``build_fn`` will raise an Error instead.\n",
            "  X, y = self._initialize(X, y)\n"
          ]
        },
        {
          "output_type": "stream",
          "name": "stdout",
          "text": [
            "[CV] END batch_size=64, model__l1_reg=0.01, model__learning_rate=0.01, model__loss=categorical_crossentropy, model__optimizer=sgd; total time=   0.3s\n"
          ]
        },
        {
          "output_type": "stream",
          "name": "stderr",
          "text": [
            "/usr/local/lib/python3.10/dist-packages/scikeras/wrappers.py:915: UserWarning: ``build_fn`` will be renamed to ``model`` in a future release, at which point use of ``build_fn`` will raise an Error instead.\n",
            "  X, y = self._initialize(X, y)\n"
          ]
        },
        {
          "output_type": "stream",
          "name": "stdout",
          "text": [
            "Epoch 1/10\n",
            "[CV] END batch_size=64, model__l1_reg=0.01, model__learning_rate=0.01, model__loss=categorical_crossentropy, model__optimizer=sgd; total time=   0.3s\n",
            "Epoch 1/10\n"
          ]
        },
        {
          "output_type": "stream",
          "name": "stderr",
          "text": [
            "/usr/local/lib/python3.10/dist-packages/scikeras/wrappers.py:915: UserWarning: ``build_fn`` will be renamed to ``model`` in a future release, at which point use of ``build_fn`` will raise an Error instead.\n",
            "  X, y = self._initialize(X, y)\n"
          ]
        },
        {
          "output_type": "stream",
          "name": "stdout",
          "text": [
            "[CV] END batch_size=64, model__l1_reg=0.01, model__learning_rate=0.01, model__loss=categorical_crossentropy, model__optimizer=sgd; total time=   0.3s\n",
            "Epoch 1/10\n"
          ]
        },
        {
          "output_type": "stream",
          "name": "stderr",
          "text": [
            "/usr/local/lib/python3.10/dist-packages/scikeras/wrappers.py:915: UserWarning: ``build_fn`` will be renamed to ``model`` in a future release, at which point use of ``build_fn`` will raise an Error instead.\n",
            "  X, y = self._initialize(X, y)\n"
          ]
        },
        {
          "output_type": "stream",
          "name": "stdout",
          "text": [
            "[CV] END batch_size=64, model__l1_reg=0.01, model__learning_rate=0.01, model__loss=categorical_crossentropy, model__optimizer=rmsprop; total time=   0.3s\n",
            "Epoch 1/10\n"
          ]
        },
        {
          "output_type": "stream",
          "name": "stderr",
          "text": [
            "/usr/local/lib/python3.10/dist-packages/scikeras/wrappers.py:915: UserWarning: ``build_fn`` will be renamed to ``model`` in a future release, at which point use of ``build_fn`` will raise an Error instead.\n",
            "  X, y = self._initialize(X, y)\n"
          ]
        },
        {
          "output_type": "stream",
          "name": "stdout",
          "text": [
            "[CV] END batch_size=64, model__l1_reg=0.01, model__learning_rate=0.01, model__loss=categorical_crossentropy, model__optimizer=rmsprop; total time=   0.3s\n",
            "Epoch 1/10\n"
          ]
        },
        {
          "output_type": "stream",
          "name": "stderr",
          "text": [
            "/usr/local/lib/python3.10/dist-packages/scikeras/wrappers.py:915: UserWarning: ``build_fn`` will be renamed to ``model`` in a future release, at which point use of ``build_fn`` will raise an Error instead.\n",
            "  X, y = self._initialize(X, y)\n"
          ]
        },
        {
          "output_type": "stream",
          "name": "stdout",
          "text": [
            "[CV] END batch_size=64, model__l1_reg=0.01, model__learning_rate=0.01, model__loss=categorical_crossentropy, model__optimizer=rmsprop; total time=   0.2s\n",
            "Epoch 1/10\n"
          ]
        },
        {
          "output_type": "stream",
          "name": "stderr",
          "text": [
            "/usr/local/lib/python3.10/dist-packages/scikeras/wrappers.py:915: UserWarning: ``build_fn`` will be renamed to ``model`` in a future release, at which point use of ``build_fn`` will raise an Error instead.\n",
            "  X, y = self._initialize(X, y)\n"
          ]
        },
        {
          "output_type": "stream",
          "name": "stdout",
          "text": [
            "4/4 [==============================] - 1s 36ms/step - loss: 626.0364 - accuracy: 0.1150\n",
            "Epoch 2/10\n",
            "4/4 [==============================] - 0s 45ms/step - loss: 465.8845 - accuracy: 0.1200\n",
            "Epoch 3/10\n",
            "4/4 [==============================] - 0s 37ms/step - loss: 334.0154 - accuracy: 0.1450\n",
            "Epoch 4/10\n",
            "4/4 [==============================] - 0s 54ms/step - loss: 228.8617 - accuracy: 0.1050\n",
            "Epoch 5/10\n",
            "4/4 [==============================] - 0s 60ms/step - loss: 149.6995 - accuracy: 0.0900\n",
            "Epoch 6/10\n",
            "4/4 [==============================] - 0s 66ms/step - loss: 95.4531 - accuracy: 0.1450\n",
            "Epoch 7/10\n",
            "4/4 [==============================] - 0s 60ms/step - loss: 65.8376 - accuracy: 0.1350\n",
            "Epoch 8/10\n",
            "4/4 [==============================] - 0s 60ms/step - loss: 59.9376 - accuracy: 0.1550\n",
            "Epoch 9/10\n",
            "4/4 [==============================] - 0s 58ms/step - loss: 54.3357 - accuracy: 0.1250\n",
            "Epoch 10/10\n",
            "4/4 [==============================] - 0s 61ms/step - loss: 41.0609 - accuracy: 0.1100\n",
            "2/2 [==============================] - 0s 20ms/step\n",
            "4/4 [==============================] - 0s 20ms/step\n",
            "[CV] END batch_size=64, model__l1_reg=0.1, model__learning_rate=0.001, model__loss=sparse_categorical_crossentropy, model__optimizer=adam; total time=   3.8s\n"
          ]
        },
        {
          "output_type": "stream",
          "name": "stderr",
          "text": [
            "/usr/local/lib/python3.10/dist-packages/scikeras/wrappers.py:915: UserWarning: ``build_fn`` will be renamed to ``model`` in a future release, at which point use of ``build_fn`` will raise an Error instead.\n",
            "  X, y = self._initialize(X, y)\n"
          ]
        },
        {
          "output_type": "stream",
          "name": "stdout",
          "text": [
            "Epoch 1/10\n",
            "4/4 [==============================] - 1s 45ms/step - loss: 625.2525 - accuracy: 0.0850\n",
            "Epoch 2/10\n",
            "4/4 [==============================] - 0s 40ms/step - loss: 465.0294 - accuracy: 0.1350\n",
            "Epoch 3/10\n",
            "4/4 [==============================] - 0s 37ms/step - loss: 333.1340 - accuracy: 0.1200\n",
            "Epoch 4/10\n",
            "4/4 [==============================] - 0s 37ms/step - loss: 227.9667 - accuracy: 0.1000\n",
            "Epoch 5/10\n",
            "4/4 [==============================] - 0s 38ms/step - loss: 148.8797 - accuracy: 0.1150\n",
            "Epoch 6/10\n",
            "4/4 [==============================] - 0s 38ms/step - loss: 94.8622 - accuracy: 0.1600\n",
            "Epoch 7/10\n",
            "4/4 [==============================] - 0s 39ms/step - loss: 65.3003 - accuracy: 0.1450\n",
            "Epoch 8/10\n",
            "4/4 [==============================] - 0s 38ms/step - loss: 59.4566 - accuracy: 0.1400\n",
            "Epoch 9/10\n",
            "4/4 [==============================] - 0s 43ms/step - loss: 53.7999 - accuracy: 0.1250\n",
            "Epoch 10/10\n",
            "4/4 [==============================] - 0s 40ms/step - loss: 40.5685 - accuracy: 0.1150\n",
            "2/2 [==============================] - 0s 15ms/step\n",
            "4/4 [==============================] - 0s 12ms/step\n",
            "[CV] END batch_size=64, model__l1_reg=0.1, model__learning_rate=0.001, model__loss=sparse_categorical_crossentropy, model__optimizer=adam; total time=   4.1s\n",
            "Epoch 1/10\n"
          ]
        },
        {
          "output_type": "stream",
          "name": "stderr",
          "text": [
            "/usr/local/lib/python3.10/dist-packages/scikeras/wrappers.py:915: UserWarning: ``build_fn`` will be renamed to ``model`` in a future release, at which point use of ``build_fn`` will raise an Error instead.\n",
            "  X, y = self._initialize(X, y)\n"
          ]
        },
        {
          "output_type": "stream",
          "name": "stdout",
          "text": [
            "4/4 [==============================] - 1s 37ms/step - loss: 625.1822 - accuracy: 0.1150\n",
            "Epoch 2/10\n",
            "4/4 [==============================] - 0s 40ms/step - loss: 465.1635 - accuracy: 0.0850\n",
            "Epoch 3/10\n",
            "4/4 [==============================] - 0s 40ms/step - loss: 333.4573 - accuracy: 0.1250\n",
            "Epoch 4/10\n",
            "4/4 [==============================] - 0s 36ms/step - loss: 228.3760 - accuracy: 0.1450\n",
            "Epoch 5/10\n",
            "4/4 [==============================] - 0s 40ms/step - loss: 149.2169 - accuracy: 0.1200\n",
            "Epoch 6/10\n",
            "4/4 [==============================] - 0s 36ms/step - loss: 95.1601 - accuracy: 0.1500\n",
            "Epoch 7/10\n",
            "4/4 [==============================] - 0s 36ms/step - loss: 65.5819 - accuracy: 0.1450\n",
            "Epoch 8/10\n",
            "4/4 [==============================] - 0s 42ms/step - loss: 59.5729 - accuracy: 0.1650\n",
            "Epoch 9/10\n",
            "4/4 [==============================] - 0s 39ms/step - loss: 53.9835 - accuracy: 0.1350\n",
            "Epoch 10/10\n",
            "4/4 [==============================] - 0s 36ms/step - loss: 40.7963 - accuracy: 0.0900\n",
            "2/2 [==============================] - 0s 14ms/step\n",
            "4/4 [==============================] - 0s 11ms/step\n",
            "[CV] END batch_size=64, model__l1_reg=0.1, model__learning_rate=0.001, model__loss=sparse_categorical_crossentropy, model__optimizer=adam; total time=   3.9s\n",
            "Epoch 1/10\n"
          ]
        },
        {
          "output_type": "stream",
          "name": "stderr",
          "text": [
            "/usr/local/lib/python3.10/dist-packages/scikeras/wrappers.py:915: UserWarning: ``build_fn`` will be renamed to ``model`` in a future release, at which point use of ``build_fn`` will raise an Error instead.\n",
            "  X, y = self._initialize(X, y)\n"
          ]
        },
        {
          "output_type": "stream",
          "name": "stdout",
          "text": [
            "4/4 [==============================] - 1s 35ms/step - loss: 668.2051 - accuracy: 0.1150\n",
            "Epoch 2/10\n",
            "4/4 [==============================] - 0s 36ms/step - loss: 649.9589 - accuracy: 0.1050\n",
            "Epoch 3/10\n",
            "4/4 [==============================] - 0s 38ms/step - loss: 631.9835 - accuracy: 0.0600\n",
            "Epoch 4/10\n",
            "4/4 [==============================] - 0s 42ms/step - loss: 614.2333 - accuracy: 0.1150\n",
            "Epoch 5/10\n",
            "4/4 [==============================] - 0s 36ms/step - loss: 596.7947 - accuracy: 0.1050\n",
            "Epoch 6/10\n",
            "4/4 [==============================] - 0s 37ms/step - loss: 579.5496 - accuracy: 0.0950\n",
            "Epoch 7/10\n",
            "4/4 [==============================] - 0s 36ms/step - loss: 562.6174 - accuracy: 0.1200\n",
            "Epoch 8/10\n",
            "4/4 [==============================] - 0s 55ms/step - loss: 545.8979 - accuracy: 0.1600\n",
            "Epoch 9/10\n",
            "4/4 [==============================] - 0s 55ms/step - loss: 529.5132 - accuracy: 0.1000\n",
            "Epoch 10/10\n",
            "4/4 [==============================] - 0s 58ms/step - loss: 513.3419 - accuracy: 0.1200\n",
            "2/2 [==============================] - 0s 24ms/step\n",
            "4/4 [==============================] - 0s 19ms/step\n",
            "[CV] END batch_size=64, model__l1_reg=0.1, model__learning_rate=0.001, model__loss=sparse_categorical_crossentropy, model__optimizer=sgd; total time=   3.0s\n"
          ]
        },
        {
          "output_type": "stream",
          "name": "stderr",
          "text": [
            "/usr/local/lib/python3.10/dist-packages/scikeras/wrappers.py:915: UserWarning: ``build_fn`` will be renamed to ``model`` in a future release, at which point use of ``build_fn`` will raise an Error instead.\n",
            "  X, y = self._initialize(X, y)\n"
          ]
        },
        {
          "output_type": "stream",
          "name": "stdout",
          "text": [
            "Epoch 1/10\n",
            "4/4 [==============================] - 1s 38ms/step - loss: 668.1566 - accuracy: 0.1200\n",
            "Epoch 2/10\n",
            "4/4 [==============================] - 0s 35ms/step - loss: 649.9292 - accuracy: 0.1000\n",
            "Epoch 3/10\n",
            "4/4 [==============================] - 0s 36ms/step - loss: 631.9391 - accuracy: 0.1200\n",
            "Epoch 4/10\n",
            "4/4 [==============================] - 0s 36ms/step - loss: 614.2382 - accuracy: 0.1050\n",
            "Epoch 5/10\n",
            "4/4 [==============================] - 0s 42ms/step - loss: 596.7453 - accuracy: 0.1300\n",
            "Epoch 6/10\n",
            "4/4 [==============================] - 0s 43ms/step - loss: 579.5764 - accuracy: 0.0800\n",
            "Epoch 7/10\n",
            "4/4 [==============================] - 0s 37ms/step - loss: 562.6176 - accuracy: 0.1250\n",
            "Epoch 8/10\n",
            "4/4 [==============================] - 0s 41ms/step - loss: 545.8872 - accuracy: 0.1500\n",
            "Epoch 9/10\n",
            "4/4 [==============================] - 0s 37ms/step - loss: 529.4738 - accuracy: 0.1350\n",
            "Epoch 10/10\n",
            "4/4 [==============================] - 0s 40ms/step - loss: 513.2570 - accuracy: 0.1650\n",
            "2/2 [==============================] - 0s 14ms/step\n",
            "4/4 [==============================] - 0s 11ms/step\n",
            "[CV] END batch_size=64, model__l1_reg=0.1, model__learning_rate=0.001, model__loss=sparse_categorical_crossentropy, model__optimizer=sgd; total time=   4.2s\n",
            "Epoch 1/10\n"
          ]
        },
        {
          "output_type": "stream",
          "name": "stderr",
          "text": [
            "/usr/local/lib/python3.10/dist-packages/scikeras/wrappers.py:915: UserWarning: ``build_fn`` will be renamed to ``model`` in a future release, at which point use of ``build_fn`` will raise an Error instead.\n",
            "  X, y = self._initialize(X, y)\n"
          ]
        },
        {
          "output_type": "stream",
          "name": "stdout",
          "text": [
            "4/4 [==============================] - 1s 37ms/step - loss: 668.3638 - accuracy: 0.0850\n",
            "Epoch 2/10\n",
            "4/4 [==============================] - 0s 38ms/step - loss: 650.1338 - accuracy: 0.1000\n",
            "Epoch 3/10\n",
            "4/4 [==============================] - 0s 35ms/step - loss: 632.1409 - accuracy: 0.0950\n",
            "Epoch 4/10\n",
            "4/4 [==============================] - 0s 39ms/step - loss: 614.4392 - accuracy: 0.0950\n",
            "Epoch 5/10\n",
            "4/4 [==============================] - 0s 39ms/step - loss: 597.0023 - accuracy: 0.0900\n",
            "Epoch 6/10\n",
            "4/4 [==============================] - 0s 41ms/step - loss: 579.8056 - accuracy: 0.0800\n",
            "Epoch 7/10\n",
            "4/4 [==============================] - 0s 35ms/step - loss: 562.8522 - accuracy: 0.1000\n",
            "Epoch 8/10\n",
            "4/4 [==============================] - 0s 36ms/step - loss: 546.1708 - accuracy: 0.1100\n",
            "Epoch 9/10\n",
            "4/4 [==============================] - 0s 36ms/step - loss: 529.7411 - accuracy: 0.1050\n",
            "Epoch 10/10\n",
            "4/4 [==============================] - 0s 34ms/step - loss: 513.5765 - accuracy: 0.1050\n",
            "2/2 [==============================] - 0s 13ms/step\n",
            "4/4 [==============================] - 0s 11ms/step\n",
            "[CV] END batch_size=64, model__l1_reg=0.1, model__learning_rate=0.001, model__loss=sparse_categorical_crossentropy, model__optimizer=sgd; total time=   2.8s\n",
            "Epoch 1/10\n"
          ]
        },
        {
          "output_type": "stream",
          "name": "stderr",
          "text": [
            "/usr/local/lib/python3.10/dist-packages/scikeras/wrappers.py:915: UserWarning: ``build_fn`` will be renamed to ``model`` in a future release, at which point use of ``build_fn`` will raise an Error instead.\n",
            "  X, y = self._initialize(X, y)\n"
          ]
        },
        {
          "output_type": "stream",
          "name": "stdout",
          "text": [
            "4/4 [==============================] - 1s 39ms/step - loss: 551.3085 - accuracy: 0.1300\n",
            "Epoch 2/10\n",
            "4/4 [==============================] - 0s 39ms/step - loss: 285.8091 - accuracy: 0.0950\n",
            "Epoch 3/10\n",
            "4/4 [==============================] - 0s 44ms/step - loss: 154.4837 - accuracy: 0.1250\n",
            "Epoch 4/10\n",
            "4/4 [==============================] - 0s 36ms/step - loss: 78.8063 - accuracy: 0.1200\n",
            "Epoch 5/10\n",
            "4/4 [==============================] - 0s 36ms/step - loss: 41.6110 - accuracy: 0.1100\n",
            "Epoch 6/10\n",
            "4/4 [==============================] - 0s 36ms/step - loss: 33.7603 - accuracy: 0.1300\n",
            "Epoch 7/10\n",
            "4/4 [==============================] - 0s 36ms/step - loss: 33.0357 - accuracy: 0.1400\n",
            "Epoch 8/10\n",
            "4/4 [==============================] - 0s 37ms/step - loss: 32.5091 - accuracy: 0.0900\n",
            "Epoch 9/10\n",
            "4/4 [==============================] - 0s 37ms/step - loss: 32.0997 - accuracy: 0.1200\n",
            "Epoch 10/10\n",
            "4/4 [==============================] - 0s 35ms/step - loss: 31.7619 - accuracy: 0.1350\n",
            "2/2 [==============================] - 0s 14ms/step\n",
            "4/4 [==============================] - 0s 11ms/step\n",
            "[CV] END batch_size=64, model__l1_reg=0.1, model__learning_rate=0.001, model__loss=sparse_categorical_crossentropy, model__optimizer=rmsprop; total time=   3.7s\n",
            "Epoch 1/10\n"
          ]
        },
        {
          "output_type": "stream",
          "name": "stderr",
          "text": [
            "/usr/local/lib/python3.10/dist-packages/scikeras/wrappers.py:915: UserWarning: ``build_fn`` will be renamed to ``model`` in a future release, at which point use of ``build_fn`` will raise an Error instead.\n",
            "  X, y = self._initialize(X, y)\n"
          ]
        },
        {
          "output_type": "stream",
          "name": "stdout",
          "text": [
            "4/4 [==============================] - 1s 63ms/step - loss: 551.0305 - accuracy: 0.1150\n",
            "Epoch 2/10\n",
            "4/4 [==============================] - 0s 60ms/step - loss: 285.6846 - accuracy: 0.1100\n",
            "Epoch 3/10\n",
            "4/4 [==============================] - 0s 59ms/step - loss: 154.6134 - accuracy: 0.0900\n",
            "Epoch 4/10\n",
            "4/4 [==============================] - 0s 60ms/step - loss: 79.1200 - accuracy: 0.1250\n",
            "Epoch 5/10\n",
            "4/4 [==============================] - 0s 60ms/step - loss: 41.9397 - accuracy: 0.1250\n",
            "Epoch 6/10\n",
            "4/4 [==============================] - 0s 58ms/step - loss: 34.0832 - accuracy: 0.1250\n",
            "Epoch 7/10\n",
            "4/4 [==============================] - 0s 62ms/step - loss: 33.3728 - accuracy: 0.1450\n",
            "Epoch 8/10\n",
            "4/4 [==============================] - 0s 64ms/step - loss: 32.8445 - accuracy: 0.0900\n",
            "Epoch 9/10\n",
            "4/4 [==============================] - 0s 48ms/step - loss: 32.4198 - accuracy: 0.1150\n",
            "Epoch 10/10\n",
            "4/4 [==============================] - 0s 37ms/step - loss: 32.0858 - accuracy: 0.1150\n",
            "2/2 [==============================] - 0s 14ms/step\n",
            "4/4 [==============================] - 0s 12ms/step\n",
            "[CV] END batch_size=64, model__l1_reg=0.1, model__learning_rate=0.001, model__loss=sparse_categorical_crossentropy, model__optimizer=rmsprop; total time=   4.0s\n",
            "Epoch 1/10\n"
          ]
        },
        {
          "output_type": "stream",
          "name": "stderr",
          "text": [
            "/usr/local/lib/python3.10/dist-packages/scikeras/wrappers.py:915: UserWarning: ``build_fn`` will be renamed to ``model`` in a future release, at which point use of ``build_fn`` will raise an Error instead.\n",
            "  X, y = self._initialize(X, y)\n"
          ]
        },
        {
          "output_type": "stream",
          "name": "stdout",
          "text": [
            "4/4 [==============================] - 1s 38ms/step - loss: 550.4965 - accuracy: 0.0950\n",
            "Epoch 2/10\n",
            "4/4 [==============================] - 0s 41ms/step - loss: 285.4332 - accuracy: 0.1300\n",
            "Epoch 3/10\n",
            "4/4 [==============================] - 0s 38ms/step - loss: 154.3178 - accuracy: 0.1050\n",
            "Epoch 4/10\n",
            "4/4 [==============================] - 0s 36ms/step - loss: 78.8132 - accuracy: 0.0850\n",
            "Epoch 5/10\n",
            "4/4 [==============================] - 0s 35ms/step - loss: 41.5909 - accuracy: 0.0900\n",
            "Epoch 6/10\n",
            "4/4 [==============================] - 0s 45ms/step - loss: 33.7418 - accuracy: 0.0850\n",
            "Epoch 7/10\n",
            "4/4 [==============================] - 0s 36ms/step - loss: 33.0166 - accuracy: 0.0950\n",
            "Epoch 8/10\n",
            "4/4 [==============================] - 0s 34ms/step - loss: 32.4874 - accuracy: 0.1000\n",
            "Epoch 9/10\n",
            "4/4 [==============================] - 0s 38ms/step - loss: 32.0853 - accuracy: 0.1050\n",
            "Epoch 10/10\n",
            "4/4 [==============================] - 0s 34ms/step - loss: 31.7376 - accuracy: 0.0850\n",
            "2/2 [==============================] - 0s 14ms/step\n",
            "4/4 [==============================] - 0s 12ms/step\n",
            "[CV] END batch_size=64, model__l1_reg=0.1, model__learning_rate=0.001, model__loss=sparse_categorical_crossentropy, model__optimizer=rmsprop; total time=   3.6s\n",
            "Epoch 1/10\n"
          ]
        },
        {
          "output_type": "stream",
          "name": "stderr",
          "text": [
            "/usr/local/lib/python3.10/dist-packages/scikeras/wrappers.py:915: UserWarning: ``build_fn`` will be renamed to ``model`` in a future release, at which point use of ``build_fn`` will raise an Error instead.\n",
            "  X, y = self._initialize(X, y)\n"
          ]
        },
        {
          "output_type": "stream",
          "name": "stdout",
          "text": [
            "[CV] END batch_size=64, model__l1_reg=0.1, model__learning_rate=0.001, model__loss=categorical_crossentropy, model__optimizer=adam; total time=   0.3s\n",
            "Epoch 1/10\n"
          ]
        },
        {
          "output_type": "stream",
          "name": "stderr",
          "text": [
            "/usr/local/lib/python3.10/dist-packages/scikeras/wrappers.py:915: UserWarning: ``build_fn`` will be renamed to ``model`` in a future release, at which point use of ``build_fn`` will raise an Error instead.\n",
            "  X, y = self._initialize(X, y)\n"
          ]
        },
        {
          "output_type": "stream",
          "name": "stdout",
          "text": [
            "[CV] END batch_size=64, model__l1_reg=0.1, model__learning_rate=0.001, model__loss=categorical_crossentropy, model__optimizer=adam; total time=   0.3s\n",
            "Epoch 1/10\n"
          ]
        },
        {
          "output_type": "stream",
          "name": "stderr",
          "text": [
            "/usr/local/lib/python3.10/dist-packages/scikeras/wrappers.py:915: UserWarning: ``build_fn`` will be renamed to ``model`` in a future release, at which point use of ``build_fn`` will raise an Error instead.\n",
            "  X, y = self._initialize(X, y)\n"
          ]
        },
        {
          "output_type": "stream",
          "name": "stdout",
          "text": [
            "[CV] END batch_size=64, model__l1_reg=0.1, model__learning_rate=0.001, model__loss=categorical_crossentropy, model__optimizer=adam; total time=   0.2s\n",
            "Epoch 1/10\n"
          ]
        },
        {
          "output_type": "stream",
          "name": "stderr",
          "text": [
            "/usr/local/lib/python3.10/dist-packages/scikeras/wrappers.py:915: UserWarning: ``build_fn`` will be renamed to ``model`` in a future release, at which point use of ``build_fn`` will raise an Error instead.\n",
            "  X, y = self._initialize(X, y)\n"
          ]
        },
        {
          "output_type": "stream",
          "name": "stdout",
          "text": [
            "[CV] END batch_size=64, model__l1_reg=0.1, model__learning_rate=0.001, model__loss=categorical_crossentropy, model__optimizer=sgd; total time=   0.3s\n",
            "Epoch 1/10\n"
          ]
        },
        {
          "output_type": "stream",
          "name": "stderr",
          "text": [
            "/usr/local/lib/python3.10/dist-packages/scikeras/wrappers.py:915: UserWarning: ``build_fn`` will be renamed to ``model`` in a future release, at which point use of ``build_fn`` will raise an Error instead.\n",
            "  X, y = self._initialize(X, y)\n"
          ]
        },
        {
          "output_type": "stream",
          "name": "stdout",
          "text": [
            "[CV] END batch_size=64, model__l1_reg=0.1, model__learning_rate=0.001, model__loss=categorical_crossentropy, model__optimizer=sgd; total time=   0.3s\n",
            "Epoch 1/10\n"
          ]
        },
        {
          "output_type": "stream",
          "name": "stderr",
          "text": [
            "/usr/local/lib/python3.10/dist-packages/scikeras/wrappers.py:915: UserWarning: ``build_fn`` will be renamed to ``model`` in a future release, at which point use of ``build_fn`` will raise an Error instead.\n",
            "  X, y = self._initialize(X, y)\n"
          ]
        },
        {
          "output_type": "stream",
          "name": "stdout",
          "text": [
            "[CV] END batch_size=64, model__l1_reg=0.1, model__learning_rate=0.001, model__loss=categorical_crossentropy, model__optimizer=sgd; total time=   0.3s\n"
          ]
        },
        {
          "output_type": "stream",
          "name": "stderr",
          "text": [
            "/usr/local/lib/python3.10/dist-packages/scikeras/wrappers.py:915: UserWarning: ``build_fn`` will be renamed to ``model`` in a future release, at which point use of ``build_fn`` will raise an Error instead.\n",
            "  X, y = self._initialize(X, y)\n"
          ]
        },
        {
          "output_type": "stream",
          "name": "stdout",
          "text": [
            "Epoch 1/10\n",
            "[CV] END batch_size=64, model__l1_reg=0.1, model__learning_rate=0.001, model__loss=categorical_crossentropy, model__optimizer=rmsprop; total time=   0.3s\n",
            "Epoch 1/10\n"
          ]
        },
        {
          "output_type": "stream",
          "name": "stderr",
          "text": [
            "/usr/local/lib/python3.10/dist-packages/scikeras/wrappers.py:915: UserWarning: ``build_fn`` will be renamed to ``model`` in a future release, at which point use of ``build_fn`` will raise an Error instead.\n",
            "  X, y = self._initialize(X, y)\n"
          ]
        },
        {
          "output_type": "stream",
          "name": "stdout",
          "text": [
            "[CV] END batch_size=64, model__l1_reg=0.1, model__learning_rate=0.001, model__loss=categorical_crossentropy, model__optimizer=rmsprop; total time=   0.3s\n"
          ]
        },
        {
          "output_type": "stream",
          "name": "stderr",
          "text": [
            "/usr/local/lib/python3.10/dist-packages/scikeras/wrappers.py:915: UserWarning: ``build_fn`` will be renamed to ``model`` in a future release, at which point use of ``build_fn`` will raise an Error instead.\n",
            "  X, y = self._initialize(X, y)\n"
          ]
        },
        {
          "output_type": "stream",
          "name": "stdout",
          "text": [
            "Epoch 1/10\n",
            "[CV] END batch_size=64, model__l1_reg=0.1, model__learning_rate=0.001, model__loss=categorical_crossentropy, model__optimizer=rmsprop; total time=   0.3s\n",
            "Epoch 1/10\n"
          ]
        },
        {
          "output_type": "stream",
          "name": "stderr",
          "text": [
            "/usr/local/lib/python3.10/dist-packages/scikeras/wrappers.py:915: UserWarning: ``build_fn`` will be renamed to ``model`` in a future release, at which point use of ``build_fn`` will raise an Error instead.\n",
            "  X, y = self._initialize(X, y)\n"
          ]
        },
        {
          "output_type": "stream",
          "name": "stdout",
          "text": [
            "4/4 [==============================] - 1s 40ms/step - loss: 416.1457 - accuracy: 0.1250\n",
            "Epoch 2/10\n",
            "4/4 [==============================] - 0s 37ms/step - loss: 256.2523 - accuracy: 0.1000\n",
            "Epoch 3/10\n",
            "4/4 [==============================] - 0s 39ms/step - loss: 155.2407 - accuracy: 0.1050\n",
            "Epoch 4/10\n",
            "4/4 [==============================] - 0s 36ms/step - loss: 131.1984 - accuracy: 0.1300\n",
            "Epoch 5/10\n",
            "4/4 [==============================] - 0s 40ms/step - loss: 110.6310 - accuracy: 0.1650\n",
            "Epoch 6/10\n",
            "4/4 [==============================] - 0s 35ms/step - loss: 98.6998 - accuracy: 0.1350\n",
            "Epoch 7/10\n",
            "4/4 [==============================] - 0s 37ms/step - loss: 82.2547 - accuracy: 0.1400\n",
            "Epoch 8/10\n",
            "4/4 [==============================] - 0s 42ms/step - loss: 79.9922 - accuracy: 0.1400\n",
            "Epoch 9/10\n",
            "4/4 [==============================] - 0s 35ms/step - loss: 71.1443 - accuracy: 0.1400\n",
            "Epoch 10/10\n",
            "4/4 [==============================] - 0s 35ms/step - loss: 65.6624 - accuracy: 0.1400\n",
            "2/2 [==============================] - 0s 15ms/step\n",
            "4/4 [==============================] - 0s 18ms/step\n",
            "[CV] END batch_size=64, model__l1_reg=0.1, model__learning_rate=0.01, model__loss=sparse_categorical_crossentropy, model__optimizer=adam; total time=   4.1s\n"
          ]
        },
        {
          "output_type": "stream",
          "name": "stderr",
          "text": [
            "/usr/local/lib/python3.10/dist-packages/scikeras/wrappers.py:915: UserWarning: ``build_fn`` will be renamed to ``model`` in a future release, at which point use of ``build_fn`` will raise an Error instead.\n",
            "  X, y = self._initialize(X, y)\n"
          ]
        },
        {
          "output_type": "stream",
          "name": "stdout",
          "text": [
            "Epoch 1/10\n",
            "4/4 [==============================] - 1s 36ms/step - loss: 416.6887 - accuracy: 0.1000\n",
            "Epoch 2/10\n",
            "4/4 [==============================] - 0s 48ms/step - loss: 255.7311 - accuracy: 0.1350\n",
            "Epoch 3/10\n",
            "4/4 [==============================] - 0s 42ms/step - loss: 154.7303 - accuracy: 0.0950\n",
            "Epoch 4/10\n",
            "4/4 [==============================] - 0s 35ms/step - loss: 130.4223 - accuracy: 0.1200\n",
            "Epoch 5/10\n",
            "4/4 [==============================] - 0s 38ms/step - loss: 110.4970 - accuracy: 0.1050\n",
            "Epoch 6/10\n",
            "4/4 [==============================] - 0s 36ms/step - loss: 98.6607 - accuracy: 0.1450\n",
            "Epoch 7/10\n",
            "4/4 [==============================] - 0s 38ms/step - loss: 82.1106 - accuracy: 0.1450\n",
            "Epoch 8/10\n",
            "4/4 [==============================] - 0s 40ms/step - loss: 79.9211 - accuracy: 0.1450\n",
            "Epoch 9/10\n",
            "4/4 [==============================] - 0s 35ms/step - loss: 71.1763 - accuracy: 0.1450\n",
            "Epoch 10/10\n",
            "4/4 [==============================] - 0s 36ms/step - loss: 65.6607 - accuracy: 0.1450\n",
            "2/2 [==============================] - 0s 14ms/step\n",
            "4/4 [==============================] - 0s 11ms/step\n",
            "[CV] END batch_size=64, model__l1_reg=0.1, model__learning_rate=0.01, model__loss=sparse_categorical_crossentropy, model__optimizer=adam; total time=   3.3s\n",
            "Epoch 1/10\n"
          ]
        },
        {
          "output_type": "stream",
          "name": "stderr",
          "text": [
            "/usr/local/lib/python3.10/dist-packages/scikeras/wrappers.py:915: UserWarning: ``build_fn`` will be renamed to ``model`` in a future release, at which point use of ``build_fn`` will raise an Error instead.\n",
            "  X, y = self._initialize(X, y)\n"
          ]
        },
        {
          "output_type": "stream",
          "name": "stdout",
          "text": [
            "4/4 [==============================] - 1s 39ms/step - loss: 416.9401 - accuracy: 0.1300\n",
            "Epoch 2/10\n",
            "4/4 [==============================] - 0s 36ms/step - loss: 256.0968 - accuracy: 0.1200\n",
            "Epoch 3/10\n",
            "4/4 [==============================] - 0s 43ms/step - loss: 154.8019 - accuracy: 0.1000\n",
            "Epoch 4/10\n",
            "4/4 [==============================] - 0s 36ms/step - loss: 130.6468 - accuracy: 0.1350\n",
            "Epoch 5/10\n",
            "4/4 [==============================] - 0s 35ms/step - loss: 110.5286 - accuracy: 0.1450\n",
            "Epoch 6/10\n",
            "4/4 [==============================] - 0s 35ms/step - loss: 98.8832 - accuracy: 0.1450\n",
            "Epoch 7/10\n",
            "4/4 [==============================] - 0s 35ms/step - loss: 82.1923 - accuracy: 0.1450\n",
            "Epoch 8/10\n",
            "4/4 [==============================] - 0s 41ms/step - loss: 80.1809 - accuracy: 0.1450\n",
            "Epoch 9/10\n",
            "4/4 [==============================] - 0s 34ms/step - loss: 71.1436 - accuracy: 0.1450\n",
            "Epoch 10/10\n",
            "4/4 [==============================] - 0s 43ms/step - loss: 65.5898 - accuracy: 0.1450\n",
            "2/2 [==============================] - 0s 16ms/step\n",
            "4/4 [==============================] - 0s 10ms/step\n",
            "[CV] END batch_size=64, model__l1_reg=0.1, model__learning_rate=0.01, model__loss=sparse_categorical_crossentropy, model__optimizer=adam; total time=   3.0s\n",
            "Epoch 1/10\n"
          ]
        },
        {
          "output_type": "stream",
          "name": "stderr",
          "text": [
            "/usr/local/lib/python3.10/dist-packages/scikeras/wrappers.py:915: UserWarning: ``build_fn`` will be renamed to ``model`` in a future release, at which point use of ``build_fn`` will raise an Error instead.\n",
            "  X, y = self._initialize(X, y)\n"
          ]
        },
        {
          "output_type": "stream",
          "name": "stdout",
          "text": [
            "4/4 [==============================] - 1s 35ms/step - loss: 625.4001 - accuracy: 0.0900\n",
            "Epoch 2/10\n",
            "4/4 [==============================] - 0s 44ms/step - loss: 463.9142 - accuracy: 0.1200\n",
            "Epoch 3/10\n",
            "4/4 [==============================] - 0s 42ms/step - loss: 328.0901 - accuracy: 0.1300\n",
            "Epoch 4/10\n",
            "4/4 [==============================] - 0s 37ms/step - loss: 218.0395 - accuracy: 0.1350\n",
            "Epoch 5/10\n",
            "4/4 [==============================] - 0s 38ms/step - loss: 133.5768 - accuracy: 0.1400\n",
            "Epoch 6/10\n",
            "4/4 [==============================] - 0s 36ms/step - loss: 74.7241 - accuracy: 0.1450\n",
            "Epoch 7/10\n",
            "4/4 [==============================] - 0s 37ms/step - loss: 41.4355 - accuracy: 0.1250\n",
            "Epoch 8/10\n",
            "4/4 [==============================] - 0s 36ms/step - loss: 32.7610 - accuracy: 0.0950\n",
            "Epoch 9/10\n",
            "4/4 [==============================] - 0s 39ms/step - loss: 32.5319 - accuracy: 0.1000\n",
            "Epoch 10/10\n",
            "4/4 [==============================] - 0s 35ms/step - loss: 32.2888 - accuracy: 0.1200\n",
            "2/2 [==============================] - 0s 21ms/step\n",
            "4/4 [==============================] - 0s 13ms/step\n",
            "[CV] END batch_size=64, model__l1_reg=0.1, model__learning_rate=0.01, model__loss=sparse_categorical_crossentropy, model__optimizer=sgd; total time=   3.6s\n"
          ]
        },
        {
          "output_type": "stream",
          "name": "stderr",
          "text": [
            "/usr/local/lib/python3.10/dist-packages/scikeras/wrappers.py:915: UserWarning: ``build_fn`` will be renamed to ``model`` in a future release, at which point use of ``build_fn`` will raise an Error instead.\n",
            "  X, y = self._initialize(X, y)\n"
          ]
        },
        {
          "output_type": "stream",
          "name": "stdout",
          "text": [
            "Epoch 1/10\n",
            "4/4 [==============================] - 1s 59ms/step - loss: 626.7300 - accuracy: 0.0550\n",
            "Epoch 2/10\n",
            "4/4 [==============================] - 0s 58ms/step - loss: 465.1380 - accuracy: 0.0750\n",
            "Epoch 3/10\n",
            "4/4 [==============================] - 0s 57ms/step - loss: 329.1323 - accuracy: 0.1550\n",
            "Epoch 4/10\n",
            "4/4 [==============================] - 0s 61ms/step - loss: 218.7950 - accuracy: 0.1350\n",
            "Epoch 5/10\n",
            "4/4 [==============================] - 0s 55ms/step - loss: 134.0739 - accuracy: 0.0950\n",
            "Epoch 6/10\n",
            "4/4 [==============================] - 0s 52ms/step - loss: 74.8847 - accuracy: 0.1200\n",
            "Epoch 7/10\n",
            "4/4 [==============================] - 0s 53ms/step - loss: 41.3449 - accuracy: 0.1150\n",
            "Epoch 8/10\n",
            "4/4 [==============================] - 0s 55ms/step - loss: 32.5450 - accuracy: 0.1600\n",
            "Epoch 9/10\n",
            "4/4 [==============================] - 0s 42ms/step - loss: 32.3529 - accuracy: 0.1250\n",
            "Epoch 10/10\n",
            "4/4 [==============================] - 0s 34ms/step - loss: 32.1190 - accuracy: 0.1300\n",
            "2/2 [==============================] - 0s 14ms/step\n",
            "4/4 [==============================] - 0s 11ms/step\n",
            "[CV] END batch_size=64, model__l1_reg=0.1, model__learning_rate=0.01, model__loss=sparse_categorical_crossentropy, model__optimizer=sgd; total time=   4.1s\n",
            "Epoch 1/10\n"
          ]
        },
        {
          "output_type": "stream",
          "name": "stderr",
          "text": [
            "/usr/local/lib/python3.10/dist-packages/scikeras/wrappers.py:915: UserWarning: ``build_fn`` will be renamed to ``model`` in a future release, at which point use of ``build_fn`` will raise an Error instead.\n",
            "  X, y = self._initialize(X, y)\n"
          ]
        },
        {
          "output_type": "stream",
          "name": "stdout",
          "text": [
            "4/4 [==============================] - 1s 34ms/step - loss: 626.6490 - accuracy: 0.1200\n",
            "Epoch 2/10\n",
            "4/4 [==============================] - 0s 36ms/step - loss: 465.0820 - accuracy: 0.1200\n",
            "Epoch 3/10\n",
            "4/4 [==============================] - 0s 35ms/step - loss: 329.0836 - accuracy: 0.1550\n",
            "Epoch 4/10\n",
            "4/4 [==============================] - 0s 34ms/step - loss: 218.7794 - accuracy: 0.1600\n",
            "Epoch 5/10\n",
            "4/4 [==============================] - 0s 36ms/step - loss: 134.1747 - accuracy: 0.1400\n",
            "Epoch 6/10\n",
            "4/4 [==============================] - 0s 39ms/step - loss: 75.1597 - accuracy: 0.1650\n",
            "Epoch 7/10\n",
            "4/4 [==============================] - 0s 36ms/step - loss: 41.7973 - accuracy: 0.1350\n",
            "Epoch 8/10\n",
            "4/4 [==============================] - 0s 36ms/step - loss: 33.0518 - accuracy: 0.1150\n",
            "Epoch 9/10\n",
            "4/4 [==============================] - 0s 34ms/step - loss: 32.8126 - accuracy: 0.1000\n",
            "Epoch 10/10\n",
            "4/4 [==============================] - 0s 36ms/step - loss: 32.5803 - accuracy: 0.1400\n",
            "2/2 [==============================] - 0s 14ms/step\n",
            "4/4 [==============================] - 0s 11ms/step\n",
            "[CV] END batch_size=64, model__l1_reg=0.1, model__learning_rate=0.01, model__loss=sparse_categorical_crossentropy, model__optimizer=sgd; total time=   3.6s\n"
          ]
        },
        {
          "output_type": "stream",
          "name": "stderr",
          "text": [
            "/usr/local/lib/python3.10/dist-packages/scikeras/wrappers.py:915: UserWarning: ``build_fn`` will be renamed to ``model`` in a future release, at which point use of ``build_fn`` will raise an Error instead.\n",
            "  X, y = self._initialize(X, y)\n"
          ]
        },
        {
          "output_type": "stream",
          "name": "stdout",
          "text": [
            "Epoch 1/10\n",
            "4/4 [==============================] - 1s 35ms/step - loss: 619.2689 - accuracy: 0.0700\n",
            "Epoch 2/10\n",
            "4/4 [==============================] - 0s 39ms/step - loss: 334.6720 - accuracy: 0.1300\n",
            "Epoch 3/10\n",
            "4/4 [==============================] - 0s 34ms/step - loss: 275.0123 - accuracy: 0.1200\n",
            "Epoch 4/10\n",
            "4/4 [==============================] - 0s 35ms/step - loss: 249.2217 - accuracy: 0.1400\n",
            "Epoch 5/10\n",
            "4/4 [==============================] - 0s 38ms/step - loss: 235.6426 - accuracy: 0.1400\n",
            "Epoch 6/10\n",
            "4/4 [==============================] - 0s 34ms/step - loss: 228.0043 - accuracy: 0.1400\n",
            "Epoch 7/10\n",
            "4/4 [==============================] - 0s 34ms/step - loss: 223.4383 - accuracy: 0.1000\n",
            "Epoch 8/10\n",
            "4/4 [==============================] - 0s 35ms/step - loss: 220.5869 - accuracy: 0.1350\n",
            "Epoch 9/10\n",
            "4/4 [==============================] - 0s 43ms/step - loss: 218.7766 - accuracy: 0.0950\n",
            "Epoch 10/10\n",
            "4/4 [==============================] - 0s 39ms/step - loss: 217.6058 - accuracy: 0.1350\n",
            "2/2 [==============================] - 0s 17ms/step\n",
            "4/4 [==============================] - 0s 12ms/step\n",
            "[CV] END batch_size=64, model__l1_reg=0.1, model__learning_rate=0.01, model__loss=sparse_categorical_crossentropy, model__optimizer=rmsprop; total time=   3.7s\n"
          ]
        },
        {
          "output_type": "stream",
          "name": "stderr",
          "text": [
            "/usr/local/lib/python3.10/dist-packages/scikeras/wrappers.py:915: UserWarning: ``build_fn`` will be renamed to ``model`` in a future release, at which point use of ``build_fn`` will raise an Error instead.\n",
            "  X, y = self._initialize(X, y)\n"
          ]
        },
        {
          "output_type": "stream",
          "name": "stdout",
          "text": [
            "Epoch 1/10\n",
            "4/4 [==============================] - 1s 40ms/step - loss: 618.9485 - accuracy: 0.1100\n",
            "Epoch 2/10\n",
            "4/4 [==============================] - 0s 36ms/step - loss: 334.2930 - accuracy: 0.1000\n",
            "Epoch 3/10\n",
            "4/4 [==============================] - 0s 37ms/step - loss: 274.7994 - accuracy: 0.0900\n",
            "Epoch 4/10\n",
            "4/4 [==============================] - 0s 60ms/step - loss: 249.0195 - accuracy: 0.1400\n",
            "Epoch 5/10\n",
            "4/4 [==============================] - 0s 58ms/step - loss: 235.5721 - accuracy: 0.1000\n",
            "Epoch 6/10\n",
            "4/4 [==============================] - 0s 54ms/step - loss: 227.9597 - accuracy: 0.1150\n",
            "Epoch 7/10\n",
            "4/4 [==============================] - 0s 57ms/step - loss: 223.4019 - accuracy: 0.1150\n",
            "Epoch 8/10\n",
            "4/4 [==============================] - 0s 54ms/step - loss: 220.5318 - accuracy: 0.1500\n",
            "Epoch 9/10\n",
            "4/4 [==============================] - 0s 56ms/step - loss: 218.7086 - accuracy: 0.1050\n",
            "Epoch 10/10\n",
            "4/4 [==============================] - 0s 56ms/step - loss: 217.5264 - accuracy: 0.1250\n",
            "2/2 [==============================] - 0s 16ms/step\n",
            "4/4 [==============================] - 0s 21ms/step\n",
            "[CV] END batch_size=64, model__l1_reg=0.1, model__learning_rate=0.01, model__loss=sparse_categorical_crossentropy, model__optimizer=rmsprop; total time=   3.9s\n"
          ]
        },
        {
          "output_type": "stream",
          "name": "stderr",
          "text": [
            "/usr/local/lib/python3.10/dist-packages/scikeras/wrappers.py:915: UserWarning: ``build_fn`` will be renamed to ``model`` in a future release, at which point use of ``build_fn`` will raise an Error instead.\n",
            "  X, y = self._initialize(X, y)\n"
          ]
        },
        {
          "output_type": "stream",
          "name": "stdout",
          "text": [
            "Epoch 1/10\n",
            "4/4 [==============================] - 1s 36ms/step - loss: 618.8251 - accuracy: 0.0800\n",
            "Epoch 2/10\n",
            "4/4 [==============================] - 0s 37ms/step - loss: 334.7823 - accuracy: 0.1250\n",
            "Epoch 3/10\n",
            "4/4 [==============================] - 0s 38ms/step - loss: 274.8753 - accuracy: 0.0850\n",
            "Epoch 4/10\n",
            "4/4 [==============================] - 0s 35ms/step - loss: 249.1524 - accuracy: 0.1450\n",
            "Epoch 5/10\n",
            "4/4 [==============================] - 0s 37ms/step - loss: 235.7137 - accuracy: 0.1450\n",
            "Epoch 6/10\n",
            "4/4 [==============================] - 0s 36ms/step - loss: 228.0777 - accuracy: 0.1450\n",
            "Epoch 7/10\n",
            "4/4 [==============================] - 0s 38ms/step - loss: 223.5105 - accuracy: 0.1450\n",
            "Epoch 8/10\n",
            "4/4 [==============================] - 0s 34ms/step - loss: 220.6576 - accuracy: 0.1450\n",
            "Epoch 9/10\n",
            "4/4 [==============================] - 0s 36ms/step - loss: 218.8412 - accuracy: 0.1450\n",
            "Epoch 10/10\n",
            "4/4 [==============================] - 0s 37ms/step - loss: 217.6587 - accuracy: 0.1450\n",
            "2/2 [==============================] - 0s 14ms/step\n",
            "4/4 [==============================] - 0s 11ms/step\n",
            "[CV] END batch_size=64, model__l1_reg=0.1, model__learning_rate=0.01, model__loss=sparse_categorical_crossentropy, model__optimizer=rmsprop; total time=   3.7s\n",
            "Epoch 1/10\n"
          ]
        },
        {
          "output_type": "stream",
          "name": "stderr",
          "text": [
            "/usr/local/lib/python3.10/dist-packages/scikeras/wrappers.py:915: UserWarning: ``build_fn`` will be renamed to ``model`` in a future release, at which point use of ``build_fn`` will raise an Error instead.\n",
            "  X, y = self._initialize(X, y)\n"
          ]
        },
        {
          "output_type": "stream",
          "name": "stdout",
          "text": [
            "[CV] END batch_size=64, model__l1_reg=0.1, model__learning_rate=0.01, model__loss=categorical_crossentropy, model__optimizer=adam; total time=   0.3s\n",
            "Epoch 1/10\n"
          ]
        },
        {
          "output_type": "stream",
          "name": "stderr",
          "text": [
            "/usr/local/lib/python3.10/dist-packages/scikeras/wrappers.py:915: UserWarning: ``build_fn`` will be renamed to ``model`` in a future release, at which point use of ``build_fn`` will raise an Error instead.\n",
            "  X, y = self._initialize(X, y)\n"
          ]
        },
        {
          "output_type": "stream",
          "name": "stdout",
          "text": [
            "[CV] END batch_size=64, model__l1_reg=0.1, model__learning_rate=0.01, model__loss=categorical_crossentropy, model__optimizer=adam; total time=   0.3s\n",
            "Epoch 1/10\n"
          ]
        },
        {
          "output_type": "stream",
          "name": "stderr",
          "text": [
            "/usr/local/lib/python3.10/dist-packages/scikeras/wrappers.py:915: UserWarning: ``build_fn`` will be renamed to ``model`` in a future release, at which point use of ``build_fn`` will raise an Error instead.\n",
            "  X, y = self._initialize(X, y)\n"
          ]
        },
        {
          "output_type": "stream",
          "name": "stdout",
          "text": [
            "[CV] END batch_size=64, model__l1_reg=0.1, model__learning_rate=0.01, model__loss=categorical_crossentropy, model__optimizer=adam; total time=   0.3s\n",
            "Epoch 1/10\n"
          ]
        },
        {
          "output_type": "stream",
          "name": "stderr",
          "text": [
            "/usr/local/lib/python3.10/dist-packages/scikeras/wrappers.py:915: UserWarning: ``build_fn`` will be renamed to ``model`` in a future release, at which point use of ``build_fn`` will raise an Error instead.\n",
            "  X, y = self._initialize(X, y)\n"
          ]
        },
        {
          "output_type": "stream",
          "name": "stdout",
          "text": [
            "[CV] END batch_size=64, model__l1_reg=0.1, model__learning_rate=0.01, model__loss=categorical_crossentropy, model__optimizer=sgd; total time=   0.3s\n"
          ]
        },
        {
          "output_type": "stream",
          "name": "stderr",
          "text": [
            "/usr/local/lib/python3.10/dist-packages/scikeras/wrappers.py:915: UserWarning: ``build_fn`` will be renamed to ``model`` in a future release, at which point use of ``build_fn`` will raise an Error instead.\n",
            "  X, y = self._initialize(X, y)\n"
          ]
        },
        {
          "output_type": "stream",
          "name": "stdout",
          "text": [
            "Epoch 1/10\n",
            "[CV] END batch_size=64, model__l1_reg=0.1, model__learning_rate=0.01, model__loss=categorical_crossentropy, model__optimizer=sgd; total time=   0.3s\n"
          ]
        },
        {
          "output_type": "stream",
          "name": "stderr",
          "text": [
            "/usr/local/lib/python3.10/dist-packages/scikeras/wrappers.py:915: UserWarning: ``build_fn`` will be renamed to ``model`` in a future release, at which point use of ``build_fn`` will raise an Error instead.\n",
            "  X, y = self._initialize(X, y)\n"
          ]
        },
        {
          "output_type": "stream",
          "name": "stdout",
          "text": [
            "Epoch 1/10\n",
            "[CV] END batch_size=64, model__l1_reg=0.1, model__learning_rate=0.01, model__loss=categorical_crossentropy, model__optimizer=sgd; total time=   0.3s\n"
          ]
        },
        {
          "output_type": "stream",
          "name": "stderr",
          "text": [
            "/usr/local/lib/python3.10/dist-packages/scikeras/wrappers.py:915: UserWarning: ``build_fn`` will be renamed to ``model`` in a future release, at which point use of ``build_fn`` will raise an Error instead.\n",
            "  X, y = self._initialize(X, y)\n"
          ]
        },
        {
          "output_type": "stream",
          "name": "stdout",
          "text": [
            "Epoch 1/10\n",
            "[CV] END batch_size=64, model__l1_reg=0.1, model__learning_rate=0.01, model__loss=categorical_crossentropy, model__optimizer=rmsprop; total time=   0.3s\n",
            "Epoch 1/10\n"
          ]
        },
        {
          "output_type": "stream",
          "name": "stderr",
          "text": [
            "/usr/local/lib/python3.10/dist-packages/scikeras/wrappers.py:915: UserWarning: ``build_fn`` will be renamed to ``model`` in a future release, at which point use of ``build_fn`` will raise an Error instead.\n",
            "  X, y = self._initialize(X, y)\n"
          ]
        },
        {
          "output_type": "stream",
          "name": "stdout",
          "text": [
            "[CV] END batch_size=64, model__l1_reg=0.1, model__learning_rate=0.01, model__loss=categorical_crossentropy, model__optimizer=rmsprop; total time=   0.3s\n"
          ]
        },
        {
          "output_type": "stream",
          "name": "stderr",
          "text": [
            "/usr/local/lib/python3.10/dist-packages/scikeras/wrappers.py:915: UserWarning: ``build_fn`` will be renamed to ``model`` in a future release, at which point use of ``build_fn`` will raise an Error instead.\n",
            "  X, y = self._initialize(X, y)\n"
          ]
        },
        {
          "output_type": "stream",
          "name": "stdout",
          "text": [
            "Epoch 1/10\n",
            "[CV] END batch_size=64, model__l1_reg=0.1, model__learning_rate=0.01, model__loss=categorical_crossentropy, model__optimizer=rmsprop; total time=   0.3s\n"
          ]
        },
        {
          "output_type": "stream",
          "name": "stderr",
          "text": [
            "/usr/local/lib/python3.10/dist-packages/scikeras/wrappers.py:915: UserWarning: ``build_fn`` will be renamed to ``model`` in a future release, at which point use of ``build_fn`` will raise an Error instead.\n",
            "  X, y = self._initialize(X, y)\n"
          ]
        },
        {
          "output_type": "stream",
          "name": "stdout",
          "text": [
            "Epoch 1/10\n",
            "2/2 [==============================] - 1s 65ms/step - loss: 8.9233 - accuracy: 0.1200\n",
            "Epoch 2/10\n",
            "2/2 [==============================] - 0s 64ms/step - loss: 8.2497 - accuracy: 0.1300\n",
            "Epoch 3/10\n",
            "2/2 [==============================] - 0s 58ms/step - loss: 7.6149 - accuracy: 0.1350\n",
            "Epoch 4/10\n",
            "2/2 [==============================] - 0s 60ms/step - loss: 6.9796 - accuracy: 0.1800\n",
            "Epoch 5/10\n",
            "2/2 [==============================] - 0s 69ms/step - loss: 6.4422 - accuracy: 0.1400\n",
            "Epoch 6/10\n",
            "2/2 [==============================] - 0s 62ms/step - loss: 5.9485 - accuracy: 0.1650\n",
            "Epoch 7/10\n",
            "2/2 [==============================] - 0s 61ms/step - loss: 5.4578 - accuracy: 0.1600\n",
            "Epoch 8/10\n",
            "2/2 [==============================] - 0s 60ms/step - loss: 5.0186 - accuracy: 0.1950\n",
            "Epoch 9/10\n",
            "2/2 [==============================] - 0s 72ms/step - loss: 4.6493 - accuracy: 0.2250\n",
            "Epoch 10/10\n",
            "2/2 [==============================] - 0s 62ms/step - loss: 4.2923 - accuracy: 0.2150\n",
            "1/1 [==============================] - 0s 147ms/step\n",
            "2/2 [==============================] - 0s 27ms/step\n",
            "[CV] END batch_size=128, model__l1_reg=0.001, model__learning_rate=0.001, model__loss=sparse_categorical_crossentropy, model__optimizer=adam; total time=   4.1s\n"
          ]
        },
        {
          "output_type": "stream",
          "name": "stderr",
          "text": [
            "/usr/local/lib/python3.10/dist-packages/scikeras/wrappers.py:915: UserWarning: ``build_fn`` will be renamed to ``model`` in a future release, at which point use of ``build_fn`` will raise an Error instead.\n",
            "  X, y = self._initialize(X, y)\n"
          ]
        },
        {
          "output_type": "stream",
          "name": "stdout",
          "text": [
            "Epoch 1/10\n",
            "2/2 [==============================] - 2s 61ms/step - loss: 8.9794 - accuracy: 0.1300\n",
            "Epoch 2/10\n",
            "2/2 [==============================] - 0s 59ms/step - loss: 8.4336 - accuracy: 0.1150\n",
            "Epoch 3/10\n",
            "2/2 [==============================] - 0s 57ms/step - loss: 7.7916 - accuracy: 0.1650\n",
            "Epoch 4/10\n",
            "2/2 [==============================] - 0s 67ms/step - loss: 7.2351 - accuracy: 0.2100\n",
            "Epoch 5/10\n",
            "2/2 [==============================] - 0s 63ms/step - loss: 6.7393 - accuracy: 0.2200\n",
            "Epoch 6/10\n",
            "2/2 [==============================] - 0s 62ms/step - loss: 6.2634 - accuracy: 0.1750\n",
            "Epoch 7/10\n",
            "2/2 [==============================] - 0s 60ms/step - loss: 5.8245 - accuracy: 0.1900\n",
            "Epoch 8/10\n",
            "2/2 [==============================] - 0s 58ms/step - loss: 5.4244 - accuracy: 0.2100\n",
            "Epoch 9/10\n",
            "2/2 [==============================] - 0s 70ms/step - loss: 5.0346 - accuracy: 0.2300\n",
            "Epoch 10/10\n",
            "2/2 [==============================] - 0s 62ms/step - loss: 4.6984 - accuracy: 0.2100\n",
            "1/1 [==============================] - 0s 95ms/step\n",
            "2/2 [==============================] - 0s 18ms/step\n",
            "[CV] END batch_size=128, model__l1_reg=0.001, model__learning_rate=0.001, model__loss=sparse_categorical_crossentropy, model__optimizer=adam; total time=   4.5s\n",
            "Epoch 1/10\n"
          ]
        },
        {
          "output_type": "stream",
          "name": "stderr",
          "text": [
            "/usr/local/lib/python3.10/dist-packages/scikeras/wrappers.py:915: UserWarning: ``build_fn`` will be renamed to ``model`` in a future release, at which point use of ``build_fn`` will raise an Error instead.\n",
            "  X, y = self._initialize(X, y)\n"
          ]
        },
        {
          "output_type": "stream",
          "name": "stdout",
          "text": [
            "2/2 [==============================] - 1s 57ms/step - loss: 8.9050 - accuracy: 0.1200\n",
            "Epoch 2/10\n",
            "2/2 [==============================] - 0s 59ms/step - loss: 8.2491 - accuracy: 0.1300\n",
            "Epoch 3/10\n",
            "2/2 [==============================] - 0s 64ms/step - loss: 7.6034 - accuracy: 0.1550\n",
            "Epoch 4/10\n",
            "2/2 [==============================] - 0s 57ms/step - loss: 7.0015 - accuracy: 0.1950\n",
            "Epoch 5/10\n",
            "2/2 [==============================] - 0s 61ms/step - loss: 6.4239 - accuracy: 0.2400\n",
            "Epoch 6/10\n",
            "2/2 [==============================] - 0s 66ms/step - loss: 5.9393 - accuracy: 0.2150\n",
            "Epoch 7/10\n",
            "2/2 [==============================] - 0s 60ms/step - loss: 5.4612 - accuracy: 0.2850\n",
            "Epoch 8/10\n",
            "2/2 [==============================] - 0s 58ms/step - loss: 5.0522 - accuracy: 0.2350\n",
            "Epoch 9/10\n",
            "2/2 [==============================] - 0s 70ms/step - loss: 4.6871 - accuracy: 0.2800\n",
            "Epoch 10/10\n",
            "2/2 [==============================] - 0s 62ms/step - loss: 4.3149 - accuracy: 0.2350\n",
            "1/1 [==============================] - 0s 101ms/step\n",
            "2/2 [==============================] - 0s 19ms/step\n",
            "[CV] END batch_size=128, model__l1_reg=0.001, model__learning_rate=0.001, model__loss=sparse_categorical_crossentropy, model__optimizer=adam; total time=   2.9s\n"
          ]
        },
        {
          "output_type": "stream",
          "name": "stderr",
          "text": [
            "/usr/local/lib/python3.10/dist-packages/scikeras/wrappers.py:915: UserWarning: ``build_fn`` will be renamed to ``model`` in a future release, at which point use of ``build_fn`` will raise an Error instead.\n",
            "  X, y = self._initialize(X, y)\n"
          ]
        },
        {
          "output_type": "stream",
          "name": "stdout",
          "text": [
            "Epoch 1/10\n",
            "2/2 [==============================] - 1s 50ms/step - loss: 9.0581 - accuracy: 0.0900\n",
            "Epoch 2/10\n",
            "2/2 [==============================] - 0s 60ms/step - loss: 9.0599 - accuracy: 0.0850\n",
            "Epoch 3/10\n",
            "2/2 [==============================] - 0s 51ms/step - loss: 9.0603 - accuracy: 0.0850\n",
            "Epoch 4/10\n",
            "2/2 [==============================] - 0s 51ms/step - loss: 9.0507 - accuracy: 0.1100\n",
            "Epoch 5/10\n",
            "2/2 [==============================] - 0s 65ms/step - loss: 9.0211 - accuracy: 0.0700\n",
            "Epoch 6/10\n",
            "2/2 [==============================] - 0s 52ms/step - loss: 9.0304 - accuracy: 0.1200\n",
            "Epoch 7/10\n",
            "2/2 [==============================] - 0s 57ms/step - loss: 9.0323 - accuracy: 0.0750\n",
            "Epoch 8/10\n",
            "2/2 [==============================] - 0s 53ms/step - loss: 9.0361 - accuracy: 0.0900\n",
            "Epoch 9/10\n",
            "2/2 [==============================] - 0s 52ms/step - loss: 9.0411 - accuracy: 0.0800\n",
            "Epoch 10/10\n",
            "2/2 [==============================] - 0s 49ms/step - loss: 9.0346 - accuracy: 0.0900\n"
          ]
        },
        {
          "output_type": "stream",
          "name": "stderr",
          "text": [
            "WARNING:tensorflow:5 out of the last 16 calls to <function Model.make_predict_function.<locals>.predict_function at 0x7ec2454b5000> triggered tf.function retracing. Tracing is expensive and the excessive number of tracings could be due to (1) creating @tf.function repeatedly in a loop, (2) passing tensors with different shapes, (3) passing Python objects instead of tensors. For (1), please define your @tf.function outside of the loop. For (2), @tf.function has reduce_retracing=True option that can avoid unnecessary retracing. For (3), please refer to https://www.tensorflow.org/guide/function#controlling_retracing and https://www.tensorflow.org/api_docs/python/tf/function for  more details.\n"
          ]
        },
        {
          "output_type": "stream",
          "name": "stdout",
          "text": [
            "1/1 [==============================] - 0s 93ms/step\n",
            "2/2 [==============================] - 0s 28ms/step\n",
            "[CV] END batch_size=128, model__l1_reg=0.001, model__learning_rate=0.001, model__loss=sparse_categorical_crossentropy, model__optimizer=sgd; total time=   2.5s\n"
          ]
        },
        {
          "output_type": "stream",
          "name": "stderr",
          "text": [
            "/usr/local/lib/python3.10/dist-packages/scikeras/wrappers.py:915: UserWarning: ``build_fn`` will be renamed to ``model`` in a future release, at which point use of ``build_fn`` will raise an Error instead.\n",
            "  X, y = self._initialize(X, y)\n"
          ]
        },
        {
          "output_type": "stream",
          "name": "stdout",
          "text": [
            "Epoch 1/10\n",
            "2/2 [==============================] - 1s 71ms/step - loss: 9.1189 - accuracy: 0.1000\n",
            "Epoch 2/10\n",
            "2/2 [==============================] - 0s 56ms/step - loss: 9.0790 - accuracy: 0.1150\n",
            "Epoch 3/10\n",
            "2/2 [==============================] - 0s 58ms/step - loss: 9.0592 - accuracy: 0.1000\n",
            "Epoch 4/10\n",
            "2/2 [==============================] - 0s 71ms/step - loss: 9.0587 - accuracy: 0.0650\n",
            "Epoch 5/10\n",
            "2/2 [==============================] - 0s 84ms/step - loss: 9.0572 - accuracy: 0.1000\n",
            "Epoch 6/10\n",
            "2/2 [==============================] - 0s 85ms/step - loss: 9.0640 - accuracy: 0.1150\n",
            "Epoch 7/10\n",
            "2/2 [==============================] - 0s 94ms/step - loss: 9.0422 - accuracy: 0.0950\n",
            "Epoch 8/10\n",
            "2/2 [==============================] - 0s 86ms/step - loss: 9.0225 - accuracy: 0.0700\n",
            "Epoch 9/10\n",
            "2/2 [==============================] - 0s 83ms/step - loss: 9.0474 - accuracy: 0.1000\n",
            "Epoch 10/10\n",
            "2/2 [==============================] - 0s 84ms/step - loss: 9.0453 - accuracy: 0.1100\n"
          ]
        },
        {
          "output_type": "stream",
          "name": "stderr",
          "text": [
            "WARNING:tensorflow:5 out of the last 13 calls to <function Model.make_predict_function.<locals>.predict_function at 0x7ec244ebba30> triggered tf.function retracing. Tracing is expensive and the excessive number of tracings could be due to (1) creating @tf.function repeatedly in a loop, (2) passing tensors with different shapes, (3) passing Python objects instead of tensors. For (1), please define your @tf.function outside of the loop. For (2), @tf.function has reduce_retracing=True option that can avoid unnecessary retracing. For (3), please refer to https://www.tensorflow.org/guide/function#controlling_retracing and https://www.tensorflow.org/api_docs/python/tf/function for  more details.\n"
          ]
        },
        {
          "output_type": "stream",
          "name": "stdout",
          "text": [
            "1/1 [==============================] - 0s 143ms/step\n",
            "2/2 [==============================] - 0s 25ms/step\n",
            "[CV] END batch_size=128, model__l1_reg=0.001, model__learning_rate=0.001, model__loss=sparse_categorical_crossentropy, model__optimizer=sgd; total time=   3.0s\n"
          ]
        },
        {
          "output_type": "stream",
          "name": "stderr",
          "text": [
            "/usr/local/lib/python3.10/dist-packages/scikeras/wrappers.py:915: UserWarning: ``build_fn`` will be renamed to ``model`` in a future release, at which point use of ``build_fn`` will raise an Error instead.\n",
            "  X, y = self._initialize(X, y)\n"
          ]
        },
        {
          "output_type": "stream",
          "name": "stdout",
          "text": [
            "Epoch 1/10\n",
            "2/2 [==============================] - 1s 59ms/step - loss: 9.0455 - accuracy: 0.1000\n",
            "Epoch 2/10\n",
            "2/2 [==============================] - 0s 51ms/step - loss: 9.0364 - accuracy: 0.0950\n",
            "Epoch 3/10\n",
            "2/2 [==============================] - 0s 51ms/step - loss: 9.0318 - accuracy: 0.1050\n",
            "Epoch 4/10\n",
            "2/2 [==============================] - 0s 51ms/step - loss: 9.0363 - accuracy: 0.1100\n",
            "Epoch 5/10\n",
            "2/2 [==============================] - 0s 49ms/step - loss: 9.0489 - accuracy: 0.0700\n",
            "Epoch 6/10\n",
            "2/2 [==============================] - 0s 50ms/step - loss: 9.0246 - accuracy: 0.1050\n",
            "Epoch 7/10\n",
            "2/2 [==============================] - 0s 52ms/step - loss: 9.0558 - accuracy: 0.1000\n",
            "Epoch 8/10\n",
            "2/2 [==============================] - 0s 52ms/step - loss: 9.0348 - accuracy: 0.0850\n",
            "Epoch 9/10\n",
            "2/2 [==============================] - 0s 50ms/step - loss: 9.0416 - accuracy: 0.0850\n",
            "Epoch 10/10\n",
            "2/2 [==============================] - 0s 51ms/step - loss: 9.0247 - accuracy: 0.0950\n",
            "1/1 [==============================] - 0s 88ms/step\n",
            "2/2 [==============================] - 0s 24ms/step\n",
            "[CV] END batch_size=128, model__l1_reg=0.001, model__learning_rate=0.001, model__loss=sparse_categorical_crossentropy, model__optimizer=sgd; total time=   3.9s\n",
            "Epoch 1/10\n"
          ]
        },
        {
          "output_type": "stream",
          "name": "stderr",
          "text": [
            "/usr/local/lib/python3.10/dist-packages/scikeras/wrappers.py:915: UserWarning: ``build_fn`` will be renamed to ``model`` in a future release, at which point use of ``build_fn`` will raise an Error instead.\n",
            "  X, y = self._initialize(X, y)\n"
          ]
        },
        {
          "output_type": "stream",
          "name": "stdout",
          "text": [
            "2/2 [==============================] - 1s 57ms/step - loss: 8.7648 - accuracy: 0.1300\n",
            "Epoch 2/10\n",
            "2/2 [==============================] - 0s 60ms/step - loss: 7.4513 - accuracy: 0.1200\n",
            "Epoch 3/10\n",
            "2/2 [==============================] - 0s 62ms/step - loss: 6.4304 - accuracy: 0.1650\n",
            "Epoch 4/10\n",
            "2/2 [==============================] - 0s 61ms/step - loss: 5.6682 - accuracy: 0.1850\n",
            "Epoch 5/10\n",
            "2/2 [==============================] - 0s 64ms/step - loss: 5.0483 - accuracy: 0.1500\n",
            "Epoch 6/10\n",
            "2/2 [==============================] - 0s 63ms/step - loss: 4.5372 - accuracy: 0.1750\n",
            "Epoch 7/10\n",
            "2/2 [==============================] - 0s 72ms/step - loss: 4.1562 - accuracy: 0.1500\n",
            "Epoch 8/10\n",
            "2/2 [==============================] - 0s 52ms/step - loss: 3.7532 - accuracy: 0.2100\n",
            "Epoch 9/10\n",
            "2/2 [==============================] - 0s 50ms/step - loss: 3.4981 - accuracy: 0.2200\n",
            "Epoch 10/10\n",
            "2/2 [==============================] - 0s 49ms/step - loss: 3.2706 - accuracy: 0.2400\n",
            "1/1 [==============================] - 0s 91ms/step\n",
            "2/2 [==============================] - 0s 19ms/step\n",
            "[CV] END batch_size=128, model__l1_reg=0.001, model__learning_rate=0.001, model__loss=sparse_categorical_crossentropy, model__optimizer=rmsprop; total time=   2.6s\n",
            "Epoch 1/10\n"
          ]
        },
        {
          "output_type": "stream",
          "name": "stderr",
          "text": [
            "/usr/local/lib/python3.10/dist-packages/scikeras/wrappers.py:915: UserWarning: ``build_fn`` will be renamed to ``model`` in a future release, at which point use of ``build_fn`` will raise an Error instead.\n",
            "  X, y = self._initialize(X, y)\n"
          ]
        },
        {
          "output_type": "stream",
          "name": "stdout",
          "text": [
            "2/2 [==============================] - 1s 52ms/step - loss: 8.9867 - accuracy: 0.0800\n",
            "Epoch 2/10\n",
            "2/2 [==============================] - 0s 58ms/step - loss: 7.6248 - accuracy: 0.1250\n",
            "Epoch 3/10\n",
            "2/2 [==============================] - 0s 68ms/step - loss: 6.6075 - accuracy: 0.1300\n",
            "Epoch 4/10\n",
            "2/2 [==============================] - 0s 50ms/step - loss: 5.8525 - accuracy: 0.1650\n",
            "Epoch 5/10\n",
            "2/2 [==============================] - 0s 52ms/step - loss: 5.2127 - accuracy: 0.1650\n",
            "Epoch 6/10\n",
            "2/2 [==============================] - 0s 58ms/step - loss: 4.7348 - accuracy: 0.1900\n",
            "Epoch 7/10\n",
            "2/2 [==============================] - 0s 51ms/step - loss: 4.3537 - accuracy: 0.1800\n",
            "Epoch 8/10\n",
            "2/2 [==============================] - 0s 60ms/step - loss: 4.0076 - accuracy: 0.1350\n",
            "Epoch 9/10\n",
            "2/2 [==============================] - 0s 59ms/step - loss: 3.6501 - accuracy: 0.2050\n",
            "Epoch 10/10\n",
            "2/2 [==============================] - 0s 74ms/step - loss: 3.4838 - accuracy: 0.1700\n",
            "1/1 [==============================] - 0s 88ms/step\n",
            "2/2 [==============================] - 0s 20ms/step\n",
            "[CV] END batch_size=128, model__l1_reg=0.001, model__learning_rate=0.001, model__loss=sparse_categorical_crossentropy, model__optimizer=rmsprop; total time=   2.5s\n",
            "Epoch 1/10\n"
          ]
        },
        {
          "output_type": "stream",
          "name": "stderr",
          "text": [
            "/usr/local/lib/python3.10/dist-packages/scikeras/wrappers.py:915: UserWarning: ``build_fn`` will be renamed to ``model`` in a future release, at which point use of ``build_fn`` will raise an Error instead.\n",
            "  X, y = self._initialize(X, y)\n"
          ]
        },
        {
          "output_type": "stream",
          "name": "stdout",
          "text": [
            "2/2 [==============================] - 1s 59ms/step - loss: 9.1335 - accuracy: 0.0650\n",
            "Epoch 2/10\n",
            "2/2 [==============================] - 0s 61ms/step - loss: 7.8592 - accuracy: 0.0900\n",
            "Epoch 3/10\n",
            "2/2 [==============================] - 0s 59ms/step - loss: 6.7855 - accuracy: 0.1550\n",
            "Epoch 4/10\n",
            "2/2 [==============================] - 0s 71ms/step - loss: 6.0893 - accuracy: 0.1400\n",
            "Epoch 5/10\n",
            "2/2 [==============================] - 0s 89ms/step - loss: 5.4861 - accuracy: 0.1650\n",
            "Epoch 6/10\n",
            "2/2 [==============================] - 0s 93ms/step - loss: 4.9705 - accuracy: 0.1450\n",
            "Epoch 7/10\n",
            "2/2 [==============================] - 0s 90ms/step - loss: 4.5341 - accuracy: 0.1400\n",
            "Epoch 8/10\n",
            "2/2 [==============================] - 0s 92ms/step - loss: 4.2119 - accuracy: 0.1550\n",
            "Epoch 9/10\n",
            "2/2 [==============================] - 0s 86ms/step - loss: 3.8426 - accuracy: 0.1800\n",
            "Epoch 10/10\n",
            "2/2 [==============================] - 0s 90ms/step - loss: 3.6448 - accuracy: 0.1350\n",
            "1/1 [==============================] - 0s 141ms/step\n",
            "2/2 [==============================] - 0s 36ms/step\n",
            "[CV] END batch_size=128, model__l1_reg=0.001, model__learning_rate=0.001, model__loss=sparse_categorical_crossentropy, model__optimizer=rmsprop; total time=   3.7s\n"
          ]
        },
        {
          "output_type": "stream",
          "name": "stderr",
          "text": [
            "/usr/local/lib/python3.10/dist-packages/scikeras/wrappers.py:915: UserWarning: ``build_fn`` will be renamed to ``model`` in a future release, at which point use of ``build_fn`` will raise an Error instead.\n",
            "  X, y = self._initialize(X, y)\n"
          ]
        },
        {
          "output_type": "stream",
          "name": "stdout",
          "text": [
            "Epoch 1/10\n",
            "[CV] END batch_size=128, model__l1_reg=0.001, model__learning_rate=0.001, model__loss=categorical_crossentropy, model__optimizer=adam; total time=   0.3s\n",
            "Epoch 1/10\n"
          ]
        },
        {
          "output_type": "stream",
          "name": "stderr",
          "text": [
            "/usr/local/lib/python3.10/dist-packages/scikeras/wrappers.py:915: UserWarning: ``build_fn`` will be renamed to ``model`` in a future release, at which point use of ``build_fn`` will raise an Error instead.\n",
            "  X, y = self._initialize(X, y)\n"
          ]
        },
        {
          "output_type": "stream",
          "name": "stdout",
          "text": [
            "[CV] END batch_size=128, model__l1_reg=0.001, model__learning_rate=0.001, model__loss=categorical_crossentropy, model__optimizer=adam; total time=   0.3s\n",
            "Epoch 1/10\n"
          ]
        },
        {
          "output_type": "stream",
          "name": "stderr",
          "text": [
            "/usr/local/lib/python3.10/dist-packages/scikeras/wrappers.py:915: UserWarning: ``build_fn`` will be renamed to ``model`` in a future release, at which point use of ``build_fn`` will raise an Error instead.\n",
            "  X, y = self._initialize(X, y)\n"
          ]
        },
        {
          "output_type": "stream",
          "name": "stdout",
          "text": [
            "[CV] END batch_size=128, model__l1_reg=0.001, model__learning_rate=0.001, model__loss=categorical_crossentropy, model__optimizer=adam; total time=   0.2s\n",
            "Epoch 1/10\n"
          ]
        },
        {
          "output_type": "stream",
          "name": "stderr",
          "text": [
            "/usr/local/lib/python3.10/dist-packages/scikeras/wrappers.py:915: UserWarning: ``build_fn`` will be renamed to ``model`` in a future release, at which point use of ``build_fn`` will raise an Error instead.\n",
            "  X, y = self._initialize(X, y)\n"
          ]
        },
        {
          "output_type": "stream",
          "name": "stdout",
          "text": [
            "[CV] END batch_size=128, model__l1_reg=0.001, model__learning_rate=0.001, model__loss=categorical_crossentropy, model__optimizer=sgd; total time=   0.3s\n",
            "Epoch 1/10\n"
          ]
        },
        {
          "output_type": "stream",
          "name": "stderr",
          "text": [
            "/usr/local/lib/python3.10/dist-packages/scikeras/wrappers.py:915: UserWarning: ``build_fn`` will be renamed to ``model`` in a future release, at which point use of ``build_fn`` will raise an Error instead.\n",
            "  X, y = self._initialize(X, y)\n"
          ]
        },
        {
          "output_type": "stream",
          "name": "stdout",
          "text": [
            "[CV] END batch_size=128, model__l1_reg=0.001, model__learning_rate=0.001, model__loss=categorical_crossentropy, model__optimizer=sgd; total time=   0.3s\n",
            "Epoch 1/10\n"
          ]
        },
        {
          "output_type": "stream",
          "name": "stderr",
          "text": [
            "/usr/local/lib/python3.10/dist-packages/scikeras/wrappers.py:915: UserWarning: ``build_fn`` will be renamed to ``model`` in a future release, at which point use of ``build_fn`` will raise an Error instead.\n",
            "  X, y = self._initialize(X, y)\n"
          ]
        },
        {
          "output_type": "stream",
          "name": "stdout",
          "text": [
            "[CV] END batch_size=128, model__l1_reg=0.001, model__learning_rate=0.001, model__loss=categorical_crossentropy, model__optimizer=sgd; total time=   0.3s\n",
            "Epoch 1/10\n"
          ]
        },
        {
          "output_type": "stream",
          "name": "stderr",
          "text": [
            "/usr/local/lib/python3.10/dist-packages/scikeras/wrappers.py:915: UserWarning: ``build_fn`` will be renamed to ``model`` in a future release, at which point use of ``build_fn`` will raise an Error instead.\n",
            "  X, y = self._initialize(X, y)\n"
          ]
        },
        {
          "output_type": "stream",
          "name": "stdout",
          "text": [
            "[CV] END batch_size=128, model__l1_reg=0.001, model__learning_rate=0.001, model__loss=categorical_crossentropy, model__optimizer=rmsprop; total time=   0.3s\n",
            "Epoch 1/10\n"
          ]
        },
        {
          "output_type": "stream",
          "name": "stderr",
          "text": [
            "/usr/local/lib/python3.10/dist-packages/scikeras/wrappers.py:915: UserWarning: ``build_fn`` will be renamed to ``model`` in a future release, at which point use of ``build_fn`` will raise an Error instead.\n",
            "  X, y = self._initialize(X, y)\n"
          ]
        },
        {
          "output_type": "stream",
          "name": "stdout",
          "text": [
            "[CV] END batch_size=128, model__l1_reg=0.001, model__learning_rate=0.001, model__loss=categorical_crossentropy, model__optimizer=rmsprop; total time=   0.3s\n",
            "Epoch 1/10\n"
          ]
        },
        {
          "output_type": "stream",
          "name": "stderr",
          "text": [
            "/usr/local/lib/python3.10/dist-packages/scikeras/wrappers.py:915: UserWarning: ``build_fn`` will be renamed to ``model`` in a future release, at which point use of ``build_fn`` will raise an Error instead.\n",
            "  X, y = self._initialize(X, y)\n"
          ]
        },
        {
          "output_type": "stream",
          "name": "stdout",
          "text": [
            "[CV] END batch_size=128, model__l1_reg=0.001, model__learning_rate=0.001, model__loss=categorical_crossentropy, model__optimizer=rmsprop; total time=   0.3s\n",
            "Epoch 1/10\n"
          ]
        },
        {
          "output_type": "stream",
          "name": "stderr",
          "text": [
            "/usr/local/lib/python3.10/dist-packages/scikeras/wrappers.py:915: UserWarning: ``build_fn`` will be renamed to ``model`` in a future release, at which point use of ``build_fn`` will raise an Error instead.\n",
            "  X, y = self._initialize(X, y)\n"
          ]
        },
        {
          "output_type": "stream",
          "name": "stdout",
          "text": [
            "2/2 [==============================] - 1s 57ms/step - loss: 8.4516 - accuracy: 0.1000\n",
            "Epoch 2/10\n",
            "2/2 [==============================] - 0s 50ms/step - loss: 5.8395 - accuracy: 0.1350\n",
            "Epoch 3/10\n",
            "2/2 [==============================] - 0s 50ms/step - loss: 6.1495 - accuracy: 0.1050\n",
            "Epoch 4/10\n",
            "2/2 [==============================] - 0s 78ms/step - loss: 5.5148 - accuracy: 0.1450\n",
            "Epoch 5/10\n",
            "2/2 [==============================] - 0s 50ms/step - loss: 4.9142 - accuracy: 0.1350\n",
            "Epoch 6/10\n",
            "2/2 [==============================] - 0s 61ms/step - loss: 4.7677 - accuracy: 0.1600\n",
            "Epoch 7/10\n",
            "2/2 [==============================] - 0s 53ms/step - loss: 4.4185 - accuracy: 0.1800\n",
            "Epoch 8/10\n",
            "2/2 [==============================] - 0s 51ms/step - loss: 4.0971 - accuracy: 0.2450\n",
            "Epoch 9/10\n",
            "2/2 [==============================] - 0s 49ms/step - loss: 3.9377 - accuracy: 0.2000\n",
            "Epoch 10/10\n",
            "2/2 [==============================] - 0s 53ms/step - loss: 3.7395 - accuracy: 0.2250\n",
            "1/1 [==============================] - 0s 104ms/step\n",
            "2/2 [==============================] - 0s 19ms/step\n",
            "[CV] END batch_size=128, model__l1_reg=0.001, model__learning_rate=0.01, model__loss=sparse_categorical_crossentropy, model__optimizer=adam; total time=   2.8s\n"
          ]
        },
        {
          "output_type": "stream",
          "name": "stderr",
          "text": [
            "/usr/local/lib/python3.10/dist-packages/scikeras/wrappers.py:915: UserWarning: ``build_fn`` will be renamed to ``model`` in a future release, at which point use of ``build_fn`` will raise an Error instead.\n",
            "  X, y = self._initialize(X, y)\n"
          ]
        },
        {
          "output_type": "stream",
          "name": "stdout",
          "text": [
            "Epoch 1/10\n",
            "2/2 [==============================] - 1s 59ms/step - loss: 9.1212 - accuracy: 0.1150\n",
            "Epoch 2/10\n",
            "2/2 [==============================] - 0s 51ms/step - loss: 6.7647 - accuracy: 0.1000\n",
            "Epoch 3/10\n",
            "2/2 [==============================] - 0s 52ms/step - loss: 6.6350 - accuracy: 0.1700\n",
            "Epoch 4/10\n",
            "2/2 [==============================] - 0s 50ms/step - loss: 6.1020 - accuracy: 0.1100\n",
            "Epoch 5/10\n",
            "2/2 [==============================] - 0s 59ms/step - loss: 5.6094 - accuracy: 0.1600\n",
            "Epoch 6/10\n",
            "2/2 [==============================] - 0s 70ms/step - loss: 5.4163 - accuracy: 0.1300\n",
            "Epoch 7/10\n",
            "2/2 [==============================] - 0s 52ms/step - loss: 5.0618 - accuracy: 0.1650\n",
            "Epoch 8/10\n",
            "2/2 [==============================] - 0s 57ms/step - loss: 4.7380 - accuracy: 0.1950\n",
            "Epoch 9/10\n",
            "2/2 [==============================] - 0s 49ms/step - loss: 4.4960 - accuracy: 0.1450\n",
            "Epoch 10/10\n",
            "2/2 [==============================] - 0s 49ms/step - loss: 4.2946 - accuracy: 0.1200\n",
            "1/1 [==============================] - 0s 92ms/step\n",
            "2/2 [==============================] - 0s 20ms/step\n",
            "[CV] END batch_size=128, model__l1_reg=0.001, model__learning_rate=0.01, model__loss=sparse_categorical_crossentropy, model__optimizer=adam; total time=   3.8s\n",
            "Epoch 1/10\n"
          ]
        },
        {
          "output_type": "stream",
          "name": "stderr",
          "text": [
            "/usr/local/lib/python3.10/dist-packages/scikeras/wrappers.py:915: UserWarning: ``build_fn`` will be renamed to ``model`` in a future release, at which point use of ``build_fn`` will raise an Error instead.\n",
            "  X, y = self._initialize(X, y)\n"
          ]
        },
        {
          "output_type": "stream",
          "name": "stdout",
          "text": [
            "2/2 [==============================] - 1s 89ms/step - loss: 8.7027 - accuracy: 0.0850\n",
            "Epoch 2/10\n",
            "2/2 [==============================] - 0s 83ms/step - loss: 6.3663 - accuracy: 0.1450\n",
            "Epoch 3/10\n",
            "2/2 [==============================] - 0s 80ms/step - loss: 6.6457 - accuracy: 0.1750\n",
            "Epoch 4/10\n",
            "2/2 [==============================] - 0s 92ms/step - loss: 6.0169 - accuracy: 0.1050\n",
            "Epoch 5/10\n",
            "2/2 [==============================] - 0s 88ms/step - loss: 5.3717 - accuracy: 0.1400\n",
            "Epoch 6/10\n",
            "2/2 [==============================] - 0s 89ms/step - loss: 5.1360 - accuracy: 0.1750\n",
            "Epoch 7/10\n",
            "2/2 [==============================] - 0s 90ms/step - loss: 4.7224 - accuracy: 0.1900\n",
            "Epoch 8/10\n",
            "2/2 [==============================] - 0s 79ms/step - loss: 4.3634 - accuracy: 0.2200\n",
            "Epoch 9/10\n",
            "2/2 [==============================] - 0s 88ms/step - loss: 4.1367 - accuracy: 0.2250\n",
            "Epoch 10/10\n",
            "2/2 [==============================] - 0s 77ms/step - loss: 3.9176 - accuracy: 0.2300\n",
            "1/1 [==============================] - 0s 88ms/step\n",
            "2/2 [==============================] - 0s 20ms/step\n",
            "[CV] END batch_size=128, model__l1_reg=0.001, model__learning_rate=0.01, model__loss=sparse_categorical_crossentropy, model__optimizer=adam; total time=   4.0s\n"
          ]
        },
        {
          "output_type": "stream",
          "name": "stderr",
          "text": [
            "/usr/local/lib/python3.10/dist-packages/scikeras/wrappers.py:915: UserWarning: ``build_fn`` will be renamed to ``model`` in a future release, at which point use of ``build_fn`` will raise an Error instead.\n",
            "  X, y = self._initialize(X, y)\n"
          ]
        },
        {
          "output_type": "stream",
          "name": "stdout",
          "text": [
            "Epoch 1/10\n",
            "2/2 [==============================] - 1s 63ms/step - loss: 9.0268 - accuracy: 0.1100\n",
            "Epoch 2/10\n",
            "2/2 [==============================] - 0s 60ms/step - loss: 9.0004 - accuracy: 0.1150\n",
            "Epoch 3/10\n",
            "2/2 [==============================] - 0s 60ms/step - loss: 8.9538 - accuracy: 0.1400\n",
            "Epoch 4/10\n",
            "2/2 [==============================] - 0s 59ms/step - loss: 8.9486 - accuracy: 0.1350\n",
            "Epoch 5/10\n",
            "2/2 [==============================] - 0s 66ms/step - loss: 8.9465 - accuracy: 0.1350\n",
            "Epoch 6/10\n",
            "2/2 [==============================] - 0s 67ms/step - loss: 8.9377 - accuracy: 0.1450\n",
            "Epoch 7/10\n",
            "2/2 [==============================] - 0s 64ms/step - loss: 8.9207 - accuracy: 0.1200\n",
            "Epoch 8/10\n",
            "2/2 [==============================] - 0s 75ms/step - loss: 8.9210 - accuracy: 0.1350\n",
            "Epoch 9/10\n",
            "2/2 [==============================] - 0s 51ms/step - loss: 8.8992 - accuracy: 0.1450\n",
            "Epoch 10/10\n",
            "2/2 [==============================] - 0s 52ms/step - loss: 8.8803 - accuracy: 0.1300\n",
            "1/1 [==============================] - 0s 90ms/step\n",
            "2/2 [==============================] - 0s 18ms/step\n",
            "[CV] END batch_size=128, model__l1_reg=0.001, model__learning_rate=0.01, model__loss=sparse_categorical_crossentropy, model__optimizer=sgd; total time=   3.6s\n",
            "Epoch 1/10\n"
          ]
        },
        {
          "output_type": "stream",
          "name": "stderr",
          "text": [
            "/usr/local/lib/python3.10/dist-packages/scikeras/wrappers.py:915: UserWarning: ``build_fn`` will be renamed to ``model`` in a future release, at which point use of ``build_fn`` will raise an Error instead.\n",
            "  X, y = self._initialize(X, y)\n"
          ]
        },
        {
          "output_type": "stream",
          "name": "stdout",
          "text": [
            "2/2 [==============================] - 1s 60ms/step - loss: 9.0234 - accuracy: 0.1000\n",
            "Epoch 2/10\n",
            "2/2 [==============================] - 0s 57ms/step - loss: 9.0102 - accuracy: 0.0900\n",
            "Epoch 3/10\n",
            "2/2 [==============================] - 0s 64ms/step - loss: 8.9857 - accuracy: 0.1250\n",
            "Epoch 4/10\n",
            "2/2 [==============================] - 0s 64ms/step - loss: 9.0036 - accuracy: 0.0900\n",
            "Epoch 5/10\n",
            "2/2 [==============================] - 0s 58ms/step - loss: 8.9741 - accuracy: 0.1200\n",
            "Epoch 6/10\n",
            "2/2 [==============================] - 0s 69ms/step - loss: 8.9552 - accuracy: 0.1300\n",
            "Epoch 7/10\n",
            "2/2 [==============================] - 0s 59ms/step - loss: 8.9459 - accuracy: 0.1350\n",
            "Epoch 8/10\n",
            "2/2 [==============================] - 0s 57ms/step - loss: 8.9041 - accuracy: 0.1650\n",
            "Epoch 9/10\n",
            "2/2 [==============================] - 0s 63ms/step - loss: 8.8935 - accuracy: 0.1550\n",
            "Epoch 10/10\n",
            "2/2 [==============================] - 0s 62ms/step - loss: 8.9129 - accuracy: 0.1250\n",
            "1/1 [==============================] - 0s 106ms/step\n",
            "2/2 [==============================] - 0s 20ms/step\n",
            "[CV] END batch_size=128, model__l1_reg=0.001, model__learning_rate=0.01, model__loss=sparse_categorical_crossentropy, model__optimizer=sgd; total time=   2.6s\n",
            "Epoch 1/10\n"
          ]
        },
        {
          "output_type": "stream",
          "name": "stderr",
          "text": [
            "/usr/local/lib/python3.10/dist-packages/scikeras/wrappers.py:915: UserWarning: ``build_fn`` will be renamed to ``model`` in a future release, at which point use of ``build_fn`` will raise an Error instead.\n",
            "  X, y = self._initialize(X, y)\n"
          ]
        },
        {
          "output_type": "stream",
          "name": "stdout",
          "text": [
            "2/2 [==============================] - 1s 59ms/step - loss: 9.0885 - accuracy: 0.0800\n",
            "Epoch 2/10\n",
            "2/2 [==============================] - 0s 63ms/step - loss: 9.0635 - accuracy: 0.0500\n",
            "Epoch 3/10\n",
            "2/2 [==============================] - 0s 58ms/step - loss: 9.0112 - accuracy: 0.1200\n",
            "Epoch 4/10\n",
            "2/2 [==============================] - 0s 61ms/step - loss: 8.9880 - accuracy: 0.1050\n",
            "Epoch 5/10\n",
            "2/2 [==============================] - 0s 60ms/step - loss: 8.9766 - accuracy: 0.1200\n",
            "Epoch 6/10\n",
            "2/2 [==============================] - 0s 56ms/step - loss: 8.9362 - accuracy: 0.1650\n",
            "Epoch 7/10\n",
            "2/2 [==============================] - 0s 58ms/step - loss: 8.9694 - accuracy: 0.1300\n",
            "Epoch 8/10\n",
            "2/2 [==============================] - 0s 64ms/step - loss: 8.9419 - accuracy: 0.1000\n",
            "Epoch 9/10\n",
            "2/2 [==============================] - 0s 63ms/step - loss: 8.9337 - accuracy: 0.1650\n",
            "Epoch 10/10\n",
            "2/2 [==============================] - 0s 62ms/step - loss: 8.9055 - accuracy: 0.1700\n",
            "1/1 [==============================] - 0s 130ms/step\n",
            "2/2 [==============================] - 0s 24ms/step\n",
            "[CV] END batch_size=128, model__l1_reg=0.001, model__learning_rate=0.01, model__loss=sparse_categorical_crossentropy, model__optimizer=sgd; total time=   3.7s\n"
          ]
        },
        {
          "output_type": "stream",
          "name": "stderr",
          "text": [
            "/usr/local/lib/python3.10/dist-packages/scikeras/wrappers.py:915: UserWarning: ``build_fn`` will be renamed to ``model`` in a future release, at which point use of ``build_fn`` will raise an Error instead.\n",
            "  X, y = self._initialize(X, y)\n"
          ]
        },
        {
          "output_type": "stream",
          "name": "stdout",
          "text": [
            "Epoch 1/10\n",
            "2/2 [==============================] - 1s 66ms/step - loss: 17.4125 - accuracy: 0.0750\n",
            "Epoch 2/10\n",
            "2/2 [==============================] - 0s 62ms/step - loss: 9.6951 - accuracy: 0.0950\n",
            "Epoch 3/10\n",
            "2/2 [==============================] - 0s 52ms/step - loss: 6.8775 - accuracy: 0.1100\n",
            "Epoch 4/10\n",
            "2/2 [==============================] - 0s 58ms/step - loss: 6.0374 - accuracy: 0.1200\n",
            "Epoch 5/10\n",
            "2/2 [==============================] - 0s 60ms/step - loss: 5.5756 - accuracy: 0.1550\n",
            "Epoch 6/10\n",
            "2/2 [==============================] - 0s 51ms/step - loss: 5.2722 - accuracy: 0.1350\n",
            "Epoch 7/10\n",
            "2/2 [==============================] - 0s 61ms/step - loss: 5.0926 - accuracy: 0.1150\n",
            "Epoch 8/10\n",
            "2/2 [==============================] - 0s 66ms/step - loss: 4.9286 - accuracy: 0.1800\n",
            "Epoch 9/10\n",
            "2/2 [==============================] - 0s 66ms/step - loss: 4.8198 - accuracy: 0.1450\n",
            "Epoch 10/10\n",
            "2/2 [==============================] - 0s 57ms/step - loss: 4.7405 - accuracy: 0.2100\n",
            "1/1 [==============================] - 0s 102ms/step\n",
            "2/2 [==============================] - 0s 22ms/step\n",
            "[CV] END batch_size=128, model__l1_reg=0.001, model__learning_rate=0.01, model__loss=sparse_categorical_crossentropy, model__optimizer=rmsprop; total time=   3.2s\n"
          ]
        },
        {
          "output_type": "stream",
          "name": "stderr",
          "text": [
            "/usr/local/lib/python3.10/dist-packages/scikeras/wrappers.py:915: UserWarning: ``build_fn`` will be renamed to ``model`` in a future release, at which point use of ``build_fn`` will raise an Error instead.\n",
            "  X, y = self._initialize(X, y)\n"
          ]
        },
        {
          "output_type": "stream",
          "name": "stdout",
          "text": [
            "Epoch 1/10\n",
            "2/2 [==============================] - 1s 57ms/step - loss: 10.1963 - accuracy: 0.1250\n",
            "Epoch 2/10\n",
            "2/2 [==============================] - 0s 60ms/step - loss: 9.1580 - accuracy: 0.0900\n",
            "Epoch 3/10\n",
            "2/2 [==============================] - 0s 58ms/step - loss: 6.8462 - accuracy: 0.1050\n",
            "Epoch 4/10\n",
            "2/2 [==============================] - 0s 56ms/step - loss: 6.0342 - accuracy: 0.1200\n",
            "Epoch 5/10\n",
            "2/2 [==============================] - 0s 57ms/step - loss: 5.5836 - accuracy: 0.1400\n",
            "Epoch 6/10\n",
            "2/2 [==============================] - 0s 70ms/step - loss: 5.2806 - accuracy: 0.1550\n",
            "Epoch 7/10\n",
            "2/2 [==============================] - 0s 61ms/step - loss: 5.1266 - accuracy: 0.1350\n",
            "Epoch 8/10\n",
            "2/2 [==============================] - 0s 60ms/step - loss: 4.9645 - accuracy: 0.1350\n",
            "Epoch 9/10\n",
            "2/2 [==============================] - 0s 63ms/step - loss: 4.8107 - accuracy: 0.1450\n",
            "Epoch 10/10\n",
            "2/2 [==============================] - 0s 52ms/step - loss: 4.7405 - accuracy: 0.1350\n",
            "1/1 [==============================] - 0s 88ms/step\n",
            "2/2 [==============================] - 0s 19ms/step\n",
            "[CV] END batch_size=128, model__l1_reg=0.001, model__learning_rate=0.01, model__loss=sparse_categorical_crossentropy, model__optimizer=rmsprop; total time=   2.7s\n",
            "Epoch 1/10\n"
          ]
        },
        {
          "output_type": "stream",
          "name": "stderr",
          "text": [
            "/usr/local/lib/python3.10/dist-packages/scikeras/wrappers.py:915: UserWarning: ``build_fn`` will be renamed to ``model`` in a future release, at which point use of ``build_fn`` will raise an Error instead.\n",
            "  X, y = self._initialize(X, y)\n"
          ]
        },
        {
          "output_type": "stream",
          "name": "stdout",
          "text": [
            "2/2 [==============================] - 1s 64ms/step - loss: 12.8819 - accuracy: 0.1100\n",
            "Epoch 2/10\n",
            "2/2 [==============================] - 0s 58ms/step - loss: 10.3804 - accuracy: 0.0950\n",
            "Epoch 3/10\n",
            "2/2 [==============================] - 0s 58ms/step - loss: 6.5352 - accuracy: 0.1150\n",
            "Epoch 4/10\n",
            "2/2 [==============================] - 0s 81ms/step - loss: 5.8321 - accuracy: 0.1300\n",
            "Epoch 5/10\n",
            "2/2 [==============================] - 0s 62ms/step - loss: 5.4568 - accuracy: 0.1250\n",
            "Epoch 6/10\n",
            "2/2 [==============================] - 0s 68ms/step - loss: 5.2042 - accuracy: 0.1250\n",
            "Epoch 7/10\n",
            "2/2 [==============================] - 0s 69ms/step - loss: 5.0442 - accuracy: 0.1500\n",
            "Epoch 8/10\n",
            "2/2 [==============================] - 0s 77ms/step - loss: 4.9242 - accuracy: 0.1450\n",
            "Epoch 9/10\n",
            "2/2 [==============================] - 0s 63ms/step - loss: 4.8152 - accuracy: 0.1550\n",
            "Epoch 10/10\n",
            "2/2 [==============================] - 0s 58ms/step - loss: 4.7369 - accuracy: 0.1600\n",
            "1/1 [==============================] - 0s 95ms/step\n",
            "2/2 [==============================] - 0s 19ms/step\n",
            "[CV] END batch_size=128, model__l1_reg=0.001, model__learning_rate=0.01, model__loss=sparse_categorical_crossentropy, model__optimizer=rmsprop; total time=   2.8s\n",
            "Epoch 1/10\n"
          ]
        },
        {
          "output_type": "stream",
          "name": "stderr",
          "text": [
            "/usr/local/lib/python3.10/dist-packages/scikeras/wrappers.py:915: UserWarning: ``build_fn`` will be renamed to ``model`` in a future release, at which point use of ``build_fn`` will raise an Error instead.\n",
            "  X, y = self._initialize(X, y)\n"
          ]
        },
        {
          "output_type": "stream",
          "name": "stdout",
          "text": [
            "[CV] END batch_size=128, model__l1_reg=0.001, model__learning_rate=0.01, model__loss=categorical_crossentropy, model__optimizer=adam; total time=   0.3s\n"
          ]
        },
        {
          "output_type": "stream",
          "name": "stderr",
          "text": [
            "/usr/local/lib/python3.10/dist-packages/scikeras/wrappers.py:915: UserWarning: ``build_fn`` will be renamed to ``model`` in a future release, at which point use of ``build_fn`` will raise an Error instead.\n",
            "  X, y = self._initialize(X, y)\n"
          ]
        },
        {
          "output_type": "stream",
          "name": "stdout",
          "text": [
            "Epoch 1/10\n",
            "[CV] END batch_size=128, model__l1_reg=0.001, model__learning_rate=0.01, model__loss=categorical_crossentropy, model__optimizer=adam; total time=   0.3s\n"
          ]
        },
        {
          "output_type": "stream",
          "name": "stderr",
          "text": [
            "/usr/local/lib/python3.10/dist-packages/scikeras/wrappers.py:915: UserWarning: ``build_fn`` will be renamed to ``model`` in a future release, at which point use of ``build_fn`` will raise an Error instead.\n",
            "  X, y = self._initialize(X, y)\n"
          ]
        },
        {
          "output_type": "stream",
          "name": "stdout",
          "text": [
            "Epoch 1/10\n",
            "[CV] END batch_size=128, model__l1_reg=0.001, model__learning_rate=0.01, model__loss=categorical_crossentropy, model__optimizer=adam; total time=   1.2s\n"
          ]
        },
        {
          "output_type": "stream",
          "name": "stderr",
          "text": [
            "/usr/local/lib/python3.10/dist-packages/scikeras/wrappers.py:915: UserWarning: ``build_fn`` will be renamed to ``model`` in a future release, at which point use of ``build_fn`` will raise an Error instead.\n",
            "  X, y = self._initialize(X, y)\n"
          ]
        },
        {
          "output_type": "stream",
          "name": "stdout",
          "text": [
            "Epoch 1/10\n",
            "[CV] END batch_size=128, model__l1_reg=0.001, model__learning_rate=0.01, model__loss=categorical_crossentropy, model__optimizer=sgd; total time=   0.3s\n"
          ]
        },
        {
          "output_type": "stream",
          "name": "stderr",
          "text": [
            "/usr/local/lib/python3.10/dist-packages/scikeras/wrappers.py:915: UserWarning: ``build_fn`` will be renamed to ``model`` in a future release, at which point use of ``build_fn`` will raise an Error instead.\n",
            "  X, y = self._initialize(X, y)\n"
          ]
        },
        {
          "output_type": "stream",
          "name": "stdout",
          "text": [
            "Epoch 1/10\n",
            "[CV] END batch_size=128, model__l1_reg=0.001, model__learning_rate=0.01, model__loss=categorical_crossentropy, model__optimizer=sgd; total time=   0.3s\n"
          ]
        },
        {
          "output_type": "stream",
          "name": "stderr",
          "text": [
            "/usr/local/lib/python3.10/dist-packages/scikeras/wrappers.py:915: UserWarning: ``build_fn`` will be renamed to ``model`` in a future release, at which point use of ``build_fn`` will raise an Error instead.\n",
            "  X, y = self._initialize(X, y)\n"
          ]
        },
        {
          "output_type": "stream",
          "name": "stdout",
          "text": [
            "Epoch 1/10\n",
            "[CV] END batch_size=128, model__l1_reg=0.001, model__learning_rate=0.01, model__loss=categorical_crossentropy, model__optimizer=sgd; total time=   0.5s\n"
          ]
        },
        {
          "output_type": "stream",
          "name": "stderr",
          "text": [
            "/usr/local/lib/python3.10/dist-packages/scikeras/wrappers.py:915: UserWarning: ``build_fn`` will be renamed to ``model`` in a future release, at which point use of ``build_fn`` will raise an Error instead.\n",
            "  X, y = self._initialize(X, y)\n"
          ]
        },
        {
          "output_type": "stream",
          "name": "stdout",
          "text": [
            "Epoch 1/10\n",
            "[CV] END batch_size=128, model__l1_reg=0.001, model__learning_rate=0.01, model__loss=categorical_crossentropy, model__optimizer=rmsprop; total time=   0.4s\n"
          ]
        },
        {
          "output_type": "stream",
          "name": "stderr",
          "text": [
            "/usr/local/lib/python3.10/dist-packages/scikeras/wrappers.py:915: UserWarning: ``build_fn`` will be renamed to ``model`` in a future release, at which point use of ``build_fn`` will raise an Error instead.\n",
            "  X, y = self._initialize(X, y)\n"
          ]
        },
        {
          "output_type": "stream",
          "name": "stdout",
          "text": [
            "Epoch 1/10\n",
            "[CV] END batch_size=128, model__l1_reg=0.001, model__learning_rate=0.01, model__loss=categorical_crossentropy, model__optimizer=rmsprop; total time=   0.4s\n"
          ]
        },
        {
          "output_type": "stream",
          "name": "stderr",
          "text": [
            "/usr/local/lib/python3.10/dist-packages/scikeras/wrappers.py:915: UserWarning: ``build_fn`` will be renamed to ``model`` in a future release, at which point use of ``build_fn`` will raise an Error instead.\n",
            "  X, y = self._initialize(X, y)\n"
          ]
        },
        {
          "output_type": "stream",
          "name": "stdout",
          "text": [
            "Epoch 1/10\n",
            "[CV] END batch_size=128, model__l1_reg=0.001, model__learning_rate=0.01, model__loss=categorical_crossentropy, model__optimizer=rmsprop; total time=   0.5s\n"
          ]
        },
        {
          "output_type": "stream",
          "name": "stderr",
          "text": [
            "/usr/local/lib/python3.10/dist-packages/scikeras/wrappers.py:915: UserWarning: ``build_fn`` will be renamed to ``model`` in a future release, at which point use of ``build_fn`` will raise an Error instead.\n",
            "  X, y = self._initialize(X, y)\n"
          ]
        },
        {
          "output_type": "stream",
          "name": "stdout",
          "text": [
            "Epoch 1/10\n",
            "2/2 [==============================] - 1s 62ms/step - loss: 68.0880 - accuracy: 0.0550\n",
            "Epoch 2/10\n",
            "2/2 [==============================] - 0s 64ms/step - loss: 59.7095 - accuracy: 0.1350\n",
            "Epoch 3/10\n",
            "2/2 [==============================] - 0s 61ms/step - loss: 52.0518 - accuracy: 0.1350\n",
            "Epoch 4/10\n",
            "2/2 [==============================] - 0s 60ms/step - loss: 45.0329 - accuracy: 0.1400\n",
            "Epoch 5/10\n",
            "2/2 [==============================] - 0s 64ms/step - loss: 38.6299 - accuracy: 0.1550\n",
            "Epoch 6/10\n",
            "2/2 [==============================] - 0s 65ms/step - loss: 32.8836 - accuracy: 0.1900\n",
            "Epoch 7/10\n",
            "2/2 [==============================] - 0s 61ms/step - loss: 27.7232 - accuracy: 0.1850\n",
            "Epoch 8/10\n",
            "2/2 [==============================] - 0s 61ms/step - loss: 23.1927 - accuracy: 0.1450\n",
            "Epoch 9/10\n",
            "2/2 [==============================] - 0s 66ms/step - loss: 19.2953 - accuracy: 0.1450\n",
            "Epoch 10/10\n",
            "2/2 [==============================] - 0s 62ms/step - loss: 15.9615 - accuracy: 0.1750\n",
            "1/1 [==============================] - 0s 115ms/step\n",
            "2/2 [==============================] - 0s 21ms/step\n",
            "[CV] END batch_size=128, model__l1_reg=0.01, model__learning_rate=0.001, model__loss=sparse_categorical_crossentropy, model__optimizer=adam; total time=   4.5s\n"
          ]
        },
        {
          "output_type": "stream",
          "name": "stderr",
          "text": [
            "/usr/local/lib/python3.10/dist-packages/scikeras/wrappers.py:915: UserWarning: ``build_fn`` will be renamed to ``model`` in a future release, at which point use of ``build_fn`` will raise an Error instead.\n",
            "  X, y = self._initialize(X, y)\n"
          ]
        },
        {
          "output_type": "stream",
          "name": "stdout",
          "text": [
            "Epoch 1/10\n",
            "2/2 [==============================] - 1s 66ms/step - loss: 67.8943 - accuracy: 0.1100\n",
            "Epoch 2/10\n",
            "2/2 [==============================] - 0s 65ms/step - loss: 59.4034 - accuracy: 0.1500\n",
            "Epoch 3/10\n",
            "2/2 [==============================] - 0s 68ms/step - loss: 51.6644 - accuracy: 0.1300\n",
            "Epoch 4/10\n",
            "2/2 [==============================] - 0s 62ms/step - loss: 44.5936 - accuracy: 0.0950\n",
            "Epoch 5/10\n",
            "2/2 [==============================] - 0s 66ms/step - loss: 38.1795 - accuracy: 0.1150\n",
            "Epoch 6/10\n",
            "2/2 [==============================] - 0s 65ms/step - loss: 32.3979 - accuracy: 0.1500\n",
            "Epoch 7/10\n",
            "2/2 [==============================] - 0s 66ms/step - loss: 27.2511 - accuracy: 0.1600\n",
            "Epoch 8/10\n",
            "2/2 [==============================] - 0s 62ms/step - loss: 22.7520 - accuracy: 0.1400\n",
            "Epoch 9/10\n",
            "2/2 [==============================] - 0s 66ms/step - loss: 18.8583 - accuracy: 0.1550\n",
            "Epoch 10/10\n",
            "2/2 [==============================] - 0s 62ms/step - loss: 15.5858 - accuracy: 0.1850\n",
            "1/1 [==============================] - 0s 98ms/step\n",
            "2/2 [==============================] - 0s 20ms/step\n",
            "[CV] END batch_size=128, model__l1_reg=0.01, model__learning_rate=0.001, model__loss=sparse_categorical_crossentropy, model__optimizer=adam; total time=   3.1s\n"
          ]
        },
        {
          "output_type": "stream",
          "name": "stderr",
          "text": [
            "/usr/local/lib/python3.10/dist-packages/scikeras/wrappers.py:915: UserWarning: ``build_fn`` will be renamed to ``model`` in a future release, at which point use of ``build_fn`` will raise an Error instead.\n",
            "  X, y = self._initialize(X, y)\n"
          ]
        },
        {
          "output_type": "stream",
          "name": "stdout",
          "text": [
            "Epoch 1/10\n",
            "2/2 [==============================] - 1s 65ms/step - loss: 67.8888 - accuracy: 0.0750\n",
            "Epoch 2/10\n",
            "2/2 [==============================] - 0s 62ms/step - loss: 59.3556 - accuracy: 0.1200\n",
            "Epoch 3/10\n",
            "2/2 [==============================] - 0s 72ms/step - loss: 51.5727 - accuracy: 0.1200\n",
            "Epoch 4/10\n",
            "2/2 [==============================] - 0s 66ms/step - loss: 44.4485 - accuracy: 0.1900\n",
            "Epoch 5/10\n",
            "2/2 [==============================] - 0s 64ms/step - loss: 38.0058 - accuracy: 0.1700\n",
            "Epoch 6/10\n",
            "2/2 [==============================] - 0s 60ms/step - loss: 32.2464 - accuracy: 0.1250\n",
            "Epoch 7/10\n",
            "2/2 [==============================] - 0s 66ms/step - loss: 27.0969 - accuracy: 0.1350\n",
            "Epoch 8/10\n",
            "2/2 [==============================] - 0s 63ms/step - loss: 22.5933 - accuracy: 0.1250\n",
            "Epoch 9/10\n",
            "2/2 [==============================] - 0s 80ms/step - loss: 18.7012 - accuracy: 0.1550\n",
            "Epoch 10/10\n",
            "2/2 [==============================] - 0s 91ms/step - loss: 15.4241 - accuracy: 0.1850\n",
            "1/1 [==============================] - 0s 166ms/step\n",
            "2/2 [==============================] - 0s 38ms/step\n",
            "[CV] END batch_size=128, model__l1_reg=0.01, model__learning_rate=0.001, model__loss=sparse_categorical_crossentropy, model__optimizer=adam; total time=   4.2s\n"
          ]
        },
        {
          "output_type": "stream",
          "name": "stderr",
          "text": [
            "/usr/local/lib/python3.10/dist-packages/scikeras/wrappers.py:915: UserWarning: ``build_fn`` will be renamed to ``model`` in a future release, at which point use of ``build_fn`` will raise an Error instead.\n",
            "  X, y = self._initialize(X, y)\n"
          ]
        },
        {
          "output_type": "stream",
          "name": "stdout",
          "text": [
            "Epoch 1/10\n",
            "2/2 [==============================] - 1s 61ms/step - loss: 69.4291 - accuracy: 0.0700\n",
            "Epoch 2/10\n",
            "2/2 [==============================] - 0s 64ms/step - loss: 69.3402 - accuracy: 0.0800\n",
            "Epoch 3/10\n",
            "2/2 [==============================] - 0s 62ms/step - loss: 69.2503 - accuracy: 0.0950\n",
            "Epoch 4/10\n",
            "2/2 [==============================] - 0s 61ms/step - loss: 69.1437 - accuracy: 0.0850\n",
            "Epoch 5/10\n",
            "2/2 [==============================] - 0s 62ms/step - loss: 69.0600 - accuracy: 0.0850\n",
            "Epoch 6/10\n",
            "2/2 [==============================] - 0s 60ms/step - loss: 68.9584 - accuracy: 0.0650\n",
            "Epoch 7/10\n",
            "2/2 [==============================] - 0s 64ms/step - loss: 68.8801 - accuracy: 0.0700\n",
            "Epoch 8/10\n",
            "2/2 [==============================] - 0s 63ms/step - loss: 68.7934 - accuracy: 0.0800\n",
            "Epoch 9/10\n",
            "2/2 [==============================] - 0s 74ms/step - loss: 68.6910 - accuracy: 0.0750\n",
            "Epoch 10/10\n",
            "2/2 [==============================] - 0s 65ms/step - loss: 68.6075 - accuracy: 0.0800\n",
            "1/1 [==============================] - 0s 97ms/step\n",
            "2/2 [==============================] - 0s 21ms/step\n",
            "[CV] END batch_size=128, model__l1_reg=0.01, model__learning_rate=0.001, model__loss=sparse_categorical_crossentropy, model__optimizer=sgd; total time=   3.9s\n",
            "Epoch 1/10\n"
          ]
        },
        {
          "output_type": "stream",
          "name": "stderr",
          "text": [
            "/usr/local/lib/python3.10/dist-packages/scikeras/wrappers.py:915: UserWarning: ``build_fn`` will be renamed to ``model`` in a future release, at which point use of ``build_fn`` will raise an Error instead.\n",
            "  X, y = self._initialize(X, y)\n"
          ]
        },
        {
          "output_type": "stream",
          "name": "stdout",
          "text": [
            "2/2 [==============================] - 1s 65ms/step - loss: 69.4647 - accuracy: 0.0900\n",
            "Epoch 2/10\n",
            "2/2 [==============================] - 0s 58ms/step - loss: 69.3257 - accuracy: 0.0850\n",
            "Epoch 3/10\n",
            "2/2 [==============================] - 0s 56ms/step - loss: 69.1719 - accuracy: 0.1600\n",
            "Epoch 4/10\n",
            "2/2 [==============================] - 0s 61ms/step - loss: 69.1111 - accuracy: 0.1050\n",
            "Epoch 5/10\n",
            "2/2 [==============================] - 0s 73ms/step - loss: 69.0015 - accuracy: 0.1100\n",
            "Epoch 6/10\n",
            "2/2 [==============================] - 0s 62ms/step - loss: 68.9082 - accuracy: 0.1000\n",
            "Epoch 7/10\n",
            "2/2 [==============================] - 0s 61ms/step - loss: 68.8054 - accuracy: 0.0850\n",
            "Epoch 8/10\n",
            "2/2 [==============================] - 0s 59ms/step - loss: 68.6935 - accuracy: 0.1150\n",
            "Epoch 9/10\n",
            "2/2 [==============================] - 0s 52ms/step - loss: 68.6278 - accuracy: 0.1200\n",
            "Epoch 10/10\n",
            "2/2 [==============================] - 0s 69ms/step - loss: 68.5165 - accuracy: 0.1100\n",
            "1/1 [==============================] - 0s 106ms/step\n",
            "2/2 [==============================] - 0s 22ms/step\n",
            "[CV] END batch_size=128, model__l1_reg=0.01, model__learning_rate=0.001, model__loss=sparse_categorical_crossentropy, model__optimizer=sgd; total time=   3.6s\n"
          ]
        },
        {
          "output_type": "stream",
          "name": "stderr",
          "text": [
            "/usr/local/lib/python3.10/dist-packages/scikeras/wrappers.py:915: UserWarning: ``build_fn`` will be renamed to ``model`` in a future release, at which point use of ``build_fn`` will raise an Error instead.\n",
            "  X, y = self._initialize(X, y)\n"
          ]
        },
        {
          "output_type": "stream",
          "name": "stdout",
          "text": [
            "Epoch 1/10\n",
            "2/2 [==============================] - 1s 65ms/step - loss: 69.4676 - accuracy: 0.0750\n",
            "Epoch 2/10\n",
            "2/2 [==============================] - 0s 62ms/step - loss: 69.3815 - accuracy: 0.0950\n",
            "Epoch 3/10\n",
            "2/2 [==============================] - 0s 60ms/step - loss: 69.2768 - accuracy: 0.0850\n",
            "Epoch 4/10\n",
            "2/2 [==============================] - 0s 66ms/step - loss: 69.1743 - accuracy: 0.1300\n",
            "Epoch 5/10\n",
            "2/2 [==============================] - 0s 65ms/step - loss: 69.0765 - accuracy: 0.1100\n",
            "Epoch 6/10\n",
            "2/2 [==============================] - 0s 63ms/step - loss: 68.9734 - accuracy: 0.1200\n",
            "Epoch 7/10\n",
            "2/2 [==============================] - 0s 78ms/step - loss: 68.8769 - accuracy: 0.1250\n",
            "Epoch 8/10\n",
            "2/2 [==============================] - 0s 62ms/step - loss: 68.8025 - accuracy: 0.0800\n",
            "Epoch 9/10\n",
            "2/2 [==============================] - 0s 62ms/step - loss: 68.7010 - accuracy: 0.1050\n",
            "Epoch 10/10\n",
            "2/2 [==============================] - 0s 74ms/step - loss: 68.6399 - accuracy: 0.1050\n",
            "1/1 [==============================] - 0s 134ms/step\n",
            "2/2 [==============================] - 0s 41ms/step\n",
            "[CV] END batch_size=128, model__l1_reg=0.01, model__learning_rate=0.001, model__loss=sparse_categorical_crossentropy, model__optimizer=sgd; total time=   3.7s\n"
          ]
        },
        {
          "output_type": "stream",
          "name": "stderr",
          "text": [
            "/usr/local/lib/python3.10/dist-packages/scikeras/wrappers.py:915: UserWarning: ``build_fn`` will be renamed to ``model`` in a future release, at which point use of ``build_fn`` will raise an Error instead.\n",
            "  X, y = self._initialize(X, y)\n"
          ]
        },
        {
          "output_type": "stream",
          "name": "stdout",
          "text": [
            "Epoch 1/10\n",
            "2/2 [==============================] - 1s 61ms/step - loss: 65.0996 - accuracy: 0.0800\n",
            "Epoch 2/10\n",
            "2/2 [==============================] - 0s 65ms/step - loss: 46.0920 - accuracy: 0.1550\n",
            "Epoch 3/10\n",
            "2/2 [==============================] - 0s 65ms/step - loss: 34.8306 - accuracy: 0.1000\n",
            "Epoch 4/10\n",
            "2/2 [==============================] - 0s 69ms/step - loss: 26.6069 - accuracy: 0.1350\n",
            "Epoch 5/10\n",
            "2/2 [==============================] - 0s 75ms/step - loss: 20.4228 - accuracy: 0.1400\n",
            "Epoch 6/10\n",
            "2/2 [==============================] - 0s 71ms/step - loss: 15.6349 - accuracy: 0.1250\n",
            "Epoch 7/10\n",
            "2/2 [==============================] - 0s 58ms/step - loss: 11.8749 - accuracy: 0.1250\n",
            "Epoch 8/10\n",
            "2/2 [==============================] - 0s 67ms/step - loss: 9.1320 - accuracy: 0.1450\n",
            "Epoch 9/10\n",
            "2/2 [==============================] - 0s 62ms/step - loss: 7.2465 - accuracy: 0.0900\n",
            "Epoch 10/10\n",
            "2/2 [==============================] - 0s 61ms/step - loss: 6.1647 - accuracy: 0.0900\n",
            "1/1 [==============================] - 0s 100ms/step\n",
            "2/2 [==============================] - 0s 20ms/step\n",
            "[CV] END batch_size=128, model__l1_reg=0.01, model__learning_rate=0.001, model__loss=sparse_categorical_crossentropy, model__optimizer=rmsprop; total time=   3.2s\n",
            "Epoch 1/10\n"
          ]
        },
        {
          "output_type": "stream",
          "name": "stderr",
          "text": [
            "/usr/local/lib/python3.10/dist-packages/scikeras/wrappers.py:915: UserWarning: ``build_fn`` will be renamed to ``model`` in a future release, at which point use of ``build_fn`` will raise an Error instead.\n",
            "  X, y = self._initialize(X, y)\n"
          ]
        },
        {
          "output_type": "stream",
          "name": "stdout",
          "text": [
            "2/2 [==============================] - 1s 64ms/step - loss: 64.8851 - accuracy: 0.0950\n",
            "Epoch 2/10\n",
            "2/2 [==============================] - 0s 65ms/step - loss: 45.6293 - accuracy: 0.1250\n",
            "Epoch 3/10\n",
            "2/2 [==============================] - 0s 67ms/step - loss: 34.2141 - accuracy: 0.1450\n",
            "Epoch 4/10\n",
            "2/2 [==============================] - 0s 58ms/step - loss: 26.1131 - accuracy: 0.1200\n",
            "Epoch 5/10\n",
            "2/2 [==============================] - 0s 60ms/step - loss: 19.8618 - accuracy: 0.1450\n",
            "Epoch 6/10\n",
            "2/2 [==============================] - 0s 80ms/step - loss: 15.0667 - accuracy: 0.1600\n",
            "Epoch 7/10\n",
            "2/2 [==============================] - 0s 64ms/step - loss: 11.4255 - accuracy: 0.1650\n",
            "Epoch 8/10\n",
            "2/2 [==============================] - 0s 61ms/step - loss: 8.7576 - accuracy: 0.1350\n",
            "Epoch 9/10\n",
            "2/2 [==============================] - 0s 63ms/step - loss: 6.9086 - accuracy: 0.1900\n",
            "Epoch 10/10\n",
            "2/2 [==============================] - 0s 61ms/step - loss: 5.8828 - accuracy: 0.1600\n",
            "1/1 [==============================] - 0s 101ms/step\n",
            "2/2 [==============================] - 0s 22ms/step\n",
            "[CV] END batch_size=128, model__l1_reg=0.01, model__learning_rate=0.001, model__loss=sparse_categorical_crossentropy, model__optimizer=rmsprop; total time=   3.7s\n"
          ]
        },
        {
          "output_type": "stream",
          "name": "stderr",
          "text": [
            "/usr/local/lib/python3.10/dist-packages/scikeras/wrappers.py:915: UserWarning: ``build_fn`` will be renamed to ``model`` in a future release, at which point use of ``build_fn`` will raise an Error instead.\n",
            "  X, y = self._initialize(X, y)\n"
          ]
        },
        {
          "output_type": "stream",
          "name": "stdout",
          "text": [
            "Epoch 1/10\n",
            "2/2 [==============================] - 1s 70ms/step - loss: 64.9468 - accuracy: 0.1000\n",
            "Epoch 2/10\n",
            "2/2 [==============================] - 0s 72ms/step - loss: 45.8487 - accuracy: 0.1050\n",
            "Epoch 3/10\n",
            "2/2 [==============================] - 0s 65ms/step - loss: 34.4347 - accuracy: 0.1200\n",
            "Epoch 4/10\n",
            "2/2 [==============================] - 0s 65ms/step - loss: 26.3008 - accuracy: 0.1200\n",
            "Epoch 5/10\n",
            "2/2 [==============================] - 0s 67ms/step - loss: 20.1072 - accuracy: 0.1400\n",
            "Epoch 6/10\n",
            "2/2 [==============================] - 0s 64ms/step - loss: 15.3187 - accuracy: 0.1300\n",
            "Epoch 7/10\n",
            "2/2 [==============================] - 0s 62ms/step - loss: 11.6263 - accuracy: 0.1600\n",
            "Epoch 8/10\n",
            "2/2 [==============================] - 0s 69ms/step - loss: 8.9256 - accuracy: 0.1200\n",
            "Epoch 9/10\n",
            "2/2 [==============================] - 0s 58ms/step - loss: 7.0941 - accuracy: 0.1100\n",
            "Epoch 10/10\n",
            "2/2 [==============================] - 0s 61ms/step - loss: 5.9926 - accuracy: 0.1350\n",
            "1/1 [==============================] - 0s 104ms/step\n",
            "2/2 [==============================] - 0s 28ms/step\n",
            "[CV] END batch_size=128, model__l1_reg=0.01, model__learning_rate=0.001, model__loss=sparse_categorical_crossentropy, model__optimizer=rmsprop; total time=   3.8s\n"
          ]
        },
        {
          "output_type": "stream",
          "name": "stderr",
          "text": [
            "/usr/local/lib/python3.10/dist-packages/scikeras/wrappers.py:915: UserWarning: ``build_fn`` will be renamed to ``model`` in a future release, at which point use of ``build_fn`` will raise an Error instead.\n",
            "  X, y = self._initialize(X, y)\n"
          ]
        },
        {
          "output_type": "stream",
          "name": "stdout",
          "text": [
            "Epoch 1/10\n",
            "[CV] END batch_size=128, model__l1_reg=0.01, model__learning_rate=0.001, model__loss=categorical_crossentropy, model__optimizer=adam; total time=   0.4s\n"
          ]
        },
        {
          "output_type": "stream",
          "name": "stderr",
          "text": [
            "/usr/local/lib/python3.10/dist-packages/scikeras/wrappers.py:915: UserWarning: ``build_fn`` will be renamed to ``model`` in a future release, at which point use of ``build_fn`` will raise an Error instead.\n",
            "  X, y = self._initialize(X, y)\n"
          ]
        },
        {
          "output_type": "stream",
          "name": "stdout",
          "text": [
            "Epoch 1/10\n",
            "[CV] END batch_size=128, model__l1_reg=0.01, model__learning_rate=0.001, model__loss=categorical_crossentropy, model__optimizer=adam; total time=   0.4s\n"
          ]
        },
        {
          "output_type": "stream",
          "name": "stderr",
          "text": [
            "/usr/local/lib/python3.10/dist-packages/scikeras/wrappers.py:915: UserWarning: ``build_fn`` will be renamed to ``model`` in a future release, at which point use of ``build_fn`` will raise an Error instead.\n",
            "  X, y = self._initialize(X, y)\n"
          ]
        },
        {
          "output_type": "stream",
          "name": "stdout",
          "text": [
            "Epoch 1/10\n",
            "[CV] END batch_size=128, model__l1_reg=0.01, model__learning_rate=0.001, model__loss=categorical_crossentropy, model__optimizer=adam; total time=   0.4s\n"
          ]
        },
        {
          "output_type": "stream",
          "name": "stderr",
          "text": [
            "/usr/local/lib/python3.10/dist-packages/scikeras/wrappers.py:915: UserWarning: ``build_fn`` will be renamed to ``model`` in a future release, at which point use of ``build_fn`` will raise an Error instead.\n",
            "  X, y = self._initialize(X, y)\n"
          ]
        },
        {
          "output_type": "stream",
          "name": "stdout",
          "text": [
            "Epoch 1/10\n",
            "[CV] END batch_size=128, model__l1_reg=0.01, model__learning_rate=0.001, model__loss=categorical_crossentropy, model__optimizer=sgd; total time=   0.4s\n"
          ]
        },
        {
          "output_type": "stream",
          "name": "stderr",
          "text": [
            "/usr/local/lib/python3.10/dist-packages/scikeras/wrappers.py:915: UserWarning: ``build_fn`` will be renamed to ``model`` in a future release, at which point use of ``build_fn`` will raise an Error instead.\n",
            "  X, y = self._initialize(X, y)\n"
          ]
        },
        {
          "output_type": "stream",
          "name": "stdout",
          "text": [
            "Epoch 1/10\n",
            "[CV] END batch_size=128, model__l1_reg=0.01, model__learning_rate=0.001, model__loss=categorical_crossentropy, model__optimizer=sgd; total time=   0.4s\n"
          ]
        },
        {
          "output_type": "stream",
          "name": "stderr",
          "text": [
            "/usr/local/lib/python3.10/dist-packages/scikeras/wrappers.py:915: UserWarning: ``build_fn`` will be renamed to ``model`` in a future release, at which point use of ``build_fn`` will raise an Error instead.\n",
            "  X, y = self._initialize(X, y)\n"
          ]
        },
        {
          "output_type": "stream",
          "name": "stdout",
          "text": [
            "Epoch 1/10\n",
            "[CV] END batch_size=128, model__l1_reg=0.01, model__learning_rate=0.001, model__loss=categorical_crossentropy, model__optimizer=sgd; total time=   0.3s\n",
            "Epoch 1/10\n"
          ]
        },
        {
          "output_type": "stream",
          "name": "stderr",
          "text": [
            "/usr/local/lib/python3.10/dist-packages/scikeras/wrappers.py:915: UserWarning: ``build_fn`` will be renamed to ``model`` in a future release, at which point use of ``build_fn`` will raise an Error instead.\n",
            "  X, y = self._initialize(X, y)\n"
          ]
        },
        {
          "output_type": "stream",
          "name": "stdout",
          "text": [
            "[CV] END batch_size=128, model__l1_reg=0.01, model__learning_rate=0.001, model__loss=categorical_crossentropy, model__optimizer=rmsprop; total time=   0.3s\n",
            "Epoch 1/10\n"
          ]
        },
        {
          "output_type": "stream",
          "name": "stderr",
          "text": [
            "/usr/local/lib/python3.10/dist-packages/scikeras/wrappers.py:915: UserWarning: ``build_fn`` will be renamed to ``model`` in a future release, at which point use of ``build_fn`` will raise an Error instead.\n",
            "  X, y = self._initialize(X, y)\n"
          ]
        },
        {
          "output_type": "stream",
          "name": "stdout",
          "text": [
            "[CV] END batch_size=128, model__l1_reg=0.01, model__learning_rate=0.001, model__loss=categorical_crossentropy, model__optimizer=rmsprop; total time=   0.3s\n",
            "Epoch 1/10\n"
          ]
        },
        {
          "output_type": "stream",
          "name": "stderr",
          "text": [
            "/usr/local/lib/python3.10/dist-packages/scikeras/wrappers.py:915: UserWarning: ``build_fn`` will be renamed to ``model`` in a future release, at which point use of ``build_fn`` will raise an Error instead.\n",
            "  X, y = self._initialize(X, y)\n"
          ]
        },
        {
          "output_type": "stream",
          "name": "stdout",
          "text": [
            "[CV] END batch_size=128, model__l1_reg=0.01, model__learning_rate=0.001, model__loss=categorical_crossentropy, model__optimizer=rmsprop; total time=   0.3s\n"
          ]
        },
        {
          "output_type": "stream",
          "name": "stderr",
          "text": [
            "/usr/local/lib/python3.10/dist-packages/scikeras/wrappers.py:915: UserWarning: ``build_fn`` will be renamed to ``model`` in a future release, at which point use of ``build_fn`` will raise an Error instead.\n",
            "  X, y = self._initialize(X, y)\n"
          ]
        },
        {
          "output_type": "stream",
          "name": "stdout",
          "text": [
            "Epoch 1/10\n",
            "2/2 [==============================] - 1s 66ms/step - loss: 59.0533 - accuracy: 0.1550\n",
            "Epoch 2/10\n",
            "2/2 [==============================] - 0s 65ms/step - loss: 26.3622 - accuracy: 0.1200\n",
            "Epoch 3/10\n",
            "2/2 [==============================] - 0s 63ms/step - loss: 30.7217 - accuracy: 0.1300\n",
            "Epoch 4/10\n",
            "2/2 [==============================] - 0s 60ms/step - loss: 23.3210 - accuracy: 0.2400\n",
            "Epoch 5/10\n",
            "2/2 [==============================] - 0s 71ms/step - loss: 17.5580 - accuracy: 0.1800\n",
            "Epoch 6/10\n",
            "2/2 [==============================] - 0s 60ms/step - loss: 18.9541 - accuracy: 0.1600\n",
            "Epoch 7/10\n",
            "2/2 [==============================] - 0s 67ms/step - loss: 16.5183 - accuracy: 0.1400\n",
            "Epoch 8/10\n",
            "2/2 [==============================] - 0s 59ms/step - loss: 14.4378 - accuracy: 0.2050\n",
            "Epoch 9/10\n",
            "2/2 [==============================] - 0s 62ms/step - loss: 13.8526 - accuracy: 0.1700\n",
            "Epoch 10/10\n",
            "2/2 [==============================] - 0s 60ms/step - loss: 12.8791 - accuracy: 0.1200\n",
            "1/1 [==============================] - 0s 98ms/step\n",
            "2/2 [==============================] - 0s 23ms/step\n",
            "[CV] END batch_size=128, model__l1_reg=0.01, model__learning_rate=0.01, model__loss=sparse_categorical_crossentropy, model__optimizer=adam; total time=   3.9s\n"
          ]
        },
        {
          "output_type": "stream",
          "name": "stderr",
          "text": [
            "/usr/local/lib/python3.10/dist-packages/scikeras/wrappers.py:915: UserWarning: ``build_fn`` will be renamed to ``model`` in a future release, at which point use of ``build_fn`` will raise an Error instead.\n",
            "  X, y = self._initialize(X, y)\n"
          ]
        },
        {
          "output_type": "stream",
          "name": "stdout",
          "text": [
            "Epoch 1/10\n",
            "2/2 [==============================] - 1s 72ms/step - loss: 58.8078 - accuracy: 0.1200\n",
            "Epoch 2/10\n",
            "2/2 [==============================] - 0s 78ms/step - loss: 25.7191 - accuracy: 0.1100\n",
            "Epoch 3/10\n",
            "2/2 [==============================] - 0s 70ms/step - loss: 30.6052 - accuracy: 0.1200\n",
            "Epoch 4/10\n",
            "2/2 [==============================] - 0s 70ms/step - loss: 23.2107 - accuracy: 0.1850\n",
            "Epoch 5/10\n",
            "2/2 [==============================] - 0s 74ms/step - loss: 17.3388 - accuracy: 0.2050\n",
            "Epoch 6/10\n",
            "2/2 [==============================] - 0s 72ms/step - loss: 18.8468 - accuracy: 0.1500\n",
            "Epoch 7/10\n",
            "2/2 [==============================] - 0s 66ms/step - loss: 16.4735 - accuracy: 0.1900\n",
            "Epoch 8/10\n",
            "2/2 [==============================] - 0s 61ms/step - loss: 14.3544 - accuracy: 0.2000\n",
            "Epoch 9/10\n",
            "2/2 [==============================] - 0s 60ms/step - loss: 13.7833 - accuracy: 0.1400\n",
            "Epoch 10/10\n",
            "2/2 [==============================] - 0s 58ms/step - loss: 12.8517 - accuracy: 0.2000\n",
            "1/1 [==============================] - 0s 91ms/step\n",
            "2/2 [==============================] - 0s 19ms/step\n",
            "[CV] END batch_size=128, model__l1_reg=0.01, model__learning_rate=0.01, model__loss=sparse_categorical_crossentropy, model__optimizer=adam; total time=   3.1s\n"
          ]
        },
        {
          "output_type": "stream",
          "name": "stderr",
          "text": [
            "/usr/local/lib/python3.10/dist-packages/scikeras/wrappers.py:915: UserWarning: ``build_fn`` will be renamed to ``model`` in a future release, at which point use of ``build_fn`` will raise an Error instead.\n",
            "  X, y = self._initialize(X, y)\n"
          ]
        },
        {
          "output_type": "stream",
          "name": "stdout",
          "text": [
            "Epoch 1/10\n",
            "2/2 [==============================] - 1s 75ms/step - loss: 59.1061 - accuracy: 0.1050\n",
            "Epoch 2/10\n",
            "2/2 [==============================] - 0s 68ms/step - loss: 26.5847 - accuracy: 0.1800\n",
            "Epoch 3/10\n",
            "2/2 [==============================] - 0s 94ms/step - loss: 30.8715 - accuracy: 0.1150\n",
            "Epoch 4/10\n",
            "2/2 [==============================] - 0s 91ms/step - loss: 23.5077 - accuracy: 0.1750\n",
            "Epoch 5/10\n",
            "2/2 [==============================] - 0s 96ms/step - loss: 17.7590 - accuracy: 0.1900\n",
            "Epoch 6/10\n",
            "2/2 [==============================] - 0s 84ms/step - loss: 19.0632 - accuracy: 0.1300\n",
            "Epoch 7/10\n",
            "2/2 [==============================] - 0s 93ms/step - loss: 16.7077 - accuracy: 0.2050\n",
            "Epoch 8/10\n",
            "2/2 [==============================] - 0s 106ms/step - loss: 14.5279 - accuracy: 0.1600\n",
            "Epoch 9/10\n",
            "2/2 [==============================] - 0s 99ms/step - loss: 13.9194 - accuracy: 0.1350\n",
            "Epoch 10/10\n",
            "2/2 [==============================] - 0s 95ms/step - loss: 12.9731 - accuracy: 0.1750\n",
            "1/1 [==============================] - 0s 168ms/step\n",
            "2/2 [==============================] - 0s 38ms/step\n",
            "[CV] END batch_size=128, model__l1_reg=0.01, model__learning_rate=0.01, model__loss=sparse_categorical_crossentropy, model__optimizer=adam; total time=   3.8s\n"
          ]
        },
        {
          "output_type": "stream",
          "name": "stderr",
          "text": [
            "/usr/local/lib/python3.10/dist-packages/scikeras/wrappers.py:915: UserWarning: ``build_fn`` will be renamed to ``model`` in a future release, at which point use of ``build_fn`` will raise an Error instead.\n",
            "  X, y = self._initialize(X, y)\n"
          ]
        },
        {
          "output_type": "stream",
          "name": "stdout",
          "text": [
            "Epoch 1/10\n",
            "2/2 [==============================] - 1s 78ms/step - loss: 69.4003 - accuracy: 0.0750\n",
            "Epoch 2/10\n",
            "2/2 [==============================] - 0s 68ms/step - loss: 68.4525 - accuracy: 0.1100\n",
            "Epoch 3/10\n",
            "2/2 [==============================] - 0s 63ms/step - loss: 67.5364 - accuracy: 0.1200\n",
            "Epoch 4/10\n",
            "2/2 [==============================] - 0s 63ms/step - loss: 66.5929 - accuracy: 0.1300\n",
            "Epoch 5/10\n",
            "2/2 [==============================] - 0s 67ms/step - loss: 65.7149 - accuracy: 0.1050\n",
            "Epoch 6/10\n",
            "2/2 [==============================] - 0s 60ms/step - loss: 64.8135 - accuracy: 0.1250\n",
            "Epoch 7/10\n",
            "2/2 [==============================] - 0s 71ms/step - loss: 63.9249 - accuracy: 0.1250\n",
            "Epoch 8/10\n",
            "2/2 [==============================] - 0s 62ms/step - loss: 63.0526 - accuracy: 0.1100\n",
            "Epoch 9/10\n",
            "2/2 [==============================] - 0s 60ms/step - loss: 62.1463 - accuracy: 0.1350\n",
            "Epoch 10/10\n",
            "2/2 [==============================] - 0s 65ms/step - loss: 61.2857 - accuracy: 0.1550\n",
            "1/1 [==============================] - 0s 94ms/step\n",
            "2/2 [==============================] - 0s 21ms/step\n",
            "[CV] END batch_size=128, model__l1_reg=0.01, model__learning_rate=0.01, model__loss=sparse_categorical_crossentropy, model__optimizer=sgd; total time=   3.8s\n"
          ]
        },
        {
          "output_type": "stream",
          "name": "stderr",
          "text": [
            "/usr/local/lib/python3.10/dist-packages/scikeras/wrappers.py:915: UserWarning: ``build_fn`` will be renamed to ``model`` in a future release, at which point use of ``build_fn`` will raise an Error instead.\n",
            "  X, y = self._initialize(X, y)\n"
          ]
        },
        {
          "output_type": "stream",
          "name": "stdout",
          "text": [
            "Epoch 1/10\n",
            "2/2 [==============================] - 1s 67ms/step - loss: 69.3074 - accuracy: 0.1150\n",
            "Epoch 2/10\n",
            "2/2 [==============================] - 0s 66ms/step - loss: 68.3127 - accuracy: 0.1150\n",
            "Epoch 3/10\n",
            "2/2 [==============================] - 0s 79ms/step - loss: 67.3999 - accuracy: 0.1500\n",
            "Epoch 4/10\n",
            "2/2 [==============================] - 0s 67ms/step - loss: 66.4851 - accuracy: 0.1150\n",
            "Epoch 5/10\n",
            "2/2 [==============================] - 0s 68ms/step - loss: 65.6023 - accuracy: 0.1150\n",
            "Epoch 6/10\n",
            "2/2 [==============================] - 0s 68ms/step - loss: 64.7034 - accuracy: 0.1350\n",
            "Epoch 7/10\n",
            "2/2 [==============================] - 0s 74ms/step - loss: 63.8077 - accuracy: 0.1150\n",
            "Epoch 8/10\n",
            "2/2 [==============================] - 0s 70ms/step - loss: 62.9138 - accuracy: 0.1450\n",
            "Epoch 9/10\n",
            "2/2 [==============================] - 0s 71ms/step - loss: 62.0247 - accuracy: 0.1750\n",
            "Epoch 10/10\n",
            "2/2 [==============================] - 0s 61ms/step - loss: 61.1725 - accuracy: 0.1600\n",
            "1/1 [==============================] - 0s 99ms/step\n",
            "2/2 [==============================] - 0s 22ms/step\n",
            "[CV] END batch_size=128, model__l1_reg=0.01, model__learning_rate=0.01, model__loss=sparse_categorical_crossentropy, model__optimizer=sgd; total time=   3.7s\n"
          ]
        },
        {
          "output_type": "stream",
          "name": "stderr",
          "text": [
            "/usr/local/lib/python3.10/dist-packages/scikeras/wrappers.py:915: UserWarning: ``build_fn`` will be renamed to ``model`` in a future release, at which point use of ``build_fn`` will raise an Error instead.\n",
            "  X, y = self._initialize(X, y)\n"
          ]
        },
        {
          "output_type": "stream",
          "name": "stdout",
          "text": [
            "Epoch 1/10\n",
            "2/2 [==============================] - 1s 61ms/step - loss: 69.3518 - accuracy: 0.1150\n",
            "Epoch 2/10\n",
            "2/2 [==============================] - 0s 65ms/step - loss: 68.4581 - accuracy: 0.0700\n",
            "Epoch 3/10\n",
            "2/2 [==============================] - 0s 58ms/step - loss: 67.4998 - accuracy: 0.1500\n",
            "Epoch 4/10\n",
            "2/2 [==============================] - 0s 69ms/step - loss: 66.6076 - accuracy: 0.1200\n",
            "Epoch 5/10\n",
            "2/2 [==============================] - 0s 91ms/step - loss: 65.6934 - accuracy: 0.1400\n",
            "Epoch 6/10\n",
            "2/2 [==============================] - 0s 72ms/step - loss: 64.8071 - accuracy: 0.1050\n",
            "Epoch 7/10\n",
            "2/2 [==============================] - 0s 63ms/step - loss: 63.9254 - accuracy: 0.1100\n",
            "Epoch 8/10\n",
            "2/2 [==============================] - 0s 65ms/step - loss: 63.0530 - accuracy: 0.1200\n",
            "Epoch 9/10\n",
            "2/2 [==============================] - 0s 66ms/step - loss: 62.1637 - accuracy: 0.1200\n",
            "Epoch 10/10\n",
            "2/2 [==============================] - 0s 72ms/step - loss: 61.2976 - accuracy: 0.1500\n",
            "1/1 [==============================] - 0s 196ms/step\n",
            "2/2 [==============================] - 0s 35ms/step\n",
            "[CV] END batch_size=128, model__l1_reg=0.01, model__learning_rate=0.01, model__loss=sparse_categorical_crossentropy, model__optimizer=sgd; total time=   2.9s\n"
          ]
        },
        {
          "output_type": "stream",
          "name": "stderr",
          "text": [
            "/usr/local/lib/python3.10/dist-packages/scikeras/wrappers.py:915: UserWarning: ``build_fn`` will be renamed to ``model`` in a future release, at which point use of ``build_fn`` will raise an Error instead.\n",
            "  X, y = self._initialize(X, y)\n"
          ]
        },
        {
          "output_type": "stream",
          "name": "stdout",
          "text": [
            "Epoch 1/10\n",
            "2/2 [==============================] - 1s 106ms/step - loss: 74.1391 - accuracy: 0.1350\n",
            "Epoch 2/10\n",
            "2/2 [==============================] - 0s 91ms/step - loss: 52.1141 - accuracy: 0.0950\n",
            "Epoch 3/10\n",
            "2/2 [==============================] - 0s 97ms/step - loss: 38.9329 - accuracy: 0.1100\n",
            "Epoch 4/10\n",
            "2/2 [==============================] - 0s 90ms/step - loss: 33.2325 - accuracy: 0.1600\n",
            "Epoch 5/10\n",
            "2/2 [==============================] - 0s 77ms/step - loss: 30.3930 - accuracy: 0.1450\n",
            "Epoch 6/10\n",
            "2/2 [==============================] - 0s 61ms/step - loss: 28.6390 - accuracy: 0.1450\n",
            "Epoch 7/10\n",
            "2/2 [==============================] - 0s 64ms/step - loss: 27.4584 - accuracy: 0.1400\n",
            "Epoch 8/10\n",
            "2/2 [==============================] - 0s 60ms/step - loss: 26.6278 - accuracy: 0.1400\n",
            "Epoch 9/10\n",
            "2/2 [==============================] - 0s 66ms/step - loss: 26.0209 - accuracy: 0.1400\n",
            "Epoch 10/10\n",
            "2/2 [==============================] - 0s 67ms/step - loss: 25.5717 - accuracy: 0.1400\n",
            "1/1 [==============================] - 0s 104ms/step\n",
            "2/2 [==============================] - 0s 21ms/step\n",
            "[CV] END batch_size=128, model__l1_reg=0.01, model__learning_rate=0.01, model__loss=sparse_categorical_crossentropy, model__optimizer=rmsprop; total time=   4.1s\n"
          ]
        },
        {
          "output_type": "stream",
          "name": "stderr",
          "text": [
            "/usr/local/lib/python3.10/dist-packages/scikeras/wrappers.py:915: UserWarning: ``build_fn`` will be renamed to ``model`` in a future release, at which point use of ``build_fn`` will raise an Error instead.\n",
            "  X, y = self._initialize(X, y)\n"
          ]
        },
        {
          "output_type": "stream",
          "name": "stdout",
          "text": [
            "Epoch 1/10\n",
            "2/2 [==============================] - 1s 70ms/step - loss: 74.3731 - accuracy: 0.1050\n",
            "Epoch 2/10\n",
            "2/2 [==============================] - 0s 67ms/step - loss: 62.8830 - accuracy: 0.1400\n",
            "Epoch 3/10\n",
            "2/2 [==============================] - 0s 68ms/step - loss: 40.5903 - accuracy: 0.1150\n",
            "Epoch 4/10\n",
            "2/2 [==============================] - 0s 68ms/step - loss: 33.3335 - accuracy: 0.1150\n",
            "Epoch 5/10\n",
            "2/2 [==============================] - 0s 64ms/step - loss: 30.1165 - accuracy: 0.1250\n",
            "Epoch 6/10\n",
            "2/2 [==============================] - 0s 71ms/step - loss: 28.4214 - accuracy: 0.1150\n",
            "Epoch 7/10\n",
            "2/2 [==============================] - 0s 65ms/step - loss: 27.3569 - accuracy: 0.1450\n",
            "Epoch 8/10\n",
            "2/2 [==============================] - 0s 67ms/step - loss: 26.5716 - accuracy: 0.1550\n",
            "Epoch 9/10\n",
            "2/2 [==============================] - 0s 62ms/step - loss: 26.0321 - accuracy: 0.1550\n",
            "Epoch 10/10\n",
            "2/2 [==============================] - 0s 65ms/step - loss: 25.6416 - accuracy: 0.1700\n",
            "1/1 [==============================] - 0s 112ms/step\n",
            "2/2 [==============================] - 0s 21ms/step\n",
            "[CV] END batch_size=128, model__l1_reg=0.01, model__learning_rate=0.01, model__loss=sparse_categorical_crossentropy, model__optimizer=rmsprop; total time=   3.7s\n"
          ]
        },
        {
          "output_type": "stream",
          "name": "stderr",
          "text": [
            "/usr/local/lib/python3.10/dist-packages/scikeras/wrappers.py:915: UserWarning: ``build_fn`` will be renamed to ``model`` in a future release, at which point use of ``build_fn`` will raise an Error instead.\n",
            "  X, y = self._initialize(X, y)\n"
          ]
        },
        {
          "output_type": "stream",
          "name": "stdout",
          "text": [
            "Epoch 1/10\n",
            "2/2 [==============================] - 1s 78ms/step - loss: 74.1683 - accuracy: 0.0900\n",
            "Epoch 2/10\n",
            "2/2 [==============================] - 0s 72ms/step - loss: 54.4004 - accuracy: 0.1000\n",
            "Epoch 3/10\n",
            "2/2 [==============================] - 0s 66ms/step - loss: 40.7049 - accuracy: 0.1300\n",
            "Epoch 4/10\n",
            "2/2 [==============================] - 0s 63ms/step - loss: 33.1651 - accuracy: 0.1350\n",
            "Epoch 5/10\n",
            "2/2 [==============================] - 0s 76ms/step - loss: 30.1180 - accuracy: 0.1550\n",
            "Epoch 6/10\n",
            "2/2 [==============================] - 0s 65ms/step - loss: 28.4707 - accuracy: 0.1600\n",
            "Epoch 7/10\n",
            "2/2 [==============================] - 0s 64ms/step - loss: 27.3996 - accuracy: 0.1400\n",
            "Epoch 8/10\n",
            "2/2 [==============================] - 0s 64ms/step - loss: 26.6415 - accuracy: 0.1300\n",
            "Epoch 9/10\n",
            "2/2 [==============================] - 0s 61ms/step - loss: 26.0873 - accuracy: 0.1450\n",
            "Epoch 10/10\n",
            "2/2 [==============================] - 0s 62ms/step - loss: 25.6691 - accuracy: 0.1450\n",
            "1/1 [==============================] - 0s 113ms/step\n",
            "2/2 [==============================] - 0s 23ms/step\n",
            "[CV] END batch_size=128, model__l1_reg=0.01, model__learning_rate=0.01, model__loss=sparse_categorical_crossentropy, model__optimizer=rmsprop; total time=   2.9s\n"
          ]
        },
        {
          "output_type": "stream",
          "name": "stderr",
          "text": [
            "/usr/local/lib/python3.10/dist-packages/scikeras/wrappers.py:915: UserWarning: ``build_fn`` will be renamed to ``model`` in a future release, at which point use of ``build_fn`` will raise an Error instead.\n",
            "  X, y = self._initialize(X, y)\n"
          ]
        },
        {
          "output_type": "stream",
          "name": "stdout",
          "text": [
            "Epoch 1/10\n",
            "[CV] END batch_size=128, model__l1_reg=0.01, model__learning_rate=0.01, model__loss=categorical_crossentropy, model__optimizer=adam; total time=   0.3s\n",
            "Epoch 1/10\n"
          ]
        },
        {
          "output_type": "stream",
          "name": "stderr",
          "text": [
            "/usr/local/lib/python3.10/dist-packages/scikeras/wrappers.py:915: UserWarning: ``build_fn`` will be renamed to ``model`` in a future release, at which point use of ``build_fn`` will raise an Error instead.\n",
            "  X, y = self._initialize(X, y)\n"
          ]
        },
        {
          "output_type": "stream",
          "name": "stdout",
          "text": [
            "[CV] END batch_size=128, model__l1_reg=0.01, model__learning_rate=0.01, model__loss=categorical_crossentropy, model__optimizer=adam; total time=   0.3s\n"
          ]
        },
        {
          "output_type": "stream",
          "name": "stderr",
          "text": [
            "/usr/local/lib/python3.10/dist-packages/scikeras/wrappers.py:915: UserWarning: ``build_fn`` will be renamed to ``model`` in a future release, at which point use of ``build_fn`` will raise an Error instead.\n",
            "  X, y = self._initialize(X, y)\n"
          ]
        },
        {
          "output_type": "stream",
          "name": "stdout",
          "text": [
            "Epoch 1/10\n",
            "[CV] END batch_size=128, model__l1_reg=0.01, model__learning_rate=0.01, model__loss=categorical_crossentropy, model__optimizer=adam; total time=   0.3s\n"
          ]
        },
        {
          "output_type": "stream",
          "name": "stderr",
          "text": [
            "/usr/local/lib/python3.10/dist-packages/scikeras/wrappers.py:915: UserWarning: ``build_fn`` will be renamed to ``model`` in a future release, at which point use of ``build_fn`` will raise an Error instead.\n",
            "  X, y = self._initialize(X, y)\n"
          ]
        },
        {
          "output_type": "stream",
          "name": "stdout",
          "text": [
            "Epoch 1/10\n",
            "[CV] END batch_size=128, model__l1_reg=0.01, model__learning_rate=0.01, model__loss=categorical_crossentropy, model__optimizer=sgd; total time=   0.3s\n"
          ]
        },
        {
          "output_type": "stream",
          "name": "stderr",
          "text": [
            "/usr/local/lib/python3.10/dist-packages/scikeras/wrappers.py:915: UserWarning: ``build_fn`` will be renamed to ``model`` in a future release, at which point use of ``build_fn`` will raise an Error instead.\n",
            "  X, y = self._initialize(X, y)\n"
          ]
        },
        {
          "output_type": "stream",
          "name": "stdout",
          "text": [
            "Epoch 1/10\n",
            "[CV] END batch_size=128, model__l1_reg=0.01, model__learning_rate=0.01, model__loss=categorical_crossentropy, model__optimizer=sgd; total time=   0.4s\n"
          ]
        },
        {
          "output_type": "stream",
          "name": "stderr",
          "text": [
            "/usr/local/lib/python3.10/dist-packages/scikeras/wrappers.py:915: UserWarning: ``build_fn`` will be renamed to ``model`` in a future release, at which point use of ``build_fn`` will raise an Error instead.\n",
            "  X, y = self._initialize(X, y)\n"
          ]
        },
        {
          "output_type": "stream",
          "name": "stdout",
          "text": [
            "Epoch 1/10\n",
            "[CV] END batch_size=128, model__l1_reg=0.01, model__learning_rate=0.01, model__loss=categorical_crossentropy, model__optimizer=sgd; total time=   0.4s\n"
          ]
        },
        {
          "output_type": "stream",
          "name": "stderr",
          "text": [
            "/usr/local/lib/python3.10/dist-packages/scikeras/wrappers.py:915: UserWarning: ``build_fn`` will be renamed to ``model`` in a future release, at which point use of ``build_fn`` will raise an Error instead.\n",
            "  X, y = self._initialize(X, y)\n"
          ]
        },
        {
          "output_type": "stream",
          "name": "stdout",
          "text": [
            "Epoch 1/10\n",
            "[CV] END batch_size=128, model__l1_reg=0.01, model__learning_rate=0.01, model__loss=categorical_crossentropy, model__optimizer=rmsprop; total time=   0.4s\n"
          ]
        },
        {
          "output_type": "stream",
          "name": "stderr",
          "text": [
            "/usr/local/lib/python3.10/dist-packages/scikeras/wrappers.py:915: UserWarning: ``build_fn`` will be renamed to ``model`` in a future release, at which point use of ``build_fn`` will raise an Error instead.\n",
            "  X, y = self._initialize(X, y)\n"
          ]
        },
        {
          "output_type": "stream",
          "name": "stdout",
          "text": [
            "Epoch 1/10\n",
            "[CV] END batch_size=128, model__l1_reg=0.01, model__learning_rate=0.01, model__loss=categorical_crossentropy, model__optimizer=rmsprop; total time=   0.4s\n"
          ]
        },
        {
          "output_type": "stream",
          "name": "stderr",
          "text": [
            "/usr/local/lib/python3.10/dist-packages/scikeras/wrappers.py:915: UserWarning: ``build_fn`` will be renamed to ``model`` in a future release, at which point use of ``build_fn`` will raise an Error instead.\n",
            "  X, y = self._initialize(X, y)\n"
          ]
        },
        {
          "output_type": "stream",
          "name": "stdout",
          "text": [
            "Epoch 1/10\n",
            "[CV] END batch_size=128, model__l1_reg=0.01, model__learning_rate=0.01, model__loss=categorical_crossentropy, model__optimizer=rmsprop; total time=   0.5s\n"
          ]
        },
        {
          "output_type": "stream",
          "name": "stderr",
          "text": [
            "/usr/local/lib/python3.10/dist-packages/scikeras/wrappers.py:915: UserWarning: ``build_fn`` will be renamed to ``model`` in a future release, at which point use of ``build_fn`` will raise an Error instead.\n",
            "  X, y = self._initialize(X, y)\n"
          ]
        },
        {
          "output_type": "stream",
          "name": "stdout",
          "text": [
            "Epoch 1/10\n",
            "2/2 [==============================] - 1s 61ms/step - loss: 657.2786 - accuracy: 0.1150\n",
            "Epoch 2/10\n",
            "2/2 [==============================] - 0s 66ms/step - loss: 570.9626 - accuracy: 0.1200\n",
            "Epoch 3/10\n",
            "2/2 [==============================] - 0s 65ms/step - loss: 491.9023 - accuracy: 0.1050\n",
            "Epoch 4/10\n",
            "2/2 [==============================] - 0s 68ms/step - loss: 419.9551 - accuracy: 0.0950\n",
            "Epoch 5/10\n",
            "2/2 [==============================] - 0s 66ms/step - loss: 354.9759 - accuracy: 0.1000\n",
            "Epoch 6/10\n",
            "2/2 [==============================] - 0s 66ms/step - loss: 296.8153 - accuracy: 0.1300\n",
            "Epoch 7/10\n",
            "2/2 [==============================] - 0s 69ms/step - loss: 245.0939 - accuracy: 0.1400\n",
            "Epoch 8/10\n",
            "2/2 [==============================] - 0s 66ms/step - loss: 200.0412 - accuracy: 0.1200\n",
            "Epoch 9/10\n",
            "2/2 [==============================] - 0s 64ms/step - loss: 161.2423 - accuracy: 0.1450\n",
            "Epoch 10/10\n",
            "2/2 [==============================] - 0s 72ms/step - loss: 128.6949 - accuracy: 0.1100\n",
            "1/1 [==============================] - 0s 117ms/step\n",
            "2/2 [==============================] - 0s 23ms/step\n",
            "[CV] END batch_size=128, model__l1_reg=0.1, model__learning_rate=0.001, model__loss=sparse_categorical_crossentropy, model__optimizer=adam; total time=   4.2s\n"
          ]
        },
        {
          "output_type": "stream",
          "name": "stderr",
          "text": [
            "/usr/local/lib/python3.10/dist-packages/scikeras/wrappers.py:915: UserWarning: ``build_fn`` will be renamed to ``model`` in a future release, at which point use of ``build_fn`` will raise an Error instead.\n",
            "  X, y = self._initialize(X, y)\n"
          ]
        },
        {
          "output_type": "stream",
          "name": "stdout",
          "text": [
            "Epoch 1/10\n",
            "2/2 [==============================] - 1s 75ms/step - loss: 656.2803 - accuracy: 0.1050\n",
            "Epoch 2/10\n",
            "2/2 [==============================] - 0s 74ms/step - loss: 570.0010 - accuracy: 0.0900\n",
            "Epoch 3/10\n",
            "2/2 [==============================] - 0s 65ms/step - loss: 490.9497 - accuracy: 0.0950\n",
            "Epoch 4/10\n",
            "2/2 [==============================] - 0s 64ms/step - loss: 418.9940 - accuracy: 0.0950\n",
            "Epoch 5/10\n",
            "2/2 [==============================] - 0s 71ms/step - loss: 354.1359 - accuracy: 0.1200\n",
            "Epoch 6/10\n",
            "2/2 [==============================] - 0s 70ms/step - loss: 296.1284 - accuracy: 0.1100\n",
            "Epoch 7/10\n",
            "2/2 [==============================] - 0s 75ms/step - loss: 244.5062 - accuracy: 0.1200\n",
            "Epoch 8/10\n",
            "2/2 [==============================] - 0s 89ms/step - loss: 199.5360 - accuracy: 0.1300\n",
            "Epoch 9/10\n",
            "2/2 [==============================] - 0s 69ms/step - loss: 160.8352 - accuracy: 0.1450\n",
            "Epoch 10/10\n",
            "2/2 [==============================] - 0s 60ms/step - loss: 128.3644 - accuracy: 0.1900\n",
            "1/1 [==============================] - 0s 95ms/step\n",
            "2/2 [==============================] - 0s 20ms/step\n",
            "[CV] END batch_size=128, model__l1_reg=0.1, model__learning_rate=0.001, model__loss=sparse_categorical_crossentropy, model__optimizer=adam; total time=   3.9s\n"
          ]
        },
        {
          "output_type": "stream",
          "name": "stderr",
          "text": [
            "/usr/local/lib/python3.10/dist-packages/scikeras/wrappers.py:915: UserWarning: ``build_fn`` will be renamed to ``model`` in a future release, at which point use of ``build_fn`` will raise an Error instead.\n",
            "  X, y = self._initialize(X, y)\n"
          ]
        },
        {
          "output_type": "stream",
          "name": "stdout",
          "text": [
            "Epoch 1/10\n",
            "2/2 [==============================] - 1s 64ms/step - loss: 657.4920 - accuracy: 0.1100\n",
            "Epoch 2/10\n",
            "2/2 [==============================] - 0s 68ms/step - loss: 571.1492 - accuracy: 0.1000\n",
            "Epoch 3/10\n",
            "2/2 [==============================] - 0s 70ms/step - loss: 492.0488 - accuracy: 0.1000\n",
            "Epoch 4/10\n",
            "2/2 [==============================] - 0s 63ms/step - loss: 419.9791 - accuracy: 0.1250\n",
            "Epoch 5/10\n",
            "2/2 [==============================] - 0s 62ms/step - loss: 355.0175 - accuracy: 0.1150\n",
            "Epoch 6/10\n",
            "2/2 [==============================] - 0s 94ms/step - loss: 296.8540 - accuracy: 0.1350\n",
            "Epoch 7/10\n",
            "2/2 [==============================] - 0s 91ms/step - loss: 245.0924 - accuracy: 0.1200\n",
            "Epoch 8/10\n",
            "2/2 [==============================] - 0s 118ms/step - loss: 200.0225 - accuracy: 0.1250\n",
            "Epoch 9/10\n",
            "2/2 [==============================] - 0s 110ms/step - loss: 161.2672 - accuracy: 0.1450\n",
            "Epoch 10/10\n",
            "2/2 [==============================] - 0s 101ms/step - loss: 128.6890 - accuracy: 0.1700\n",
            "1/1 [==============================] - 0s 140ms/step\n",
            "2/2 [==============================] - 0s 34ms/step\n",
            "[CV] END batch_size=128, model__l1_reg=0.1, model__learning_rate=0.001, model__loss=sparse_categorical_crossentropy, model__optimizer=adam; total time=   3.6s\n"
          ]
        },
        {
          "output_type": "stream",
          "name": "stderr",
          "text": [
            "/usr/local/lib/python3.10/dist-packages/scikeras/wrappers.py:915: UserWarning: ``build_fn`` will be renamed to ``model`` in a future release, at which point use of ``build_fn`` will raise an Error instead.\n",
            "  X, y = self._initialize(X, y)\n"
          ]
        },
        {
          "output_type": "stream",
          "name": "stdout",
          "text": [
            "Epoch 1/10\n",
            "2/2 [==============================] - 1s 61ms/step - loss: 672.5538 - accuracy: 0.1200\n",
            "Epoch 2/10\n",
            "2/2 [==============================] - 0s 63ms/step - loss: 663.3892 - accuracy: 0.1050\n",
            "Epoch 3/10\n",
            "2/2 [==============================] - 0s 66ms/step - loss: 654.2488 - accuracy: 0.1100\n",
            "Epoch 4/10\n",
            "2/2 [==============================] - 0s 68ms/step - loss: 645.2276 - accuracy: 0.0900\n",
            "Epoch 5/10\n",
            "2/2 [==============================] - 0s 64ms/step - loss: 636.2497 - accuracy: 0.1000\n",
            "Epoch 6/10\n",
            "2/2 [==============================] - 0s 66ms/step - loss: 627.2889 - accuracy: 0.1050\n",
            "Epoch 7/10\n",
            "2/2 [==============================] - 0s 72ms/step - loss: 618.4265 - accuracy: 0.1400\n",
            "Epoch 8/10\n",
            "2/2 [==============================] - 0s 63ms/step - loss: 609.6260 - accuracy: 0.1500\n",
            "Epoch 9/10\n",
            "2/2 [==============================] - 0s 63ms/step - loss: 600.9299 - accuracy: 0.1200\n",
            "Epoch 10/10\n",
            "2/2 [==============================] - 0s 74ms/step - loss: 592.2877 - accuracy: 0.1200\n",
            "1/1 [==============================] - 0s 97ms/step\n",
            "2/2 [==============================] - 0s 22ms/step\n",
            "[CV] END batch_size=128, model__l1_reg=0.1, model__learning_rate=0.001, model__loss=sparse_categorical_crossentropy, model__optimizer=sgd; total time=   3.2s\n",
            "Epoch 1/10\n"
          ]
        },
        {
          "output_type": "stream",
          "name": "stderr",
          "text": [
            "/usr/local/lib/python3.10/dist-packages/scikeras/wrappers.py:915: UserWarning: ``build_fn`` will be renamed to ``model`` in a future release, at which point use of ``build_fn`` will raise an Error instead.\n",
            "  X, y = self._initialize(X, y)\n"
          ]
        },
        {
          "output_type": "stream",
          "name": "stdout",
          "text": [
            "2/2 [==============================] - 1s 69ms/step - loss: 672.2640 - accuracy: 0.1200\n",
            "Epoch 2/10\n",
            "2/2 [==============================] - 0s 65ms/step - loss: 663.0436 - accuracy: 0.1150\n",
            "Epoch 3/10\n",
            "2/2 [==============================] - 0s 69ms/step - loss: 653.9763 - accuracy: 0.1100\n",
            "Epoch 4/10\n",
            "2/2 [==============================] - 0s 59ms/step - loss: 644.9537 - accuracy: 0.0850\n",
            "Epoch 5/10\n",
            "2/2 [==============================] - 0s 73ms/step - loss: 635.9413 - accuracy: 0.0850\n",
            "Epoch 6/10\n",
            "2/2 [==============================] - 0s 74ms/step - loss: 627.0199 - accuracy: 0.0950\n",
            "Epoch 7/10\n",
            "2/2 [==============================] - 0s 70ms/step - loss: 618.1777 - accuracy: 0.1050\n",
            "Epoch 8/10\n",
            "2/2 [==============================] - 0s 65ms/step - loss: 609.3939 - accuracy: 0.1150\n",
            "Epoch 9/10\n",
            "2/2 [==============================] - 0s 68ms/step - loss: 600.6614 - accuracy: 0.0650\n",
            "Epoch 10/10\n",
            "2/2 [==============================] - 0s 61ms/step - loss: 591.9971 - accuracy: 0.1200\n",
            "1/1 [==============================] - 0s 97ms/step\n",
            "2/2 [==============================] - 0s 23ms/step\n",
            "[CV] END batch_size=128, model__l1_reg=0.1, model__learning_rate=0.001, model__loss=sparse_categorical_crossentropy, model__optimizer=sgd; total time=   3.6s\n",
            "Epoch 1/10\n"
          ]
        },
        {
          "output_type": "stream",
          "name": "stderr",
          "text": [
            "/usr/local/lib/python3.10/dist-packages/scikeras/wrappers.py:915: UserWarning: ``build_fn`` will be renamed to ``model`` in a future release, at which point use of ``build_fn`` will raise an Error instead.\n",
            "  X, y = self._initialize(X, y)\n"
          ]
        },
        {
          "output_type": "stream",
          "name": "stdout",
          "text": [
            "2/2 [==============================] - 2s 60ms/step - loss: 671.9019 - accuracy: 0.1000\n",
            "Epoch 2/10\n",
            "2/2 [==============================] - 0s 59ms/step - loss: 662.7113 - accuracy: 0.1400\n",
            "Epoch 3/10\n",
            "2/2 [==============================] - 0s 63ms/step - loss: 653.6127 - accuracy: 0.1050\n",
            "Epoch 4/10\n",
            "2/2 [==============================] - 0s 61ms/step - loss: 644.5822 - accuracy: 0.0900\n",
            "Epoch 5/10\n",
            "2/2 [==============================] - 0s 65ms/step - loss: 635.5994 - accuracy: 0.1300\n",
            "Epoch 6/10\n",
            "2/2 [==============================] - 0s 80ms/step - loss: 626.6740 - accuracy: 0.1100\n",
            "Epoch 7/10\n",
            "2/2 [==============================] - 0s 64ms/step - loss: 617.8096 - accuracy: 0.1200\n",
            "Epoch 8/10\n",
            "2/2 [==============================] - 0s 65ms/step - loss: 609.0425 - accuracy: 0.0850\n",
            "Epoch 9/10\n",
            "2/2 [==============================] - 0s 69ms/step - loss: 600.2990 - accuracy: 0.0900\n",
            "Epoch 10/10\n",
            "2/2 [==============================] - 0s 63ms/step - loss: 591.6257 - accuracy: 0.1150\n",
            "1/1 [==============================] - 0s 153ms/step\n",
            "2/2 [==============================] - 0s 26ms/step\n",
            "[CV] END batch_size=128, model__l1_reg=0.1, model__learning_rate=0.001, model__loss=sparse_categorical_crossentropy, model__optimizer=sgd; total time=   4.0s\n"
          ]
        },
        {
          "output_type": "stream",
          "name": "stderr",
          "text": [
            "/usr/local/lib/python3.10/dist-packages/scikeras/wrappers.py:915: UserWarning: ``build_fn`` will be renamed to ``model`` in a future release, at which point use of ``build_fn`` will raise an Error instead.\n",
            "  X, y = self._initialize(X, y)\n"
          ]
        },
        {
          "output_type": "stream",
          "name": "stdout",
          "text": [
            "Epoch 1/10\n",
            "2/2 [==============================] - 1s 108ms/step - loss: 626.9170 - accuracy: 0.1100\n",
            "Epoch 2/10\n",
            "2/2 [==============================] - 0s 97ms/step - loss: 430.7809 - accuracy: 0.1300\n",
            "Epoch 3/10\n",
            "2/2 [==============================] - 0s 104ms/step - loss: 315.9554 - accuracy: 0.1400\n",
            "Epoch 4/10\n",
            "2/2 [==============================] - 0s 63ms/step - loss: 234.0121 - accuracy: 0.1000\n",
            "Epoch 5/10\n",
            "2/2 [==============================] - 0s 65ms/step - loss: 172.0698 - accuracy: 0.1200\n",
            "Epoch 6/10\n",
            "2/2 [==============================] - 0s 61ms/step - loss: 124.6602 - accuracy: 0.1100\n",
            "Epoch 7/10\n",
            "2/2 [==============================] - 0s 84ms/step - loss: 88.7569 - accuracy: 0.1250\n",
            "Epoch 8/10\n",
            "2/2 [==============================] - 0s 66ms/step - loss: 62.6971 - accuracy: 0.1050\n",
            "Epoch 9/10\n",
            "2/2 [==============================] - 0s 62ms/step - loss: 45.4425 - accuracy: 0.0850\n",
            "Epoch 10/10\n",
            "2/2 [==============================] - 0s 74ms/step - loss: 36.2802 - accuracy: 0.1150\n",
            "1/1 [==============================] - 0s 100ms/step\n",
            "2/2 [==============================] - 0s 21ms/step\n",
            "[CV] END batch_size=128, model__l1_reg=0.1, model__learning_rate=0.001, model__loss=sparse_categorical_crossentropy, model__optimizer=rmsprop; total time=   3.7s\n"
          ]
        },
        {
          "output_type": "stream",
          "name": "stderr",
          "text": [
            "/usr/local/lib/python3.10/dist-packages/scikeras/wrappers.py:915: UserWarning: ``build_fn`` will be renamed to ``model`` in a future release, at which point use of ``build_fn`` will raise an Error instead.\n",
            "  X, y = self._initialize(X, y)\n"
          ]
        },
        {
          "output_type": "stream",
          "name": "stdout",
          "text": [
            "Epoch 1/10\n",
            "2/2 [==============================] - 1s 81ms/step - loss: 626.2450 - accuracy: 0.1000\n",
            "Epoch 2/10\n",
            "2/2 [==============================] - 0s 68ms/step - loss: 430.0674 - accuracy: 0.1250\n",
            "Epoch 3/10\n",
            "2/2 [==============================] - 0s 60ms/step - loss: 315.2235 - accuracy: 0.1050\n",
            "Epoch 4/10\n",
            "2/2 [==============================] - 0s 65ms/step - loss: 233.2761 - accuracy: 0.0900\n",
            "Epoch 5/10\n",
            "2/2 [==============================] - 0s 60ms/step - loss: 171.4308 - accuracy: 0.1050\n",
            "Epoch 6/10\n",
            "2/2 [==============================] - 0s 66ms/step - loss: 124.0384 - accuracy: 0.0700\n",
            "Epoch 7/10\n",
            "2/2 [==============================] - 0s 77ms/step - loss: 88.2291 - accuracy: 0.1200\n",
            "Epoch 8/10\n",
            "2/2 [==============================] - 0s 63ms/step - loss: 62.2848 - accuracy: 0.0800\n",
            "Epoch 9/10\n",
            "2/2 [==============================] - 0s 63ms/step - loss: 45.1613 - accuracy: 0.0850\n",
            "Epoch 10/10\n",
            "2/2 [==============================] - 0s 65ms/step - loss: 36.0513 - accuracy: 0.1150\n",
            "1/1 [==============================] - 0s 107ms/step\n",
            "2/2 [==============================] - 0s 21ms/step\n",
            "[CV] END batch_size=128, model__l1_reg=0.1, model__learning_rate=0.001, model__loss=sparse_categorical_crossentropy, model__optimizer=rmsprop; total time=   3.0s\n"
          ]
        },
        {
          "output_type": "stream",
          "name": "stderr",
          "text": [
            "/usr/local/lib/python3.10/dist-packages/scikeras/wrappers.py:915: UserWarning: ``build_fn`` will be renamed to ``model`` in a future release, at which point use of ``build_fn`` will raise an Error instead.\n",
            "  X, y = self._initialize(X, y)\n"
          ]
        },
        {
          "output_type": "stream",
          "name": "stdout",
          "text": [
            "Epoch 1/10\n",
            "2/2 [==============================] - 1s 62ms/step - loss: 626.7617 - accuracy: 0.1050\n",
            "Epoch 2/10\n",
            "2/2 [==============================] - 0s 66ms/step - loss: 430.5850 - accuracy: 0.1150\n",
            "Epoch 3/10\n",
            "2/2 [==============================] - 0s 62ms/step - loss: 315.7012 - accuracy: 0.0950\n",
            "Epoch 4/10\n",
            "2/2 [==============================] - 0s 69ms/step - loss: 233.6897 - accuracy: 0.0850\n",
            "Epoch 5/10\n",
            "2/2 [==============================] - 0s 62ms/step - loss: 171.6529 - accuracy: 0.1200\n",
            "Epoch 6/10\n",
            "2/2 [==============================] - 0s 62ms/step - loss: 124.1193 - accuracy: 0.0800\n",
            "Epoch 7/10\n",
            "2/2 [==============================] - 0s 62ms/step - loss: 88.2578 - accuracy: 0.1150\n",
            "Epoch 8/10\n",
            "2/2 [==============================] - 0s 74ms/step - loss: 62.3054 - accuracy: 0.0950\n",
            "Epoch 9/10\n",
            "2/2 [==============================] - 0s 61ms/step - loss: 45.0494 - accuracy: 0.0800\n",
            "Epoch 10/10\n",
            "2/2 [==============================] - 0s 62ms/step - loss: 35.8687 - accuracy: 0.1350\n",
            "1/1 [==============================] - 0s 107ms/step\n",
            "2/2 [==============================] - 0s 25ms/step\n",
            "[CV] END batch_size=128, model__l1_reg=0.1, model__learning_rate=0.001, model__loss=sparse_categorical_crossentropy, model__optimizer=rmsprop; total time=   3.7s\n",
            "Epoch 1/10\n"
          ]
        },
        {
          "output_type": "stream",
          "name": "stderr",
          "text": [
            "/usr/local/lib/python3.10/dist-packages/scikeras/wrappers.py:915: UserWarning: ``build_fn`` will be renamed to ``model`` in a future release, at which point use of ``build_fn`` will raise an Error instead.\n",
            "  X, y = self._initialize(X, y)\n"
          ]
        },
        {
          "output_type": "stream",
          "name": "stdout",
          "text": [
            "[CV] END batch_size=128, model__l1_reg=0.1, model__learning_rate=0.001, model__loss=categorical_crossentropy, model__optimizer=adam; total time=   0.3s\n",
            "Epoch 1/10\n"
          ]
        },
        {
          "output_type": "stream",
          "name": "stderr",
          "text": [
            "/usr/local/lib/python3.10/dist-packages/scikeras/wrappers.py:915: UserWarning: ``build_fn`` will be renamed to ``model`` in a future release, at which point use of ``build_fn`` will raise an Error instead.\n",
            "  X, y = self._initialize(X, y)\n"
          ]
        },
        {
          "output_type": "stream",
          "name": "stdout",
          "text": [
            "[CV] END batch_size=128, model__l1_reg=0.1, model__learning_rate=0.001, model__loss=categorical_crossentropy, model__optimizer=adam; total time=   0.3s\n"
          ]
        },
        {
          "output_type": "stream",
          "name": "stderr",
          "text": [
            "/usr/local/lib/python3.10/dist-packages/scikeras/wrappers.py:915: UserWarning: ``build_fn`` will be renamed to ``model`` in a future release, at which point use of ``build_fn`` will raise an Error instead.\n",
            "  X, y = self._initialize(X, y)\n"
          ]
        },
        {
          "output_type": "stream",
          "name": "stdout",
          "text": [
            "Epoch 1/10\n",
            "[CV] END batch_size=128, model__l1_reg=0.1, model__learning_rate=0.001, model__loss=categorical_crossentropy, model__optimizer=adam; total time=   0.3s\n",
            "Epoch 1/10\n"
          ]
        },
        {
          "output_type": "stream",
          "name": "stderr",
          "text": [
            "/usr/local/lib/python3.10/dist-packages/scikeras/wrappers.py:915: UserWarning: ``build_fn`` will be renamed to ``model`` in a future release, at which point use of ``build_fn`` will raise an Error instead.\n",
            "  X, y = self._initialize(X, y)\n"
          ]
        },
        {
          "output_type": "stream",
          "name": "stdout",
          "text": [
            "[CV] END batch_size=128, model__l1_reg=0.1, model__learning_rate=0.001, model__loss=categorical_crossentropy, model__optimizer=sgd; total time=   0.3s\n",
            "Epoch 1/10\n"
          ]
        },
        {
          "output_type": "stream",
          "name": "stderr",
          "text": [
            "/usr/local/lib/python3.10/dist-packages/scikeras/wrappers.py:915: UserWarning: ``build_fn`` will be renamed to ``model`` in a future release, at which point use of ``build_fn`` will raise an Error instead.\n",
            "  X, y = self._initialize(X, y)\n"
          ]
        },
        {
          "output_type": "stream",
          "name": "stdout",
          "text": [
            "[CV] END batch_size=128, model__l1_reg=0.1, model__learning_rate=0.001, model__loss=categorical_crossentropy, model__optimizer=sgd; total time=   0.3s\n"
          ]
        },
        {
          "output_type": "stream",
          "name": "stderr",
          "text": [
            "/usr/local/lib/python3.10/dist-packages/scikeras/wrappers.py:915: UserWarning: ``build_fn`` will be renamed to ``model`` in a future release, at which point use of ``build_fn`` will raise an Error instead.\n",
            "  X, y = self._initialize(X, y)\n"
          ]
        },
        {
          "output_type": "stream",
          "name": "stdout",
          "text": [
            "Epoch 1/10\n",
            "[CV] END batch_size=128, model__l1_reg=0.1, model__learning_rate=0.001, model__loss=categorical_crossentropy, model__optimizer=sgd; total time=   0.4s\n"
          ]
        },
        {
          "output_type": "stream",
          "name": "stderr",
          "text": [
            "/usr/local/lib/python3.10/dist-packages/scikeras/wrappers.py:915: UserWarning: ``build_fn`` will be renamed to ``model`` in a future release, at which point use of ``build_fn`` will raise an Error instead.\n",
            "  X, y = self._initialize(X, y)\n"
          ]
        },
        {
          "output_type": "stream",
          "name": "stdout",
          "text": [
            "Epoch 1/10\n",
            "[CV] END batch_size=128, model__l1_reg=0.1, model__learning_rate=0.001, model__loss=categorical_crossentropy, model__optimizer=rmsprop; total time=   0.4s\n"
          ]
        },
        {
          "output_type": "stream",
          "name": "stderr",
          "text": [
            "/usr/local/lib/python3.10/dist-packages/scikeras/wrappers.py:915: UserWarning: ``build_fn`` will be renamed to ``model`` in a future release, at which point use of ``build_fn`` will raise an Error instead.\n",
            "  X, y = self._initialize(X, y)\n"
          ]
        },
        {
          "output_type": "stream",
          "name": "stdout",
          "text": [
            "Epoch 1/10\n",
            "[CV] END batch_size=128, model__l1_reg=0.1, model__learning_rate=0.001, model__loss=categorical_crossentropy, model__optimizer=rmsprop; total time=   0.4s\n"
          ]
        },
        {
          "output_type": "stream",
          "name": "stderr",
          "text": [
            "/usr/local/lib/python3.10/dist-packages/scikeras/wrappers.py:915: UserWarning: ``build_fn`` will be renamed to ``model`` in a future release, at which point use of ``build_fn`` will raise an Error instead.\n",
            "  X, y = self._initialize(X, y)\n"
          ]
        },
        {
          "output_type": "stream",
          "name": "stdout",
          "text": [
            "Epoch 1/10\n",
            "[CV] END batch_size=128, model__l1_reg=0.1, model__learning_rate=0.001, model__loss=categorical_crossentropy, model__optimizer=rmsprop; total time=   0.4s\n"
          ]
        },
        {
          "output_type": "stream",
          "name": "stderr",
          "text": [
            "/usr/local/lib/python3.10/dist-packages/scikeras/wrappers.py:915: UserWarning: ``build_fn`` will be renamed to ``model`` in a future release, at which point use of ``build_fn`` will raise an Error instead.\n",
            "  X, y = self._initialize(X, y)\n"
          ]
        },
        {
          "output_type": "stream",
          "name": "stdout",
          "text": [
            "Epoch 1/10\n",
            "2/2 [==============================] - 1s 73ms/step - loss: 565.4599 - accuracy: 0.0950\n",
            "Epoch 2/10\n",
            "2/2 [==============================] - 0s 61ms/step - loss: 233.1616 - accuracy: 0.1200\n",
            "Epoch 3/10\n",
            "2/2 [==============================] - 0s 67ms/step - loss: 282.9514 - accuracy: 0.1050\n",
            "Epoch 4/10\n",
            "2/2 [==============================] - 0s 67ms/step - loss: 203.1552 - accuracy: 0.1250\n",
            "Epoch 5/10\n",
            "2/2 [==============================] - 0s 57ms/step - loss: 145.3746 - accuracy: 0.1150\n",
            "Epoch 6/10\n",
            "2/2 [==============================] - 0s 70ms/step - loss: 167.3196 - accuracy: 0.1400\n",
            "Epoch 7/10\n",
            "2/2 [==============================] - 0s 61ms/step - loss: 135.8722 - accuracy: 0.1400\n",
            "Epoch 8/10\n",
            "2/2 [==============================] - 0s 61ms/step - loss: 118.2444 - accuracy: 0.1400\n",
            "Epoch 9/10\n",
            "2/2 [==============================] - 0s 63ms/step - loss: 116.1503 - accuracy: 0.1400\n",
            "Epoch 10/10\n",
            "2/2 [==============================] - 0s 65ms/step - loss: 103.0033 - accuracy: 0.1400\n",
            "1/1 [==============================] - 0s 89ms/step\n",
            "2/2 [==============================] - 0s 22ms/step\n",
            "[CV] END batch_size=128, model__l1_reg=0.1, model__learning_rate=0.01, model__loss=sparse_categorical_crossentropy, model__optimizer=adam; total time=   3.5s\n"
          ]
        },
        {
          "output_type": "stream",
          "name": "stderr",
          "text": [
            "/usr/local/lib/python3.10/dist-packages/scikeras/wrappers.py:915: UserWarning: ``build_fn`` will be renamed to ``model`` in a future release, at which point use of ``build_fn`` will raise an Error instead.\n",
            "  X, y = self._initialize(X, y)\n"
          ]
        },
        {
          "output_type": "stream",
          "name": "stdout",
          "text": [
            "Epoch 1/10\n",
            "2/2 [==============================] - 1s 61ms/step - loss: 565.8318 - accuracy: 0.1150\n",
            "Epoch 2/10\n",
            "2/2 [==============================] - 0s 64ms/step - loss: 233.4243 - accuracy: 0.1100\n",
            "Epoch 3/10\n",
            "2/2 [==============================] - 0s 68ms/step - loss: 283.4926 - accuracy: 0.1200\n",
            "Epoch 4/10\n",
            "2/2 [==============================] - 0s 65ms/step - loss: 203.8284 - accuracy: 0.1400\n",
            "Epoch 5/10\n",
            "2/2 [==============================] - 0s 85ms/step - loss: 146.0238 - accuracy: 0.1600\n",
            "Epoch 6/10\n",
            "2/2 [==============================] - 0s 67ms/step - loss: 167.6078 - accuracy: 0.1550\n",
            "Epoch 7/10\n",
            "2/2 [==============================] - 0s 64ms/step - loss: 136.5634 - accuracy: 0.1400\n",
            "Epoch 8/10\n",
            "2/2 [==============================] - 0s 61ms/step - loss: 118.6359 - accuracy: 0.1650\n",
            "Epoch 9/10\n",
            "2/2 [==============================] - 0s 60ms/step - loss: 116.2475 - accuracy: 0.1400\n",
            "Epoch 10/10\n",
            "2/2 [==============================] - 0s 60ms/step - loss: 103.1321 - accuracy: 0.1500\n",
            "1/1 [==============================] - 0s 118ms/step\n",
            "2/2 [==============================] - 0s 21ms/step\n",
            "[CV] END batch_size=128, model__l1_reg=0.1, model__learning_rate=0.01, model__loss=sparse_categorical_crossentropy, model__optimizer=adam; total time=   3.1s\n",
            "Epoch 1/10\n"
          ]
        },
        {
          "output_type": "stream",
          "name": "stderr",
          "text": [
            "/usr/local/lib/python3.10/dist-packages/scikeras/wrappers.py:915: UserWarning: ``build_fn`` will be renamed to ``model`` in a future release, at which point use of ``build_fn`` will raise an Error instead.\n",
            "  X, y = self._initialize(X, y)\n"
          ]
        },
        {
          "output_type": "stream",
          "name": "stdout",
          "text": [
            "2/2 [==============================] - 1s 65ms/step - loss: 564.6273 - accuracy: 0.1500\n",
            "Epoch 2/10\n",
            "2/2 [==============================] - 0s 66ms/step - loss: 233.4730 - accuracy: 0.1300\n",
            "Epoch 3/10\n",
            "2/2 [==============================] - 0s 68ms/step - loss: 282.9894 - accuracy: 0.1100\n",
            "Epoch 4/10\n",
            "2/2 [==============================] - 0s 71ms/step - loss: 203.7024 - accuracy: 0.1300\n",
            "Epoch 5/10\n",
            "2/2 [==============================] - 0s 66ms/step - loss: 146.3339 - accuracy: 0.1100\n",
            "Epoch 6/10\n",
            "2/2 [==============================] - 0s 72ms/step - loss: 167.5402 - accuracy: 0.1150\n",
            "Epoch 7/10\n",
            "2/2 [==============================] - 0s 74ms/step - loss: 136.8921 - accuracy: 0.1650\n",
            "Epoch 8/10\n",
            "2/2 [==============================] - 0s 67ms/step - loss: 118.6131 - accuracy: 0.1250\n",
            "Epoch 9/10\n",
            "2/2 [==============================] - 0s 68ms/step - loss: 116.1490 - accuracy: 0.1300\n",
            "Epoch 10/10\n",
            "2/2 [==============================] - 0s 69ms/step - loss: 103.2436 - accuracy: 0.1450\n",
            "1/1 [==============================] - 0s 92ms/step\n",
            "2/2 [==============================] - 0s 24ms/step\n",
            "[CV] END batch_size=128, model__l1_reg=0.1, model__learning_rate=0.01, model__loss=sparse_categorical_crossentropy, model__optimizer=adam; total time=   3.1s\n"
          ]
        },
        {
          "output_type": "stream",
          "name": "stderr",
          "text": [
            "/usr/local/lib/python3.10/dist-packages/scikeras/wrappers.py:915: UserWarning: ``build_fn`` will be renamed to ``model`` in a future release, at which point use of ``build_fn`` will raise an Error instead.\n",
            "  X, y = self._initialize(X, y)\n"
          ]
        },
        {
          "output_type": "stream",
          "name": "stdout",
          "text": [
            "Epoch 1/10\n",
            "2/2 [==============================] - 1s 112ms/step - loss: 657.9817 - accuracy: 0.1100\n",
            "Epoch 2/10\n",
            "2/2 [==============================] - 0s 91ms/step - loss: 571.6752 - accuracy: 0.0850\n",
            "Epoch 3/10\n",
            "2/2 [==============================] - 0s 98ms/step - loss: 491.7615 - accuracy: 0.1150\n",
            "Epoch 4/10\n",
            "2/2 [==============================] - 0s 97ms/step - loss: 418.2473 - accuracy: 0.1350\n",
            "Epoch 5/10\n",
            "2/2 [==============================] - 0s 90ms/step - loss: 351.1591 - accuracy: 0.1050\n",
            "Epoch 6/10\n",
            "2/2 [==============================] - 0s 98ms/step - loss: 290.5318 - accuracy: 0.1600\n",
            "Epoch 7/10\n",
            "2/2 [==============================] - 0s 89ms/step - loss: 236.3544 - accuracy: 0.1400\n",
            "Epoch 8/10\n",
            "2/2 [==============================] - 0s 93ms/step - loss: 188.5446 - accuracy: 0.1750\n",
            "Epoch 9/10\n",
            "2/2 [==============================] - 0s 100ms/step - loss: 147.1195 - accuracy: 0.1300\n",
            "Epoch 10/10\n",
            "2/2 [==============================] - 0s 87ms/step - loss: 112.1275 - accuracy: 0.1100\n",
            "1/1 [==============================] - 0s 146ms/step\n",
            "2/2 [==============================] - 0s 30ms/step\n",
            "[CV] END batch_size=128, model__l1_reg=0.1, model__learning_rate=0.01, model__loss=sparse_categorical_crossentropy, model__optimizer=sgd; total time=   3.8s\n",
            "Epoch 1/10\n"
          ]
        },
        {
          "output_type": "stream",
          "name": "stderr",
          "text": [
            "/usr/local/lib/python3.10/dist-packages/scikeras/wrappers.py:915: UserWarning: ``build_fn`` will be renamed to ``model`` in a future release, at which point use of ``build_fn`` will raise an Error instead.\n",
            "  X, y = self._initialize(X, y)\n"
          ]
        },
        {
          "output_type": "stream",
          "name": "stdout",
          "text": [
            "2/2 [==============================] - 1s 63ms/step - loss: 657.1312 - accuracy: 0.1000\n",
            "Epoch 2/10\n",
            "2/2 [==============================] - 0s 73ms/step - loss: 570.8063 - accuracy: 0.0750\n",
            "Epoch 3/10\n",
            "2/2 [==============================] - 0s 60ms/step - loss: 490.9048 - accuracy: 0.1100\n",
            "Epoch 4/10\n",
            "2/2 [==============================] - 0s 61ms/step - loss: 417.3886 - accuracy: 0.1050\n",
            "Epoch 5/10\n",
            "2/2 [==============================] - 0s 60ms/step - loss: 350.3137 - accuracy: 0.1200\n",
            "Epoch 6/10\n",
            "2/2 [==============================] - 0s 68ms/step - loss: 289.6866 - accuracy: 0.1150\n",
            "Epoch 7/10\n",
            "2/2 [==============================] - 0s 61ms/step - loss: 235.4747 - accuracy: 0.1250\n",
            "Epoch 8/10\n",
            "2/2 [==============================] - 0s 60ms/step - loss: 187.6671 - accuracy: 0.1550\n",
            "Epoch 9/10\n",
            "2/2 [==============================] - 0s 60ms/step - loss: 146.2899 - accuracy: 0.1300\n",
            "Epoch 10/10\n",
            "2/2 [==============================] - 0s 59ms/step - loss: 111.3103 - accuracy: 0.1650\n",
            "1/1 [==============================] - 0s 91ms/step\n",
            "2/2 [==============================] - 0s 23ms/step\n",
            "[CV] END batch_size=128, model__l1_reg=0.1, model__learning_rate=0.01, model__loss=sparse_categorical_crossentropy, model__optimizer=sgd; total time=   2.6s\n",
            "Epoch 1/10\n"
          ]
        },
        {
          "output_type": "stream",
          "name": "stderr",
          "text": [
            "/usr/local/lib/python3.10/dist-packages/scikeras/wrappers.py:915: UserWarning: ``build_fn`` will be renamed to ``model`` in a future release, at which point use of ``build_fn`` will raise an Error instead.\n",
            "  X, y = self._initialize(X, y)\n"
          ]
        },
        {
          "output_type": "stream",
          "name": "stdout",
          "text": [
            "2/2 [==============================] - 1s 57ms/step - loss: 657.3522 - accuracy: 0.1000\n",
            "Epoch 2/10\n",
            "2/2 [==============================] - 0s 67ms/step - loss: 570.9925 - accuracy: 0.0950\n",
            "Epoch 3/10\n",
            "2/2 [==============================] - 0s 62ms/step - loss: 491.1307 - accuracy: 0.1250\n",
            "Epoch 4/10\n",
            "2/2 [==============================] - 0s 63ms/step - loss: 417.6700 - accuracy: 0.0950\n",
            "Epoch 5/10\n",
            "2/2 [==============================] - 0s 66ms/step - loss: 350.6212 - accuracy: 0.1550\n",
            "Epoch 6/10\n",
            "2/2 [==============================] - 0s 73ms/step - loss: 289.9995 - accuracy: 0.1950\n",
            "Epoch 7/10\n",
            "2/2 [==============================] - 0s 60ms/step - loss: 235.8228 - accuracy: 0.1350\n",
            "Epoch 8/10\n",
            "2/2 [==============================] - 0s 63ms/step - loss: 188.0200 - accuracy: 0.1150\n",
            "Epoch 9/10\n",
            "2/2 [==============================] - 0s 64ms/step - loss: 146.6715 - accuracy: 0.1100\n",
            "Epoch 10/10\n",
            "2/2 [==============================] - 0s 65ms/step - loss: 111.7337 - accuracy: 0.1250\n",
            "1/1 [==============================] - 0s 91ms/step\n",
            "2/2 [==============================] - 0s 25ms/step\n",
            "[CV] END batch_size=128, model__l1_reg=0.1, model__learning_rate=0.01, model__loss=sparse_categorical_crossentropy, model__optimizer=sgd; total time=   2.7s\n",
            "Epoch 1/10\n"
          ]
        },
        {
          "output_type": "stream",
          "name": "stderr",
          "text": [
            "/usr/local/lib/python3.10/dist-packages/scikeras/wrappers.py:915: UserWarning: ``build_fn`` will be renamed to ``model`` in a future release, at which point use of ``build_fn`` will raise an Error instead.\n",
            "  X, y = self._initialize(X, y)\n"
          ]
        },
        {
          "output_type": "stream",
          "name": "stdout",
          "text": [
            "2/2 [==============================] - 1s 67ms/step - loss: 720.8162 - accuracy: 0.1150\n",
            "Epoch 2/10\n",
            "2/2 [==============================] - 0s 62ms/step - loss: 435.1248 - accuracy: 0.1150\n",
            "Epoch 3/10\n",
            "2/2 [==============================] - 0s 64ms/step - loss: 351.4357 - accuracy: 0.1250\n",
            "Epoch 4/10\n",
            "2/2 [==============================] - 0s 61ms/step - loss: 306.6745 - accuracy: 0.1000\n",
            "Epoch 5/10\n",
            "2/2 [==============================] - 0s 58ms/step - loss: 281.0026 - accuracy: 0.1050\n",
            "Epoch 6/10\n",
            "2/2 [==============================] - 0s 65ms/step - loss: 264.0516 - accuracy: 0.0950\n",
            "Epoch 7/10\n",
            "2/2 [==============================] - 0s 62ms/step - loss: 252.2351 - accuracy: 0.1300\n",
            "Epoch 8/10\n",
            "2/2 [==============================] - 0s 65ms/step - loss: 243.6905 - accuracy: 0.1100\n",
            "Epoch 9/10\n",
            "2/2 [==============================] - 0s 61ms/step - loss: 237.3800 - accuracy: 0.1400\n",
            "Epoch 10/10\n",
            "2/2 [==============================] - 0s 69ms/step - loss: 232.6526 - accuracy: 0.1400\n",
            "1/1 [==============================] - 0s 96ms/step\n",
            "2/2 [==============================] - 0s 21ms/step\n",
            "[CV] END batch_size=128, model__l1_reg=0.1, model__learning_rate=0.01, model__loss=sparse_categorical_crossentropy, model__optimizer=rmsprop; total time=   3.7s\n",
            "Epoch 1/10\n"
          ]
        },
        {
          "output_type": "stream",
          "name": "stderr",
          "text": [
            "/usr/local/lib/python3.10/dist-packages/scikeras/wrappers.py:915: UserWarning: ``build_fn`` will be renamed to ``model`` in a future release, at which point use of ``build_fn`` will raise an Error instead.\n",
            "  X, y = self._initialize(X, y)\n"
          ]
        },
        {
          "output_type": "stream",
          "name": "stdout",
          "text": [
            "2/2 [==============================] - 1s 106ms/step - loss: 720.6880 - accuracy: 0.0550\n",
            "Epoch 2/10\n",
            "2/2 [==============================] - 0s 82ms/step - loss: 434.6203 - accuracy: 0.1350\n",
            "Epoch 3/10\n",
            "2/2 [==============================] - 0s 103ms/step - loss: 350.9070 - accuracy: 0.0950\n",
            "Epoch 4/10\n",
            "2/2 [==============================] - 0s 88ms/step - loss: 306.0633 - accuracy: 0.1700\n",
            "Epoch 5/10\n",
            "2/2 [==============================] - 0s 85ms/step - loss: 280.3659 - accuracy: 0.1450\n",
            "Epoch 6/10\n",
            "2/2 [==============================] - 0s 91ms/step - loss: 263.4533 - accuracy: 0.1450\n",
            "Epoch 7/10\n",
            "2/2 [==============================] - 0s 98ms/step - loss: 251.7083 - accuracy: 0.1450\n",
            "Epoch 8/10\n",
            "2/2 [==============================] - 0s 110ms/step - loss: 243.1626 - accuracy: 0.1450\n",
            "Epoch 9/10\n",
            "2/2 [==============================] - 0s 91ms/step - loss: 236.8714 - accuracy: 0.1450\n",
            "Epoch 10/10\n",
            "2/2 [==============================] - 0s 95ms/step - loss: 232.1537 - accuracy: 0.1450\n",
            "1/1 [==============================] - 0s 97ms/step\n",
            "2/2 [==============================] - 0s 21ms/step\n",
            "[CV] END batch_size=128, model__l1_reg=0.1, model__learning_rate=0.01, model__loss=sparse_categorical_crossentropy, model__optimizer=rmsprop; total time=   3.9s\n",
            "Epoch 1/10\n"
          ]
        },
        {
          "output_type": "stream",
          "name": "stderr",
          "text": [
            "/usr/local/lib/python3.10/dist-packages/scikeras/wrappers.py:915: UserWarning: ``build_fn`` will be renamed to ``model`` in a future release, at which point use of ``build_fn`` will raise an Error instead.\n",
            "  X, y = self._initialize(X, y)\n"
          ]
        },
        {
          "output_type": "stream",
          "name": "stdout",
          "text": [
            "2/2 [==============================] - 1s 62ms/step - loss: 720.7644 - accuracy: 0.0800\n",
            "Epoch 2/10\n",
            "2/2 [==============================] - 0s 60ms/step - loss: 434.6526 - accuracy: 0.1100\n",
            "Epoch 3/10\n",
            "2/2 [==============================] - 0s 61ms/step - loss: 350.6791 - accuracy: 0.1300\n",
            "Epoch 4/10\n",
            "2/2 [==============================] - 0s 66ms/step - loss: 305.9761 - accuracy: 0.0950\n",
            "Epoch 5/10\n",
            "2/2 [==============================] - 0s 64ms/step - loss: 280.4361 - accuracy: 0.1650\n",
            "Epoch 6/10\n",
            "2/2 [==============================] - 0s 62ms/step - loss: 263.4796 - accuracy: 0.1150\n",
            "Epoch 7/10\n",
            "2/2 [==============================] - 0s 59ms/step - loss: 251.7151 - accuracy: 0.1400\n",
            "Epoch 8/10\n",
            "2/2 [==============================] - 0s 60ms/step - loss: 243.2020 - accuracy: 0.1450\n",
            "Epoch 9/10\n",
            "2/2 [==============================] - 0s 59ms/step - loss: 236.9233 - accuracy: 0.1450\n",
            "Epoch 10/10\n",
            "2/2 [==============================] - 0s 62ms/step - loss: 232.2053 - accuracy: 0.1450\n",
            "1/1 [==============================] - 0s 94ms/step\n",
            "2/2 [==============================] - 0s 23ms/step\n",
            "[CV] END batch_size=128, model__l1_reg=0.1, model__learning_rate=0.01, model__loss=sparse_categorical_crossentropy, model__optimizer=rmsprop; total time=   2.7s\n"
          ]
        },
        {
          "output_type": "stream",
          "name": "stderr",
          "text": [
            "/usr/local/lib/python3.10/dist-packages/scikeras/wrappers.py:915: UserWarning: ``build_fn`` will be renamed to ``model`` in a future release, at which point use of ``build_fn`` will raise an Error instead.\n",
            "  X, y = self._initialize(X, y)\n"
          ]
        },
        {
          "output_type": "stream",
          "name": "stdout",
          "text": [
            "Epoch 1/10\n",
            "[CV] END batch_size=128, model__l1_reg=0.1, model__learning_rate=0.01, model__loss=categorical_crossentropy, model__optimizer=adam; total time=   0.3s\n",
            "Epoch 1/10\n"
          ]
        },
        {
          "output_type": "stream",
          "name": "stderr",
          "text": [
            "/usr/local/lib/python3.10/dist-packages/scikeras/wrappers.py:915: UserWarning: ``build_fn`` will be renamed to ``model`` in a future release, at which point use of ``build_fn`` will raise an Error instead.\n",
            "  X, y = self._initialize(X, y)\n"
          ]
        },
        {
          "output_type": "stream",
          "name": "stdout",
          "text": [
            "[CV] END batch_size=128, model__l1_reg=0.1, model__learning_rate=0.01, model__loss=categorical_crossentropy, model__optimizer=adam; total time=   0.3s\n"
          ]
        },
        {
          "output_type": "stream",
          "name": "stderr",
          "text": [
            "/usr/local/lib/python3.10/dist-packages/scikeras/wrappers.py:915: UserWarning: ``build_fn`` will be renamed to ``model`` in a future release, at which point use of ``build_fn`` will raise an Error instead.\n",
            "  X, y = self._initialize(X, y)\n"
          ]
        },
        {
          "output_type": "stream",
          "name": "stdout",
          "text": [
            "Epoch 1/10\n",
            "[CV] END batch_size=128, model__l1_reg=0.1, model__learning_rate=0.01, model__loss=categorical_crossentropy, model__optimizer=adam; total time=   0.3s\n"
          ]
        },
        {
          "output_type": "stream",
          "name": "stderr",
          "text": [
            "/usr/local/lib/python3.10/dist-packages/scikeras/wrappers.py:915: UserWarning: ``build_fn`` will be renamed to ``model`` in a future release, at which point use of ``build_fn`` will raise an Error instead.\n",
            "  X, y = self._initialize(X, y)\n"
          ]
        },
        {
          "output_type": "stream",
          "name": "stdout",
          "text": [
            "Epoch 1/10\n",
            "[CV] END batch_size=128, model__l1_reg=0.1, model__learning_rate=0.01, model__loss=categorical_crossentropy, model__optimizer=sgd; total time=   0.3s\n"
          ]
        },
        {
          "output_type": "stream",
          "name": "stderr",
          "text": [
            "/usr/local/lib/python3.10/dist-packages/scikeras/wrappers.py:915: UserWarning: ``build_fn`` will be renamed to ``model`` in a future release, at which point use of ``build_fn`` will raise an Error instead.\n",
            "  X, y = self._initialize(X, y)\n"
          ]
        },
        {
          "output_type": "stream",
          "name": "stdout",
          "text": [
            "Epoch 1/10\n",
            "[CV] END batch_size=128, model__l1_reg=0.1, model__learning_rate=0.01, model__loss=categorical_crossentropy, model__optimizer=sgd; total time=   0.3s\n",
            "Epoch 1/10\n"
          ]
        },
        {
          "output_type": "stream",
          "name": "stderr",
          "text": [
            "/usr/local/lib/python3.10/dist-packages/scikeras/wrappers.py:915: UserWarning: ``build_fn`` will be renamed to ``model`` in a future release, at which point use of ``build_fn`` will raise an Error instead.\n",
            "  X, y = self._initialize(X, y)\n"
          ]
        },
        {
          "output_type": "stream",
          "name": "stdout",
          "text": [
            "[CV] END batch_size=128, model__l1_reg=0.1, model__learning_rate=0.01, model__loss=categorical_crossentropy, model__optimizer=sgd; total time=   0.3s\n",
            "Epoch 1/10\n"
          ]
        },
        {
          "output_type": "stream",
          "name": "stderr",
          "text": [
            "/usr/local/lib/python3.10/dist-packages/scikeras/wrappers.py:915: UserWarning: ``build_fn`` will be renamed to ``model`` in a future release, at which point use of ``build_fn`` will raise an Error instead.\n",
            "  X, y = self._initialize(X, y)\n"
          ]
        },
        {
          "output_type": "stream",
          "name": "stdout",
          "text": [
            "[CV] END batch_size=128, model__l1_reg=0.1, model__learning_rate=0.01, model__loss=categorical_crossentropy, model__optimizer=rmsprop; total time=   0.3s\n",
            "Epoch 1/10\n"
          ]
        },
        {
          "output_type": "stream",
          "name": "stderr",
          "text": [
            "/usr/local/lib/python3.10/dist-packages/scikeras/wrappers.py:915: UserWarning: ``build_fn`` will be renamed to ``model`` in a future release, at which point use of ``build_fn`` will raise an Error instead.\n",
            "  X, y = self._initialize(X, y)\n"
          ]
        },
        {
          "output_type": "stream",
          "name": "stdout",
          "text": [
            "[CV] END batch_size=128, model__l1_reg=0.1, model__learning_rate=0.01, model__loss=categorical_crossentropy, model__optimizer=rmsprop; total time=   0.3s\n"
          ]
        },
        {
          "output_type": "stream",
          "name": "stderr",
          "text": [
            "/usr/local/lib/python3.10/dist-packages/scikeras/wrappers.py:915: UserWarning: ``build_fn`` will be renamed to ``model`` in a future release, at which point use of ``build_fn`` will raise an Error instead.\n",
            "  X, y = self._initialize(X, y)\n"
          ]
        },
        {
          "output_type": "stream",
          "name": "stdout",
          "text": [
            "Epoch 1/10\n",
            "[CV] END batch_size=128, model__l1_reg=0.1, model__learning_rate=0.01, model__loss=categorical_crossentropy, model__optimizer=rmsprop; total time=   0.3s\n"
          ]
        },
        {
          "output_type": "stream",
          "name": "stderr",
          "text": [
            "/usr/local/lib/python3.10/dist-packages/sklearn/model_selection/_validation.py:378: FitFailedWarning: \n",
            "108 fits failed out of a total of 216.\n",
            "The score on these train-test partitions for these parameters will be set to nan.\n",
            "If these failures are not expected, you can try to debug them by setting error_score='raise'.\n",
            "\n",
            "Below are more details about the failures:\n",
            "--------------------------------------------------------------------------------\n",
            "108 fits failed with the following error:\n",
            "Traceback (most recent call last):\n",
            "  File \"/usr/local/lib/python3.10/dist-packages/sklearn/model_selection/_validation.py\", line 686, in _fit_and_score\n",
            "    estimator.fit(X_train, y_train, **fit_params)\n",
            "  File \"/usr/local/lib/python3.10/dist-packages/scikeras/wrappers.py\", line 1491, in fit\n",
            "    super().fit(X=X, y=y, sample_weight=sample_weight, **kwargs)\n",
            "  File \"/usr/local/lib/python3.10/dist-packages/scikeras/wrappers.py\", line 760, in fit\n",
            "    self._fit(\n",
            "  File \"/usr/local/lib/python3.10/dist-packages/scikeras/wrappers.py\", line 928, in _fit\n",
            "    self._fit_keras_model(\n",
            "  File \"/usr/local/lib/python3.10/dist-packages/scikeras/wrappers.py\", line 524, in _fit_keras_model\n",
            "    hist = self.model_.fit(x=X, y=y, **fit_args)\n",
            "  File \"/usr/local/lib/python3.10/dist-packages/keras/src/utils/traceback_utils.py\", line 70, in error_handler\n",
            "    raise e.with_traceback(filtered_tb) from None\n",
            "  File \"/tmp/__autograph_generated_file_1dyn61h.py\", line 15, in tf__train_function\n",
            "    retval_ = ag__.converted_call(ag__.ld(step_function), (ag__.ld(self), ag__.ld(iterator)), None, fscope)\n",
            "ValueError: in user code:\n",
            "\n",
            "    File \"/usr/local/lib/python3.10/dist-packages/keras/src/engine/training.py\", line 1401, in train_function  *\n",
            "        return step_function(self, iterator)\n",
            "    File \"/usr/local/lib/python3.10/dist-packages/keras/src/engine/training.py\", line 1384, in step_function  **\n",
            "        outputs = model.distribute_strategy.run(run_step, args=(data,))\n",
            "    File \"/usr/local/lib/python3.10/dist-packages/keras/src/engine/training.py\", line 1373, in run_step  **\n",
            "        outputs = model.train_step(data)\n",
            "    File \"/usr/local/lib/python3.10/dist-packages/keras/src/engine/training.py\", line 1151, in train_step\n",
            "        loss = self.compute_loss(x, y, y_pred, sample_weight)\n",
            "    File \"/usr/local/lib/python3.10/dist-packages/keras/src/engine/training.py\", line 1209, in compute_loss\n",
            "        return self.compiled_loss(\n",
            "    File \"/usr/local/lib/python3.10/dist-packages/keras/src/engine/compile_utils.py\", line 277, in __call__\n",
            "        loss_value = loss_obj(y_t, y_p, sample_weight=sw)\n",
            "    File \"/usr/local/lib/python3.10/dist-packages/keras/src/losses.py\", line 143, in __call__\n",
            "        losses = call_fn(y_true, y_pred)\n",
            "    File \"/usr/local/lib/python3.10/dist-packages/keras/src/losses.py\", line 270, in call  **\n",
            "        return ag_fn(y_true, y_pred, **self._fn_kwargs)\n",
            "    File \"/usr/local/lib/python3.10/dist-packages/keras/src/losses.py\", line 2221, in categorical_crossentropy\n",
            "        return backend.categorical_crossentropy(\n",
            "    File \"/usr/local/lib/python3.10/dist-packages/keras/src/backend.py\", line 5573, in categorical_crossentropy\n",
            "        target.shape.assert_is_compatible_with(output.shape)\n",
            "\n",
            "    ValueError: Shapes (None, 1) and (None, 10) are incompatible\n",
            "\n",
            "\n",
            "  warnings.warn(some_fits_failed_message, FitFailedWarning)\n",
            "/usr/local/lib/python3.10/dist-packages/sklearn/model_selection/_search.py:952: UserWarning: One or more of the test scores are non-finite: [0.2        0.14       0.18              nan        nan        nan\n",
            " 0.16       0.16666667 0.18333333        nan        nan        nan\n",
            " 0.18333333 0.1        0.14333333        nan        nan        nan\n",
            " 0.13666667 0.14333333 0.14333333        nan        nan        nan\n",
            " 0.16666667 0.15333333 0.12              nan        nan        nan\n",
            " 0.14333333 0.13666667 0.14333333        nan        nan        nan\n",
            " 0.25333333 0.11       0.18666667        nan        nan        nan\n",
            " 0.22       0.15333333 0.16              nan        nan        nan\n",
            " 0.21333333 0.09       0.16333333        nan        nan        nan\n",
            " 0.24       0.14666667 0.13666667        nan        nan        nan\n",
            " 0.19       0.11333333 0.13333333        nan        nan        nan\n",
            " 0.14333333 0.15333333 0.14333333        nan        nan        nan]\n",
            "  warnings.warn(\n",
            "/usr/local/lib/python3.10/dist-packages/sklearn/model_selection/_search.py:952: UserWarning: One or more of the train scores are non-finite: [0.26333333 0.14       0.19333333        nan        nan        nan\n",
            " 0.16166667 0.2        0.18666667        nan        nan        nan\n",
            " 0.205      0.10833333 0.13833333        nan        nan        nan\n",
            " 0.13666667 0.14666667 0.14333333        nan        nan        nan\n",
            " 0.18333333 0.16166667 0.11333333        nan        nan        nan\n",
            " 0.14333333 0.14166667 0.14333333        nan        nan        nan\n",
            " 0.33166667 0.11666667 0.19666667        nan        nan        nan\n",
            " 0.23666667 0.20666667 0.17166667        nan        nan        nan\n",
            " 0.24       0.08666667 0.17166667        nan        nan        nan\n",
            " 0.225      0.21       0.13666667        nan        nan        nan\n",
            " 0.19166667 0.10333333 0.115             nan        nan        nan\n",
            " 0.14333333 0.15       0.14333333        nan        nan        nan]\n",
            "  warnings.warn(\n",
            "/usr/local/lib/python3.10/dist-packages/scikeras/wrappers.py:915: UserWarning: ``build_fn`` will be renamed to ``model`` in a future release, at which point use of ``build_fn`` will raise an Error instead.\n",
            "  X, y = self._initialize(X, y)\n"
          ]
        },
        {
          "output_type": "stream",
          "name": "stdout",
          "text": [
            "Epoch 1/10\n",
            "3/3 [==============================] - 1s 64ms/step - loss: 8.8422 - accuracy: 0.1200\n",
            "Epoch 2/10\n",
            "3/3 [==============================] - 0s 74ms/step - loss: 7.8800 - accuracy: 0.1133\n",
            "Epoch 3/10\n",
            "3/3 [==============================] - 0s 66ms/step - loss: 6.9979 - accuracy: 0.1733\n",
            "Epoch 4/10\n",
            "3/3 [==============================] - 0s 67ms/step - loss: 6.2323 - accuracy: 0.1367\n",
            "Epoch 5/10\n",
            "3/3 [==============================] - 0s 67ms/step - loss: 5.5170 - accuracy: 0.1933\n",
            "Epoch 6/10\n",
            "3/3 [==============================] - 0s 78ms/step - loss: 4.9308 - accuracy: 0.2100\n",
            "Epoch 7/10\n",
            "3/3 [==============================] - 0s 66ms/step - loss: 4.4041 - accuracy: 0.2200\n",
            "Epoch 8/10\n",
            "3/3 [==============================] - 0s 66ms/step - loss: 3.9887 - accuracy: 0.2533\n",
            "Epoch 9/10\n",
            "3/3 [==============================] - 0s 67ms/step - loss: 3.6774 - accuracy: 0.2767\n",
            "Epoch 10/10\n",
            "3/3 [==============================] - 0s 72ms/step - loss: 3.5069 - accuracy: 0.2333\n"
          ]
        }
      ],
      "source": [
        "# Usa y_train_one_hot si eliges 'categorical_crossentropy', y_train para 'sparse_categorical_crossentropy'\n",
        "grid_result = grid.fit(x_train_sampled, y_train_sampled)\n"
      ]
    },
    {
      "cell_type": "markdown",
      "source": [
        "Analizar Variance y Bias del modelo"
      ],
      "metadata": {
        "id": "PCWX_3vqI4te"
      }
    },
    {
      "cell_type": "code",
      "source": [
        "# Asume que grid_result es el resultado de tu GridSearchCV\n",
        "\n",
        "mean_train = grid_result.cv_results_['mean_train_score']\n",
        "std_train = grid_result.cv_results_['std_train_score']\n",
        "\n",
        "mean_test = grid_result.cv_results_['mean_test_score']\n",
        "std_test = grid_result.cv_results_['std_test_score']\n",
        "\n",
        "params = grid_result.cv_results_['params']\n",
        "\n",
        "results_df = pd.DataFrame(params)\n",
        "results_df['Train mean Accuracy'] = mean_train\n",
        "results_df['Test mean Accuracy'] = std_train\n",
        "\n",
        "results_df['Train std Accuracy'] = mean_train\n",
        "results_df['Test std Accuracy'] = std_test\n",
        "\n",
        "\n",
        "# Opcionalmente, podrías querer añadir una columna ID para identificar cada configuración\n",
        "results_df['Config ID'] = results_df.index\n",
        "\n",
        "\n",
        ""
      ],
      "metadata": {
        "id": "d-Ut9bSBKw_K"
      },
      "execution_count": 12,
      "outputs": []
    },
    {
      "cell_type": "code",
      "source": [
        "results_df['variance'] = results_df['Train mean Accuracy'] + results_df['Test mean Accuracy']"
      ],
      "metadata": {
        "id": "Fc94nwnG53mU"
      },
      "execution_count": 14,
      "outputs": []
    },
    {
      "cell_type": "code",
      "source": [
        "results_df.sort_values(by = 'variance', ascending = True).head(30)"
      ],
      "metadata": {
        "colab": {
          "base_uri": "https://localhost:8080/",
          "height": 1000
        },
        "id": "Du003nZSOglc",
        "outputId": "7cc8de43-ded8-4247-9e38-003b89d5b515"
      },
      "execution_count": 16,
      "outputs": [
        {
          "output_type": "execute_result",
          "data": {
            "text/plain": [
              "    batch_size  model__l1_reg  model__learning_rate  \\\n",
              "49         128          0.010                 0.001   \n",
              "13          64          0.010                 0.001   \n",
              "61         128          0.100                 0.001   \n",
              "26          64          0.100                 0.001   \n",
              "62         128          0.100                 0.001   \n",
              "37         128          0.001                 0.001   \n",
              "56         128          0.010                 0.010   \n",
              "18          64          0.010                 0.010   \n",
              "32          64          0.100                 0.010   \n",
              "66         128          0.100                 0.010   \n",
              "30          64          0.100                 0.010   \n",
              "68         128          0.100                 0.010   \n",
              "20          64          0.010                 0.010   \n",
              "1           64          0.001                 0.001   \n",
              "14          64          0.010                 0.001   \n",
              "19          64          0.010                 0.010   \n",
              "31          64          0.100                 0.010   \n",
              "67         128          0.100                 0.010   \n",
              "6           64          0.001                 0.010   \n",
              "44         128          0.001                 0.010   \n",
              "25          64          0.100                 0.001   \n",
              "50         128          0.010                 0.001   \n",
              "38         128          0.001                 0.001   \n",
              "7           64          0.001                 0.010   \n",
              "2           64          0.001                 0.001   \n",
              "24          64          0.100                 0.001   \n",
              "60         128          0.100                 0.001   \n",
              "8           64          0.001                 0.010   \n",
              "43         128          0.001                 0.010   \n",
              "54         128          0.010                 0.010   \n",
              "\n",
              "                        model__loss model__optimizer  Train mean Accuracy  \\\n",
              "49  sparse_categorical_crossentropy              sgd             0.086667   \n",
              "13  sparse_categorical_crossentropy              sgd             0.108333   \n",
              "61  sparse_categorical_crossentropy              sgd             0.103333   \n",
              "26  sparse_categorical_crossentropy          rmsprop             0.113333   \n",
              "62  sparse_categorical_crossentropy          rmsprop             0.115000   \n",
              "37  sparse_categorical_crossentropy              sgd             0.116667   \n",
              "56  sparse_categorical_crossentropy          rmsprop             0.136667   \n",
              "18  sparse_categorical_crossentropy             adam             0.136667   \n",
              "32  sparse_categorical_crossentropy          rmsprop             0.143333   \n",
              "66  sparse_categorical_crossentropy             adam             0.143333   \n",
              "30  sparse_categorical_crossentropy             adam             0.143333   \n",
              "68  sparse_categorical_crossentropy          rmsprop             0.143333   \n",
              "20  sparse_categorical_crossentropy          rmsprop             0.143333   \n",
              "1   sparse_categorical_crossentropy              sgd             0.140000   \n",
              "14  sparse_categorical_crossentropy          rmsprop             0.138333   \n",
              "19  sparse_categorical_crossentropy              sgd             0.146667   \n",
              "31  sparse_categorical_crossentropy              sgd             0.141667   \n",
              "67  sparse_categorical_crossentropy              sgd             0.150000   \n",
              "6   sparse_categorical_crossentropy             adam             0.161667   \n",
              "44  sparse_categorical_crossentropy          rmsprop             0.171667   \n",
              "25  sparse_categorical_crossentropy              sgd             0.161667   \n",
              "50  sparse_categorical_crossentropy          rmsprop             0.171667   \n",
              "38  sparse_categorical_crossentropy          rmsprop             0.196667   \n",
              "7   sparse_categorical_crossentropy              sgd             0.200000   \n",
              "2   sparse_categorical_crossentropy          rmsprop             0.193333   \n",
              "24  sparse_categorical_crossentropy             adam             0.183333   \n",
              "60  sparse_categorical_crossentropy             adam             0.191667   \n",
              "8   sparse_categorical_crossentropy          rmsprop             0.186667   \n",
              "43  sparse_categorical_crossentropy              sgd             0.206667   \n",
              "54  sparse_categorical_crossentropy             adam             0.225000   \n",
              "\n",
              "    Test mean Accuracy  Train std Accuracy  Test std Accuracy  Config ID  \\\n",
              "49            0.010274            0.086667           0.028284         49   \n",
              "13            0.002357            0.108333           0.021602         13   \n",
              "61            0.016997            0.103333           0.036818         61   \n",
              "26            0.010274            0.113333           0.008165         26   \n",
              "62            0.014720            0.115000           0.004714         62   \n",
              "37            0.013123            0.116667           0.008165         37   \n",
              "56            0.008498            0.136667           0.012472         56   \n",
              "18            0.008498            0.136667           0.012472         18   \n",
              "32            0.002357            0.143333           0.004714         32   \n",
              "66            0.002357            0.143333           0.004714         66   \n",
              "30            0.002357            0.143333           0.004714         30   \n",
              "68            0.002357            0.143333           0.004714         68   \n",
              "20            0.002357            0.143333           0.004714         20   \n",
              "1             0.007071            0.140000           0.037417          1   \n",
              "14            0.010274            0.138333           0.016997         14   \n",
              "19            0.010274            0.146667           0.020548         19   \n",
              "31            0.041700            0.141667           0.024944         31   \n",
              "67            0.033417            0.150000           0.030912         67   \n",
              "6             0.027183            0.161667           0.021602          6   \n",
              "44            0.019293            0.171667           0.014142         44   \n",
              "25            0.037933            0.161667           0.012472         25   \n",
              "50            0.031180            0.171667           0.032998         50   \n",
              "38            0.006236            0.196667           0.020548         38   \n",
              "7             0.008165            0.200000           0.026247          7   \n",
              "2             0.015456            0.193333           0.014142          2   \n",
              "24            0.027183            0.183333           0.024944         24   \n",
              "60            0.030641            0.191667           0.028284         60   \n",
              "8             0.041096            0.186667           0.023570          8   \n",
              "43            0.023921            0.206667           0.016997         43   \n",
              "54            0.008165            0.225000           0.028284         54   \n",
              "\n",
              "    variance  \n",
              "49  0.096941  \n",
              "13  0.110690  \n",
              "61  0.120330  \n",
              "26  0.123607  \n",
              "62  0.129720  \n",
              "37  0.129790  \n",
              "56  0.145165  \n",
              "18  0.145165  \n",
              "32  0.145690  \n",
              "66  0.145690  \n",
              "30  0.145690  \n",
              "68  0.145690  \n",
              "20  0.145690  \n",
              "1   0.147071  \n",
              "14  0.148607  \n",
              "19  0.156941  \n",
              "31  0.183367  \n",
              "67  0.183417  \n",
              "6   0.188849  \n",
              "44  0.190960  \n",
              "25  0.199599  \n",
              "50  0.202847  \n",
              "38  0.202903  \n",
              "7   0.208165  \n",
              "2   0.208789  \n",
              "24  0.210516  \n",
              "60  0.222308  \n",
              "8   0.227763  \n",
              "43  0.230588  \n",
              "54  0.233165  "
            ],
            "text/html": [
              "\n",
              "  <div id=\"df-49cea9d2-4d30-4ca5-8a84-1d338cca530b\" class=\"colab-df-container\">\n",
              "    <div>\n",
              "<style scoped>\n",
              "    .dataframe tbody tr th:only-of-type {\n",
              "        vertical-align: middle;\n",
              "    }\n",
              "\n",
              "    .dataframe tbody tr th {\n",
              "        vertical-align: top;\n",
              "    }\n",
              "\n",
              "    .dataframe thead th {\n",
              "        text-align: right;\n",
              "    }\n",
              "</style>\n",
              "<table border=\"1\" class=\"dataframe\">\n",
              "  <thead>\n",
              "    <tr style=\"text-align: right;\">\n",
              "      <th></th>\n",
              "      <th>batch_size</th>\n",
              "      <th>model__l1_reg</th>\n",
              "      <th>model__learning_rate</th>\n",
              "      <th>model__loss</th>\n",
              "      <th>model__optimizer</th>\n",
              "      <th>Train mean Accuracy</th>\n",
              "      <th>Test mean Accuracy</th>\n",
              "      <th>Train std Accuracy</th>\n",
              "      <th>Test std Accuracy</th>\n",
              "      <th>Config ID</th>\n",
              "      <th>variance</th>\n",
              "    </tr>\n",
              "  </thead>\n",
              "  <tbody>\n",
              "    <tr>\n",
              "      <th>49</th>\n",
              "      <td>128</td>\n",
              "      <td>0.010</td>\n",
              "      <td>0.001</td>\n",
              "      <td>sparse_categorical_crossentropy</td>\n",
              "      <td>sgd</td>\n",
              "      <td>0.086667</td>\n",
              "      <td>0.010274</td>\n",
              "      <td>0.086667</td>\n",
              "      <td>0.028284</td>\n",
              "      <td>49</td>\n",
              "      <td>0.096941</td>\n",
              "    </tr>\n",
              "    <tr>\n",
              "      <th>13</th>\n",
              "      <td>64</td>\n",
              "      <td>0.010</td>\n",
              "      <td>0.001</td>\n",
              "      <td>sparse_categorical_crossentropy</td>\n",
              "      <td>sgd</td>\n",
              "      <td>0.108333</td>\n",
              "      <td>0.002357</td>\n",
              "      <td>0.108333</td>\n",
              "      <td>0.021602</td>\n",
              "      <td>13</td>\n",
              "      <td>0.110690</td>\n",
              "    </tr>\n",
              "    <tr>\n",
              "      <th>61</th>\n",
              "      <td>128</td>\n",
              "      <td>0.100</td>\n",
              "      <td>0.001</td>\n",
              "      <td>sparse_categorical_crossentropy</td>\n",
              "      <td>sgd</td>\n",
              "      <td>0.103333</td>\n",
              "      <td>0.016997</td>\n",
              "      <td>0.103333</td>\n",
              "      <td>0.036818</td>\n",
              "      <td>61</td>\n",
              "      <td>0.120330</td>\n",
              "    </tr>\n",
              "    <tr>\n",
              "      <th>26</th>\n",
              "      <td>64</td>\n",
              "      <td>0.100</td>\n",
              "      <td>0.001</td>\n",
              "      <td>sparse_categorical_crossentropy</td>\n",
              "      <td>rmsprop</td>\n",
              "      <td>0.113333</td>\n",
              "      <td>0.010274</td>\n",
              "      <td>0.113333</td>\n",
              "      <td>0.008165</td>\n",
              "      <td>26</td>\n",
              "      <td>0.123607</td>\n",
              "    </tr>\n",
              "    <tr>\n",
              "      <th>62</th>\n",
              "      <td>128</td>\n",
              "      <td>0.100</td>\n",
              "      <td>0.001</td>\n",
              "      <td>sparse_categorical_crossentropy</td>\n",
              "      <td>rmsprop</td>\n",
              "      <td>0.115000</td>\n",
              "      <td>0.014720</td>\n",
              "      <td>0.115000</td>\n",
              "      <td>0.004714</td>\n",
              "      <td>62</td>\n",
              "      <td>0.129720</td>\n",
              "    </tr>\n",
              "    <tr>\n",
              "      <th>37</th>\n",
              "      <td>128</td>\n",
              "      <td>0.001</td>\n",
              "      <td>0.001</td>\n",
              "      <td>sparse_categorical_crossentropy</td>\n",
              "      <td>sgd</td>\n",
              "      <td>0.116667</td>\n",
              "      <td>0.013123</td>\n",
              "      <td>0.116667</td>\n",
              "      <td>0.008165</td>\n",
              "      <td>37</td>\n",
              "      <td>0.129790</td>\n",
              "    </tr>\n",
              "    <tr>\n",
              "      <th>56</th>\n",
              "      <td>128</td>\n",
              "      <td>0.010</td>\n",
              "      <td>0.010</td>\n",
              "      <td>sparse_categorical_crossentropy</td>\n",
              "      <td>rmsprop</td>\n",
              "      <td>0.136667</td>\n",
              "      <td>0.008498</td>\n",
              "      <td>0.136667</td>\n",
              "      <td>0.012472</td>\n",
              "      <td>56</td>\n",
              "      <td>0.145165</td>\n",
              "    </tr>\n",
              "    <tr>\n",
              "      <th>18</th>\n",
              "      <td>64</td>\n",
              "      <td>0.010</td>\n",
              "      <td>0.010</td>\n",
              "      <td>sparse_categorical_crossentropy</td>\n",
              "      <td>adam</td>\n",
              "      <td>0.136667</td>\n",
              "      <td>0.008498</td>\n",
              "      <td>0.136667</td>\n",
              "      <td>0.012472</td>\n",
              "      <td>18</td>\n",
              "      <td>0.145165</td>\n",
              "    </tr>\n",
              "    <tr>\n",
              "      <th>32</th>\n",
              "      <td>64</td>\n",
              "      <td>0.100</td>\n",
              "      <td>0.010</td>\n",
              "      <td>sparse_categorical_crossentropy</td>\n",
              "      <td>rmsprop</td>\n",
              "      <td>0.143333</td>\n",
              "      <td>0.002357</td>\n",
              "      <td>0.143333</td>\n",
              "      <td>0.004714</td>\n",
              "      <td>32</td>\n",
              "      <td>0.145690</td>\n",
              "    </tr>\n",
              "    <tr>\n",
              "      <th>66</th>\n",
              "      <td>128</td>\n",
              "      <td>0.100</td>\n",
              "      <td>0.010</td>\n",
              "      <td>sparse_categorical_crossentropy</td>\n",
              "      <td>adam</td>\n",
              "      <td>0.143333</td>\n",
              "      <td>0.002357</td>\n",
              "      <td>0.143333</td>\n",
              "      <td>0.004714</td>\n",
              "      <td>66</td>\n",
              "      <td>0.145690</td>\n",
              "    </tr>\n",
              "    <tr>\n",
              "      <th>30</th>\n",
              "      <td>64</td>\n",
              "      <td>0.100</td>\n",
              "      <td>0.010</td>\n",
              "      <td>sparse_categorical_crossentropy</td>\n",
              "      <td>adam</td>\n",
              "      <td>0.143333</td>\n",
              "      <td>0.002357</td>\n",
              "      <td>0.143333</td>\n",
              "      <td>0.004714</td>\n",
              "      <td>30</td>\n",
              "      <td>0.145690</td>\n",
              "    </tr>\n",
              "    <tr>\n",
              "      <th>68</th>\n",
              "      <td>128</td>\n",
              "      <td>0.100</td>\n",
              "      <td>0.010</td>\n",
              "      <td>sparse_categorical_crossentropy</td>\n",
              "      <td>rmsprop</td>\n",
              "      <td>0.143333</td>\n",
              "      <td>0.002357</td>\n",
              "      <td>0.143333</td>\n",
              "      <td>0.004714</td>\n",
              "      <td>68</td>\n",
              "      <td>0.145690</td>\n",
              "    </tr>\n",
              "    <tr>\n",
              "      <th>20</th>\n",
              "      <td>64</td>\n",
              "      <td>0.010</td>\n",
              "      <td>0.010</td>\n",
              "      <td>sparse_categorical_crossentropy</td>\n",
              "      <td>rmsprop</td>\n",
              "      <td>0.143333</td>\n",
              "      <td>0.002357</td>\n",
              "      <td>0.143333</td>\n",
              "      <td>0.004714</td>\n",
              "      <td>20</td>\n",
              "      <td>0.145690</td>\n",
              "    </tr>\n",
              "    <tr>\n",
              "      <th>1</th>\n",
              "      <td>64</td>\n",
              "      <td>0.001</td>\n",
              "      <td>0.001</td>\n",
              "      <td>sparse_categorical_crossentropy</td>\n",
              "      <td>sgd</td>\n",
              "      <td>0.140000</td>\n",
              "      <td>0.007071</td>\n",
              "      <td>0.140000</td>\n",
              "      <td>0.037417</td>\n",
              "      <td>1</td>\n",
              "      <td>0.147071</td>\n",
              "    </tr>\n",
              "    <tr>\n",
              "      <th>14</th>\n",
              "      <td>64</td>\n",
              "      <td>0.010</td>\n",
              "      <td>0.001</td>\n",
              "      <td>sparse_categorical_crossentropy</td>\n",
              "      <td>rmsprop</td>\n",
              "      <td>0.138333</td>\n",
              "      <td>0.010274</td>\n",
              "      <td>0.138333</td>\n",
              "      <td>0.016997</td>\n",
              "      <td>14</td>\n",
              "      <td>0.148607</td>\n",
              "    </tr>\n",
              "    <tr>\n",
              "      <th>19</th>\n",
              "      <td>64</td>\n",
              "      <td>0.010</td>\n",
              "      <td>0.010</td>\n",
              "      <td>sparse_categorical_crossentropy</td>\n",
              "      <td>sgd</td>\n",
              "      <td>0.146667</td>\n",
              "      <td>0.010274</td>\n",
              "      <td>0.146667</td>\n",
              "      <td>0.020548</td>\n",
              "      <td>19</td>\n",
              "      <td>0.156941</td>\n",
              "    </tr>\n",
              "    <tr>\n",
              "      <th>31</th>\n",
              "      <td>64</td>\n",
              "      <td>0.100</td>\n",
              "      <td>0.010</td>\n",
              "      <td>sparse_categorical_crossentropy</td>\n",
              "      <td>sgd</td>\n",
              "      <td>0.141667</td>\n",
              "      <td>0.041700</td>\n",
              "      <td>0.141667</td>\n",
              "      <td>0.024944</td>\n",
              "      <td>31</td>\n",
              "      <td>0.183367</td>\n",
              "    </tr>\n",
              "    <tr>\n",
              "      <th>67</th>\n",
              "      <td>128</td>\n",
              "      <td>0.100</td>\n",
              "      <td>0.010</td>\n",
              "      <td>sparse_categorical_crossentropy</td>\n",
              "      <td>sgd</td>\n",
              "      <td>0.150000</td>\n",
              "      <td>0.033417</td>\n",
              "      <td>0.150000</td>\n",
              "      <td>0.030912</td>\n",
              "      <td>67</td>\n",
              "      <td>0.183417</td>\n",
              "    </tr>\n",
              "    <tr>\n",
              "      <th>6</th>\n",
              "      <td>64</td>\n",
              "      <td>0.001</td>\n",
              "      <td>0.010</td>\n",
              "      <td>sparse_categorical_crossentropy</td>\n",
              "      <td>adam</td>\n",
              "      <td>0.161667</td>\n",
              "      <td>0.027183</td>\n",
              "      <td>0.161667</td>\n",
              "      <td>0.021602</td>\n",
              "      <td>6</td>\n",
              "      <td>0.188849</td>\n",
              "    </tr>\n",
              "    <tr>\n",
              "      <th>44</th>\n",
              "      <td>128</td>\n",
              "      <td>0.001</td>\n",
              "      <td>0.010</td>\n",
              "      <td>sparse_categorical_crossentropy</td>\n",
              "      <td>rmsprop</td>\n",
              "      <td>0.171667</td>\n",
              "      <td>0.019293</td>\n",
              "      <td>0.171667</td>\n",
              "      <td>0.014142</td>\n",
              "      <td>44</td>\n",
              "      <td>0.190960</td>\n",
              "    </tr>\n",
              "    <tr>\n",
              "      <th>25</th>\n",
              "      <td>64</td>\n",
              "      <td>0.100</td>\n",
              "      <td>0.001</td>\n",
              "      <td>sparse_categorical_crossentropy</td>\n",
              "      <td>sgd</td>\n",
              "      <td>0.161667</td>\n",
              "      <td>0.037933</td>\n",
              "      <td>0.161667</td>\n",
              "      <td>0.012472</td>\n",
              "      <td>25</td>\n",
              "      <td>0.199599</td>\n",
              "    </tr>\n",
              "    <tr>\n",
              "      <th>50</th>\n",
              "      <td>128</td>\n",
              "      <td>0.010</td>\n",
              "      <td>0.001</td>\n",
              "      <td>sparse_categorical_crossentropy</td>\n",
              "      <td>rmsprop</td>\n",
              "      <td>0.171667</td>\n",
              "      <td>0.031180</td>\n",
              "      <td>0.171667</td>\n",
              "      <td>0.032998</td>\n",
              "      <td>50</td>\n",
              "      <td>0.202847</td>\n",
              "    </tr>\n",
              "    <tr>\n",
              "      <th>38</th>\n",
              "      <td>128</td>\n",
              "      <td>0.001</td>\n",
              "      <td>0.001</td>\n",
              "      <td>sparse_categorical_crossentropy</td>\n",
              "      <td>rmsprop</td>\n",
              "      <td>0.196667</td>\n",
              "      <td>0.006236</td>\n",
              "      <td>0.196667</td>\n",
              "      <td>0.020548</td>\n",
              "      <td>38</td>\n",
              "      <td>0.202903</td>\n",
              "    </tr>\n",
              "    <tr>\n",
              "      <th>7</th>\n",
              "      <td>64</td>\n",
              "      <td>0.001</td>\n",
              "      <td>0.010</td>\n",
              "      <td>sparse_categorical_crossentropy</td>\n",
              "      <td>sgd</td>\n",
              "      <td>0.200000</td>\n",
              "      <td>0.008165</td>\n",
              "      <td>0.200000</td>\n",
              "      <td>0.026247</td>\n",
              "      <td>7</td>\n",
              "      <td>0.208165</td>\n",
              "    </tr>\n",
              "    <tr>\n",
              "      <th>2</th>\n",
              "      <td>64</td>\n",
              "      <td>0.001</td>\n",
              "      <td>0.001</td>\n",
              "      <td>sparse_categorical_crossentropy</td>\n",
              "      <td>rmsprop</td>\n",
              "      <td>0.193333</td>\n",
              "      <td>0.015456</td>\n",
              "      <td>0.193333</td>\n",
              "      <td>0.014142</td>\n",
              "      <td>2</td>\n",
              "      <td>0.208789</td>\n",
              "    </tr>\n",
              "    <tr>\n",
              "      <th>24</th>\n",
              "      <td>64</td>\n",
              "      <td>0.100</td>\n",
              "      <td>0.001</td>\n",
              "      <td>sparse_categorical_crossentropy</td>\n",
              "      <td>adam</td>\n",
              "      <td>0.183333</td>\n",
              "      <td>0.027183</td>\n",
              "      <td>0.183333</td>\n",
              "      <td>0.024944</td>\n",
              "      <td>24</td>\n",
              "      <td>0.210516</td>\n",
              "    </tr>\n",
              "    <tr>\n",
              "      <th>60</th>\n",
              "      <td>128</td>\n",
              "      <td>0.100</td>\n",
              "      <td>0.001</td>\n",
              "      <td>sparse_categorical_crossentropy</td>\n",
              "      <td>adam</td>\n",
              "      <td>0.191667</td>\n",
              "      <td>0.030641</td>\n",
              "      <td>0.191667</td>\n",
              "      <td>0.028284</td>\n",
              "      <td>60</td>\n",
              "      <td>0.222308</td>\n",
              "    </tr>\n",
              "    <tr>\n",
              "      <th>8</th>\n",
              "      <td>64</td>\n",
              "      <td>0.001</td>\n",
              "      <td>0.010</td>\n",
              "      <td>sparse_categorical_crossentropy</td>\n",
              "      <td>rmsprop</td>\n",
              "      <td>0.186667</td>\n",
              "      <td>0.041096</td>\n",
              "      <td>0.186667</td>\n",
              "      <td>0.023570</td>\n",
              "      <td>8</td>\n",
              "      <td>0.227763</td>\n",
              "    </tr>\n",
              "    <tr>\n",
              "      <th>43</th>\n",
              "      <td>128</td>\n",
              "      <td>0.001</td>\n",
              "      <td>0.010</td>\n",
              "      <td>sparse_categorical_crossentropy</td>\n",
              "      <td>sgd</td>\n",
              "      <td>0.206667</td>\n",
              "      <td>0.023921</td>\n",
              "      <td>0.206667</td>\n",
              "      <td>0.016997</td>\n",
              "      <td>43</td>\n",
              "      <td>0.230588</td>\n",
              "    </tr>\n",
              "    <tr>\n",
              "      <th>54</th>\n",
              "      <td>128</td>\n",
              "      <td>0.010</td>\n",
              "      <td>0.010</td>\n",
              "      <td>sparse_categorical_crossentropy</td>\n",
              "      <td>adam</td>\n",
              "      <td>0.225000</td>\n",
              "      <td>0.008165</td>\n",
              "      <td>0.225000</td>\n",
              "      <td>0.028284</td>\n",
              "      <td>54</td>\n",
              "      <td>0.233165</td>\n",
              "    </tr>\n",
              "  </tbody>\n",
              "</table>\n",
              "</div>\n",
              "    <div class=\"colab-df-buttons\">\n",
              "\n",
              "  <div class=\"colab-df-container\">\n",
              "    <button class=\"colab-df-convert\" onclick=\"convertToInteractive('df-49cea9d2-4d30-4ca5-8a84-1d338cca530b')\"\n",
              "            title=\"Convert this dataframe to an interactive table.\"\n",
              "            style=\"display:none;\">\n",
              "\n",
              "  <svg xmlns=\"http://www.w3.org/2000/svg\" height=\"24px\" viewBox=\"0 -960 960 960\">\n",
              "    <path d=\"M120-120v-720h720v720H120Zm60-500h600v-160H180v160Zm220 220h160v-160H400v160Zm0 220h160v-160H400v160ZM180-400h160v-160H180v160Zm440 0h160v-160H620v160ZM180-180h160v-160H180v160Zm440 0h160v-160H620v160Z\"/>\n",
              "  </svg>\n",
              "    </button>\n",
              "\n",
              "  <style>\n",
              "    .colab-df-container {\n",
              "      display:flex;\n",
              "      gap: 12px;\n",
              "    }\n",
              "\n",
              "    .colab-df-convert {\n",
              "      background-color: #E8F0FE;\n",
              "      border: none;\n",
              "      border-radius: 50%;\n",
              "      cursor: pointer;\n",
              "      display: none;\n",
              "      fill: #1967D2;\n",
              "      height: 32px;\n",
              "      padding: 0 0 0 0;\n",
              "      width: 32px;\n",
              "    }\n",
              "\n",
              "    .colab-df-convert:hover {\n",
              "      background-color: #E2EBFA;\n",
              "      box-shadow: 0px 1px 2px rgba(60, 64, 67, 0.3), 0px 1px 3px 1px rgba(60, 64, 67, 0.15);\n",
              "      fill: #174EA6;\n",
              "    }\n",
              "\n",
              "    .colab-df-buttons div {\n",
              "      margin-bottom: 4px;\n",
              "    }\n",
              "\n",
              "    [theme=dark] .colab-df-convert {\n",
              "      background-color: #3B4455;\n",
              "      fill: #D2E3FC;\n",
              "    }\n",
              "\n",
              "    [theme=dark] .colab-df-convert:hover {\n",
              "      background-color: #434B5C;\n",
              "      box-shadow: 0px 1px 3px 1px rgba(0, 0, 0, 0.15);\n",
              "      filter: drop-shadow(0px 1px 2px rgba(0, 0, 0, 0.3));\n",
              "      fill: #FFFFFF;\n",
              "    }\n",
              "  </style>\n",
              "\n",
              "    <script>\n",
              "      const buttonEl =\n",
              "        document.querySelector('#df-49cea9d2-4d30-4ca5-8a84-1d338cca530b button.colab-df-convert');\n",
              "      buttonEl.style.display =\n",
              "        google.colab.kernel.accessAllowed ? 'block' : 'none';\n",
              "\n",
              "      async function convertToInteractive(key) {\n",
              "        const element = document.querySelector('#df-49cea9d2-4d30-4ca5-8a84-1d338cca530b');\n",
              "        const dataTable =\n",
              "          await google.colab.kernel.invokeFunction('convertToInteractive',\n",
              "                                                    [key], {});\n",
              "        if (!dataTable) return;\n",
              "\n",
              "        const docLinkHtml = 'Like what you see? Visit the ' +\n",
              "          '<a target=\"_blank\" href=https://colab.research.google.com/notebooks/data_table.ipynb>data table notebook</a>'\n",
              "          + ' to learn more about interactive tables.';\n",
              "        element.innerHTML = '';\n",
              "        dataTable['output_type'] = 'display_data';\n",
              "        await google.colab.output.renderOutput(dataTable, element);\n",
              "        const docLink = document.createElement('div');\n",
              "        docLink.innerHTML = docLinkHtml;\n",
              "        element.appendChild(docLink);\n",
              "      }\n",
              "    </script>\n",
              "  </div>\n",
              "\n",
              "\n",
              "<div id=\"df-a8192e25-fa84-4d8f-bc59-2e34660e836e\">\n",
              "  <button class=\"colab-df-quickchart\" onclick=\"quickchart('df-a8192e25-fa84-4d8f-bc59-2e34660e836e')\"\n",
              "            title=\"Suggest charts\"\n",
              "            style=\"display:none;\">\n",
              "\n",
              "<svg xmlns=\"http://www.w3.org/2000/svg\" height=\"24px\"viewBox=\"0 0 24 24\"\n",
              "     width=\"24px\">\n",
              "    <g>\n",
              "        <path d=\"M19 3H5c-1.1 0-2 .9-2 2v14c0 1.1.9 2 2 2h14c1.1 0 2-.9 2-2V5c0-1.1-.9-2-2-2zM9 17H7v-7h2v7zm4 0h-2V7h2v10zm4 0h-2v-4h2v4z\"/>\n",
              "    </g>\n",
              "</svg>\n",
              "  </button>\n",
              "\n",
              "<style>\n",
              "  .colab-df-quickchart {\n",
              "      --bg-color: #E8F0FE;\n",
              "      --fill-color: #1967D2;\n",
              "      --hover-bg-color: #E2EBFA;\n",
              "      --hover-fill-color: #174EA6;\n",
              "      --disabled-fill-color: #AAA;\n",
              "      --disabled-bg-color: #DDD;\n",
              "  }\n",
              "\n",
              "  [theme=dark] .colab-df-quickchart {\n",
              "      --bg-color: #3B4455;\n",
              "      --fill-color: #D2E3FC;\n",
              "      --hover-bg-color: #434B5C;\n",
              "      --hover-fill-color: #FFFFFF;\n",
              "      --disabled-bg-color: #3B4455;\n",
              "      --disabled-fill-color: #666;\n",
              "  }\n",
              "\n",
              "  .colab-df-quickchart {\n",
              "    background-color: var(--bg-color);\n",
              "    border: none;\n",
              "    border-radius: 50%;\n",
              "    cursor: pointer;\n",
              "    display: none;\n",
              "    fill: var(--fill-color);\n",
              "    height: 32px;\n",
              "    padding: 0;\n",
              "    width: 32px;\n",
              "  }\n",
              "\n",
              "  .colab-df-quickchart:hover {\n",
              "    background-color: var(--hover-bg-color);\n",
              "    box-shadow: 0 1px 2px rgba(60, 64, 67, 0.3), 0 1px 3px 1px rgba(60, 64, 67, 0.15);\n",
              "    fill: var(--button-hover-fill-color);\n",
              "  }\n",
              "\n",
              "  .colab-df-quickchart-complete:disabled,\n",
              "  .colab-df-quickchart-complete:disabled:hover {\n",
              "    background-color: var(--disabled-bg-color);\n",
              "    fill: var(--disabled-fill-color);\n",
              "    box-shadow: none;\n",
              "  }\n",
              "\n",
              "  .colab-df-spinner {\n",
              "    border: 2px solid var(--fill-color);\n",
              "    border-color: transparent;\n",
              "    border-bottom-color: var(--fill-color);\n",
              "    animation:\n",
              "      spin 1s steps(1) infinite;\n",
              "  }\n",
              "\n",
              "  @keyframes spin {\n",
              "    0% {\n",
              "      border-color: transparent;\n",
              "      border-bottom-color: var(--fill-color);\n",
              "      border-left-color: var(--fill-color);\n",
              "    }\n",
              "    20% {\n",
              "      border-color: transparent;\n",
              "      border-left-color: var(--fill-color);\n",
              "      border-top-color: var(--fill-color);\n",
              "    }\n",
              "    30% {\n",
              "      border-color: transparent;\n",
              "      border-left-color: var(--fill-color);\n",
              "      border-top-color: var(--fill-color);\n",
              "      border-right-color: var(--fill-color);\n",
              "    }\n",
              "    40% {\n",
              "      border-color: transparent;\n",
              "      border-right-color: var(--fill-color);\n",
              "      border-top-color: var(--fill-color);\n",
              "    }\n",
              "    60% {\n",
              "      border-color: transparent;\n",
              "      border-right-color: var(--fill-color);\n",
              "    }\n",
              "    80% {\n",
              "      border-color: transparent;\n",
              "      border-right-color: var(--fill-color);\n",
              "      border-bottom-color: var(--fill-color);\n",
              "    }\n",
              "    90% {\n",
              "      border-color: transparent;\n",
              "      border-bottom-color: var(--fill-color);\n",
              "    }\n",
              "  }\n",
              "</style>\n",
              "\n",
              "  <script>\n",
              "    async function quickchart(key) {\n",
              "      const quickchartButtonEl =\n",
              "        document.querySelector('#' + key + ' button');\n",
              "      quickchartButtonEl.disabled = true;  // To prevent multiple clicks.\n",
              "      quickchartButtonEl.classList.add('colab-df-spinner');\n",
              "      try {\n",
              "        const charts = await google.colab.kernel.invokeFunction(\n",
              "            'suggestCharts', [key], {});\n",
              "      } catch (error) {\n",
              "        console.error('Error during call to suggestCharts:', error);\n",
              "      }\n",
              "      quickchartButtonEl.classList.remove('colab-df-spinner');\n",
              "      quickchartButtonEl.classList.add('colab-df-quickchart-complete');\n",
              "    }\n",
              "    (() => {\n",
              "      let quickchartButtonEl =\n",
              "        document.querySelector('#df-a8192e25-fa84-4d8f-bc59-2e34660e836e button');\n",
              "      quickchartButtonEl.style.display =\n",
              "        google.colab.kernel.accessAllowed ? 'block' : 'none';\n",
              "    })();\n",
              "  </script>\n",
              "</div>\n",
              "\n",
              "    </div>\n",
              "  </div>\n"
            ],
            "application/vnd.google.colaboratory.intrinsic+json": {
              "type": "dataframe",
              "summary": "{\n  \"name\": \"results_df\",\n  \"rows\": 30,\n  \"fields\": [\n    {\n      \"column\": \"batch_size\",\n      \"properties\": {\n        \"dtype\": \"number\",\n        \"std\": 32,\n        \"min\": 64,\n        \"max\": 128,\n        \"num_unique_values\": 2,\n        \"samples\": [\n          64,\n          128\n        ],\n        \"semantic_type\": \"\",\n        \"description\": \"\"\n      }\n    },\n    {\n      \"column\": \"model__l1_reg\",\n      \"properties\": {\n        \"dtype\": \"number\",\n        \"std\": 0.047220064408666586,\n        \"min\": 0.001,\n        \"max\": 0.1,\n        \"num_unique_values\": 3,\n        \"samples\": [\n          0.01,\n          0.1\n        ],\n        \"semantic_type\": \"\",\n        \"description\": \"\"\n      }\n    },\n    {\n      \"column\": \"model__learning_rate\",\n      \"properties\": {\n        \"dtype\": \"number\",\n        \"std\": 0.004566746370644323,\n        \"min\": 0.001,\n        \"max\": 0.01,\n        \"num_unique_values\": 2,\n        \"samples\": [\n          0.01,\n          0.001\n        ],\n        \"semantic_type\": \"\",\n        \"description\": \"\"\n      }\n    },\n    {\n      \"column\": \"model__loss\",\n      \"properties\": {\n        \"dtype\": \"category\",\n        \"num_unique_values\": 1,\n        \"samples\": [\n          \"sparse_categorical_crossentropy\"\n        ],\n        \"semantic_type\": \"\",\n        \"description\": \"\"\n      }\n    },\n    {\n      \"column\": \"model__optimizer\",\n      \"properties\": {\n        \"dtype\": \"category\",\n        \"num_unique_values\": 3,\n        \"samples\": [\n          \"sgd\"\n        ],\n        \"semantic_type\": \"\",\n        \"description\": \"\"\n      }\n    },\n    {\n      \"column\": \"Train mean Accuracy\",\n      \"properties\": {\n        \"dtype\": \"number\",\n        \"std\": 0.03371335103952403,\n        \"min\": 0.08666666666666667,\n        \"max\": 0.225,\n        \"num_unique_values\": 24,\n        \"samples\": [\n          0.14\n        ],\n        \"semantic_type\": \"\",\n        \"description\": \"\"\n      }\n    },\n    {\n      \"column\": \"Test mean Accuracy\",\n      \"properties\": {\n        \"dtype\": \"number\",\n        \"std\": 0.012473546396087935,\n        \"min\": 0.0023570226039551475,\n        \"max\": 0.041699986677322685,\n        \"num_unique_values\": 22,\n        \"samples\": [\n          0.01027402333828163\n        ],\n        \"semantic_type\": \"\",\n        \"description\": \"\"\n      }\n    },\n    {\n      \"column\": \"Train std Accuracy\",\n      \"properties\": {\n        \"dtype\": \"number\",\n        \"std\": 0.03371335103952403,\n        \"min\": 0.08666666666666667,\n        \"max\": 0.225,\n        \"num_unique_values\": 24,\n        \"samples\": [\n          0.14\n        ],\n        \"semantic_type\": \"\",\n        \"description\": \"\"\n      }\n    },\n    {\n      \"column\": \"Test std Accuracy\",\n      \"properties\": {\n        \"dtype\": \"number\",\n        \"std\": 0.010249051586613536,\n        \"min\": 0.004714045207910308,\n        \"max\": 0.03741657386773942,\n        \"num_unique_values\": 20,\n        \"samples\": [\n          0.0282842712474619\n        ],\n        \"semantic_type\": \"\",\n        \"description\": \"\"\n      }\n    },\n    {\n      \"column\": \"Config ID\",\n      \"properties\": {\n        \"dtype\": \"number\",\n        \"std\": 21,\n        \"min\": 1,\n        \"max\": 68,\n        \"num_unique_values\": 30,\n        \"samples\": [\n          8\n        ],\n        \"semantic_type\": \"\",\n        \"description\": \"\"\n      }\n    },\n    {\n      \"column\": \"variance\",\n      \"properties\": {\n        \"dtype\": \"number\",\n        \"std\": 0.03920047247821627,\n        \"min\": 0.0969406900049483,\n        \"max\": 0.23316496580927726,\n        \"num_unique_values\": 25,\n        \"samples\": [\n          0.1470710678118655\n        ],\n        \"semantic_type\": \"\",\n        \"description\": \"\"\n      }\n    }\n  ]\n}"
            }
          },
          "metadata": {},
          "execution_count": 16
        }
      ]
    },
    {
      "cell_type": "code",
      "source": [
        "# Selecciona el hiperparámetro para visualizar\n",
        "hyperparam = 'model__l1_reg'  # Este es el hiperparámetro de interés\n",
        "\n",
        "# Preparando los datos para el gráfico\n",
        "# Agrupando por el hiperparámetro seleccionado y calculando la media y desviación estándar de la precisión para cada valor\n",
        "grouped = results_df.groupby(hyperparam)['Test mean Accuracy'].agg(['mean', 'std']).reset_index()\n",
        "\n",
        "# Crear un rango de índices para las etiquetas de categorías\n",
        "x_labels = range(len(grouped[hyperparam]))\n",
        "\n",
        "# Graficar los resultados\n",
        "plt.figure(figsize=(10, 6))\n",
        "plt.bar(x_labels, grouped['mean'], yerr=grouped['std'], color='skyblue', capsize=5)\n",
        "plt.title(f'Impacto de {hyperparam.capitalize()} en la Precisión Media')\n",
        "plt.xlabel(hyperparam.capitalize())\n",
        "plt.ylabel('Precisión Media')\n",
        "\n",
        "# Asignar etiquetas de categorías al eje x\n",
        "plt.xticks(x_labels, grouped[hyperparam], rotation=45)\n",
        "\n",
        "plt.tight_layout()\n",
        "plt.show()\n"
      ],
      "metadata": {
        "colab": {
          "base_uri": "https://localhost:8080/",
          "height": 607
        },
        "id": "5fhUPcIEKvcs",
        "outputId": "99b747ff-2884-4b9e-f28a-28d041c14bdc"
      },
      "execution_count": 21,
      "outputs": [
        {
          "output_type": "display_data",
          "data": {
            "text/plain": [
              "<Figure size 1000x600 with 1 Axes>"
            ],
            "image/png": "[encoded data removed]"
          },
          "metadata": {}
        }
      ]
    },
    {
      "cell_type": "markdown",
      "metadata": {
        "id": "Lgxk_QKCFooM"
      },
      "source": [
        "### 6. Conclusión"
      ]
    },
    {
      "cell_type": "markdown",
      "metadata": {
        "id": "WdggEINZFUPQ"
      },
      "source": [
        "En este laboratorio, aplicamos técnicas de optimización de hiperparámetros en un modelo de red neuronal convolucional (CNN) para clasificar imágenes del conjunto de datos CIFAR-10. A través del uso de GridSearchCV con KerasClassifier, exploramos combinaciones de hiperparámetros críticos, incluyendo la tasa de aprendizaje, el tamaño de lote, el optimizador y la función de pérdida, buscando la configuración óptima que maximizara la precisión de nuestro modelo.\n",
        "\n",
        "Los resultados obtenidos demuestran que la optimización de hiperparámetros juega un papel crucial en el desempeño de los modelos de aprendizaje profundo. Identificamos la combinación de hiperparámetros que proporcionó la mayor precisión en la clasificación de las imágenes CIFAR-10, lo cual subraya la importancia de un proceso de selección y ajuste meticuloso.\n",
        "\n",
        "Este laboratorio también destaca la potencia y flexibilidad de scikeras y GridSearchCV para integrar modelos de Keras en flujos de trabajo de aprendizaje automático con scikit-learn, facilitando así la experimentación y la optimización de modelos de aprendizaje profundo."
      ]
    },
    {
      "cell_type": "markdown",
      "metadata": {
        "id": "GcNVG7ZTFGva"
      },
      "source": [
        "---\n",
        "## Gracias por completar este laboratorio!"
      ]
    }
  ],
  "metadata": {
    "colab": {
      "provenance": [],
      "authorship_tag": "ABX9TyNCs0q+V9kPUlXStBJjGjJx",
      "include_colab_link": true
    },
    "kernelspec": {
      "display_name": "Python 3",
      "name": "python3"
    },
    "language_info": {
      "name": "python"
    }
  },
  "nbformat": 4,
  "nbformat_minor": 0
}
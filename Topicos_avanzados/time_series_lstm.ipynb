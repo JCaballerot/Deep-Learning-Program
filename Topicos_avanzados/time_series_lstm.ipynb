{
  "nbformat": 4,
  "nbformat_minor": 0,
  "metadata": {
    "colab": {
      "provenance": [],
      "authorship_tag": "ABX9TyOmzC6p0dQtWJICO4ejs5f2",
      "include_colab_link": true
    },
    "kernelspec": {
      "name": "python3",
      "display_name": "Python 3"
    },
    "language_info": {
      "name": "python"
    }
  },
  "cells": [
    {
      "cell_type": "markdown",
      "metadata": {
        "id": "view-in-github",
        "colab_type": "text"
      },
      "source": [
        "<a href=\"https://colab.research.google.com/github/JCaballerot/Deep_learning_program/blob/main/Topicos_avanzados/time_series_lstm.ipynb\" target=\"_parent\"><img src=\"https://colab.research.google.com/assets/colab-badge.svg\" alt=\"Open In Colab\"/></a>"
      ]
    },
    {
      "cell_type": "markdown",
      "source": [
        "<h1 align=\"center\"><font size=\"5\"> Time Series starter dataset </font></h1>"
      ],
      "metadata": {
        "id": "BW0GqYxoiHwe"
      }
    },
    {
      "cell_type": "markdown",
      "source": [
        "Nuestro objetivo es construir un modelo predictivo robusto utilizando redes neuronales de Memoria a Corto y Largo Plazo (LSTM, por sus siglas en inglés), una clase especial de redes neuronales recurrentes diseñadas para capturar dependencias temporales a largo plazo de manera efectiva. Las redes LSTM son particularmente adecuadas para esta tarea debido a su capacidad para recordar información por periodos prolongados, lo que las hace ideales para analizar series temporales."
      ],
      "metadata": {
        "id": "c2d1BJW-i2Y-"
      }
    },
    {
      "cell_type": "code",
      "source": [
        "import pandas as pd\n",
        "from keras.models import Sequential\n",
        "from keras.layers import LSTM, Dense\n",
        "from sklearn.preprocessing import MinMaxScaler\n",
        "import numpy as np"
      ],
      "metadata": {
        "id": "A1VRWECFcrhX"
      },
      "execution_count": 10,
      "outputs": []
    },
    {
      "cell_type": "markdown",
      "source": [
        "### 1. Carga y Preparación de los Datos\n"
      ],
      "metadata": {
        "id": "P5RJ7qcwf3LF"
      }
    },
    {
      "cell_type": "markdown",
      "source": [
        "Se importa la biblioteca pandas para manipular el conjunto de datos.\n",
        "El conjunto de datos se carga desde un archivo CSV. Los datos faltantes se eliminan con dropna() para asegurar la calidad del entrenamiento."
      ],
      "metadata": {
        "id": "ZUs5632ff7h7"
      }
    },
    {
      "cell_type": "code",
      "source": [
        "\n",
        "df = pd.read_csv('Month_Value_1.csv')\n",
        "df = df.dropna()"
      ],
      "metadata": {
        "id": "iVKl8A28ctw2"
      },
      "execution_count": 24,
      "outputs": []
    },
    {
      "cell_type": "markdown",
      "source": [
        "Se utiliza matplotlib para graficar la serie temporal de Average_cost a lo largo del período. Esto permite visualizar tendencias, patrones y posibles anomalías en los datos.\n",
        "Las etiquetas del eje X se rotan para mejorar la legibilidad."
      ],
      "metadata": {
        "id": "x8WUoJ3-f-Yf"
      }
    },
    {
      "cell_type": "code",
      "source": [
        "import pandas as pd\n",
        "import matplotlib.pyplot as plt\n",
        "\n",
        "# Plotting the time series data\n",
        "plt.figure(figsize=(10,4))\n",
        "plt.plot(df['Period'], df['Average_cost'], label='Average Cost Over Time')\n",
        "\n",
        "# Rotate the x labels slightly\n",
        "plt.xticks(rotation=45)\n",
        "\n",
        "plt.title('Average Cost Time Series')\n",
        "plt.xlabel('Period')\n",
        "plt.ylabel('Average Cost')\n",
        "plt.legend()\n",
        "plt.tight_layout()  # Adjust layout to prevent clipping of ylabel\n",
        "plt.show()"
      ],
      "metadata": {
        "id": "ZqqQ7DomcO1W"
      },
      "execution_count": null,
      "outputs": []
    },
    {
      "cell_type": "markdown",
      "source": [
        "### 2. Preprocesamiento de Datos para la LSTM\n",
        "\n"
      ],
      "metadata": {
        "id": "RJ4-XmoCg79M"
      }
    },
    {
      "cell_type": "markdown",
      "source": [
        "Los datos se convierten en un formato adecuado para alimentar la red LSTM. Esto implica crear secuencias de un número específico de pasos de tiempo como entrada y el valor siguiente como etiqueta para la predicción.\n",
        "Se redefine la forma de los datos de entrada para que coincida con lo que espera la red LSTM, [muestras, pasos de tiempo, características]."
      ],
      "metadata": {
        "id": "MkHTC2HfhCkC"
      }
    },
    {
      "cell_type": "code",
      "source": [
        "np.array(df.Average_cost)"
      ],
      "metadata": {
        "id": "uwii4MoQdTHQ"
      },
      "execution_count": null,
      "outputs": []
    },
    {
      "cell_type": "code",
      "source": [
        "\n",
        "# Serie de ejemplo\n",
        "data = np.array(df.Average_cost)\n",
        "\n",
        "# Preparar los datos para la LSTM\n",
        "def create_dataset(data, steps):\n",
        "    X, y = [], []\n",
        "    for i in range(len(data)-steps):\n",
        "        X.append(data[i:(i+steps)])\n",
        "        y.append(data[i+steps])\n",
        "    return np.array(X), np.array(y)\n",
        "\n",
        "# Definir el número de pasos de tiempo\n",
        "steps = 3\n",
        "X, y = create_dataset(data, steps)\n",
        "\n",
        "# Reshape de X para que sea [samples, time steps, features]\n",
        "X = X.reshape((X.shape[0], X.shape[1], 1))\n"
      ],
      "metadata": {
        "id": "dPdRthvIhRkV"
      },
      "execution_count": null,
      "outputs": []
    },
    {
      "cell_type": "markdown",
      "source": [
        "### 3. Construcción del Modelo LSTM\n",
        "\n"
      ],
      "metadata": {
        "id": "Ss1opDAnhKxP"
      }
    },
    {
      "cell_type": "markdown",
      "source": [
        "Se construye un modelo secuencial que incluye dos capas LSTM y una capa densa al final.\n",
        "La primera capa LSTM tiene return_sequences=True para pasar la secuencia a la siguiente capa LSTM. La segunda capa LSTM ayuda a extraer características más complejas y no necesita devolver la secuencia completa.\n",
        "La capa densa final se usa para realizar la predicción del valor futuro en la serie."
      ],
      "metadata": {
        "id": "9wFVsTeKheKn"
      }
    },
    {
      "cell_type": "code",
      "execution_count": null,
      "metadata": {
        "id": "-qiwhDfCcAi3"
      },
      "outputs": [],
      "source": [
        "\n",
        "# Construir el modelo LSTM\n",
        "model = Sequential()\n",
        "model.add(LSTM(100, activation='relu', return_sequences=True, input_shape=(steps, 1)))  # Capa LSTM con return_sequences=True\n",
        "model.add(LSTM(50, activation='relu'))  # Segunda capa LSTM, no necesita return_sequences\n",
        "model.add(Dense(1))  # Capa densa para la predicción\n",
        "model.compile(optimizer='adam', loss='mse')\n",
        "\n"
      ]
    },
    {
      "cell_type": "markdown",
      "source": [
        "El modelo se entrena con los datos preparados, utilizando el error cuadrático medio (MSE) como función de pérdida y el optimizador Adam.\n",
        "Se eligen 200 épocas para el entrenamiento con verbose=0 para minimizar la salida de registro durante este proceso."
      ],
      "metadata": {
        "id": "2YjrC9Olhg0V"
      }
    },
    {
      "cell_type": "code",
      "source": [
        "\n",
        "# Entrenar el modelo\n",
        "model.fit(X, y, epochs = 200, verbose=0)"
      ],
      "metadata": {
        "id": "SFgX4L2Aha7-"
      },
      "execution_count": null,
      "outputs": []
    },
    {
      "cell_type": "markdown",
      "source": [
        "### 4. Predicción de Valores Futuros"
      ],
      "metadata": {
        "id": "6-Spzq5chlva"
      }
    },
    {
      "cell_type": "markdown",
      "source": [
        "Se utiliza el modelo entrenado para predecir los siguientes 10 valores en la serie. Para esto, se alimenta el modelo con los últimos datos conocidos y se van agregando las predicciones a la entrada para las predicciones subsiguientes.\n",
        "Esto demuestra cómo el modelo puede ser usado para proyecciones a corto plazo basadas en datos históricos."
      ],
      "metadata": {
        "id": "awtBT7pPhkJB"
      }
    },
    {
      "cell_type": "code",
      "source": [
        "\n",
        "\n",
        "# Hacer predicciones\n",
        "X_input = data[-steps:]\n",
        "X_input = X_input.reshape((1, steps, 1))\n",
        "\n",
        "predictions = []\n",
        "\n",
        "for i in range(10):  # Predecir los siguientes 10 puntos\n",
        "    pred = model.predict(X_input, verbose=0)\n",
        "    predictions.append(pred[0,0])\n",
        "    X_input = np.append(X_input[0,1:], pred)\n",
        "    X_input = X_input.reshape((1, steps, 1))\n",
        "\n",
        "predictions = np.array(predictions)\n",
        "predictions"
      ],
      "metadata": {
        "id": "iuf2GmsghYMz"
      },
      "execution_count": null,
      "outputs": []
    },
    {
      "cell_type": "code",
      "source": [
        "import pandas as pd\n",
        "import matplotlib.pyplot as plt\n",
        "\n",
        "# Plotting the time series data\n",
        "plt.figure(figsize=(8,4))\n",
        "plt.plot(df.Average_cost.tolist() + list(predictions), label='Average Cost Over Time')\n",
        "\n",
        "# Rotate the x labels slightly\n",
        "plt.xticks(rotation=45)\n",
        "\n",
        "plt.title('Average Cost Time Series')\n",
        "plt.xlabel('Period')\n",
        "plt.ylabel('Average Cost')\n",
        "plt.legend()\n",
        "plt.tight_layout()  # Adjust layout to prevent clipping of ylabel\n",
        "plt.show()"
      ],
      "metadata": {
        "id": "t2i8IrwYcC9d"
      },
      "execution_count": null,
      "outputs": []
    },
    {
      "cell_type": "markdown",
      "source": [
        "---\n",
        "## Gracias por completar este laboratorio!"
      ],
      "metadata": {
        "id": "BcNCfkHdiC7C"
      }
    }
  ]
}
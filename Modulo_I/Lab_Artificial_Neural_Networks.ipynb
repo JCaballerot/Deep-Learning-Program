{
  "nbformat": 4,
  "nbformat_minor": 0,
  "metadata": {
    "kernelspec": {
      "display_name": "Python 3",
      "language": "python",
      "name": "python3"
    },
    "language_info": {
      "codemirror_mode": {
        "name": "ipython",
        "version": 3
      },
      "file_extension": ".py",
      "mimetype": "text/x-python",
      "name": "python",
      "nbconvert_exporter": "python",
      "pygments_lexer": "ipython3",
      "version": "3.6.5"
    },
    "colab": {
      "name": "Lab Artificial Neural Networks.ipynb",
      "provenance": [],
      "collapsed_sections": [],
      "machine_shape": "hm",
      "include_colab_link": true
    }
  },
  "cells": [
    {
      "cell_type": "markdown",
      "metadata": {
        "id": "view-in-github",
        "colab_type": "text"
      },
      "source": [
        "<a href=\"https://colab.research.google.com/github/JCaballerot/Deep_learning_program/blob/main/Modulo_I/Lab_Artificial_Neural_Networks.ipynb\" target=\"_parent\"><img src=\"https://colab.research.google.com/assets/colab-badge.svg\" alt=\"Open In Colab\"/></a>"
      ]
    },
    {
      "cell_type": "markdown",
      "metadata": {
        "id": "J9OlNW1OLlBy"
      },
      "source": [
        "\n",
        "<h1 align=center><font size = 5>Artificial Neural Networks - Forward Propagation</font></h1>"
      ]
    },
    {
      "cell_type": "markdown",
      "metadata": {
        "id": "lDWOkP50LlBz"
      },
      "source": [
        "## Introducción\n"
      ]
    },
    {
      "cell_type": "markdown",
      "metadata": {
        "id": "qjiD1k1sLlB0"
      },
      "source": [
        "En este laboratorio, crearemos una red neuronal desde cero y codificaremos cómo realiza las predicciones mediante forward propagation. Tenga en cuenta que todas las bibliotecas de aprendizaje profundo tienen implementados todos los procesos de entrenamiento y predicción, por lo que en la práctica no necesitaría construir una red neuronal desde cero. Sin embargo, es de esperar que completar este laboratorio lo ayude a comprender las redes neuronales y cómo funcionan aún mejor.\n",
        "\n"
      ]
    },
    {
      "cell_type": "markdown",
      "metadata": {
        "id": "KMuuXhvrLlB1"
      },
      "source": [
        "## Tabla de Contenidos\n",
        "\n",
        "<div class=\"alert alert-block alert-info\" style=\"margin-top: 20px\">\n",
        "\n",
        "<font size = 3>    \n",
        "1. <a href=\"#item1\">Resumen</a>  \n",
        "2. <a href=\"#item2\">Inicializando una Red</a>  \n",
        "3. <a href=\"#item3\">Calcular la suma ponderada en cada nodo</a>  \n",
        "4. <a href=\"#item4\">Calcular el Nodo de Activación</a>  \n",
        "5. <a href=\"#item5\">Forward Propagation</a>\n",
        "</font>\n",
        "</div>"
      ]
    },
    {
      "cell_type": "markdown",
      "metadata": {
        "id": "wDfjUx_RLlB3"
      },
      "source": [
        "<a id=\"item1\"></a>"
      ]
    },
    {
      "cell_type": "markdown",
      "metadata": {
        "id": "9FTL5KDDLlB3"
      },
      "source": [
        "### Resumen"
      ]
    },
    {
      "cell_type": "markdown",
      "metadata": {
        "id": "2S46I686LlB4"
      },
      "source": [
        "\n",
        "Recapitulemos cómo una red neuronal hace predicciones a través del proceso de forward propagation. Aquí hay una red neuronal que toma dos entradas, tiene una capa oculta con dos nodos y una capa de salida con un nodo.\n"
      ]
    },
    {
      "cell_type": "markdown",
      "metadata": {
        "id": "6qms71JfLlB5"
      },
      "source": [
        "<img src=\"http://cocl.us/neural_network_example\" alt=\"Neural Network Example\" width=600px>"
      ]
    },
    {
      "cell_type": "markdown",
      "metadata": {
        "id": "tBrAWoZsLlB6"
      },
      "source": [
        "\n",
        "Comencemos por inicializar aleatoriamente los pesos y los bias en la red. Tenemos 6 pesos y 3 bias, uno para cada nodo en la capa oculta y para cada nodo en la capa de salida.\n"
      ]
    },
    {
      "cell_type": "code",
      "metadata": {
        "id": "ySvFatyrLlB8"
      },
      "source": [
        "import numpy as np # import Numpy library\n",
        "\n",
        "weights = np.around(np.random.uniform(size=6), decimals=2) # initializa los pesos\n",
        "biases = np.around(np.random.uniform(size=3), decimals=2) # initializa los bias"
      ],
      "execution_count": null,
      "outputs": []
    },
    {
      "cell_type": "markdown",
      "metadata": {
        "id": "RxPRsH6dLlCB"
      },
      "source": [
        "Imprimamos los pesos y sesgos para comprobar los resultados."
      ]
    },
    {
      "cell_type": "code",
      "metadata": {
        "id": "WYRlPGUELlCB"
      },
      "source": [
        "print(weights)\n",
        "print(biases)"
      ],
      "execution_count": null,
      "outputs": []
    },
    {
      "cell_type": "markdown",
      "metadata": {
        "id": "VlByj-fNLlCH"
      },
      "source": [
        "Ahora que tenemos los pesos y los bias definidos para la red, calculemos la salida para una entrada dada, $ x_1 $ y $ x_2 $."
      ]
    },
    {
      "cell_type": "code",
      "metadata": {
        "id": "T3WpzoTvLlCI"
      },
      "source": [
        "x_1 = 0.5 # input 1\n",
        "x_2 = 0.85 # input 2\n",
        "\n",
        "print('x1 es {} y x2 es {}'.format(x_1, x_2))"
      ],
      "execution_count": null,
      "outputs": []
    },
    {
      "cell_type": "markdown",
      "metadata": {
        "id": "7Dg15dQFLlCN"
      },
      "source": [
        "Comencemos calculando la suma ponderada de las entradas, $ z_ {1, 1} $, en el primer nodo de la capa oculta."
      ]
    },
    {
      "cell_type": "code",
      "metadata": {
        "id": "QSV4voUeLlCO"
      },
      "source": [
        "z_11 = x_1 * weights[0] + x_2 * weights[1] + biases[0]\n",
        "\n",
        "print('La suma ponderada de las entradas en el primer nodo de la capa oculta es {}'.format(z_11))"
      ],
      "execution_count": null,
      "outputs": []
    },
    {
      "cell_type": "markdown",
      "metadata": {
        "id": "kwbUiXNGLlCY"
      },
      "source": [
        "A continuación, calculemos la suma ponderada de las entradas, $ z_ {1, 2} $, en el segundo nodo de la capa oculta. Asigne el valor a ** z_12 **."
      ]
    },
    {
      "cell_type": "code",
      "metadata": {
        "id": "w1PQQELmLlCZ"
      },
      "source": [
        "### Escribe tu respuesta aquí\n",
        "\n",
        "z_12 = x_1 * weights[2] + x_2 * weights[3] + biases[1]\n",
        "z_12"
      ],
      "execution_count": null,
      "outputs": []
    },
    {
      "cell_type": "markdown",
      "metadata": {
        "id": "y88vMDQILlCe"
      },
      "source": [
        "Doble-click __aquí__ para ver la solución.\n",
        "<!-- La respuesta es:\n",
        "z_12 = x_1 * weights[2] + x_2 * weights[3] + biases[1]\n",
        "-->"
      ]
    },
    {
      "cell_type": "markdown",
      "metadata": {
        "id": "sviJ4yCaLlCf"
      },
      "source": [
        "Imprime la suma ponderada."
      ]
    },
    {
      "cell_type": "code",
      "metadata": {
        "id": "DMoc4DPILlCg"
      },
      "source": [
        "print('La suma ponderada de las entradas en el segundo nodo de la capa oculta es {}'.format(np.around(z_12, decimals=4)))"
      ],
      "execution_count": null,
      "outputs": []
    },
    {
      "cell_type": "markdown",
      "metadata": {
        "id": "gSfpxpuSLlCk"
      },
      "source": [
        "A continuación, asumiendo una función de activación sigmoidea, calculemos la activación del primer nodo, 𝑎1,1, en la capa oculta."
      ]
    },
    {
      "cell_type": "code",
      "metadata": {
        "id": "bIVH7DTVLlCk"
      },
      "source": [
        "a_11 = 1.0 / (1.0 + np.exp(-z_11))\n",
        "\n",
        "print('La activación del primer nodo en la capa oculta es {}'.format(np.around(a_11, decimals=4)))"
      ],
      "execution_count": null,
      "outputs": []
    },
    {
      "cell_type": "markdown",
      "metadata": {
        "id": "qeWsqCckLlCp"
      },
      "source": [
        "También calculemos la activación del segundo nodo, $ a_ {1, 2} $, en la capa oculta. Asigne el valor a **a_12**."
      ]
    },
    {
      "cell_type": "code",
      "metadata": {
        "id": "mr8w1RIiLlCq"
      },
      "source": [
        "### Escribe tu respuesta aquí\n",
        "\n"
      ],
      "execution_count": null,
      "outputs": []
    },
    {
      "cell_type": "markdown",
      "metadata": {
        "id": "Y8RiSeBlLlCu"
      },
      "source": [
        "Doble-click __aquí__ para ver la solución.\n",
        "<!-- La respuesta es:\n",
        "a_12 = 1.0 / (1.0 + np.exp(-z_12))\n",
        "-->"
      ]
    },
    {
      "cell_type": "markdown",
      "metadata": {
        "id": "zKpqQkNpLlCu"
      },
      "source": [
        "Imprime la activación del segundo nodo."
      ]
    },
    {
      "cell_type": "code",
      "metadata": {
        "id": "TCJqpceoLlCv"
      },
      "source": [
        "print('La activación del segundo nodo en la capa oculta es {}'.format(np.around(a_12, decimals=4)))"
      ],
      "execution_count": null,
      "outputs": []
    },
    {
      "cell_type": "markdown",
      "metadata": {
        "id": "_k78siioLlC0"
      },
      "source": [
        "Ahora estas activaciones servirán como entradas a la capa de salida. Entonces, calculemos la suma ponderada de estas entradas al nodo en la capa de salida. Asigne el valor a z_2."
      ]
    },
    {
      "cell_type": "code",
      "metadata": {
        "id": "Fm72DEK4LlC2"
      },
      "source": [
        "### Escribe tu respuesta aquí\n",
        "\n"
      ],
      "execution_count": null,
      "outputs": []
    },
    {
      "cell_type": "markdown",
      "metadata": {
        "id": "xU_MLRFULlC7"
      },
      "source": [
        "Doble-click __aquí__ para ver la solución.\n",
        "<!-- La respuesta es:\n",
        "z_2 = a_11 * weights[4] + a_12 * weights[5] + biases[2]\n",
        "-->"
      ]
    },
    {
      "cell_type": "markdown",
      "metadata": {
        "id": "R-hsgzbvLlC8"
      },
      "source": [
        "Imprima la suma ponderada de las entradas en el nodo de la capa de salida."
      ]
    },
    {
      "cell_type": "code",
      "metadata": {
        "id": "-c1E5WiVLlC8"
      },
      "source": [
        "print('La suma ponderada de las entradas en el nodo de la capa de salida es {}'.format(np.around(z_2, decimals=4)))"
      ],
      "execution_count": null,
      "outputs": []
    },
    {
      "cell_type": "markdown",
      "metadata": {
        "id": "XDHy-jLpLlDA"
      },
      "source": [
        "Finalmente, calculemos la salida de la red como la activación del nodo en la capa de salida. Asigne el valor a **a_2**."
      ]
    },
    {
      "cell_type": "code",
      "metadata": {
        "id": "FRdfEN5ILlDB"
      },
      "source": [
        "### Escribe tu respuesta aquí\n",
        "\n"
      ],
      "execution_count": null,
      "outputs": []
    },
    {
      "cell_type": "markdown",
      "metadata": {
        "id": "xqK0FAiDLlDG"
      },
      "source": [
        "Doble-click __aquí__ para ver la solución.\n",
        "<!-- La respuesta es:\n",
        "a_2 = 1.0 / (1.0 + np.exp(-z_2))\n",
        "-->"
      ]
    },
    {
      "cell_type": "markdown",
      "metadata": {
        "id": "BdVA6MKaLlDG"
      },
      "source": [
        "Imprime la activación del nodo en la capa de salida que es equivalente a la predicción realizada por la red."
      ]
    },
    {
      "cell_type": "code",
      "metadata": {
        "id": "gi_w9cPALlDH"
      },
      "source": [
        "print('La salida de la red para x1 = 0.5 y x2 = 0.85 es {}'.format(np.around(a_2, decimals=4)))"
      ],
      "execution_count": null,
      "outputs": []
    },
    {
      "cell_type": "markdown",
      "metadata": {
        "id": "sE6PXJpaLlDN"
      },
      "source": [
        "<hr>"
      ]
    },
    {
      "cell_type": "markdown",
      "metadata": {
        "id": "VzEePolDLlDO"
      },
      "source": [
        "Obviamente, las redes neuronales para problemas reales se componen de muchas capas ocultas y muchos más nodos en cada capa. Por lo tanto, no podemos seguir haciendo predicciones utilizando este enfoque tan ineficiente de calcular la suma ponderada en cada nodo y la activación de cada nodo manualmente."
      ]
    },
    {
      "cell_type": "markdown",
      "metadata": {
        "id": "Q_5OuqlBLlDP"
      },
      "source": [
        "Para codificar una forma automática de hacer predicciones, generalicemos nuestra red. Una red general tomaría 𝑛 entradas, tendría muchas capas ocultas, cada capa oculta tendría 𝑚 nodos y tendría una capa de salida. Aunque la red muestra una capa oculta, codificaremos la red para que tenga muchas capas ocultas. De manera similar, aunque la red muestra una capa de salida con un nodo, codificaremos la red para que tenga más de un nodo en la capa de salida."
      ]
    },
    {
      "cell_type": "markdown",
      "metadata": {
        "id": "7M1xR4xeLlDQ"
      },
      "source": [
        "<img src=\"http://cocl.us/general_neural_network\" alt=\"Neural Network General\" width=600px>"
      ]
    },
    {
      "cell_type": "markdown",
      "metadata": {
        "id": "lakJeXGuLlDS"
      },
      "source": [
        "<a id=\"item2\"></a>"
      ]
    },
    {
      "cell_type": "markdown",
      "metadata": {
        "id": "rGOS1LbaLlDT"
      },
      "source": [
        "## Inicializando una Red"
      ]
    },
    {
      "cell_type": "markdown",
      "metadata": {
        "id": "ygydsvFxLlDU"
      },
      "source": [
        "Comencemos por definir formalmente la estructura de la red."
      ]
    },
    {
      "cell_type": "code",
      "metadata": {
        "id": "R0tCfcVLLlDU"
      },
      "source": [
        "n = 2 # número de inputs\n",
        "num_hidden_layers = 2 # número de capas ocultas\n",
        "m = [2, 2] # número de nodos en cada capa oculta\n",
        "num_nodes_output = 1 # número de nodos en la capa de salida"
      ],
      "execution_count": null,
      "outputs": []
    },
    {
      "cell_type": "markdown",
      "metadata": {
        "id": "jnJrcMxaLlDY"
      },
      "source": [
        "Ahora que definimos la estructura de la red, sigamos adelante e iniciemos los pesos y los sesgos en la red a números aleatorios. Para poder inicializar las ponderaciones y los sesgos a números aleatorios, necesitaremos importar la biblioteca **Numpy**."
      ]
    },
    {
      "cell_type": "code",
      "metadata": {
        "id": "RV2xEFQ2LlDZ"
      },
      "source": [
        "import numpy as np # importar la biblioteca Numpy\n",
        "\n",
        "num_nodes_previous = n # número de nodos en la capa anterior\n",
        "\n",
        "network = {} # inicializar la red y un diccionario vacío\n",
        "\n",
        "# Loop en cada capa e inicializar aleatoriamente los pesos y sesgos asociados con cada nodo\n",
        "# observe cómo estamos agregando 1 al número de capas ocultas para incluir la capa de salida\n",
        "\n",
        "for layer in range(num_hidden_layers + 1): \n",
        "    \n",
        "    # determinar el nombre de la capa\n",
        "    if layer == num_hidden_layers:\n",
        "        layer_name = 'output'\n",
        "        num_nodes = num_nodes_output\n",
        "    else:\n",
        "        layer_name = 'layer_{}'.format(layer + 1)\n",
        "        num_nodes = m[layer]\n",
        "    \n",
        "    # inicializar pesos y bias asociados con cada nodo en la capa actual\n",
        "    network[layer_name] = {}\n",
        "    for node in range(num_nodes):\n",
        "        node_name = 'node_{}'.format(node+1)\n",
        "        network[layer_name][node_name] = {\n",
        "            'weights': np.around(np.random.uniform(size=num_nodes_previous), decimals=2),\n",
        "            'bias': np.around(np.random.uniform(size=1), decimals=2),\n",
        "        }\n",
        "    \n",
        "    num_nodes_previous = num_nodes\n",
        "    \n",
        "print(network) # print network"
      ],
      "execution_count": null,
      "outputs": []
    },
    {
      "cell_type": "markdown",
      "metadata": {
        "id": "x0HP-MGrLlDe"
      },
      "source": [
        "Entonces, ahora con el código anterior, podemos inicializar los pesos y los sesgos pertenecientes a cualquier red de cualquier número de capas ocultas y número de nodos en cada capa. Pero pongamos este código en una función para que podamos ejecutar repetidamente todo este código siempre que queramos construir una red neuronal.\n"
      ]
    },
    {
      "cell_type": "code",
      "metadata": {
        "id": "ddhvKndKLlDe"
      },
      "source": [
        "def initialize_network(num_inputs, num_hidden_layers, num_nodes_hidden, num_nodes_output):\n",
        "    \n",
        "    num_nodes_previous = num_inputs # number of nodes in the previous layer\n",
        "\n",
        "    network = {}\n",
        "    \n",
        "    # Iterar cada capa e inicializar aleatoriamente los pesos y sesgos asociados con cada capa\n",
        "    for layer in range(num_hidden_layers + 1):\n",
        "        \n",
        "        if layer == num_hidden_layers:\n",
        "            layer_name = 'output' # nombrar la última capa en la salida de la red\n",
        "            num_nodes = num_nodes_output\n",
        "        else:\n",
        "            layer_name = 'layer_{}'.format(layer + 1) # de lo contrario, dale un número a la capa\n",
        "            num_nodes = num_nodes_hidden[layer] \n",
        "        \n",
        "        # inicializar pesos y sesgos para cada nodo\n",
        "        network[layer_name] = {}\n",
        "        for node in range(num_nodes):\n",
        "            node_name = 'node_{}'.format(node+1)\n",
        "            network[layer_name][node_name] = {\n",
        "                'weights': np.around(np.random.uniform(size=num_nodes_previous), decimals=2),\n",
        "                'bias': np.around(np.random.uniform(size=1), decimals=2),\n",
        "            }\n",
        "    \n",
        "        num_nodes_previous = num_nodes\n",
        "\n",
        "    return network # retorna la Red"
      ],
      "execution_count": null,
      "outputs": []
    },
    {
      "cell_type": "markdown",
      "metadata": {
        "id": "-ed_6xEvLlDi"
      },
      "source": [
        "#### Utilice la función *initialize_network* para crear una red que:\n",
        "\n",
        "1. toma 5 entradas\n",
        "2. tiene tres capas ocultas\n",
        "3. tiene 3 nodos en la primera capa, 2 nodos en la segunda capa y 3 nodos en la tercera capa\n",
        "4. tiene 1 nodo en la capa de salida\n",
        "\n",
        "Llame a la red **small_network**."
      ]
    },
    {
      "cell_type": "code",
      "metadata": {
        "id": "OTcNXGHSLlDj"
      },
      "source": [
        "### Escribe tu respuesta aquí\n",
        "\n"
      ],
      "execution_count": null,
      "outputs": []
    },
    {
      "cell_type": "markdown",
      "metadata": {
        "id": "6Y25MwPqLlDo"
      },
      "source": [
        "Doble-click __aquí__ para ver la solución.\n",
        "<!-- La respuesta es:\n",
        "small_network = initialize_network(5, 3, [3, 2, 3], 1)\n",
        "-->"
      ]
    },
    {
      "cell_type": "markdown",
      "metadata": {
        "id": "dTaxBDzJLlDr"
      },
      "source": [
        "<a id=\"item3\"></a>"
      ]
    },
    {
      "cell_type": "markdown",
      "metadata": {
        "id": "zui3wtU6LlDs"
      },
      "source": [
        "## Calcular la suma ponderada en cada nodo"
      ]
    },
    {
      "cell_type": "markdown",
      "metadata": {
        "id": "NmJ-KMpqLlDs"
      },
      "source": [
        "La suma ponderada en cada nodo se calcula como el producto escalar de las entradas y los pesos más el bias. Así que creemos una función llamada compute_weighted_sum que haga precisamente eso."
      ]
    },
    {
      "cell_type": "code",
      "metadata": {
        "id": "m23wzgsGLlDt"
      },
      "source": [
        "def compute_weighted_sum(inputs, weights, bias):\n",
        "    return np.sum(inputs * weights) + bias"
      ],
      "execution_count": null,
      "outputs": []
    },
    {
      "cell_type": "markdown",
      "metadata": {
        "id": "0G0F2alkLlDy"
      },
      "source": [
        "Generemos 5 entradas que podamos alimentar a small_network."
      ]
    },
    {
      "cell_type": "code",
      "metadata": {
        "id": "jLsyEqtFLlDz"
      },
      "source": [
        "from random import seed\n",
        "import numpy as np\n",
        "\n",
        "np.random.seed(12)\n",
        "inputs = np.around(np.random.uniform(size=5), decimals=2)\n",
        "\n",
        "print('Los inputs de la Red son {}'.format(inputs))"
      ],
      "execution_count": null,
      "outputs": []
    },
    {
      "cell_type": "markdown",
      "metadata": {
        "id": "IRIKeHl3LlD8"
      },
      "source": [
        "#### Utilice la función *compute_weighted_sum* para calcular la suma ponderada en el primer nodo de la primera capa oculta."
      ]
    },
    {
      "cell_type": "code",
      "metadata": {
        "id": "Dqh-_FygVDL-"
      },
      "source": [
        "pesos = initialize_network(num_inputs=5, \n",
        "                   num_hidden_layers = 3, \n",
        "                   num_nodes_hidden = [3, 2, 3], \n",
        "                   num_nodes_output = 1)\n",
        "\n",
        "pesos"
      ],
      "execution_count": null,
      "outputs": []
    },
    {
      "cell_type": "code",
      "metadata": {
        "id": "YAZoi-RpVKBK"
      },
      "source": [
        "pesos['layer_1']['node_1']['bias']"
      ],
      "execution_count": null,
      "outputs": []
    },
    {
      "cell_type": "code",
      "metadata": {
        "id": "RJIZarlaLlD9"
      },
      "source": [
        "### Escribe tu respuesta aquí\n",
        "\n"
      ],
      "execution_count": null,
      "outputs": []
    },
    {
      "cell_type": "markdown",
      "metadata": {
        "id": "uv3b7TH3LlEB"
      },
      "source": [
        "Doble-click __aquí__ para ver la solución.\n",
        "<!-- La respuesta es:\n",
        "\n",
        "node_weights = small_network['layer_1']['node_1']['weights']\n",
        "node_bias = small_network['layer_1']['node_1']['bias']\n",
        "\n",
        "weighted_sum = compute_weighted_sum(inputs, node_weights, node_bias)\n",
        "print('The weighted sum at the first node in the hidden layer is {}'.format(np.around(weighted_sum[0], decimals=4)))\n",
        "-->"
      ]
    },
    {
      "cell_type": "markdown",
      "metadata": {
        "id": "X28e_5EWLlEC"
      },
      "source": [
        "<a id=\"item4\"></a>"
      ]
    },
    {
      "cell_type": "markdown",
      "metadata": {
        "id": "7V0bX6YOLlED"
      },
      "source": [
        "## Calcular el Nodo de Activación"
      ]
    },
    {
      "cell_type": "markdown",
      "metadata": {
        "id": "Pyn09qH3LlEE"
      },
      "source": [
        "Recuerde que la salida de cada nodo es simplemente una transformación no lineal de la suma ponderada. Usamos funciones de activación para esta tarea. Usemos la función sigmoidea como función de activación aquí. Así que definamos una función que tome una suma ponderada como entrada y devuelva la transformación no lineal de la entrada usando la función sigmoidea."
      ]
    },
    {
      "cell_type": "code",
      "metadata": {
        "id": "m041bJAWLlEE"
      },
      "source": [
        "def node_activation(weighted_sum):\n",
        "    return 1.0 / (1.0 + np.exp(-1 * weighted_sum))"
      ],
      "execution_count": null,
      "outputs": []
    },
    {
      "cell_type": "markdown",
      "metadata": {
        "id": "eSsiHR94LlEL"
      },
      "source": [
        "#### Utilice la función *node_activation* para calcular la salida del primer nodo en la primera capa oculta."
      ]
    },
    {
      "cell_type": "code",
      "metadata": {
        "id": "cpl2N0szLlEM"
      },
      "source": [
        "### Escribe tu respuesta aquí\n"
      ],
      "execution_count": null,
      "outputs": []
    },
    {
      "cell_type": "markdown",
      "metadata": {
        "id": "UewsIHmVLlEQ"
      },
      "source": [
        "Doble-click __aquí__ para ver la solución.\n",
        "<!-- La respuesta es:\n",
        "node_output  = node_activation(compute_weighted_sum(inputs, node_weights, node_bias))\n",
        "print('The output of the first node in the hidden layer is {}'.format(np.around(node_output[0], decimals=4)))\n",
        "-->"
      ]
    },
    {
      "cell_type": "markdown",
      "metadata": {
        "id": "oNnPUdN6LlES"
      },
      "source": [
        "<a id=\"item5\"></a>"
      ]
    },
    {
      "cell_type": "markdown",
      "metadata": {
        "id": "DoNNc1BCLlES"
      },
      "source": [
        "## Forward Propagation"
      ]
    },
    {
      "cell_type": "markdown",
      "metadata": {
        "id": "Fh5yEHQaLlET"
      },
      "source": [
        "La pieza final de la construcción de una red neuronal que puede realizar predicciones es juntar todo. Así que creemos una función que aplique las funciones *compute_weighted_sum* y *node_activation* a cada nodo en la red y propague los datos hasta la capa de salida y genere una predicción para cada nodo en la capa de salida."
      ]
    },
    {
      "cell_type": "markdown",
      "metadata": {
        "id": "uTm41zRMLlEU"
      },
      "source": [
        "La forma en que vamos a lograr esto es a través del siguiente procedimiento:\n",
        "\n",
        "1. Comience con la capa de entrada como entrada a la primera capa oculta.\n",
        "2. Calcule la suma ponderada en los nodos de la capa actual.\n",
        "3. Calcule la salida de los nodos de la capa actual.\n",
        "4. Configure la salida de la capa actual para que sea la entrada a la siguiente capa.\n",
        "5. Pase a la siguiente capa de la red.\n",
        "5. Repita los pasos 2 a 4 hasta que calculemos la salida de la capa de salida."
      ]
    },
    {
      "cell_type": "code",
      "metadata": {
        "id": "9peos7pjLlEU"
      },
      "source": [
        "def forward_propagate(network, inputs):\n",
        "    \n",
        "    layer_inputs = list(inputs) # Comience con la capa de entrada como entrada a la primera capa oculta\n",
        "    \n",
        "    for layer in network:\n",
        "        \n",
        "        layer_data = network[layer]\n",
        "        \n",
        "        layer_outputs = [] \n",
        "        for layer_node in layer_data:\n",
        "        \n",
        "            node_data = layer_data[layer_node]\n",
        "        \n",
        "            # calcular la suma ponderada y la salida de cada nodo al mismo tiempo\n",
        "            node_output = node_activation(compute_weighted_sum(layer_inputs, node_data['weights'], node_data['bias']))\n",
        "            layer_outputs.append(np.around(node_output[0], decimals=4))\n",
        "            \n",
        "        if layer != 'output':\n",
        "            print('Las salidas de los nodos en el número de capa oculta {} es {}'.format(layer.split('_')[1], layer_outputs))\n",
        "    \n",
        "        layer_inputs = layer_outputs # Configure la salida de esta capa para que sea la entrada a la siguiente capa\n",
        "\n",
        "    network_predictions = layer_outputs\n",
        "    return network_predictions"
      ],
      "execution_count": null,
      "outputs": []
    },
    {
      "cell_type": "markdown",
      "metadata": {
        "id": "AjgYUqlALlEZ"
      },
      "source": [
        "#### Usa la función *forward_propagate* para calcular la predicción de nuestra pequeña red"
      ]
    },
    {
      "cell_type": "code",
      "metadata": {
        "id": "Zq6R76M2LlEa"
      },
      "source": [
        "### Escribe tu respuesta aquí\n",
        "\n"
      ],
      "execution_count": null,
      "outputs": []
    },
    {
      "cell_type": "markdown",
      "metadata": {
        "id": "4_llk2hiLlEh"
      },
      "source": [
        "Doble-click __aquí__ para ver la solución.\n",
        "<!-- La respuesta es:\n",
        "predictions = forward_propagate(small_network, inputs)\n",
        "print('The predicted value by the network for the given input is {}'.format(np.around(predictions[0], decimals=4)))\n",
        "-->"
      ]
    },
    {
      "cell_type": "markdown",
      "metadata": {
        "id": "07GyFUOXLlEi"
      },
      "source": [
        "Así que creamos el código para definir una red neuronal. Podemos especificar la cantidad de entradas que puede tomar una red neuronal, la cantidad de capas ocultas, así como la cantidad de nodos en cada capa oculta y la cantidad de nodos en la capa de salida."
      ]
    },
    {
      "cell_type": "markdown",
      "metadata": {
        "id": "ya5177nqLlEj"
      },
      "source": [
        "Primero usamos *initialize_network* para crear nuestra red neuronal y definir sus pesos y bias."
      ]
    },
    {
      "cell_type": "code",
      "metadata": {
        "id": "3U564ZLzLlEk"
      },
      "source": [
        "my_network = initialize_network(5, 3, [2, 3, 2], 3)"
      ],
      "execution_count": null,
      "outputs": []
    },
    {
      "cell_type": "markdown",
      "metadata": {
        "id": "NxXJJVZKLlEq"
      },
      "source": [
        "Entonces, para una entrada dada,"
      ]
    },
    {
      "cell_type": "code",
      "metadata": {
        "id": "MPnJhrMqLlEr"
      },
      "source": [
        "inputs = np.around(np.random.uniform(size=5), decimals=2)"
      ],
      "execution_count": null,
      "outputs": []
    },
    {
      "cell_type": "markdown",
      "metadata": {
        "id": "XDTP0HmlLlEv"
      },
      "source": [
        "Calculamos las predicciones de la red."
      ]
    },
    {
      "cell_type": "code",
      "metadata": {
        "id": "yLOYc1FoLlEw"
      },
      "source": [
        "predictions = forward_propagate(my_network, inputs)\n",
        "print('Los valores predichos por la red para la entrada dada son {}'.format(predictions))"
      ],
      "execution_count": null,
      "outputs": []
    },
    {
      "cell_type": "markdown",
      "metadata": {
        "id": "nL9jTOW8LlE2"
      },
      "source": [
        "Siéntase libre de jugar con el código creando diferentes redes de diferentes estructuras y disfrute haciendo predicciones usando la función *forward_propagate*."
      ]
    },
    {
      "cell_type": "code",
      "metadata": {
        "id": "BT_AvqwuLlE2"
      },
      "source": [
        "### Crea una Red\n",
        "\n",
        "my_network = initialize_network(10, 4, [10, 20, 20,10], 1)\n",
        "inputs = np.around(np.random.uniform(size=10), decimals=2)\n",
        "\n",
        "predictions = forward_propagate(my_network, inputs)\n",
        "print('Los valores predichos por la red para la entrada dada son {}'.format(predictions))\n",
        "\n"
      ],
      "execution_count": null,
      "outputs": []
    },
    {
      "cell_type": "code",
      "metadata": {
        "id": "2rL1X6chLlFA"
      },
      "source": [
        "### Crea otra Red\n",
        "\n",
        "\n",
        "\n"
      ],
      "execution_count": null,
      "outputs": []
    },
    {
      "cell_type": "markdown",
      "metadata": {
        "id": "q5j5dnTJLlFF"
      },
      "source": [
        "### Gracias por completar este laboratorio!"
      ]
    }
  ]
}